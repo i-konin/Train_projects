{
 "cells": [
  {
   "cell_type": "markdown",
   "metadata": {
    "toc": true
   },
   "source": [
    "<h1>Содержание<span class=\"tocSkip\"></span></h1>\n",
    "<div class=\"toc\"><ul class=\"toc-item\"><li><span><a href=\"#Подготовка\" data-toc-modified-id=\"Подготовка-1\"><span class=\"toc-item-num\">1&nbsp;&nbsp;</span>Подготовка</a></span></li><li><span><a href=\"#Анализ\" data-toc-modified-id=\"Анализ-2\"><span class=\"toc-item-num\">2&nbsp;&nbsp;</span>Анализ</a></span></li><li><span><a href=\"#Обучение\" data-toc-modified-id=\"Обучение-3\"><span class=\"toc-item-num\">3&nbsp;&nbsp;</span>Обучение</a></span><ul class=\"toc-item\"><li><span><a href=\"#Нейросеть\" data-toc-modified-id=\"Нейросеть-3.1\"><span class=\"toc-item-num\">3.1&nbsp;&nbsp;</span>Нейросеть</a></span></li><li><span><a href=\"#Линейная-регрессия\" data-toc-modified-id=\"Линейная-регрессия-3.2\"><span class=\"toc-item-num\">3.2&nbsp;&nbsp;</span>Линейная регрессия</a></span></li><li><span><a href=\"#LGBM\" data-toc-modified-id=\"LGBM-3.3\"><span class=\"toc-item-num\">3.3&nbsp;&nbsp;</span>LGBM</a></span></li><li><span><a href=\"#Сравнение-моделей\" data-toc-modified-id=\"Сравнение-моделей-3.4\"><span class=\"toc-item-num\">3.4&nbsp;&nbsp;</span>Сравнение моделей</a></span></li></ul></li><li><span><a href=\"#Тестирование\" data-toc-modified-id=\"Тестирование-4\"><span class=\"toc-item-num\">4&nbsp;&nbsp;</span>Тестирование</a></span></li></ul></div>"
   ]
  },
  {
   "cell_type": "markdown",
   "metadata": {},
   "source": [
    "#  Прогнозирование заказов такси"
   ]
  },
  {
   "cell_type": "markdown",
   "metadata": {},
   "source": [
    "Компания собрала исторические данные о заказах такси в аэропортах. Чтобы привлекать больше водителей в период пиковой нагрузки, нужно спрогнозировать количество заказов такси на следующий час. Постройте модель для такого предсказания.\n",
    "\n",
    "Значение метрики *RMSE* на тестовой выборке должно быть не больше 48."
   ]
  },
  {
   "cell_type": "markdown",
   "metadata": {},
   "source": [
    "Выполнение проекта будет осуществляться в несколько этапов:\n",
    "1. Импорт нужных библиотек и загрузка данных\n",
    "2. Анализ данных, определение тестами необходимых признаков для максимальной эффективности будущей модели\n",
    "3. Обучение и валидация гиперпараметров модели на полученом датасете\n",
    "4. Повторное обучение и тестирование полученного варианта нейросети"
   ]
  },
  {
   "cell_type": "markdown",
   "metadata": {},
   "source": [
    "## Подготовка"
   ]
  },
  {
   "cell_type": "code",
   "execution_count": 209,
   "metadata": {},
   "outputs": [],
   "source": [
    "import pandas as pd\n",
    "import matplotlib.pyplot as plt\n",
    "import numpy as np\n",
    "import torch\n",
    "import torch.nn as nn\n",
    "from statsmodels.tsa.seasonal import seasonal_decompose\n",
    "from sklearn.model_selection import train_test_split\n",
    "from sklearn.model_selection import GridSearchCV\n",
    "from sklearn.model_selection import TimeSeriesSplit\n",
    "from sklearn.preprocessing import StandardScaler, OneHotEncoder\n",
    "from sklearn.metrics import mean_squared_error\n",
    "from lightgbm import LGBMRegressor\n",
    "from sklearn.linear_model import LinearRegression\n",
    "from math import ceil"
   ]
  },
  {
   "cell_type": "code",
   "execution_count": 210,
   "metadata": {},
   "outputs": [],
   "source": [
    "data = pd.read_csv('/datasets/taxi.csv', index_col=[0], parse_dates=[0])\n",
    "data.sort_index(inplace=True)\n"
   ]
  },
  {
   "cell_type": "markdown",
   "metadata": {},
   "source": [
    "## Анализ"
   ]
  },
  {
   "cell_type": "code",
   "execution_count": 211,
   "metadata": {},
   "outputs": [
    {
     "data": {
      "text/html": [
       "<div>\n",
       "<style scoped>\n",
       "    .dataframe tbody tr th:only-of-type {\n",
       "        vertical-align: middle;\n",
       "    }\n",
       "\n",
       "    .dataframe tbody tr th {\n",
       "        vertical-align: top;\n",
       "    }\n",
       "\n",
       "    .dataframe thead th {\n",
       "        text-align: right;\n",
       "    }\n",
       "</style>\n",
       "<table border=\"1\" class=\"dataframe\">\n",
       "  <thead>\n",
       "    <tr style=\"text-align: right;\">\n",
       "      <th></th>\n",
       "      <th>num_orders</th>\n",
       "    </tr>\n",
       "    <tr>\n",
       "      <th>datetime</th>\n",
       "      <th></th>\n",
       "    </tr>\n",
       "  </thead>\n",
       "  <tbody>\n",
       "    <tr>\n",
       "      <th>2018-03-01 00:00:00</th>\n",
       "      <td>9</td>\n",
       "    </tr>\n",
       "    <tr>\n",
       "      <th>2018-03-01 00:10:00</th>\n",
       "      <td>14</td>\n",
       "    </tr>\n",
       "    <tr>\n",
       "      <th>2018-03-01 00:20:00</th>\n",
       "      <td>28</td>\n",
       "    </tr>\n",
       "    <tr>\n",
       "      <th>2018-03-01 00:30:00</th>\n",
       "      <td>20</td>\n",
       "    </tr>\n",
       "    <tr>\n",
       "      <th>2018-03-01 00:40:00</th>\n",
       "      <td>32</td>\n",
       "    </tr>\n",
       "  </tbody>\n",
       "</table>\n",
       "</div>"
      ],
      "text/plain": [
       "                     num_orders\n",
       "datetime                       \n",
       "2018-03-01 00:00:00           9\n",
       "2018-03-01 00:10:00          14\n",
       "2018-03-01 00:20:00          28\n",
       "2018-03-01 00:30:00          20\n",
       "2018-03-01 00:40:00          32"
      ]
     },
     "execution_count": 211,
     "metadata": {},
     "output_type": "execute_result"
    }
   ],
   "source": [
    "data.head()"
   ]
  },
  {
   "cell_type": "markdown",
   "metadata": {},
   "source": [
    "Данные представляют из себя серию с объемом заказов такси с шагом в 10 минут. Задача стоит в предсказании объема на следующий час, соответственно, данные нужно ресемплировать."
   ]
  },
  {
   "cell_type": "code",
   "execution_count": 212,
   "metadata": {},
   "outputs": [],
   "source": [
    "data = data.resample('1H').sum()"
   ]
  },
  {
   "cell_type": "code",
   "execution_count": 213,
   "metadata": {
    "scrolled": true
   },
   "outputs": [
    {
     "name": "stdout",
     "output_type": "stream",
     "text": [
      "<class 'pandas.core.frame.DataFrame'>\n",
      "DatetimeIndex: 4416 entries, 2018-03-01 00:00:00 to 2018-08-31 23:00:00\n",
      "Freq: H\n",
      "Data columns (total 1 columns):\n",
      " #   Column      Non-Null Count  Dtype\n",
      "---  ------      --------------  -----\n",
      " 0   num_orders  4416 non-null   int64\n",
      "dtypes: int64(1)\n",
      "memory usage: 69.0 KB\n"
     ]
    }
   ],
   "source": [
    "data.info()"
   ]
  },
  {
   "cell_type": "markdown",
   "metadata": {},
   "source": [
    "Пропусков нет.\n",
    "\n",
    "Проверим индексы на монотонность."
   ]
  },
  {
   "cell_type": "code",
   "execution_count": 214,
   "metadata": {},
   "outputs": [
    {
     "data": {
      "text/plain": [
       "True"
      ]
     },
     "execution_count": 214,
     "metadata": {},
     "output_type": "execute_result"
    }
   ],
   "source": [
    "data.index.is_monotonic"
   ]
  },
  {
   "cell_type": "markdown",
   "metadata": {},
   "source": [
    "Пропусков в индексах нет, и он монотонно возрастает"
   ]
  },
  {
   "cell_type": "code",
   "execution_count": 215,
   "metadata": {},
   "outputs": [
    {
     "name": "stdout",
     "output_type": "stream",
     "text": [
      "Период c 2018-03-01 00:00:00 по 2018-08-31 23:00:00\n"
     ]
    }
   ],
   "source": [
    "print(f'Период c {data.index.min()} по {data.index.max()}')"
   ]
  },
  {
   "cell_type": "markdown",
   "metadata": {},
   "source": [
    "Посмотрим данные на графике, а также нарисуем графики скользящего среднего и стандартного отклонения "
   ]
  },
  {
   "cell_type": "code",
   "execution_count": 216,
   "metadata": {
    "scrolled": false
   },
   "outputs": [
    {
     "data": {
      "image/png": "[encoded data removed]",
      "text/plain": [
       "<Figure size 1800x1080 with 3 Axes>"
      ]
     },
     "metadata": {
      "needs_background": "light"
     },
     "output_type": "display_data"
    }
   ],
   "source": [
    "fig, ax = plt.subplots(3, 1, figsize=(25,15))\n",
    "ax[0].plot(data.index, data)\n",
    "ax[0].set_title('Orders', fontsize=20)\n",
    "ax[1].plot(data.index, data.shift().rolling(24).mean())\n",
    "ax[1].set_title('Mean', fontsize=20)\n",
    "ax[2].plot(data.index, data.shift().rolling(24).std())\n",
    "ax[2].set_title('Standard deviation', fontsize=20)\n",
    "plt.show()"
   ]
  },
  {
   "cell_type": "markdown",
   "metadata": {},
   "source": [
    "Ряд не стационарен: и среднее и стандартное отклонение не постоянны, есть выбросы. "
   ]
  },
  {
   "cell_type": "markdown",
   "metadata": {},
   "source": [
    "Разложим временной ряд. Тренд видится постоянным, сезонности по временам года не видно.\n",
    "\n",
    "Для наглядности ресемплируем данные до 1 дня"
   ]
  },
  {
   "cell_type": "code",
   "execution_count": 217,
   "metadata": {
    "scrolled": true
   },
   "outputs": [],
   "source": [
    "decomposed = seasonal_decompose(data.resample('1D').sum())"
   ]
  },
  {
   "cell_type": "code",
   "execution_count": 218,
   "metadata": {
    "scrolled": false
   },
   "outputs": [
    {
     "data": {
      "image/png": "[encoded data removed]",
      "text/plain": [
       "<Figure size 1800x720 with 2 Axes>"
      ]
     },
     "metadata": {
      "needs_background": "light"
     },
     "output_type": "display_data"
    }
   ],
   "source": [
    "fig, ax = plt.subplots(2, 1, figsize=(25,10))\n",
    "ax[0].plot(decomposed.trend.index, decomposed.trend)\n",
    "ax[0].set_title('Trend', fontsize=20)\n",
    "ax[1].plot(decomposed.seasonal.index, decomposed.seasonal)\n",
    "ax[1].set_title('Seasonal', fontsize=20)\n",
    "plt.show()"
   ]
  },
  {
   "cell_type": "markdown",
   "metadata": {},
   "source": [
    "Тренд постоянный. Видна четкая недельная сезонность.\n",
    "\n",
    "Теперь проверим суточную сезонность. Для этого возьмем почасовые данные за один месяц."
   ]
  },
  {
   "cell_type": "code",
   "execution_count": 219,
   "metadata": {},
   "outputs": [],
   "source": [
    "decomposed = seasonal_decompose(data['2018-06-01':'2018-06-15'])"
   ]
  },
  {
   "cell_type": "code",
   "execution_count": 220,
   "metadata": {},
   "outputs": [
    {
     "data": {
      "image/png": "[encoded data removed]",
      "text/plain": [
       "<Figure size 1800x360 with 1 Axes>"
      ]
     },
     "metadata": {
      "needs_background": "light"
     },
     "output_type": "display_data"
    }
   ],
   "source": [
    "fig, ax = plt.subplots(1, 1, figsize=(25,5))\n",
    "ax.plot(decomposed.seasonal.index, decomposed.seasonal)\n",
    "ax.set_title('Seasonal', fontsize=20)\n",
    "plt.show()"
   ]
  },
  {
   "cell_type": "markdown",
   "metadata": {},
   "source": [
    "**Вывод**\n",
    "\n",
    "Необходимо выделить в датасет обозночение часа (т.к. это целевой интервал предсказания) и, исходя из наблюдаемой недельной сезонности, день недели.\n",
    "\n",
    "С помощью скользящей средней нужно включить в расчет влияние тренда."
   ]
  },
  {
   "cell_type": "markdown",
   "metadata": {},
   "source": [
    "## Обучение"
   ]
  },
  {
   "cell_type": "markdown",
   "metadata": {},
   "source": [
    "Создадим функцию, которая добавит несколько фичей: час и день недели, в соответствии с наблюдаемой сезонностью, дельту с предыдущим измерением для стационарности ряда, временной лаг на 12 часов, и скользящую среднюю с периодом в 72 часа."
   ]
  },
  {
   "cell_type": "code",
   "execution_count": 221,
   "metadata": {},
   "outputs": [],
   "source": [
    "def make_features(data, max_lag, rolling_mean_size):\n",
    "    data['hour'] = data.index.hour\n",
    "    data['dayofweek'] = data.index.dayofweek\n",
    "    data['delta']=data['num_orders'].shift(1)-data['num_orders'].shift(2)\n",
    "    \n",
    "    for lag in range(1, max_lag + 1):\n",
    "        data['lag_{}'.format(lag)] = data['num_orders'].shift(lag)\n",
    "\n",
    "    data['rolling_mean'] = data['num_orders'].shift().rolling(rolling_mean_size).mean()"
   ]
  },
  {
   "cell_type": "code",
   "execution_count": 222,
   "metadata": {},
   "outputs": [],
   "source": [
    "make_features(data, 12, 72)"
   ]
  },
  {
   "cell_type": "code",
   "execution_count": 223,
   "metadata": {
    "scrolled": false
   },
   "outputs": [
    {
     "data": {
      "text/html": [
       "<div>\n",
       "<style scoped>\n",
       "    .dataframe tbody tr th:only-of-type {\n",
       "        vertical-align: middle;\n",
       "    }\n",
       "\n",
       "    .dataframe tbody tr th {\n",
       "        vertical-align: top;\n",
       "    }\n",
       "\n",
       "    .dataframe thead th {\n",
       "        text-align: right;\n",
       "    }\n",
       "</style>\n",
       "<table border=\"1\" class=\"dataframe\">\n",
       "  <thead>\n",
       "    <tr style=\"text-align: right;\">\n",
       "      <th></th>\n",
       "      <th>num_orders</th>\n",
       "      <th>hour</th>\n",
       "      <th>dayofweek</th>\n",
       "      <th>delta</th>\n",
       "      <th>lag_1</th>\n",
       "      <th>lag_2</th>\n",
       "      <th>lag_3</th>\n",
       "      <th>lag_4</th>\n",
       "      <th>lag_5</th>\n",
       "      <th>lag_6</th>\n",
       "      <th>lag_7</th>\n",
       "      <th>lag_8</th>\n",
       "      <th>lag_9</th>\n",
       "      <th>lag_10</th>\n",
       "      <th>lag_11</th>\n",
       "      <th>lag_12</th>\n",
       "      <th>rolling_mean</th>\n",
       "    </tr>\n",
       "    <tr>\n",
       "      <th>datetime</th>\n",
       "      <th></th>\n",
       "      <th></th>\n",
       "      <th></th>\n",
       "      <th></th>\n",
       "      <th></th>\n",
       "      <th></th>\n",
       "      <th></th>\n",
       "      <th></th>\n",
       "      <th></th>\n",
       "      <th></th>\n",
       "      <th></th>\n",
       "      <th></th>\n",
       "      <th></th>\n",
       "      <th></th>\n",
       "      <th></th>\n",
       "      <th></th>\n",
       "      <th></th>\n",
       "    </tr>\n",
       "  </thead>\n",
       "  <tbody>\n",
       "    <tr>\n",
       "      <th>2018-03-01 00:00:00</th>\n",
       "      <td>124</td>\n",
       "      <td>0</td>\n",
       "      <td>3</td>\n",
       "      <td>NaN</td>\n",
       "      <td>NaN</td>\n",
       "      <td>NaN</td>\n",
       "      <td>NaN</td>\n",
       "      <td>NaN</td>\n",
       "      <td>NaN</td>\n",
       "      <td>NaN</td>\n",
       "      <td>NaN</td>\n",
       "      <td>NaN</td>\n",
       "      <td>NaN</td>\n",
       "      <td>NaN</td>\n",
       "      <td>NaN</td>\n",
       "      <td>NaN</td>\n",
       "      <td>NaN</td>\n",
       "    </tr>\n",
       "    <tr>\n",
       "      <th>2018-03-01 01:00:00</th>\n",
       "      <td>85</td>\n",
       "      <td>1</td>\n",
       "      <td>3</td>\n",
       "      <td>NaN</td>\n",
       "      <td>124.0</td>\n",
       "      <td>NaN</td>\n",
       "      <td>NaN</td>\n",
       "      <td>NaN</td>\n",
       "      <td>NaN</td>\n",
       "      <td>NaN</td>\n",
       "      <td>NaN</td>\n",
       "      <td>NaN</td>\n",
       "      <td>NaN</td>\n",
       "      <td>NaN</td>\n",
       "      <td>NaN</td>\n",
       "      <td>NaN</td>\n",
       "      <td>NaN</td>\n",
       "    </tr>\n",
       "    <tr>\n",
       "      <th>2018-03-01 02:00:00</th>\n",
       "      <td>71</td>\n",
       "      <td>2</td>\n",
       "      <td>3</td>\n",
       "      <td>-39.0</td>\n",
       "      <td>85.0</td>\n",
       "      <td>124.0</td>\n",
       "      <td>NaN</td>\n",
       "      <td>NaN</td>\n",
       "      <td>NaN</td>\n",
       "      <td>NaN</td>\n",
       "      <td>NaN</td>\n",
       "      <td>NaN</td>\n",
       "      <td>NaN</td>\n",
       "      <td>NaN</td>\n",
       "      <td>NaN</td>\n",
       "      <td>NaN</td>\n",
       "      <td>NaN</td>\n",
       "    </tr>\n",
       "    <tr>\n",
       "      <th>2018-03-01 03:00:00</th>\n",
       "      <td>66</td>\n",
       "      <td>3</td>\n",
       "      <td>3</td>\n",
       "      <td>-14.0</td>\n",
       "      <td>71.0</td>\n",
       "      <td>85.0</td>\n",
       "      <td>124.0</td>\n",
       "      <td>NaN</td>\n",
       "      <td>NaN</td>\n",
       "      <td>NaN</td>\n",
       "      <td>NaN</td>\n",
       "      <td>NaN</td>\n",
       "      <td>NaN</td>\n",
       "      <td>NaN</td>\n",
       "      <td>NaN</td>\n",
       "      <td>NaN</td>\n",
       "      <td>NaN</td>\n",
       "    </tr>\n",
       "    <tr>\n",
       "      <th>2018-03-01 04:00:00</th>\n",
       "      <td>43</td>\n",
       "      <td>4</td>\n",
       "      <td>3</td>\n",
       "      <td>-5.0</td>\n",
       "      <td>66.0</td>\n",
       "      <td>71.0</td>\n",
       "      <td>85.0</td>\n",
       "      <td>124.0</td>\n",
       "      <td>NaN</td>\n",
       "      <td>NaN</td>\n",
       "      <td>NaN</td>\n",
       "      <td>NaN</td>\n",
       "      <td>NaN</td>\n",
       "      <td>NaN</td>\n",
       "      <td>NaN</td>\n",
       "      <td>NaN</td>\n",
       "      <td>NaN</td>\n",
       "    </tr>\n",
       "  </tbody>\n",
       "</table>\n",
       "</div>"
      ],
      "text/plain": [
       "                     num_orders  hour  dayofweek  delta  lag_1  lag_2  lag_3  \\\n",
       "datetime                                                                       \n",
       "2018-03-01 00:00:00         124     0          3    NaN    NaN    NaN    NaN   \n",
       "2018-03-01 01:00:00          85     1          3    NaN  124.0    NaN    NaN   \n",
       "2018-03-01 02:00:00          71     2          3  -39.0   85.0  124.0    NaN   \n",
       "2018-03-01 03:00:00          66     3          3  -14.0   71.0   85.0  124.0   \n",
       "2018-03-01 04:00:00          43     4          3   -5.0   66.0   71.0   85.0   \n",
       "\n",
       "                     lag_4  lag_5  lag_6  lag_7  lag_8  lag_9  lag_10  lag_11  \\\n",
       "datetime                                                                        \n",
       "2018-03-01 00:00:00    NaN    NaN    NaN    NaN    NaN    NaN     NaN     NaN   \n",
       "2018-03-01 01:00:00    NaN    NaN    NaN    NaN    NaN    NaN     NaN     NaN   \n",
       "2018-03-01 02:00:00    NaN    NaN    NaN    NaN    NaN    NaN     NaN     NaN   \n",
       "2018-03-01 03:00:00    NaN    NaN    NaN    NaN    NaN    NaN     NaN     NaN   \n",
       "2018-03-01 04:00:00  124.0    NaN    NaN    NaN    NaN    NaN     NaN     NaN   \n",
       "\n",
       "                     lag_12  rolling_mean  \n",
       "datetime                                   \n",
       "2018-03-01 00:00:00     NaN           NaN  \n",
       "2018-03-01 01:00:00     NaN           NaN  \n",
       "2018-03-01 02:00:00     NaN           NaN  \n",
       "2018-03-01 03:00:00     NaN           NaN  \n",
       "2018-03-01 04:00:00     NaN           NaN  "
      ]
     },
     "execution_count": 223,
     "metadata": {},
     "output_type": "execute_result"
    }
   ],
   "source": [
    "data.head()"
   ]
  },
  {
   "cell_type": "markdown",
   "metadata": {},
   "source": [
    "Удалим строки с NaN"
   ]
  },
  {
   "cell_type": "code",
   "execution_count": 224,
   "metadata": {},
   "outputs": [],
   "source": [
    "data.dropna(inplace=True)"
   ]
  },
  {
   "cell_type": "markdown",
   "metadata": {},
   "source": [
    "В качестве бейзлайна возьмем предыдущие значения"
   ]
  },
  {
   "cell_type": "code",
   "execution_count": 225,
   "metadata": {},
   "outputs": [],
   "source": [
    "baseline_y = data['num_orders'].shift(1)"
   ]
  },
  {
   "cell_type": "markdown",
   "metadata": {},
   "source": [
    "Разобьем данные на учебную, валидационную и тестовую выборки."
   ]
  },
  {
   "cell_type": "code",
   "execution_count": 226,
   "metadata": {},
   "outputs": [],
   "source": [
    "def y_extract(data, y_name, size=0, shuffle=False): #выделение из датасета целевого признака и разбиение данных на учебную и валидационную\n",
    "    target = data[y_name]\n",
    "    features = data.drop(y_name, axis=1)\n",
    "    if size>0:\n",
    "        X_train, X_valid, y_train, y_valid = train_test_split(features, target, test_size = size, random_state = 777, shuffle=shuffle)\n",
    "        return X_train, X_valid, y_train, y_valid\n",
    "    else: \n",
    "        return features, target"
   ]
  },
  {
   "cell_type": "code",
   "execution_count": 227,
   "metadata": {},
   "outputs": [],
   "source": [
    "X_train, X_test, y_train, y_test = y_extract(data, 'num_orders', .1)\n",
    "X_tr, X_val, y_tr, y_val = train_test_split(X_train, y_train, test_size = .1, random_state = 777, shuffle=False)"
   ]
  },
  {
   "cell_type": "code",
   "execution_count": 228,
   "metadata": {
    "scrolled": false
   },
   "outputs": [
    {
     "name": "stdout",
     "output_type": "stream",
     "text": [
      "2018-03-04 00:00:00 2018-07-28 13:00:00\n",
      "2018-07-28 14:00:00 2018-08-13 20:00:00\n",
      "2018-08-13 21:00:00 2018-08-31 23:00:00\n"
     ]
    }
   ],
   "source": [
    "print(X_tr.index.min(), X_tr.index.max())\n",
    "print(X_val.index.min(), X_val.index.max())\n",
    "print(X_test.index.min(), X_test.index.max())"
   ]
  },
  {
   "cell_type": "markdown",
   "metadata": {},
   "source": [
    "Трансформируем категориальные признаки и проскалируем численные."
   ]
  },
  {
   "cell_type": "code",
   "execution_count": 229,
   "metadata": {},
   "outputs": [],
   "source": [
    "cat_col = ['hour', 'dayofweek']\n",
    "num_col = X_tr.columns.drop(cat_col)"
   ]
  },
  {
   "cell_type": "code",
   "execution_count": 230,
   "metadata": {},
   "outputs": [],
   "source": [
    "scaler = StandardScaler().fit(X_tr[num_col])\n",
    "ohe = OneHotEncoder().fit(X_tr[cat_col])"
   ]
  },
  {
   "cell_type": "code",
   "execution_count": 231,
   "metadata": {},
   "outputs": [],
   "source": [
    "def ohe_transform(data, ohe, f_names):\n",
    "    new_data=data.copy()\n",
    "    ohe_data = pd.DataFrame(ohe.transform(new_data[f_names]).toarray(), columns=ohe.get_feature_names(f_names), index=data.index)\n",
    "    new_data.drop(f_names, axis=1, inplace=True)\n",
    "    return pd.concat([new_data, ohe_data], axis=1)"
   ]
  },
  {
   "cell_type": "code",
   "execution_count": 232,
   "metadata": {
    "scrolled": false
   },
   "outputs": [
    {
     "name": "stderr",
     "output_type": "stream",
     "text": [
      "/tmp/ipykernel_31/334067806.py:1: SettingWithCopyWarning: \n",
      "A value is trying to be set on a copy of a slice from a DataFrame.\n",
      "Try using .loc[row_indexer,col_indexer] = value instead\n",
      "\n",
      "See the caveats in the documentation: https://pandas.pydata.org/pandas-docs/stable/user_guide/indexing.html#returning-a-view-versus-a-copy\n",
      "  X_tr[num_col] = scaler.transform(X_tr[num_col])\n",
      "/opt/conda/lib/python3.9/site-packages/pandas/core/indexing.py:1738: SettingWithCopyWarning: \n",
      "A value is trying to be set on a copy of a slice from a DataFrame.\n",
      "Try using .loc[row_indexer,col_indexer] = value instead\n",
      "\n",
      "See the caveats in the documentation: https://pandas.pydata.org/pandas-docs/stable/user_guide/indexing.html#returning-a-view-versus-a-copy\n",
      "  self._setitem_single_column(loc, value[:, i].tolist(), pi)\n",
      "/tmp/ipykernel_31/334067806.py:4: SettingWithCopyWarning: \n",
      "A value is trying to be set on a copy of a slice from a DataFrame.\n",
      "Try using .loc[row_indexer,col_indexer] = value instead\n",
      "\n",
      "See the caveats in the documentation: https://pandas.pydata.org/pandas-docs/stable/user_guide/indexing.html#returning-a-view-versus-a-copy\n",
      "  X_val[num_col] = scaler.transform(X_val[num_col])\n",
      "/opt/conda/lib/python3.9/site-packages/pandas/core/indexing.py:1738: SettingWithCopyWarning: \n",
      "A value is trying to be set on a copy of a slice from a DataFrame.\n",
      "Try using .loc[row_indexer,col_indexer] = value instead\n",
      "\n",
      "See the caveats in the documentation: https://pandas.pydata.org/pandas-docs/stable/user_guide/indexing.html#returning-a-view-versus-a-copy\n",
      "  self._setitem_single_column(loc, value[:, i].tolist(), pi)\n"
     ]
    }
   ],
   "source": [
    "X_tr[num_col] = scaler.transform(X_tr[num_col])\n",
    "X_tr = ohe_transform(X_tr, ohe, cat_col)\n",
    "\n",
    "X_val[num_col] = scaler.transform(X_val[num_col])\n",
    "X_val = ohe_transform(X_val, ohe, cat_col)\n",
    "\n",
    "X_test[num_col] = scaler.transform(X_test[num_col])\n",
    "X_test = ohe_transform(X_test, ohe, cat_col)\n",
    "\n",
    "X_train[num_col] = scaler.transform(X_train[num_col])\n",
    "X_train = ohe_transform(X_train, ohe, cat_col)"
   ]
  },
  {
   "cell_type": "code",
   "execution_count": 233,
   "metadata": {},
   "outputs": [],
   "source": [
    "cat_col = X_tr.columns.drop(num_col) #сохраним обновленный список категориальных признаков для передачи в бустинг"
   ]
  },
  {
   "cell_type": "markdown",
   "metadata": {},
   "source": [
    "Данные готовы к обучению и тестированию"
   ]
  },
  {
   "cell_type": "markdown",
   "metadata": {},
   "source": [
    "### Нейросеть"
   ]
  },
  {
   "cell_type": "markdown",
   "metadata": {},
   "source": [
    "Для нейросети переведем данные в тензор"
   ]
  },
  {
   "cell_type": "code",
   "execution_count": 234,
   "metadata": {},
   "outputs": [],
   "source": [
    "train_data_torch = torch.FloatTensor(np.array(X_tr))\n",
    "train_data_full_torch = torch.FloatTensor(np.array(X_train))\n",
    "val_data_torch = torch.FloatTensor(np.array(X_val))\n",
    "test_data_torch = torch.FloatTensor(np.array(X_test))\n",
    "y_tr_torch = torch.FloatTensor(y_tr)\n",
    "y_train_torch = torch.FloatTensor(y_train)\n",
    "y_val_torch = torch.FloatTensor(y_val)\n",
    "y_test_torch = torch.FloatTensor(y_test)"
   ]
  },
  {
   "cell_type": "code",
   "execution_count": 235,
   "metadata": {},
   "outputs": [],
   "source": [
    "class CustomEarlyStopping(): \n",
    "# класс для проверки изменения целевой метрики. \n",
    "# Если она долго не меняется, или меняется незначительно, то обучение прерывается\n",
    "    def __init__(self, patience=5, min_delta=0):\n",
    "        self.patience = patience\n",
    "        self.min_delta = min_delta\n",
    "        self.counter = 0\n",
    "        self.best_loss = None\n",
    "        self.early_stop = False\n",
    "\n",
    "    def __call__(self, val_loss):\n",
    "        if self.best_loss == None:\n",
    "            self.best_loss = val_loss\n",
    "        elif self.best_loss - val_loss > self.min_delta:\n",
    "            self.best_loss = val_loss\n",
    "            self.counter = 0\n",
    "        elif self.best_loss - val_loss < self.min_delta:\n",
    "            self.counter += 1\n",
    "            #print(f\"INFO: Early stopping counter {self.counter} of {self.patience}\")\n",
    "            if self.counter >= self.patience:\n",
    "                #print('INFO: Early stopping')\n",
    "                self.early_stop = True"
   ]
  },
  {
   "cell_type": "code",
   "execution_count": 236,
   "metadata": {},
   "outputs": [],
   "source": [
    "class MyNN(): \n",
    "    \n",
    "    def __init__(self, neurons, afunc, reg='', dop=[]):\n",
    "        self.neurons = neurons\n",
    "        self.neurons.append(1) # добавим слой на выхо\n",
    "        self.afunc = afunc # массив с функцией активации\n",
    "        self.net_layers = []\n",
    "        self.reg = reg\n",
    "        self.dop = dop\n",
    "        self.net = self.construct_net()\n",
    "        self.net.apply(self.init_weights)\n",
    "        \n",
    "        \n",
    "    def construct_net(self):\n",
    "        for i in range(1, len(self.neurons) - 1):\n",
    "            self.net_layers.append(nn.Linear(self.neurons[i-1], self.neurons[i]))\n",
    "            self.net_layers.append(self.afunc[i-1])\n",
    "            if self.reg == 'bn': self.net_layers.append(nn.BatchNorm1d(self.neurons[i]))\n",
    "            if self.reg == 'do': self.net_layers.append(nn.Dropout(dop[i-1]))\n",
    "        self.net_layers.append(nn.Linear(self.neurons[-2], self.neurons[-1]))\n",
    "        self.net_layers.append(self.afunc[-1])\n",
    "        net = nn.Sequential(*self.net_layers)\n",
    "        return net\n",
    "    \n",
    "    def init_weights(self, layer):\n",
    "        if type(layer) == nn.Linear:\n",
    "            nn.init.kaiming_uniform_(layer.weight, mode=\"fan_out\", nonlinearity=\"relu\")"
   ]
  },
  {
   "cell_type": "code",
   "execution_count": 237,
   "metadata": {},
   "outputs": [],
   "source": [
    "def learning_curve(scores):\n",
    "    plt.plot(scores['rmse_train'], color = 'red', label = 'Train')\n",
    "    plt.plot(scores['rmse_test'], label = 'Test')\n",
    "    plt.legend()\n",
    "    plt.show()"
   ]
  },
  {
   "cell_type": "code",
   "execution_count": 238,
   "metadata": {},
   "outputs": [],
   "source": [
    "def new_layer(neur, afunc, X_t, X_v, y_t, y_v, in_rmse=0, check = False, reg=None, dop = 0, epochs = 5000, metr=0):\n",
    "    n = neur.copy()\n",
    "    b_rmse = in_rmse\n",
    "    score = []\n",
    "    opt_epoch = 0\n",
    "    vis = False\n",
    "\n",
    "    loss = nn.MSELoss()\n",
    "    model_nn = MyNN(n, afunc, loss)\n",
    "    optimizer = torch.optim.Adam(model_nn.net.parameters(), lr=1e-3)    \n",
    "    num_epochs = epochs\n",
    "    \n",
    "    early_stopping = CustomEarlyStopping(patience=1000, min_delta=.02) \n",
    "    #для проверки процесса обучения оставим 1000 эпох и .02 RMSE шага изменений\n",
    "    \n",
    "    for epch in range(num_epochs):\n",
    "        early_stopping(b_rmse)\n",
    "        if early_stopping.early_stop:\n",
    "            break #изменений нет\n",
    "        model_nn.net.train()\n",
    "        optimizer.zero_grad()\n",
    "        preds = model_nn.net.forward(X_t).flatten()\n",
    "        loss_value = loss(preds, y_t).float()\n",
    "        loss_value.backward()\n",
    "        optimizer.step()\n",
    "            \n",
    "        if epch % 100 == 0 or epch == num_epochs - 1:\n",
    "            with torch.no_grad():\n",
    "                model_nn.net.eval()\n",
    "                test_preds = model_nn.net.forward(X_v)\n",
    "                rmse_test = mean_squared_error(test_preds.detach().numpy(), y_v.detach().numpy())**.5\n",
    "                if rmse_test < b_rmse:\n",
    "                    b_rmse = rmse_test\n",
    "                    opt_epoch = epch\n",
    "                    if b_rmse < metr:\n",
    "                        vis = True\n",
    "                if check:\n",
    "                    train_preds = model_nn.net.forward(X_t)\n",
    "                    rmse_train = mean_squared_error(train_preds.detach().numpy(), y_t.detach().numpy())**.5\n",
    "                    score.append([rmse_train, rmse_test])\n",
    "    if vis and check:\n",
    "        score = pd.DataFrame(score, columns=['rmse_train', 'rmse_test'])\n",
    "        learning_curve(score)\n",
    "        print(n, b_rmse)\n",
    "        print(\"___________________________\")\n",
    "    return b_rmse, opt_epoch"
   ]
  },
  {
   "cell_type": "code",
   "execution_count": 239,
   "metadata": {
    "scrolled": true
   },
   "outputs": [
    {
     "data": {
      "image/png": "[encoded data removed]",
      "text/plain": [
       "<Figure size 432x288 with 1 Axes>"
      ]
     },
     "metadata": {
      "needs_background": "light"
     },
     "output_type": "display_data"
    },
    {
     "name": "stdout",
     "output_type": "stream",
     "text": [
      "[45, 4, 1] 31.44040334350601\n",
      "___________________________\n"
     ]
    },
    {
     "data": {
      "image/png": "[encoded data removed]",
      "text/plain": [
       "<Figure size 432x288 with 1 Axes>"
      ]
     },
     "metadata": {
      "needs_background": "light"
     },
     "output_type": "display_data"
    },
    {
     "name": "stdout",
     "output_type": "stream",
     "text": [
      "[45, 8, 1] 29.880757690791263\n",
      "___________________________\n"
     ]
    },
    {
     "data": {
      "image/png": "[encoded data removed]",
      "text/plain": [
       "<Figure size 432x288 with 1 Axes>"
      ]
     },
     "metadata": {
      "needs_background": "light"
     },
     "output_type": "display_data"
    },
    {
     "name": "stdout",
     "output_type": "stream",
     "text": [
      "[45, 12, 1] 29.462449825278128\n",
      "___________________________\n"
     ]
    }
   ],
   "source": [
    "\n",
    "in_n = train_data_torch.size()[1]\n",
    "net_var=[] #массив для хранения структуры сети\n",
    "temp_net_var=[]\n",
    "neurons = 0\n",
    "nneu=[] #временный массив для хранения структуры сети\n",
    "epochs=0\n",
    "nneu.append(in_n)\n",
    "rmse=20000\n",
    "\n",
    "for hid_n in np.arange(len(nneu),11): #сеть с 10 скрытыми слоями\n",
    "    for l in np.arange(len(nneu)-1,hid_n):\n",
    "        local_rmse=20000\n",
    "        for i in np.arange(4, 41, 4): # от 4 до 40 нейронов в слое\n",
    "            temp_rmse=20000\n",
    "            n_neu=nneu.copy()\n",
    "            n_neu.append(i)\n",
    "            function = np.full(len(n_neu)+1, nn.ReLU()) #ф-цию активации везде проставим ReLu\n",
    "            rmse_n, ep = new_layer(n_neu, function, train_data_torch, val_data_torch, y_tr_torch, y_val_torch, \n",
    "                                    temp_rmse, epochs = 15000, check=True, metr=rmse)\n",
    "            if rmse_n < local_rmse:\n",
    "                local_rmse = rmse_n\n",
    "                neurons = i\n",
    "                temp_net_var = n_neu.copy()\n",
    "            if rmse_n < rmse:\n",
    "                rmse = rmse_n\n",
    "                epochs = ep\n",
    "                net_var = n_neu.copy()\n",
    "    nneu.append(neurons)"
   ]
  },
  {
   "cell_type": "code",
   "execution_count": 240,
   "metadata": {},
   "outputs": [
    {
     "name": "stdout",
     "output_type": "stream",
     "text": [
      "[45, 12]\n",
      "8400\n",
      "29.462449825278128\n"
     ]
    }
   ],
   "source": [
    "\n",
    "print(net_var)\n",
    "print(epochs)\n",
    "print(rmse)\n"
   ]
  },
  {
   "cell_type": "markdown",
   "metadata": {},
   "source": [
    "Брутфорс показал, что увеличение количества слоев не оказывает заметного влияния на результаты.\n",
    "\n",
    "Стоит попробовать сети в виде пирамиды с 2-3 слоями и большим количеством нейронов, вроде: [1024, 512, 256], [512, 128, 32] и т.д."
   ]
  },
  {
   "cell_type": "code",
   "execution_count": 241,
   "metadata": {
    "scrolled": true
   },
   "outputs": [
    {
     "data": {
      "image/png": "[encoded data removed]",
      "text/plain": [
       "<Figure size 432x288 with 1 Axes>"
      ]
     },
     "metadata": {
      "needs_background": "light"
     },
     "output_type": "display_data"
    },
    {
     "name": "stdout",
     "output_type": "stream",
     "text": [
      "rmse_train    14.764487\n",
      "rmse_test     32.049922\n",
      "Name: 400, dtype: float64\n"
     ]
    }
   ],
   "source": [
    "nv = [45, 32, 16]\n",
    "af_list = np.full(len(nv), nn.ReLU())\n",
    "loss = nn.MSELoss()\n",
    "model_nn = MyNN(nv, af_list, loss)\n",
    "optimizer = torch.optim.Adam(model_nn.net.parameters(), lr=1e-3)    \n",
    "score=[]\n",
    "\n",
    "for epch in range(4000):\n",
    "    model_nn.net.train()\n",
    "    optimizer.zero_grad()\n",
    "    preds = model_nn.net.forward(train_data_torch).flatten()\n",
    "    loss_value = loss(preds, y_tr_torch).float()\n",
    "    loss_value.backward()\n",
    "    optimizer.step()\n",
    "    if epch % 10 == 0 or epch == 4000 - 1:\n",
    "            with torch.no_grad():\n",
    "                model_nn.net.eval()\n",
    "                test_preds = model_nn.net.forward(val_data_torch)\n",
    "                rmse_test = mean_squared_error(test_preds.detach().numpy(), y_val_torch.detach().numpy())**.5\n",
    "                train_preds = model_nn.net.forward(train_data_torch)\n",
    "                rmse_train = mean_squared_error(train_preds.detach().numpy(), y_tr_torch.detach().numpy())**.5\n",
    "                score.append([rmse_train, rmse_test])\n",
    "score = pd.DataFrame(score, columns=['rmse_train', 'rmse_test'])\n",
    "learning_curve(score)\n",
    "print(score.iloc[-1])"
   ]
  },
  {
   "cell_type": "markdown",
   "metadata": {},
   "source": [
    "В итоге, выросло только время выполнения, остановимся на предыдущем результате."
   ]
  },
  {
   "cell_type": "markdown",
   "metadata": {},
   "source": [
    "Обучим нейросеть на всех тренировочных данных перед проведением теста."
   ]
  },
  {
   "cell_type": "code",
   "execution_count": 242,
   "metadata": {},
   "outputs": [],
   "source": [
    "loss = nn.MSELoss()\n",
    "model_nn = MyNN(net_var, af_list, loss)\n",
    "optimizer = torch.optim.Adam(model_nn.net.parameters(), lr=1e-3)    \n",
    "\n",
    "\n",
    "for epch in range(epochs):\n",
    "    model_nn.net.train()\n",
    "    optimizer.zero_grad()\n",
    "    preds = model_nn.net.forward(train_data_full_torch).flatten()\n",
    "    loss_value = loss(preds, y_train_torch).float()\n",
    "    loss_value.backward()\n",
    "    optimizer.step()\n"
   ]
  },
  {
   "cell_type": "markdown",
   "metadata": {},
   "source": [
    "Обучим ещё пару моделей для сравнения результатов."
   ]
  },
  {
   "cell_type": "markdown",
   "metadata": {},
   "source": [
    "### Линейная регрессия"
   ]
  },
  {
   "cell_type": "code",
   "execution_count": 243,
   "metadata": {},
   "outputs": [],
   "source": [
    "lr = LinearRegression()"
   ]
  },
  {
   "cell_type": "code",
   "execution_count": 244,
   "metadata": {},
   "outputs": [
    {
     "data": {
      "text/plain": [
       "LinearRegression()"
      ]
     },
     "execution_count": 244,
     "metadata": {},
     "output_type": "execute_result"
    }
   ],
   "source": [
    "lr.fit(X_tr, y_tr) "
   ]
  },
  {
   "cell_type": "code",
   "execution_count": 245,
   "metadata": {},
   "outputs": [],
   "source": [
    "pred_lr=lr.predict(X_val)"
   ]
  },
  {
   "cell_type": "code",
   "execution_count": 246,
   "metadata": {},
   "outputs": [
    {
     "data": {
      "text/plain": [
       "LinearRegression()"
      ]
     },
     "execution_count": 246,
     "metadata": {},
     "output_type": "execute_result"
    }
   ],
   "source": [
    "lr.fit(X_train, y_train) "
   ]
  },
  {
   "cell_type": "markdown",
   "metadata": {},
   "source": [
    "### LGBM"
   ]
  },
  {
   "cell_type": "code",
   "execution_count": 247,
   "metadata": {},
   "outputs": [],
   "source": [
    "param_grid_lgbm = {\n",
    "    'num_leaves': np.arange(2, 21, 2),\n",
    "    'max_depth': np.arange(1, 21, 5),\n",
    "    'min_data_in_leaf': [10, 20, 30, 50, 100, 300],\n",
    "    'learning_rate': [0.1],\n",
    "    'verbose': [-1]\n",
    "    }\n",
    "fit_params = {'categorical_feature':cat_col.tolist(),'verbose':-1}"
   ]
  },
  {
   "cell_type": "code",
   "execution_count": 248,
   "metadata": {},
   "outputs": [],
   "source": [
    "lgbm = LGBMRegressor()"
   ]
  },
  {
   "cell_type": "code",
   "execution_count": 249,
   "metadata": {},
   "outputs": [],
   "source": [
    "tscv = TimeSeriesSplit(n_splits=5)"
   ]
  },
  {
   "cell_type": "code",
   "execution_count": 250,
   "metadata": {
    "scrolled": true
   },
   "outputs": [],
   "source": [
    "%%capture\n",
    "gsearch_lgbm = GridSearchCV(estimator=lgbm, param_grid=param_grid_lgbm, cv=tscv, scoring='neg_mean_squared_error')\n",
    "gsearch_lgbm.fit(X_train, y_train, **fit_params)"
   ]
  },
  {
   "cell_type": "code",
   "execution_count": 251,
   "metadata": {},
   "outputs": [],
   "source": [
    "param_lgbm = gsearch_lgbm.best_params_"
   ]
  },
  {
   "cell_type": "code",
   "execution_count": 252,
   "metadata": {},
   "outputs": [],
   "source": [
    "lgbm = LGBMRegressor(**param_lgbm)"
   ]
  },
  {
   "cell_type": "code",
   "execution_count": 253,
   "metadata": {
    "scrolled": false
   },
   "outputs": [
    {
     "name": "stderr",
     "output_type": "stream",
     "text": [
      "/opt/conda/lib/python3.9/site-packages/lightgbm/basic.py:2065: UserWarning: Using categorical_feature in Dataset.\n",
      "  _log_warning('Using categorical_feature in Dataset.')\n"
     ]
    },
    {
     "data": {
      "text/plain": [
       "LGBMRegressor(max_depth=11, min_data_in_leaf=10, num_leaves=8, verbose=-1)"
      ]
     },
     "execution_count": 253,
     "metadata": {},
     "output_type": "execute_result"
    }
   ],
   "source": [
    "lgbm.fit(X_tr, y_tr, categorical_feature=cat_col.tolist())"
   ]
  },
  {
   "cell_type": "code",
   "execution_count": 254,
   "metadata": {},
   "outputs": [],
   "source": [
    "pred_lgbm=lgbm.predict(X_val)"
   ]
  },
  {
   "cell_type": "code",
   "execution_count": 255,
   "metadata": {},
   "outputs": [
    {
     "name": "stdout",
     "output_type": "stream",
     "text": [
      "[LightGBM] [Warning] min_data_in_leaf is set=10, min_child_samples=20 will be ignored. Current value: min_data_in_leaf=10\n"
     ]
    },
    {
     "data": {
      "text/plain": [
       "LGBMRegressor(max_depth=11, min_data_in_leaf=10, num_leaves=8, verbose=-1)"
      ]
     },
     "execution_count": 255,
     "metadata": {},
     "output_type": "execute_result"
    }
   ],
   "source": [
    "lgbm.fit(X_train, y_train, categorical_feature=cat_col.tolist())"
   ]
  },
  {
   "cell_type": "markdown",
   "metadata": {},
   "source": [
    "### Сравнение моделей"
   ]
  },
  {
   "cell_type": "code",
   "execution_count": 256,
   "metadata": {},
   "outputs": [
    {
     "name": "stdout",
     "output_type": "stream",
     "text": [
      "Neur RMSE 29.462449825278128\n",
      "Linear RMSE 32.22744784138421\n",
      "LGBM RMSE 31.863947737842405\n"
     ]
    }
   ],
   "source": [
    "print(\"Neur RMSE\", rmse)\n",
    "print(\"Linear RMSE\", mean_squared_error(pred_lr, y_val)**.5)\n",
    "print(\"LGBM RMSE\", mean_squared_error(pred_lgbm, y_val)**.5)"
   ]
  },
  {
   "cell_type": "markdown",
   "metadata": {},
   "source": [
    "## Тестирование"
   ]
  },
  {
   "cell_type": "markdown",
   "metadata": {},
   "source": [
    "Проведем тестирование полученных моделей. За бейзлайн возьмем предыдущее значение ряда."
   ]
  },
  {
   "cell_type": "code",
   "execution_count": 257,
   "metadata": {
    "scrolled": true
   },
   "outputs": [],
   "source": [
    "model_nn.net.eval()\n",
    "test_preds = model_nn.net.forward(test_data_torch)\n",
    "rmse_test = mean_squared_error(test_preds.detach().numpy(), y_test_torch.detach().numpy())**.5"
   ]
  },
  {
   "cell_type": "code",
   "execution_count": 258,
   "metadata": {},
   "outputs": [],
   "source": [
    "pred_lr=lr.predict(X_test)\n",
    "pred_lgbm=lgbm.predict(X_test)"
   ]
  },
  {
   "cell_type": "code",
   "execution_count": 259,
   "metadata": {
    "scrolled": false
   },
   "outputs": [
    {
     "name": "stdout",
     "output_type": "stream",
     "text": [
      "Neur RMSE 38.75418481687252\n",
      "Linear RMSE 42.077771214822114\n",
      "LGBM RMSE 41.98199504866392\n",
      "Baseline RMSE 59.149702926742066\n",
      "Mean 139.84827586206896\n",
      "Standard deviation 58.895126393608464\n"
     ]
    }
   ],
   "source": [
    "print(\"Neur RMSE\", rmse_test)\n",
    "print(\"Linear RMSE\", mean_squared_error(pred_lr, y_test)**.5)\n",
    "print(\"LGBM RMSE\", mean_squared_error(pred_lgbm, y_test)**.5)\n",
    "print(\"Baseline RMSE\", mean_squared_error(baseline_y[y_test.index], y_test)**.5)\n",
    "print(\"Mean\", y_test.mean())\n",
    "print(\"Standard deviation\", y_test.std())"
   ]
  },
  {
   "cell_type": "markdown",
   "metadata": {},
   "source": [
    "Нейросеть показала в результате среднеквадратичную ошибку равной 38.75, что значительно ниже бейзлайна со смещением (59.15), который, в свою очередь, близок по значению к стандартному отклонению за тот же период. Это говорит, что модель адекватна, и с поставленной задачей справляется."
   ]
  }
 ],
 "metadata": {
  "ExecuteTimeLog": [
   {
    "duration": 533,
    "start_time": "2022-11-24T11:50:10.646Z"
   },
   {
    "duration": 130,
    "start_time": "2022-11-24T11:51:04.777Z"
   },
   {
    "duration": 15,
    "start_time": "2022-11-24T11:51:10.825Z"
   },
   {
    "duration": 58,
    "start_time": "2022-11-24T11:52:00.082Z"
   },
   {
    "duration": 12,
    "start_time": "2022-11-24T11:52:01.514Z"
   },
   {
    "duration": 12,
    "start_time": "2022-11-24T11:52:32.345Z"
   },
   {
    "duration": 12,
    "start_time": "2022-11-24T11:52:36.485Z"
   },
   {
    "duration": 13,
    "start_time": "2022-11-24T11:52:50.544Z"
   },
   {
    "duration": 607,
    "start_time": "2022-11-24T11:53:02.825Z"
   },
   {
    "duration": 17,
    "start_time": "2022-11-24T11:55:21.647Z"
   },
   {
    "duration": 625,
    "start_time": "2022-11-24T11:55:36.906Z"
   },
   {
    "duration": 9,
    "start_time": "2022-11-24T11:55:38.416Z"
   },
   {
    "duration": 207,
    "start_time": "2022-11-24T11:55:39.633Z"
   },
   {
    "duration": 231,
    "start_time": "2022-11-24T11:55:41.413Z"
   },
   {
    "duration": 201,
    "start_time": "2022-11-24T11:56:33.477Z"
   },
   {
    "duration": 209,
    "start_time": "2022-11-24T11:56:54.313Z"
   },
   {
    "duration": 109,
    "start_time": "2022-11-24T11:58:58.193Z"
   },
   {
    "duration": 22,
    "start_time": "2022-11-24T11:59:09.497Z"
   },
   {
    "duration": 8,
    "start_time": "2022-11-24T11:59:18.557Z"
   },
   {
    "duration": 212,
    "start_time": "2022-11-24T11:59:19.266Z"
   },
   {
    "duration": 5,
    "start_time": "2022-11-24T11:59:20.537Z"
   },
   {
    "duration": 206,
    "start_time": "2022-11-24T11:59:42.644Z"
   },
   {
    "duration": 7,
    "start_time": "2022-11-24T12:01:04.870Z"
   },
   {
    "duration": 13,
    "start_time": "2022-11-24T12:01:24.697Z"
   },
   {
    "duration": 13,
    "start_time": "2022-11-24T12:01:40.717Z"
   },
   {
    "duration": 27,
    "start_time": "2022-11-24T12:02:10.506Z"
   },
   {
    "duration": 150,
    "start_time": "2022-11-24T12:02:20.897Z"
   },
   {
    "duration": 8,
    "start_time": "2022-11-24T12:06:22.945Z"
   },
   {
    "duration": 53,
    "start_time": "2022-11-24T12:06:28.786Z"
   },
   {
    "duration": 8,
    "start_time": "2022-11-24T12:06:28.841Z"
   },
   {
    "duration": 206,
    "start_time": "2022-11-24T12:06:29.030Z"
   },
   {
    "duration": 5,
    "start_time": "2022-11-24T12:06:29.238Z"
   },
   {
    "duration": 6,
    "start_time": "2022-11-24T12:06:30.929Z"
   },
   {
    "duration": 222,
    "start_time": "2022-11-24T12:06:32.453Z"
   },
   {
    "duration": 489,
    "start_time": "2022-11-24T12:13:53.184Z"
   },
   {
    "duration": 444,
    "start_time": "2022-11-24T12:14:05.639Z"
   },
   {
    "duration": 455,
    "start_time": "2022-11-24T12:14:40.665Z"
   },
   {
    "duration": 481,
    "start_time": "2022-11-24T12:14:50.906Z"
   },
   {
    "duration": 337,
    "start_time": "2022-11-24T12:16:53.853Z"
   },
   {
    "duration": 411,
    "start_time": "2022-11-24T12:17:03.735Z"
   },
   {
    "duration": 50,
    "start_time": "2022-11-24T13:23:58.797Z"
   },
   {
    "duration": 7,
    "start_time": "2022-11-24T13:23:59.514Z"
   },
   {
    "duration": 499,
    "start_time": "2022-11-24T13:24:00.857Z"
   },
   {
    "duration": 9,
    "start_time": "2022-11-24T13:24:05.419Z"
   },
   {
    "duration": 6,
    "start_time": "2022-11-24T13:24:06.387Z"
   },
   {
    "duration": 536,
    "start_time": "2022-11-24T13:24:12.722Z"
   },
   {
    "duration": 642,
    "start_time": "2022-11-24T13:28:16.117Z"
   },
   {
    "duration": 414,
    "start_time": "2022-11-24T13:30:52.779Z"
   },
   {
    "duration": 477,
    "start_time": "2022-11-24T13:31:10.210Z"
   },
   {
    "duration": 4,
    "start_time": "2022-11-24T13:32:33.425Z"
   },
   {
    "duration": 11,
    "start_time": "2022-11-24T13:32:37.304Z"
   },
   {
    "duration": 42,
    "start_time": "2022-11-24T13:33:55.162Z"
   },
   {
    "duration": 6,
    "start_time": "2022-11-24T13:33:55.206Z"
   },
   {
    "duration": 522,
    "start_time": "2022-11-24T13:33:55.214Z"
   },
   {
    "duration": 12,
    "start_time": "2022-11-24T13:33:55.738Z"
   },
   {
    "duration": 643,
    "start_time": "2022-11-24T13:33:55.753Z"
   },
   {
    "duration": 7,
    "start_time": "2022-11-24T13:33:56.398Z"
   },
   {
    "duration": 15,
    "start_time": "2022-11-24T13:33:56.406Z"
   },
   {
    "duration": 14,
    "start_time": "2022-11-24T13:34:08.510Z"
   },
   {
    "duration": 23,
    "start_time": "2022-11-24T13:34:20.014Z"
   },
   {
    "duration": 40,
    "start_time": "2022-11-24T13:35:15.711Z"
   },
   {
    "duration": 6,
    "start_time": "2022-11-24T13:35:15.753Z"
   },
   {
    "duration": 502,
    "start_time": "2022-11-24T13:35:15.761Z"
   },
   {
    "duration": 7,
    "start_time": "2022-11-24T13:35:16.265Z"
   },
   {
    "duration": 550,
    "start_time": "2022-11-24T13:35:16.273Z"
   },
   {
    "duration": 4,
    "start_time": "2022-11-24T13:35:16.824Z"
   },
   {
    "duration": 36,
    "start_time": "2022-11-24T13:35:16.830Z"
   },
   {
    "duration": 74,
    "start_time": "2022-11-24T13:35:16.868Z"
   },
   {
    "duration": 256,
    "start_time": "2022-11-24T13:41:57.585Z"
   },
   {
    "duration": 5,
    "start_time": "2022-11-24T13:47:26.211Z"
   },
   {
    "duration": 11,
    "start_time": "2022-11-24T13:47:27.578Z"
   },
   {
    "duration": 4,
    "start_time": "2022-11-24T13:50:23.839Z"
   },
   {
    "duration": 7,
    "start_time": "2022-11-24T13:50:27.814Z"
   },
   {
    "duration": 1204,
    "start_time": "2022-11-24T13:51:53.437Z"
   },
   {
    "duration": 5,
    "start_time": "2022-11-24T13:52:03.653Z"
   },
   {
    "duration": 4,
    "start_time": "2022-11-24T13:52:12.973Z"
   },
   {
    "duration": 16,
    "start_time": "2022-11-24T13:52:18.293Z"
   },
   {
    "duration": 3,
    "start_time": "2022-11-24T13:53:33.599Z"
   },
   {
    "duration": 9,
    "start_time": "2022-11-24T13:53:37.789Z"
   },
   {
    "duration": 19,
    "start_time": "2022-11-24T13:53:38.594Z"
   },
   {
    "duration": 16,
    "start_time": "2022-11-24T13:54:06.635Z"
   },
   {
    "duration": 18,
    "start_time": "2022-11-24T13:54:09.795Z"
   },
   {
    "duration": 5,
    "start_time": "2022-11-24T13:55:48.673Z"
   },
   {
    "duration": 69,
    "start_time": "2022-11-24T13:56:19.401Z"
   },
   {
    "duration": 3,
    "start_time": "2022-11-24T13:56:21.672Z"
   },
   {
    "duration": 5,
    "start_time": "2022-11-24T13:57:06.951Z"
   },
   {
    "duration": 4,
    "start_time": "2022-11-24T13:58:41.671Z"
   },
   {
    "duration": 6,
    "start_time": "2022-11-24T13:59:22.374Z"
   },
   {
    "duration": 8,
    "start_time": "2022-11-24T14:00:33.797Z"
   },
   {
    "duration": 6,
    "start_time": "2022-11-24T14:00:43.124Z"
   },
   {
    "duration": 5,
    "start_time": "2022-11-24T14:00:55.406Z"
   },
   {
    "duration": 4,
    "start_time": "2022-11-24T14:01:12.043Z"
   },
   {
    "duration": 704,
    "start_time": "2022-11-24T14:02:16.123Z"
   },
   {
    "duration": 37,
    "start_time": "2022-11-24T14:04:27.865Z"
   },
   {
    "duration": 7,
    "start_time": "2022-11-24T14:04:58.492Z"
   },
   {
    "duration": 4,
    "start_time": "2022-11-24T14:10:24.170Z"
   },
   {
    "duration": 10,
    "start_time": "2022-11-24T14:10:44.018Z"
   },
   {
    "duration": 13,
    "start_time": "2022-11-24T14:11:35.650Z"
   },
   {
    "duration": 4,
    "start_time": "2022-11-24T14:14:51.791Z"
   },
   {
    "duration": 10,
    "start_time": "2022-11-24T14:14:56.678Z"
   },
   {
    "duration": 23,
    "start_time": "2022-11-24T14:14:58.261Z"
   },
   {
    "duration": 4,
    "start_time": "2022-11-24T14:15:37.891Z"
   },
   {
    "duration": 92,
    "start_time": "2022-11-24T14:15:42.637Z"
   },
   {
    "duration": 10,
    "start_time": "2022-11-24T14:18:41.957Z"
   },
   {
    "duration": 80,
    "start_time": "2022-11-24T14:18:43.111Z"
   },
   {
    "duration": 5,
    "start_time": "2022-11-24T14:19:37.649Z"
   },
   {
    "duration": 68,
    "start_time": "2022-11-24T14:19:37.656Z"
   },
   {
    "duration": 561,
    "start_time": "2022-11-24T14:19:37.726Z"
   },
   {
    "duration": 15,
    "start_time": "2022-11-24T14:19:38.290Z"
   },
   {
    "duration": 542,
    "start_time": "2022-11-24T14:19:38.307Z"
   },
   {
    "duration": 3,
    "start_time": "2022-11-24T14:19:38.851Z"
   },
   {
    "duration": 18,
    "start_time": "2022-11-24T14:19:38.856Z"
   },
   {
    "duration": 29,
    "start_time": "2022-11-24T14:19:38.876Z"
   },
   {
    "duration": 10,
    "start_time": "2022-11-24T14:19:38.907Z"
   },
   {
    "duration": 5,
    "start_time": "2022-11-24T14:19:38.919Z"
   },
   {
    "duration": 9,
    "start_time": "2022-11-24T14:19:38.925Z"
   },
   {
    "duration": 12,
    "start_time": "2022-11-24T14:19:38.936Z"
   },
   {
    "duration": 9,
    "start_time": "2022-11-24T14:19:38.950Z"
   },
   {
    "duration": 23,
    "start_time": "2022-11-24T14:19:38.960Z"
   },
   {
    "duration": 11,
    "start_time": "2022-11-24T14:19:38.984Z"
   },
   {
    "duration": 12,
    "start_time": "2022-11-24T14:19:38.996Z"
   },
   {
    "duration": 9,
    "start_time": "2022-11-24T14:19:39.009Z"
   },
   {
    "duration": 291805,
    "start_time": "2022-11-24T14:19:39.020Z"
   },
   {
    "duration": 82,
    "start_time": "2022-11-24T14:25:45.700Z"
   },
   {
    "duration": 70145,
    "start_time": "2022-11-24T14:25:50.091Z"
   },
   {
    "duration": 11,
    "start_time": "2022-11-24T14:27:17.769Z"
   },
   {
    "duration": 4,
    "start_time": "2022-11-24T14:27:22.143Z"
   },
   {
    "duration": 62,
    "start_time": "2022-11-24T14:27:22.149Z"
   },
   {
    "duration": 659,
    "start_time": "2022-11-24T14:27:22.212Z"
   },
   {
    "duration": 9,
    "start_time": "2022-11-24T14:27:22.873Z"
   },
   {
    "duration": 544,
    "start_time": "2022-11-24T14:27:22.884Z"
   },
   {
    "duration": 4,
    "start_time": "2022-11-24T14:27:23.429Z"
   },
   {
    "duration": 34,
    "start_time": "2022-11-24T14:27:23.434Z"
   },
   {
    "duration": 31,
    "start_time": "2022-11-24T14:27:23.470Z"
   },
   {
    "duration": 10,
    "start_time": "2022-11-24T14:27:23.503Z"
   },
   {
    "duration": 9,
    "start_time": "2022-11-24T14:27:23.516Z"
   },
   {
    "duration": 18,
    "start_time": "2022-11-24T14:27:23.527Z"
   },
   {
    "duration": 11,
    "start_time": "2022-11-24T14:27:23.547Z"
   },
   {
    "duration": 19,
    "start_time": "2022-11-24T14:27:23.560Z"
   },
   {
    "duration": 12,
    "start_time": "2022-11-24T14:27:23.580Z"
   },
   {
    "duration": 28,
    "start_time": "2022-11-24T14:27:23.594Z"
   },
   {
    "duration": 0,
    "start_time": "2022-11-24T14:27:23.624Z"
   },
   {
    "duration": 0,
    "start_time": "2022-11-24T14:27:23.626Z"
   },
   {
    "duration": 1,
    "start_time": "2022-11-24T14:27:23.627Z"
   },
   {
    "duration": 4,
    "start_time": "2022-11-24T14:28:02.021Z"
   },
   {
    "duration": 62,
    "start_time": "2022-11-24T14:28:02.027Z"
   },
   {
    "duration": 514,
    "start_time": "2022-11-24T14:28:02.091Z"
   },
   {
    "duration": 8,
    "start_time": "2022-11-24T14:28:02.606Z"
   },
   {
    "duration": 539,
    "start_time": "2022-11-24T14:28:02.617Z"
   },
   {
    "duration": 4,
    "start_time": "2022-11-24T14:28:03.157Z"
   },
   {
    "duration": 13,
    "start_time": "2022-11-24T14:28:03.163Z"
   },
   {
    "duration": 39,
    "start_time": "2022-11-24T14:28:03.178Z"
   },
   {
    "duration": 8,
    "start_time": "2022-11-24T14:28:03.219Z"
   },
   {
    "duration": 5,
    "start_time": "2022-11-24T14:28:03.229Z"
   },
   {
    "duration": 32,
    "start_time": "2022-11-24T14:28:03.235Z"
   },
   {
    "duration": 21,
    "start_time": "2022-11-24T14:28:03.269Z"
   },
   {
    "duration": 12,
    "start_time": "2022-11-24T14:28:03.292Z"
   },
   {
    "duration": 12,
    "start_time": "2022-11-24T14:28:03.306Z"
   },
   {
    "duration": 6,
    "start_time": "2022-11-24T14:28:03.321Z"
   },
   {
    "duration": 7,
    "start_time": "2022-11-24T14:28:03.329Z"
   },
   {
    "duration": 10,
    "start_time": "2022-11-24T14:28:03.337Z"
   },
   {
    "duration": 0,
    "start_time": "2022-11-24T14:28:58.854Z"
   },
   {
    "duration": 0,
    "start_time": "2022-11-24T14:28:58.855Z"
   },
   {
    "duration": 0,
    "start_time": "2022-11-24T14:28:58.857Z"
   },
   {
    "duration": 0,
    "start_time": "2022-11-24T14:28:58.857Z"
   },
   {
    "duration": 0,
    "start_time": "2022-11-24T14:28:58.859Z"
   },
   {
    "duration": 0,
    "start_time": "2022-11-24T14:28:58.860Z"
   },
   {
    "duration": 0,
    "start_time": "2022-11-24T14:28:58.861Z"
   },
   {
    "duration": 0,
    "start_time": "2022-11-24T14:28:58.862Z"
   },
   {
    "duration": 0,
    "start_time": "2022-11-24T14:28:58.863Z"
   },
   {
    "duration": 0,
    "start_time": "2022-11-24T14:28:58.864Z"
   },
   {
    "duration": 0,
    "start_time": "2022-11-24T14:28:58.865Z"
   },
   {
    "duration": 0,
    "start_time": "2022-11-24T14:28:58.866Z"
   },
   {
    "duration": 0,
    "start_time": "2022-11-24T14:28:58.867Z"
   },
   {
    "duration": 0,
    "start_time": "2022-11-24T14:28:58.868Z"
   },
   {
    "duration": 0,
    "start_time": "2022-11-24T14:28:58.869Z"
   },
   {
    "duration": 0,
    "start_time": "2022-11-24T14:28:58.904Z"
   },
   {
    "duration": 0,
    "start_time": "2022-11-24T14:28:58.906Z"
   },
   {
    "duration": 0,
    "start_time": "2022-11-24T14:28:58.907Z"
   },
   {
    "duration": 4,
    "start_time": "2022-11-24T14:29:03.431Z"
   },
   {
    "duration": 4,
    "start_time": "2022-11-24T14:29:06.319Z"
   },
   {
    "duration": 50,
    "start_time": "2022-11-24T14:29:06.325Z"
   },
   {
    "duration": 496,
    "start_time": "2022-11-24T14:29:06.377Z"
   },
   {
    "duration": 10,
    "start_time": "2022-11-24T14:29:06.875Z"
   },
   {
    "duration": 764,
    "start_time": "2022-11-24T14:29:06.904Z"
   },
   {
    "duration": 4,
    "start_time": "2022-11-24T14:29:07.670Z"
   },
   {
    "duration": 14,
    "start_time": "2022-11-24T14:29:07.676Z"
   },
   {
    "duration": 22,
    "start_time": "2022-11-24T14:29:07.705Z"
   },
   {
    "duration": 10,
    "start_time": "2022-11-24T14:29:07.728Z"
   },
   {
    "duration": 4,
    "start_time": "2022-11-24T14:29:07.739Z"
   },
   {
    "duration": 11,
    "start_time": "2022-11-24T14:29:07.744Z"
   },
   {
    "duration": 11,
    "start_time": "2022-11-24T14:29:07.757Z"
   },
   {
    "duration": 13,
    "start_time": "2022-11-24T14:29:07.770Z"
   },
   {
    "duration": 23,
    "start_time": "2022-11-24T14:29:07.785Z"
   },
   {
    "duration": 11,
    "start_time": "2022-11-24T14:29:07.811Z"
   },
   {
    "duration": 12,
    "start_time": "2022-11-24T14:29:07.824Z"
   },
   {
    "duration": 15,
    "start_time": "2022-11-24T14:29:07.839Z"
   },
   {
    "duration": 58225,
    "start_time": "2022-11-24T14:29:07.857Z"
   },
   {
    "duration": 4,
    "start_time": "2022-11-24T14:30:15.283Z"
   },
   {
    "duration": 67,
    "start_time": "2022-11-24T14:30:15.289Z"
   },
   {
    "duration": 495,
    "start_time": "2022-11-24T14:30:15.358Z"
   },
   {
    "duration": 8,
    "start_time": "2022-11-24T14:30:15.855Z"
   },
   {
    "duration": 588,
    "start_time": "2022-11-24T14:30:15.865Z"
   },
   {
    "duration": 4,
    "start_time": "2022-11-24T14:30:16.456Z"
   },
   {
    "duration": 31,
    "start_time": "2022-11-24T14:30:16.462Z"
   },
   {
    "duration": 53,
    "start_time": "2022-11-24T14:30:16.495Z"
   },
   {
    "duration": 46,
    "start_time": "2022-11-24T14:30:16.550Z"
   },
   {
    "duration": 9,
    "start_time": "2022-11-24T14:30:16.599Z"
   },
   {
    "duration": 41,
    "start_time": "2022-11-24T14:30:16.610Z"
   },
   {
    "duration": 10,
    "start_time": "2022-11-24T14:30:16.653Z"
   },
   {
    "duration": 23,
    "start_time": "2022-11-24T14:30:16.665Z"
   },
   {
    "duration": 34,
    "start_time": "2022-11-24T14:30:16.689Z"
   },
   {
    "duration": 19,
    "start_time": "2022-11-24T14:30:16.725Z"
   },
   {
    "duration": 30,
    "start_time": "2022-11-24T14:30:16.746Z"
   },
   {
    "duration": 37,
    "start_time": "2022-11-24T14:30:16.778Z"
   },
   {
    "duration": 173401,
    "start_time": "2022-11-24T14:30:16.816Z"
   },
   {
    "duration": 0,
    "start_time": "2022-11-24T14:46:45.826Z"
   },
   {
    "duration": 0,
    "start_time": "2022-11-24T14:46:45.827Z"
   },
   {
    "duration": 0,
    "start_time": "2022-11-24T14:46:45.828Z"
   },
   {
    "duration": 0,
    "start_time": "2022-11-24T14:46:45.829Z"
   },
   {
    "duration": 0,
    "start_time": "2022-11-24T14:46:45.830Z"
   },
   {
    "duration": 0,
    "start_time": "2022-11-24T14:46:45.831Z"
   },
   {
    "duration": 0,
    "start_time": "2022-11-24T14:46:45.832Z"
   },
   {
    "duration": 0,
    "start_time": "2022-11-24T14:46:45.833Z"
   },
   {
    "duration": 0,
    "start_time": "2022-11-24T14:46:45.834Z"
   },
   {
    "duration": 0,
    "start_time": "2022-11-24T14:46:45.835Z"
   },
   {
    "duration": 0,
    "start_time": "2022-11-24T14:46:45.836Z"
   },
   {
    "duration": 0,
    "start_time": "2022-11-24T14:46:45.837Z"
   },
   {
    "duration": 0,
    "start_time": "2022-11-24T14:46:45.838Z"
   },
   {
    "duration": 0,
    "start_time": "2022-11-24T14:46:45.839Z"
   },
   {
    "duration": 0,
    "start_time": "2022-11-24T14:46:45.840Z"
   },
   {
    "duration": 1,
    "start_time": "2022-11-24T14:46:45.841Z"
   },
   {
    "duration": 0,
    "start_time": "2022-11-24T14:46:45.842Z"
   },
   {
    "duration": 0,
    "start_time": "2022-11-24T14:46:45.843Z"
   },
   {
    "duration": 4,
    "start_time": "2022-11-24T14:46:52.660Z"
   },
   {
    "duration": 60,
    "start_time": "2022-11-24T14:46:52.666Z"
   },
   {
    "duration": 524,
    "start_time": "2022-11-24T14:46:52.729Z"
   },
   {
    "duration": 8,
    "start_time": "2022-11-24T14:46:53.255Z"
   },
   {
    "duration": 574,
    "start_time": "2022-11-24T14:46:53.264Z"
   },
   {
    "duration": 4,
    "start_time": "2022-11-24T14:46:53.840Z"
   },
   {
    "duration": 21,
    "start_time": "2022-11-24T14:46:53.846Z"
   },
   {
    "duration": 0,
    "start_time": "2022-11-24T14:46:53.869Z"
   },
   {
    "duration": 0,
    "start_time": "2022-11-24T14:46:53.870Z"
   },
   {
    "duration": 0,
    "start_time": "2022-11-24T14:46:53.871Z"
   },
   {
    "duration": 0,
    "start_time": "2022-11-24T14:46:53.873Z"
   },
   {
    "duration": 0,
    "start_time": "2022-11-24T14:46:53.874Z"
   },
   {
    "duration": 0,
    "start_time": "2022-11-24T14:46:53.875Z"
   },
   {
    "duration": 0,
    "start_time": "2022-11-24T14:46:53.876Z"
   },
   {
    "duration": 0,
    "start_time": "2022-11-24T14:46:53.878Z"
   },
   {
    "duration": 0,
    "start_time": "2022-11-24T14:46:53.878Z"
   },
   {
    "duration": 0,
    "start_time": "2022-11-24T14:46:53.905Z"
   },
   {
    "duration": 0,
    "start_time": "2022-11-24T14:46:53.905Z"
   },
   {
    "duration": 6,
    "start_time": "2022-11-24T14:47:08.478Z"
   },
   {
    "duration": 4,
    "start_time": "2022-11-24T14:47:12.491Z"
   },
   {
    "duration": 29,
    "start_time": "2022-11-24T14:47:12.497Z"
   },
   {
    "duration": 49,
    "start_time": "2022-11-24T14:47:12.528Z"
   },
   {
    "duration": 32,
    "start_time": "2022-11-24T14:47:12.579Z"
   },
   {
    "duration": 16,
    "start_time": "2022-11-24T14:47:12.613Z"
   },
   {
    "duration": 38,
    "start_time": "2022-11-24T14:47:12.630Z"
   },
   {
    "duration": 34,
    "start_time": "2022-11-24T14:47:12.670Z"
   },
   {
    "duration": 24,
    "start_time": "2022-11-24T14:47:12.707Z"
   },
   {
    "duration": 41,
    "start_time": "2022-11-24T14:47:12.734Z"
   },
   {
    "duration": 15,
    "start_time": "2022-11-24T14:47:12.777Z"
   },
   {
    "duration": 29,
    "start_time": "2022-11-24T14:47:12.794Z"
   },
   {
    "duration": 37,
    "start_time": "2022-11-24T14:47:12.825Z"
   },
   {
    "duration": 306074,
    "start_time": "2022-11-24T14:47:12.863Z"
   },
   {
    "duration": 2024783,
    "start_time": "2022-11-24T14:52:22.037Z"
   },
   {
    "duration": 3,
    "start_time": "2022-11-25T06:39:13.711Z"
   },
   {
    "duration": 52,
    "start_time": "2022-11-25T06:39:13.716Z"
   },
   {
    "duration": 493,
    "start_time": "2022-11-25T06:39:13.769Z"
   },
   {
    "duration": 7,
    "start_time": "2022-11-25T06:39:14.264Z"
   },
   {
    "duration": 549,
    "start_time": "2022-11-25T06:39:14.272Z"
   },
   {
    "duration": 4,
    "start_time": "2022-11-25T06:39:14.823Z"
   },
   {
    "duration": 18,
    "start_time": "2022-11-25T06:39:14.828Z"
   },
   {
    "duration": 23,
    "start_time": "2022-11-25T06:39:14.848Z"
   },
   {
    "duration": 33,
    "start_time": "2022-11-25T06:39:14.872Z"
   },
   {
    "duration": 4,
    "start_time": "2022-11-25T06:39:14.907Z"
   },
   {
    "duration": 13,
    "start_time": "2022-11-25T06:39:14.913Z"
   },
   {
    "duration": 9,
    "start_time": "2022-11-25T06:39:14.928Z"
   },
   {
    "duration": 15,
    "start_time": "2022-11-25T06:39:14.939Z"
   },
   {
    "duration": 21,
    "start_time": "2022-11-25T06:39:14.956Z"
   },
   {
    "duration": 24,
    "start_time": "2022-11-25T06:39:14.979Z"
   },
   {
    "duration": 39,
    "start_time": "2022-11-25T06:39:15.005Z"
   },
   {
    "duration": 11,
    "start_time": "2022-11-25T06:39:15.046Z"
   },
   {
    "duration": 25,
    "start_time": "2022-11-25T06:39:15.059Z"
   },
   {
    "duration": 10,
    "start_time": "2022-11-25T06:39:43.596Z"
   },
   {
    "duration": 93488,
    "start_time": "2022-11-25T06:39:44.433Z"
   },
   {
    "duration": 4,
    "start_time": "2022-11-25T06:42:12.754Z"
   },
   {
    "duration": 12,
    "start_time": "2022-11-25T06:45:14.325Z"
   },
   {
    "duration": 21,
    "start_time": "2022-11-25T06:45:15.049Z"
   },
   {
    "duration": 3,
    "start_time": "2022-11-25T06:46:06.699Z"
   },
   {
    "duration": 10,
    "start_time": "2022-11-25T06:46:07.806Z"
   },
   {
    "duration": 3117,
    "start_time": "2022-11-25T06:46:08.804Z"
   },
   {
    "duration": 10,
    "start_time": "2022-11-25T06:46:53.206Z"
   },
   {
    "duration": 30642,
    "start_time": "2022-11-25T06:46:53.876Z"
   },
   {
    "duration": 11,
    "start_time": "2022-11-25T06:47:33.027Z"
   },
   {
    "duration": 8482,
    "start_time": "2022-11-25T06:47:34.244Z"
   },
   {
    "duration": 10,
    "start_time": "2022-11-25T06:47:55.888Z"
   },
   {
    "duration": 5077,
    "start_time": "2022-11-25T06:47:56.304Z"
   },
   {
    "duration": 4,
    "start_time": "2022-11-25T06:48:36.231Z"
   },
   {
    "duration": 5,
    "start_time": "2022-11-25T06:49:25.004Z"
   },
   {
    "duration": 3,
    "start_time": "2022-11-25T06:49:25.689Z"
   },
   {
    "duration": 12,
    "start_time": "2022-11-25T06:49:26.603Z"
   },
   {
    "duration": 50983,
    "start_time": "2022-11-25T06:49:27.850Z"
   },
   {
    "duration": 10,
    "start_time": "2022-11-25T06:50:30.454Z"
   },
   {
    "duration": 25954,
    "start_time": "2022-11-25T06:50:31.281Z"
   },
   {
    "duration": 4,
    "start_time": "2022-11-25T06:51:10.546Z"
   },
   {
    "duration": 4,
    "start_time": "2022-11-25T06:52:38.645Z"
   },
   {
    "duration": 55,
    "start_time": "2022-11-25T06:52:38.652Z"
   },
   {
    "duration": 480,
    "start_time": "2022-11-25T06:52:38.709Z"
   },
   {
    "duration": 14,
    "start_time": "2022-11-25T06:52:39.191Z"
   },
   {
    "duration": 543,
    "start_time": "2022-11-25T06:52:39.207Z"
   },
   {
    "duration": 4,
    "start_time": "2022-11-25T06:52:39.752Z"
   },
   {
    "duration": 16,
    "start_time": "2022-11-25T06:52:39.757Z"
   },
   {
    "duration": 42,
    "start_time": "2022-11-25T06:52:39.775Z"
   },
   {
    "duration": 22,
    "start_time": "2022-11-25T06:52:39.819Z"
   },
   {
    "duration": 11,
    "start_time": "2022-11-25T06:52:39.842Z"
   },
   {
    "duration": 15,
    "start_time": "2022-11-25T06:52:39.855Z"
   },
   {
    "duration": 8,
    "start_time": "2022-11-25T06:52:39.872Z"
   },
   {
    "duration": 9,
    "start_time": "2022-11-25T06:52:39.881Z"
   },
   {
    "duration": 9,
    "start_time": "2022-11-25T06:52:39.893Z"
   },
   {
    "duration": 24,
    "start_time": "2022-11-25T06:52:39.904Z"
   },
   {
    "duration": 0,
    "start_time": "2022-11-25T06:52:39.929Z"
   },
   {
    "duration": 0,
    "start_time": "2022-11-25T06:52:39.931Z"
   },
   {
    "duration": 0,
    "start_time": "2022-11-25T06:52:39.933Z"
   },
   {
    "duration": 0,
    "start_time": "2022-11-25T06:52:39.934Z"
   },
   {
    "duration": 0,
    "start_time": "2022-11-25T06:52:39.935Z"
   },
   {
    "duration": 21,
    "start_time": "2022-11-25T06:53:51.309Z"
   },
   {
    "duration": 3,
    "start_time": "2022-11-25T06:57:20.300Z"
   },
   {
    "duration": 66,
    "start_time": "2022-11-25T06:57:20.305Z"
   },
   {
    "duration": 509,
    "start_time": "2022-11-25T06:57:20.372Z"
   },
   {
    "duration": 22,
    "start_time": "2022-11-25T06:57:20.883Z"
   },
   {
    "duration": 542,
    "start_time": "2022-11-25T06:57:20.907Z"
   },
   {
    "duration": 4,
    "start_time": "2022-11-25T06:57:21.451Z"
   },
   {
    "duration": 20,
    "start_time": "2022-11-25T06:57:21.457Z"
   },
   {
    "duration": 38,
    "start_time": "2022-11-25T06:57:21.479Z"
   },
   {
    "duration": 11,
    "start_time": "2022-11-25T06:57:21.519Z"
   },
   {
    "duration": 7,
    "start_time": "2022-11-25T06:57:21.531Z"
   },
   {
    "duration": 16,
    "start_time": "2022-11-25T06:57:21.539Z"
   },
   {
    "duration": 9,
    "start_time": "2022-11-25T06:57:21.557Z"
   },
   {
    "duration": 8,
    "start_time": "2022-11-25T06:57:21.568Z"
   },
   {
    "duration": 9,
    "start_time": "2022-11-25T06:57:21.578Z"
   },
   {
    "duration": 17,
    "start_time": "2022-11-25T06:57:21.588Z"
   },
   {
    "duration": 5,
    "start_time": "2022-11-25T06:57:21.606Z"
   },
   {
    "duration": 10,
    "start_time": "2022-11-25T06:57:21.612Z"
   },
   {
    "duration": 10,
    "start_time": "2022-11-25T06:57:21.624Z"
   },
   {
    "duration": 28262,
    "start_time": "2022-11-25T06:57:21.636Z"
   },
   {
    "duration": 3,
    "start_time": "2022-11-25T06:57:49.904Z"
   },
   {
    "duration": 4,
    "start_time": "2022-11-25T06:58:21.134Z"
   },
   {
    "duration": 10,
    "start_time": "2022-11-25T06:58:22.125Z"
   },
   {
    "duration": 27,
    "start_time": "2022-11-25T06:58:22.547Z"
   },
   {
    "duration": 4,
    "start_time": "2022-11-25T06:58:32.233Z"
   },
   {
    "duration": 57,
    "start_time": "2022-11-25T06:58:32.239Z"
   },
   {
    "duration": 753,
    "start_time": "2022-11-25T06:58:32.298Z"
   },
   {
    "duration": 10,
    "start_time": "2022-11-25T06:58:33.053Z"
   },
   {
    "duration": 550,
    "start_time": "2022-11-25T06:58:33.066Z"
   },
   {
    "duration": 5,
    "start_time": "2022-11-25T06:58:33.618Z"
   },
   {
    "duration": 42,
    "start_time": "2022-11-25T06:58:33.624Z"
   },
   {
    "duration": 38,
    "start_time": "2022-11-25T06:58:33.668Z"
   },
   {
    "duration": 22,
    "start_time": "2022-11-25T06:58:33.708Z"
   },
   {
    "duration": 30,
    "start_time": "2022-11-25T06:58:33.732Z"
   },
   {
    "duration": 33,
    "start_time": "2022-11-25T06:58:33.764Z"
   },
   {
    "duration": 32,
    "start_time": "2022-11-25T06:58:33.799Z"
   },
   {
    "duration": 30,
    "start_time": "2022-11-25T06:58:33.833Z"
   },
   {
    "duration": 29,
    "start_time": "2022-11-25T06:58:33.866Z"
   },
   {
    "duration": 14,
    "start_time": "2022-11-25T06:58:33.897Z"
   },
   {
    "duration": 25,
    "start_time": "2022-11-25T06:58:33.914Z"
   },
   {
    "duration": 17,
    "start_time": "2022-11-25T06:58:33.941Z"
   },
   {
    "duration": 17,
    "start_time": "2022-11-25T06:58:33.959Z"
   },
   {
    "duration": 29451,
    "start_time": "2022-11-25T06:58:33.978Z"
   },
   {
    "duration": 4,
    "start_time": "2022-11-25T06:59:03.431Z"
   },
   {
    "duration": 4,
    "start_time": "2022-11-25T06:59:19.592Z"
   },
   {
    "duration": 52,
    "start_time": "2022-11-25T06:59:19.598Z"
   },
   {
    "duration": 488,
    "start_time": "2022-11-25T06:59:19.652Z"
   },
   {
    "duration": 20,
    "start_time": "2022-11-25T06:59:20.143Z"
   },
   {
    "duration": 551,
    "start_time": "2022-11-25T06:59:20.165Z"
   },
   {
    "duration": 4,
    "start_time": "2022-11-25T06:59:20.717Z"
   },
   {
    "duration": 28,
    "start_time": "2022-11-25T06:59:20.722Z"
   },
   {
    "duration": 28,
    "start_time": "2022-11-25T06:59:20.752Z"
   },
   {
    "duration": 11,
    "start_time": "2022-11-25T06:59:20.781Z"
   },
   {
    "duration": 4,
    "start_time": "2022-11-25T06:59:20.794Z"
   },
   {
    "duration": 10,
    "start_time": "2022-11-25T06:59:20.800Z"
   },
   {
    "duration": 15,
    "start_time": "2022-11-25T06:59:20.812Z"
   },
   {
    "duration": 8,
    "start_time": "2022-11-25T06:59:20.828Z"
   },
   {
    "duration": 39,
    "start_time": "2022-11-25T06:59:20.837Z"
   },
   {
    "duration": 8,
    "start_time": "2022-11-25T06:59:20.877Z"
   },
   {
    "duration": 8,
    "start_time": "2022-11-25T06:59:20.886Z"
   },
   {
    "duration": 7,
    "start_time": "2022-11-25T06:59:20.896Z"
   },
   {
    "duration": 13,
    "start_time": "2022-11-25T06:59:20.905Z"
   },
   {
    "duration": 38166,
    "start_time": "2022-11-25T06:59:20.920Z"
   },
   {
    "duration": 4,
    "start_time": "2022-11-25T06:59:59.087Z"
   },
   {
    "duration": 4,
    "start_time": "2022-11-25T07:06:30.791Z"
   },
   {
    "duration": 63,
    "start_time": "2022-11-25T07:06:30.797Z"
   },
   {
    "duration": 499,
    "start_time": "2022-11-25T07:06:30.862Z"
   },
   {
    "duration": 7,
    "start_time": "2022-11-25T07:06:31.363Z"
   },
   {
    "duration": 509,
    "start_time": "2022-11-25T07:06:31.372Z"
   },
   {
    "duration": 4,
    "start_time": "2022-11-25T07:06:31.882Z"
   },
   {
    "duration": 33,
    "start_time": "2022-11-25T07:06:31.887Z"
   },
   {
    "duration": 33,
    "start_time": "2022-11-25T07:06:31.922Z"
   },
   {
    "duration": 11,
    "start_time": "2022-11-25T07:06:31.957Z"
   },
   {
    "duration": 5,
    "start_time": "2022-11-25T07:06:31.969Z"
   },
   {
    "duration": 15,
    "start_time": "2022-11-25T07:06:31.975Z"
   },
   {
    "duration": 17,
    "start_time": "2022-11-25T07:06:31.992Z"
   },
   {
    "duration": 15,
    "start_time": "2022-11-25T07:06:32.010Z"
   },
   {
    "duration": 10,
    "start_time": "2022-11-25T07:06:32.027Z"
   },
   {
    "duration": 6,
    "start_time": "2022-11-25T07:06:32.038Z"
   },
   {
    "duration": 26,
    "start_time": "2022-11-25T07:06:32.045Z"
   },
   {
    "duration": 14,
    "start_time": "2022-11-25T07:06:32.072Z"
   },
   {
    "duration": 13,
    "start_time": "2022-11-25T07:06:32.087Z"
   },
   {
    "duration": 27625,
    "start_time": "2022-11-25T07:06:32.101Z"
   },
   {
    "duration": 4,
    "start_time": "2022-11-25T07:06:59.727Z"
   },
   {
    "duration": 4,
    "start_time": "2022-11-25T07:08:02.440Z"
   },
   {
    "duration": 56,
    "start_time": "2022-11-25T07:08:02.446Z"
   },
   {
    "duration": 500,
    "start_time": "2022-11-25T07:08:02.504Z"
   },
   {
    "duration": 7,
    "start_time": "2022-11-25T07:08:03.006Z"
   },
   {
    "duration": 719,
    "start_time": "2022-11-25T07:08:03.015Z"
   },
   {
    "duration": 4,
    "start_time": "2022-11-25T07:08:03.735Z"
   },
   {
    "duration": 29,
    "start_time": "2022-11-25T07:08:03.741Z"
   },
   {
    "duration": 59,
    "start_time": "2022-11-25T07:08:03.771Z"
   },
   {
    "duration": 8,
    "start_time": "2022-11-25T07:08:03.832Z"
   },
   {
    "duration": 4,
    "start_time": "2022-11-25T07:08:03.843Z"
   },
   {
    "duration": 12,
    "start_time": "2022-11-25T07:08:03.848Z"
   },
   {
    "duration": 7,
    "start_time": "2022-11-25T07:08:03.861Z"
   },
   {
    "duration": 12,
    "start_time": "2022-11-25T07:08:03.869Z"
   },
   {
    "duration": 25,
    "start_time": "2022-11-25T07:08:03.883Z"
   },
   {
    "duration": 5,
    "start_time": "2022-11-25T07:08:03.909Z"
   },
   {
    "duration": 9,
    "start_time": "2022-11-25T07:08:03.915Z"
   },
   {
    "duration": 11,
    "start_time": "2022-11-25T07:08:03.926Z"
   },
   {
    "duration": 10,
    "start_time": "2022-11-25T07:08:03.939Z"
   },
   {
    "duration": 28160,
    "start_time": "2022-11-25T07:08:03.950Z"
   },
   {
    "duration": 4,
    "start_time": "2022-11-25T07:08:32.112Z"
   },
   {
    "duration": 10,
    "start_time": "2022-11-25T07:08:53.763Z"
   },
   {
    "duration": 5,
    "start_time": "2022-11-25T07:09:09.515Z"
   },
   {
    "duration": 56,
    "start_time": "2022-11-25T07:09:09.522Z"
   },
   {
    "duration": 503,
    "start_time": "2022-11-25T07:09:09.580Z"
   },
   {
    "duration": 8,
    "start_time": "2022-11-25T07:09:10.084Z"
   },
   {
    "duration": 555,
    "start_time": "2022-11-25T07:09:10.105Z"
   },
   {
    "duration": 5,
    "start_time": "2022-11-25T07:09:10.661Z"
   },
   {
    "duration": 18,
    "start_time": "2022-11-25T07:09:10.667Z"
   },
   {
    "duration": 47,
    "start_time": "2022-11-25T07:09:10.686Z"
   },
   {
    "duration": 12,
    "start_time": "2022-11-25T07:09:10.735Z"
   },
   {
    "duration": 5,
    "start_time": "2022-11-25T07:09:10.749Z"
   },
   {
    "duration": 11,
    "start_time": "2022-11-25T07:09:10.755Z"
   },
   {
    "duration": 6,
    "start_time": "2022-11-25T07:09:10.767Z"
   },
   {
    "duration": 31,
    "start_time": "2022-11-25T07:09:10.774Z"
   },
   {
    "duration": 17,
    "start_time": "2022-11-25T07:09:10.806Z"
   },
   {
    "duration": 10,
    "start_time": "2022-11-25T07:09:10.825Z"
   },
   {
    "duration": 13,
    "start_time": "2022-11-25T07:09:10.837Z"
   },
   {
    "duration": 8,
    "start_time": "2022-11-25T07:09:10.852Z"
   },
   {
    "duration": 10,
    "start_time": "2022-11-25T07:09:10.862Z"
   },
   {
    "duration": 27090,
    "start_time": "2022-11-25T07:09:10.874Z"
   },
   {
    "duration": 3,
    "start_time": "2022-11-25T07:09:37.966Z"
   },
   {
    "duration": 4,
    "start_time": "2022-11-25T07:09:48.301Z"
   },
   {
    "duration": 53,
    "start_time": "2022-11-25T07:09:48.306Z"
   },
   {
    "duration": 496,
    "start_time": "2022-11-25T07:09:48.361Z"
   },
   {
    "duration": 7,
    "start_time": "2022-11-25T07:09:48.859Z"
   },
   {
    "duration": 557,
    "start_time": "2022-11-25T07:09:48.868Z"
   },
   {
    "duration": 4,
    "start_time": "2022-11-25T07:09:49.426Z"
   },
   {
    "duration": 22,
    "start_time": "2022-11-25T07:09:49.431Z"
   },
   {
    "duration": 33,
    "start_time": "2022-11-25T07:09:49.455Z"
   },
   {
    "duration": 8,
    "start_time": "2022-11-25T07:09:49.505Z"
   },
   {
    "duration": 4,
    "start_time": "2022-11-25T07:09:49.514Z"
   },
   {
    "duration": 13,
    "start_time": "2022-11-25T07:09:49.519Z"
   },
   {
    "duration": 8,
    "start_time": "2022-11-25T07:09:49.534Z"
   },
   {
    "duration": 6,
    "start_time": "2022-11-25T07:09:49.543Z"
   },
   {
    "duration": 12,
    "start_time": "2022-11-25T07:09:49.551Z"
   },
   {
    "duration": 5,
    "start_time": "2022-11-25T07:09:49.565Z"
   },
   {
    "duration": 7,
    "start_time": "2022-11-25T07:09:49.572Z"
   },
   {
    "duration": 25,
    "start_time": "2022-11-25T07:09:49.581Z"
   },
   {
    "duration": 10,
    "start_time": "2022-11-25T07:09:49.608Z"
   },
   {
    "duration": 31097,
    "start_time": "2022-11-25T07:09:49.620Z"
   },
   {
    "duration": 4,
    "start_time": "2022-11-25T07:10:20.718Z"
   },
   {
    "duration": 3,
    "start_time": "2022-11-25T07:10:48.276Z"
   },
   {
    "duration": 50,
    "start_time": "2022-11-25T07:10:48.281Z"
   },
   {
    "duration": 500,
    "start_time": "2022-11-25T07:10:48.333Z"
   },
   {
    "duration": 8,
    "start_time": "2022-11-25T07:10:48.835Z"
   },
   {
    "duration": 551,
    "start_time": "2022-11-25T07:10:48.845Z"
   },
   {
    "duration": 8,
    "start_time": "2022-11-25T07:10:49.397Z"
   },
   {
    "duration": 34,
    "start_time": "2022-11-25T07:10:49.407Z"
   },
   {
    "duration": 36,
    "start_time": "2022-11-25T07:10:49.442Z"
   },
   {
    "duration": 7,
    "start_time": "2022-11-25T07:10:49.479Z"
   },
   {
    "duration": 12,
    "start_time": "2022-11-25T07:10:49.487Z"
   },
   {
    "duration": 23,
    "start_time": "2022-11-25T07:10:49.504Z"
   },
   {
    "duration": 15,
    "start_time": "2022-11-25T07:10:49.529Z"
   },
   {
    "duration": 17,
    "start_time": "2022-11-25T07:10:49.546Z"
   },
   {
    "duration": 11,
    "start_time": "2022-11-25T07:10:49.566Z"
   },
   {
    "duration": 6,
    "start_time": "2022-11-25T07:10:49.578Z"
   },
   {
    "duration": 10,
    "start_time": "2022-11-25T07:10:49.585Z"
   },
   {
    "duration": 12,
    "start_time": "2022-11-25T07:10:49.596Z"
   },
   {
    "duration": 20,
    "start_time": "2022-11-25T07:10:49.610Z"
   },
   {
    "duration": 30990,
    "start_time": "2022-11-25T07:10:49.632Z"
   },
   {
    "duration": 4,
    "start_time": "2022-11-25T07:11:20.624Z"
   },
   {
    "duration": 3,
    "start_time": "2022-11-25T07:15:44.195Z"
   },
   {
    "duration": 53,
    "start_time": "2022-11-25T07:15:44.201Z"
   },
   {
    "duration": 665,
    "start_time": "2022-11-25T07:15:44.255Z"
   },
   {
    "duration": 10,
    "start_time": "2022-11-25T07:15:44.921Z"
   },
   {
    "duration": 540,
    "start_time": "2022-11-25T07:15:44.934Z"
   },
   {
    "duration": 4,
    "start_time": "2022-11-25T07:15:45.475Z"
   },
   {
    "duration": 28,
    "start_time": "2022-11-25T07:15:45.481Z"
   },
   {
    "duration": 36,
    "start_time": "2022-11-25T07:15:45.511Z"
   },
   {
    "duration": 12,
    "start_time": "2022-11-25T07:15:45.549Z"
   },
   {
    "duration": 4,
    "start_time": "2022-11-25T07:15:45.563Z"
   },
   {
    "duration": 13,
    "start_time": "2022-11-25T07:15:45.569Z"
   },
   {
    "duration": 24,
    "start_time": "2022-11-25T07:15:45.583Z"
   },
   {
    "duration": 8,
    "start_time": "2022-11-25T07:15:45.609Z"
   },
   {
    "duration": 9,
    "start_time": "2022-11-25T07:15:45.619Z"
   },
   {
    "duration": 4,
    "start_time": "2022-11-25T07:15:45.629Z"
   },
   {
    "duration": 6,
    "start_time": "2022-11-25T07:15:45.635Z"
   },
   {
    "duration": 7,
    "start_time": "2022-11-25T07:15:45.642Z"
   },
   {
    "duration": 10,
    "start_time": "2022-11-25T07:15:45.651Z"
   },
   {
    "duration": 56625,
    "start_time": "2022-11-25T07:15:45.663Z"
   },
   {
    "duration": 17,
    "start_time": "2022-11-25T07:16:42.289Z"
   },
   {
    "duration": 4,
    "start_time": "2022-11-25T07:20:02.980Z"
   },
   {
    "duration": 56,
    "start_time": "2022-11-25T07:20:02.985Z"
   },
   {
    "duration": 493,
    "start_time": "2022-11-25T07:20:03.042Z"
   },
   {
    "duration": 9,
    "start_time": "2022-11-25T07:20:03.537Z"
   },
   {
    "duration": 556,
    "start_time": "2022-11-25T07:20:03.548Z"
   },
   {
    "duration": 4,
    "start_time": "2022-11-25T07:20:04.106Z"
   },
   {
    "duration": 29,
    "start_time": "2022-11-25T07:20:04.112Z"
   },
   {
    "duration": 42,
    "start_time": "2022-11-25T07:20:04.144Z"
   },
   {
    "duration": 21,
    "start_time": "2022-11-25T07:20:04.188Z"
   },
   {
    "duration": 4,
    "start_time": "2022-11-25T07:20:04.211Z"
   },
   {
    "duration": 10,
    "start_time": "2022-11-25T07:20:04.216Z"
   },
   {
    "duration": 15,
    "start_time": "2022-11-25T07:20:04.228Z"
   },
   {
    "duration": 9,
    "start_time": "2022-11-25T07:20:04.245Z"
   },
   {
    "duration": 11,
    "start_time": "2022-11-25T07:20:04.255Z"
   },
   {
    "duration": 6,
    "start_time": "2022-11-25T07:20:04.267Z"
   },
   {
    "duration": 6,
    "start_time": "2022-11-25T07:20:04.275Z"
   },
   {
    "duration": 22,
    "start_time": "2022-11-25T07:20:04.283Z"
   },
   {
    "duration": 11,
    "start_time": "2022-11-25T07:20:04.307Z"
   },
   {
    "duration": 36704,
    "start_time": "2022-11-25T07:20:04.319Z"
   },
   {
    "duration": 0,
    "start_time": "2022-11-25T07:20:41.025Z"
   },
   {
    "duration": 4,
    "start_time": "2022-11-25T07:20:51.920Z"
   },
   {
    "duration": 51,
    "start_time": "2022-11-25T07:20:51.925Z"
   },
   {
    "duration": 494,
    "start_time": "2022-11-25T07:20:51.978Z"
   },
   {
    "duration": 7,
    "start_time": "2022-11-25T07:20:52.474Z"
   },
   {
    "duration": 560,
    "start_time": "2022-11-25T07:20:52.484Z"
   },
   {
    "duration": 4,
    "start_time": "2022-11-25T07:20:53.045Z"
   },
   {
    "duration": 19,
    "start_time": "2022-11-25T07:20:53.051Z"
   },
   {
    "duration": 50,
    "start_time": "2022-11-25T07:20:53.072Z"
   },
   {
    "duration": 14,
    "start_time": "2022-11-25T07:20:53.124Z"
   },
   {
    "duration": 4,
    "start_time": "2022-11-25T07:20:53.139Z"
   },
   {
    "duration": 9,
    "start_time": "2022-11-25T07:20:53.145Z"
   },
   {
    "duration": 5,
    "start_time": "2022-11-25T07:20:53.155Z"
   },
   {
    "duration": 8,
    "start_time": "2022-11-25T07:20:53.162Z"
   },
   {
    "duration": 9,
    "start_time": "2022-11-25T07:20:53.173Z"
   },
   {
    "duration": 24,
    "start_time": "2022-11-25T07:20:53.183Z"
   },
   {
    "duration": 5,
    "start_time": "2022-11-25T07:20:53.208Z"
   },
   {
    "duration": 8,
    "start_time": "2022-11-25T07:20:53.214Z"
   },
   {
    "duration": 10,
    "start_time": "2022-11-25T07:20:53.224Z"
   },
   {
    "duration": 50385,
    "start_time": "2022-11-25T07:20:53.236Z"
   },
   {
    "duration": 0,
    "start_time": "2022-11-25T07:21:43.623Z"
   },
   {
    "duration": 330214,
    "start_time": "2022-11-25T07:21:55.109Z"
   },
   {
    "duration": 70476,
    "start_time": "2022-11-25T07:27:26.345Z"
   },
   {
    "duration": 201,
    "start_time": "2022-11-25T07:28:40.867Z"
   },
   {
    "duration": 539404,
    "start_time": "2022-11-25T07:28:41.416Z"
   },
   {
    "duration": 11,
    "start_time": "2022-11-25T07:38:02.162Z"
   },
   {
    "duration": 462551,
    "start_time": "2022-11-25T07:39:19.170Z"
   },
   {
    "duration": 1,
    "start_time": "2022-11-25T07:47:01.722Z"
   },
   {
    "duration": 11,
    "start_time": "2022-11-25T07:47:21.852Z"
   },
   {
    "duration": 1883582,
    "start_time": "2022-11-25T07:47:22.919Z"
   },
   {
    "duration": 4,
    "start_time": "2022-11-25T08:18:46.504Z"
   },
   {
    "duration": 11,
    "start_time": "2022-11-25T08:48:20.735Z"
   },
   {
    "duration": 12,
    "start_time": "2022-11-25T08:48:31.925Z"
   },
   {
    "duration": 4,
    "start_time": "2022-11-25T08:48:46.086Z"
   },
   {
    "duration": 441290,
    "start_time": "2022-11-25T09:01:00.034Z"
   },
   {
    "duration": 0,
    "start_time": "2022-11-25T09:08:21.325Z"
   },
   {
    "duration": 0,
    "start_time": "2022-11-25T09:08:21.327Z"
   },
   {
    "duration": 4,
    "start_time": "2022-11-25T09:09:11.512Z"
   },
   {
    "duration": 53,
    "start_time": "2022-11-25T09:09:11.519Z"
   },
   {
    "duration": 519,
    "start_time": "2022-11-25T09:09:11.573Z"
   },
   {
    "duration": 14,
    "start_time": "2022-11-25T09:09:12.095Z"
   },
   {
    "duration": 563,
    "start_time": "2022-11-25T09:09:12.111Z"
   },
   {
    "duration": 4,
    "start_time": "2022-11-25T09:09:12.676Z"
   },
   {
    "duration": 27,
    "start_time": "2022-11-25T09:09:12.682Z"
   },
   {
    "duration": 33,
    "start_time": "2022-11-25T09:09:12.711Z"
   },
   {
    "duration": 7,
    "start_time": "2022-11-25T09:09:12.747Z"
   },
   {
    "duration": 4,
    "start_time": "2022-11-25T09:09:12.758Z"
   },
   {
    "duration": 12,
    "start_time": "2022-11-25T09:09:12.764Z"
   },
   {
    "duration": 9,
    "start_time": "2022-11-25T09:09:12.804Z"
   },
   {
    "duration": 12,
    "start_time": "2022-11-25T09:09:12.816Z"
   },
   {
    "duration": 12,
    "start_time": "2022-11-25T09:09:12.830Z"
   },
   {
    "duration": 5,
    "start_time": "2022-11-25T09:09:12.844Z"
   },
   {
    "duration": 23,
    "start_time": "2022-11-25T09:09:12.850Z"
   },
   {
    "duration": 15,
    "start_time": "2022-11-25T09:09:12.874Z"
   },
   {
    "duration": 13,
    "start_time": "2022-11-25T09:09:12.891Z"
   },
   {
    "duration": 297717,
    "start_time": "2022-11-25T09:09:12.906Z"
   },
   {
    "duration": 4,
    "start_time": "2022-11-25T09:14:10.625Z"
   },
   {
    "duration": 30,
    "start_time": "2022-11-25T09:14:10.630Z"
   },
   {
    "duration": 0,
    "start_time": "2022-11-25T09:14:10.661Z"
   },
   {
    "duration": 0,
    "start_time": "2022-11-25T09:14:10.662Z"
   },
   {
    "duration": 22,
    "start_time": "2022-11-25T09:14:53.930Z"
   },
   {
    "duration": 64618,
    "start_time": "2022-11-25T09:16:17.690Z"
   },
   {
    "duration": 173245,
    "start_time": "2022-11-25T09:17:52.392Z"
   },
   {
    "duration": 111917,
    "start_time": "2022-11-25T09:20:45.639Z"
   },
   {
    "duration": 3,
    "start_time": "2022-11-25T09:24:50.374Z"
   },
   {
    "duration": 61,
    "start_time": "2022-11-25T09:24:50.379Z"
   },
   {
    "duration": 522,
    "start_time": "2022-11-25T09:24:50.442Z"
   },
   {
    "duration": 7,
    "start_time": "2022-11-25T09:24:50.966Z"
   },
   {
    "duration": 593,
    "start_time": "2022-11-25T09:24:50.975Z"
   },
   {
    "duration": 5,
    "start_time": "2022-11-25T09:24:51.570Z"
   },
   {
    "duration": 51,
    "start_time": "2022-11-25T09:24:51.577Z"
   },
   {
    "duration": 36,
    "start_time": "2022-11-25T09:24:51.630Z"
   },
   {
    "duration": 14,
    "start_time": "2022-11-25T09:24:51.668Z"
   },
   {
    "duration": 5,
    "start_time": "2022-11-25T09:24:51.683Z"
   },
   {
    "duration": 17,
    "start_time": "2022-11-25T09:24:51.690Z"
   },
   {
    "duration": 5,
    "start_time": "2022-11-25T09:24:51.708Z"
   },
   {
    "duration": 8,
    "start_time": "2022-11-25T09:24:51.714Z"
   },
   {
    "duration": 19,
    "start_time": "2022-11-25T09:24:51.724Z"
   },
   {
    "duration": 9,
    "start_time": "2022-11-25T09:24:51.745Z"
   },
   {
    "duration": 12,
    "start_time": "2022-11-25T09:24:51.755Z"
   },
   {
    "duration": 4,
    "start_time": "2022-11-25T09:24:51.769Z"
   },
   {
    "duration": 10,
    "start_time": "2022-11-25T09:24:51.775Z"
   },
   {
    "duration": 514734,
    "start_time": "2022-11-25T09:24:51.787Z"
   },
   {
    "duration": 0,
    "start_time": "2022-11-25T09:33:26.523Z"
   },
   {
    "duration": 0,
    "start_time": "2022-11-25T09:33:26.524Z"
   },
   {
    "duration": 0,
    "start_time": "2022-11-25T09:33:26.525Z"
   },
   {
    "duration": 0,
    "start_time": "2022-11-25T09:33:26.526Z"
   },
   {
    "duration": 1751636,
    "start_time": "2022-11-25T09:33:35.384Z"
   },
   {
    "duration": 0,
    "start_time": "2022-11-25T10:02:47.022Z"
   },
   {
    "duration": 0,
    "start_time": "2022-11-25T10:02:47.023Z"
   },
   {
    "duration": 0,
    "start_time": "2022-11-25T10:02:47.024Z"
   },
   {
    "duration": 0,
    "start_time": "2022-11-25T10:02:47.025Z"
   },
   {
    "duration": 11,
    "start_time": "2022-11-25T10:02:59.078Z"
   },
   {
    "duration": 15150,
    "start_time": "2022-11-25T10:03:27.060Z"
   },
   {
    "duration": 0,
    "start_time": "2022-11-25T10:03:42.212Z"
   },
   {
    "duration": 11,
    "start_time": "2022-11-25T10:06:49.233Z"
   },
   {
    "duration": 266581,
    "start_time": "2022-11-25T10:06:50.626Z"
   },
   {
    "duration": 4,
    "start_time": "2022-11-25T10:11:24.929Z"
   },
   {
    "duration": 397836,
    "start_time": "2022-11-25T10:11:50.625Z"
   },
   {
    "duration": 5,
    "start_time": "2022-11-25T10:18:37.441Z"
   },
   {
    "duration": 6943,
    "start_time": "2022-11-25T10:18:55.384Z"
   },
   {
    "duration": 11,
    "start_time": "2022-11-25T10:19:23.960Z"
   },
   {
    "duration": 295656,
    "start_time": "2022-11-25T10:19:25.564Z"
   },
   {
    "duration": 15,
    "start_time": "2022-11-25T10:24:46.441Z"
   },
   {
    "duration": 3248356,
    "start_time": "2022-11-25T10:24:50.398Z"
   },
   {
    "duration": 3,
    "start_time": "2022-11-25T11:18:58.756Z"
   },
   {
    "duration": 82759,
    "start_time": "2022-11-25T11:18:58.761Z"
   },
   {
    "duration": 654770,
    "start_time": "2022-11-25T11:20:21.522Z"
   },
   {
    "duration": 142746,
    "start_time": "2022-11-25T11:31:16.294Z"
   },
   {
    "duration": 1877,
    "start_time": "2022-11-28T06:37:22.277Z"
   },
   {
    "duration": 143,
    "start_time": "2022-11-28T06:37:24.156Z"
   },
   {
    "duration": 604,
    "start_time": "2022-11-28T06:37:24.301Z"
   },
   {
    "duration": 7,
    "start_time": "2022-11-28T06:37:24.907Z"
   },
   {
    "duration": 514,
    "start_time": "2022-11-28T06:37:24.917Z"
   },
   {
    "duration": 8,
    "start_time": "2022-11-28T06:37:25.433Z"
   },
   {
    "duration": 20,
    "start_time": "2022-11-28T06:37:25.442Z"
   },
   {
    "duration": 34,
    "start_time": "2022-11-28T06:37:25.463Z"
   },
   {
    "duration": 22,
    "start_time": "2022-11-28T06:37:25.498Z"
   },
   {
    "duration": 11,
    "start_time": "2022-11-28T06:37:25.523Z"
   },
   {
    "duration": 10,
    "start_time": "2022-11-28T06:37:25.536Z"
   },
   {
    "duration": 4,
    "start_time": "2022-11-28T06:37:25.548Z"
   },
   {
    "duration": 7,
    "start_time": "2022-11-28T06:37:25.554Z"
   },
   {
    "duration": 8,
    "start_time": "2022-11-28T06:37:25.563Z"
   },
   {
    "duration": 4,
    "start_time": "2022-11-28T06:37:25.572Z"
   },
   {
    "duration": 6,
    "start_time": "2022-11-28T06:37:25.578Z"
   },
   {
    "duration": 5,
    "start_time": "2022-11-28T06:37:25.612Z"
   },
   {
    "duration": 18,
    "start_time": "2022-11-28T06:37:25.619Z"
   },
   {
    "duration": 11756112,
    "start_time": "2022-11-28T06:37:25.639Z"
   },
   {
    "duration": 4,
    "start_time": "2022-11-28T09:53:21.753Z"
   },
   {
    "duration": 159826,
    "start_time": "2022-11-28T09:53:21.759Z"
   },
   {
    "duration": 0,
    "start_time": "2022-11-28T09:56:01.586Z"
   },
   {
    "duration": 0,
    "start_time": "2022-11-28T09:56:01.587Z"
   },
   {
    "duration": 7,
    "start_time": "2022-11-28T09:56:05.128Z"
   },
   {
    "duration": 57,
    "start_time": "2022-11-28T09:56:05.137Z"
   },
   {
    "duration": 532,
    "start_time": "2022-11-28T09:56:05.195Z"
   },
   {
    "duration": 8,
    "start_time": "2022-11-28T09:56:05.735Z"
   },
   {
    "duration": 525,
    "start_time": "2022-11-28T09:56:05.745Z"
   },
   {
    "duration": 4,
    "start_time": "2022-11-28T09:56:06.271Z"
   },
   {
    "duration": 16,
    "start_time": "2022-11-28T09:56:06.277Z"
   },
   {
    "duration": 50,
    "start_time": "2022-11-28T09:56:06.294Z"
   },
   {
    "duration": 10,
    "start_time": "2022-11-28T09:56:06.345Z"
   },
   {
    "duration": 4,
    "start_time": "2022-11-28T09:56:06.357Z"
   },
   {
    "duration": 15,
    "start_time": "2022-11-28T09:56:06.362Z"
   },
   {
    "duration": 6,
    "start_time": "2022-11-28T09:56:06.379Z"
   },
   {
    "duration": 31,
    "start_time": "2022-11-28T09:56:06.387Z"
   },
   {
    "duration": 18,
    "start_time": "2022-11-28T09:56:06.421Z"
   },
   {
    "duration": 5,
    "start_time": "2022-11-28T09:56:06.441Z"
   },
   {
    "duration": 6,
    "start_time": "2022-11-28T09:56:06.448Z"
   },
   {
    "duration": 8,
    "start_time": "2022-11-28T09:56:06.455Z"
   },
   {
    "duration": 15,
    "start_time": "2022-11-28T09:56:06.464Z"
   },
   {
    "duration": 599165,
    "start_time": "2022-11-28T09:56:06.481Z"
   },
   {
    "duration": 0,
    "start_time": "2022-11-28T10:06:05.648Z"
   },
   {
    "duration": 0,
    "start_time": "2022-11-28T10:06:05.650Z"
   },
   {
    "duration": 0,
    "start_time": "2022-11-28T10:06:05.651Z"
   },
   {
    "duration": 0,
    "start_time": "2022-11-28T10:06:05.652Z"
   },
   {
    "duration": 11,
    "start_time": "2022-11-28T10:06:19.332Z"
   },
   {
    "duration": 1118714,
    "start_time": "2022-11-28T10:06:19.932Z"
   },
   {
    "duration": 318490,
    "start_time": "2022-11-28T10:25:10.300Z"
   },
   {
    "duration": 200625,
    "start_time": "2022-11-28T10:30:59.907Z"
   },
   {
    "duration": 7,
    "start_time": "2022-11-28T10:35:17.909Z"
   },
   {
    "duration": 5,
    "start_time": "2022-11-28T10:35:46.228Z"
   },
   {
    "duration": 50,
    "start_time": "2022-11-28T10:35:46.237Z"
   },
   {
    "duration": 532,
    "start_time": "2022-11-28T10:35:46.289Z"
   },
   {
    "duration": 11,
    "start_time": "2022-11-28T10:35:46.825Z"
   },
   {
    "duration": 599,
    "start_time": "2022-11-28T10:35:46.839Z"
   },
   {
    "duration": 4,
    "start_time": "2022-11-28T10:35:47.440Z"
   },
   {
    "duration": 15,
    "start_time": "2022-11-28T10:35:47.445Z"
   },
   {
    "duration": 28,
    "start_time": "2022-11-28T10:35:47.461Z"
   },
   {
    "duration": 24,
    "start_time": "2022-11-28T10:35:47.492Z"
   },
   {
    "duration": 13,
    "start_time": "2022-11-28T10:35:47.520Z"
   },
   {
    "duration": 9,
    "start_time": "2022-11-28T10:35:47.537Z"
   },
   {
    "duration": 8,
    "start_time": "2022-11-28T10:35:47.547Z"
   },
   {
    "duration": 8,
    "start_time": "2022-11-28T10:35:47.556Z"
   },
   {
    "duration": 8,
    "start_time": "2022-11-28T10:35:47.565Z"
   },
   {
    "duration": 5,
    "start_time": "2022-11-28T10:35:47.574Z"
   },
   {
    "duration": 35,
    "start_time": "2022-11-28T10:35:47.580Z"
   },
   {
    "duration": 12,
    "start_time": "2022-11-28T10:35:47.618Z"
   },
   {
    "duration": 14,
    "start_time": "2022-11-28T10:35:47.632Z"
   },
   {
    "duration": 217632,
    "start_time": "2022-11-28T10:35:47.648Z"
   },
   {
    "duration": 4,
    "start_time": "2022-11-28T10:39:25.281Z"
   },
   {
    "duration": 129170,
    "start_time": "2022-11-28T10:39:25.286Z"
   },
   {
    "duration": 0,
    "start_time": "2022-11-28T10:50:45.646Z"
   },
   {
    "duration": 0,
    "start_time": "2022-11-28T10:50:45.647Z"
   },
   {
    "duration": 0,
    "start_time": "2022-11-28T10:50:45.649Z"
   },
   {
    "duration": 0,
    "start_time": "2022-11-28T10:50:45.650Z"
   },
   {
    "duration": 0,
    "start_time": "2022-11-28T10:50:45.651Z"
   },
   {
    "duration": 0,
    "start_time": "2022-11-28T10:50:45.652Z"
   },
   {
    "duration": 0,
    "start_time": "2022-11-28T10:50:45.654Z"
   },
   {
    "duration": 0,
    "start_time": "2022-11-28T10:50:45.655Z"
   },
   {
    "duration": 0,
    "start_time": "2022-11-28T10:50:45.656Z"
   },
   {
    "duration": 0,
    "start_time": "2022-11-28T10:50:45.657Z"
   },
   {
    "duration": 0,
    "start_time": "2022-11-28T10:50:45.658Z"
   },
   {
    "duration": 0,
    "start_time": "2022-11-28T10:50:45.660Z"
   },
   {
    "duration": 0,
    "start_time": "2022-11-28T10:50:45.661Z"
   },
   {
    "duration": 0,
    "start_time": "2022-11-28T10:50:45.848Z"
   },
   {
    "duration": 0,
    "start_time": "2022-11-28T10:50:45.850Z"
   },
   {
    "duration": 0,
    "start_time": "2022-11-28T10:50:45.851Z"
   },
   {
    "duration": 0,
    "start_time": "2022-11-28T10:50:45.852Z"
   },
   {
    "duration": 0,
    "start_time": "2022-11-28T10:50:45.854Z"
   },
   {
    "duration": 0,
    "start_time": "2022-11-28T10:50:45.856Z"
   },
   {
    "duration": 0,
    "start_time": "2022-11-28T10:50:45.857Z"
   },
   {
    "duration": 0,
    "start_time": "2022-11-28T10:50:45.858Z"
   },
   {
    "duration": 0,
    "start_time": "2022-11-28T10:50:45.859Z"
   },
   {
    "duration": 0,
    "start_time": "2022-11-28T10:50:45.860Z"
   },
   {
    "duration": 7,
    "start_time": "2022-11-28T10:50:48.985Z"
   },
   {
    "duration": 63,
    "start_time": "2022-11-28T10:50:48.995Z"
   },
   {
    "duration": 525,
    "start_time": "2022-11-28T10:50:49.060Z"
   },
   {
    "duration": 6,
    "start_time": "2022-11-28T10:50:49.587Z"
   },
   {
    "duration": 575,
    "start_time": "2022-11-28T10:50:49.595Z"
   },
   {
    "duration": 4,
    "start_time": "2022-11-28T10:50:50.171Z"
   },
   {
    "duration": 34,
    "start_time": "2022-11-28T10:50:50.176Z"
   },
   {
    "duration": 27,
    "start_time": "2022-11-28T10:50:50.213Z"
   },
   {
    "duration": 13,
    "start_time": "2022-11-28T10:50:50.242Z"
   },
   {
    "duration": 5,
    "start_time": "2022-11-28T10:50:50.257Z"
   },
   {
    "duration": 17,
    "start_time": "2022-11-28T10:50:50.263Z"
   },
   {
    "duration": 11,
    "start_time": "2022-11-28T10:50:50.282Z"
   },
   {
    "duration": 21,
    "start_time": "2022-11-28T10:50:50.294Z"
   },
   {
    "duration": 32,
    "start_time": "2022-11-28T10:50:50.318Z"
   },
   {
    "duration": 9,
    "start_time": "2022-11-28T10:50:50.352Z"
   },
   {
    "duration": 6,
    "start_time": "2022-11-28T10:50:50.362Z"
   },
   {
    "duration": 10,
    "start_time": "2022-11-28T10:50:50.370Z"
   },
   {
    "duration": 15,
    "start_time": "2022-11-28T10:50:50.382Z"
   },
   {
    "duration": 134409,
    "start_time": "2022-11-28T10:50:50.399Z"
   },
   {
    "duration": 4,
    "start_time": "2022-11-28T10:53:04.810Z"
   },
   {
    "duration": 58839,
    "start_time": "2022-11-28T10:53:04.821Z"
   },
   {
    "duration": 273976,
    "start_time": "2022-11-28T10:54:03.661Z"
   },
   {
    "duration": 0,
    "start_time": "2022-11-28T10:58:37.639Z"
   },
   {
    "duration": 4,
    "start_time": "2022-11-28T10:58:39.465Z"
   },
   {
    "duration": 51,
    "start_time": "2022-11-28T10:58:39.470Z"
   },
   {
    "duration": 528,
    "start_time": "2022-11-28T10:58:39.523Z"
   },
   {
    "duration": 7,
    "start_time": "2022-11-28T10:58:40.053Z"
   },
   {
    "duration": 690,
    "start_time": "2022-11-28T10:58:40.062Z"
   },
   {
    "duration": 5,
    "start_time": "2022-11-28T10:58:40.753Z"
   },
   {
    "duration": 17,
    "start_time": "2022-11-28T10:58:40.759Z"
   },
   {
    "duration": 23,
    "start_time": "2022-11-28T10:58:40.777Z"
   },
   {
    "duration": 13,
    "start_time": "2022-11-28T10:58:40.813Z"
   },
   {
    "duration": 9,
    "start_time": "2022-11-28T10:58:40.830Z"
   },
   {
    "duration": 10,
    "start_time": "2022-11-28T10:58:40.841Z"
   },
   {
    "duration": 7,
    "start_time": "2022-11-28T10:58:40.852Z"
   },
   {
    "duration": 8,
    "start_time": "2022-11-28T10:58:40.860Z"
   },
   {
    "duration": 9,
    "start_time": "2022-11-28T10:58:40.870Z"
   },
   {
    "duration": 43,
    "start_time": "2022-11-28T10:58:40.881Z"
   },
   {
    "duration": 9,
    "start_time": "2022-11-28T10:58:40.927Z"
   },
   {
    "duration": 8,
    "start_time": "2022-11-28T10:58:40.938Z"
   },
   {
    "duration": 10,
    "start_time": "2022-11-28T10:58:40.948Z"
   },
   {
    "duration": 271301,
    "start_time": "2022-11-28T10:58:40.960Z"
   },
   {
    "duration": 5,
    "start_time": "2022-11-28T11:03:12.262Z"
   },
   {
    "duration": 121666,
    "start_time": "2022-11-28T11:03:12.269Z"
   },
   {
    "duration": 0,
    "start_time": "2022-11-28T11:05:13.939Z"
   },
   {
    "duration": 0,
    "start_time": "2022-11-28T11:05:13.940Z"
   },
   {
    "duration": 4,
    "start_time": "2022-11-28T11:05:44.324Z"
   },
   {
    "duration": 54,
    "start_time": "2022-11-28T11:05:44.331Z"
   },
   {
    "duration": 532,
    "start_time": "2022-11-28T11:05:44.387Z"
   },
   {
    "duration": 10,
    "start_time": "2022-11-28T11:05:44.921Z"
   },
   {
    "duration": 653,
    "start_time": "2022-11-28T11:05:44.935Z"
   },
   {
    "duration": 3,
    "start_time": "2022-11-28T11:05:45.590Z"
   },
   {
    "duration": 29,
    "start_time": "2022-11-28T11:05:45.595Z"
   },
   {
    "duration": 34,
    "start_time": "2022-11-28T11:05:45.627Z"
   },
   {
    "duration": 9,
    "start_time": "2022-11-28T11:05:45.663Z"
   },
   {
    "duration": 4,
    "start_time": "2022-11-28T11:05:45.675Z"
   },
   {
    "duration": 11,
    "start_time": "2022-11-28T11:05:45.681Z"
   },
   {
    "duration": 24,
    "start_time": "2022-11-28T11:05:45.694Z"
   },
   {
    "duration": 14,
    "start_time": "2022-11-28T11:05:45.722Z"
   },
   {
    "duration": 9,
    "start_time": "2022-11-28T11:05:45.738Z"
   },
   {
    "duration": 6,
    "start_time": "2022-11-28T11:05:45.749Z"
   },
   {
    "duration": 8,
    "start_time": "2022-11-28T11:05:45.757Z"
   },
   {
    "duration": 7,
    "start_time": "2022-11-28T11:05:45.767Z"
   },
   {
    "duration": 9,
    "start_time": "2022-11-28T11:05:45.776Z"
   },
   {
    "duration": 159626,
    "start_time": "2022-11-28T11:05:45.787Z"
   },
   {
    "duration": 6,
    "start_time": "2022-11-28T11:08:25.419Z"
   },
   {
    "duration": 50112,
    "start_time": "2022-11-28T11:08:25.428Z"
   },
   {
    "duration": 0,
    "start_time": "2022-11-28T11:09:15.541Z"
   },
   {
    "duration": 0,
    "start_time": "2022-11-28T11:09:15.542Z"
   },
   {
    "duration": 4,
    "start_time": "2022-11-28T11:09:17.448Z"
   },
   {
    "duration": 69,
    "start_time": "2022-11-28T11:09:17.454Z"
   },
   {
    "duration": 592,
    "start_time": "2022-11-28T11:09:17.525Z"
   },
   {
    "duration": 15,
    "start_time": "2022-11-28T11:09:18.121Z"
   },
   {
    "duration": 563,
    "start_time": "2022-11-28T11:09:18.138Z"
   },
   {
    "duration": 4,
    "start_time": "2022-11-28T11:09:18.703Z"
   },
   {
    "duration": 22,
    "start_time": "2022-11-28T11:09:18.713Z"
   },
   {
    "duration": 21,
    "start_time": "2022-11-28T11:09:18.737Z"
   },
   {
    "duration": 17,
    "start_time": "2022-11-28T11:09:18.760Z"
   },
   {
    "duration": 4,
    "start_time": "2022-11-28T11:09:18.779Z"
   },
   {
    "duration": 19,
    "start_time": "2022-11-28T11:09:18.784Z"
   },
   {
    "duration": 25,
    "start_time": "2022-11-28T11:09:18.805Z"
   },
   {
    "duration": 14,
    "start_time": "2022-11-28T11:09:18.832Z"
   },
   {
    "duration": 15,
    "start_time": "2022-11-28T11:09:18.848Z"
   },
   {
    "duration": 5,
    "start_time": "2022-11-28T11:09:18.865Z"
   },
   {
    "duration": 5,
    "start_time": "2022-11-28T11:09:18.872Z"
   },
   {
    "duration": 10,
    "start_time": "2022-11-28T11:09:18.879Z"
   },
   {
    "duration": 10,
    "start_time": "2022-11-28T11:09:18.891Z"
   },
   {
    "duration": 350307,
    "start_time": "2022-11-28T11:09:18.903Z"
   },
   {
    "duration": 10,
    "start_time": "2022-11-28T11:15:09.216Z"
   },
   {
    "duration": 58500,
    "start_time": "2022-11-28T11:15:09.228Z"
   },
   {
    "duration": 0,
    "start_time": "2022-11-28T11:16:07.730Z"
   },
   {
    "duration": 0,
    "start_time": "2022-11-28T11:16:07.735Z"
   },
   {
    "duration": 6,
    "start_time": "2022-11-28T11:16:10.224Z"
   },
   {
    "duration": 73,
    "start_time": "2022-11-28T11:16:10.233Z"
   },
   {
    "duration": 696,
    "start_time": "2022-11-28T11:16:10.308Z"
   },
   {
    "duration": 18,
    "start_time": "2022-11-28T11:16:11.007Z"
   },
   {
    "duration": 603,
    "start_time": "2022-11-28T11:16:11.028Z"
   },
   {
    "duration": 7,
    "start_time": "2022-11-28T11:16:11.633Z"
   },
   {
    "duration": 14,
    "start_time": "2022-11-28T11:16:11.641Z"
   },
   {
    "duration": 20,
    "start_time": "2022-11-28T11:16:11.657Z"
   },
   {
    "duration": 34,
    "start_time": "2022-11-28T11:16:11.679Z"
   },
   {
    "duration": 6,
    "start_time": "2022-11-28T11:16:11.716Z"
   },
   {
    "duration": 25,
    "start_time": "2022-11-28T11:16:11.724Z"
   },
   {
    "duration": 7,
    "start_time": "2022-11-28T11:16:11.751Z"
   },
   {
    "duration": 7,
    "start_time": "2022-11-28T11:16:11.760Z"
   },
   {
    "duration": 11,
    "start_time": "2022-11-28T11:16:11.769Z"
   },
   {
    "duration": 5,
    "start_time": "2022-11-28T11:16:11.782Z"
   },
   {
    "duration": 24,
    "start_time": "2022-11-28T11:16:11.789Z"
   },
   {
    "duration": 4,
    "start_time": "2022-11-28T11:16:11.816Z"
   },
   {
    "duration": 17,
    "start_time": "2022-11-28T11:16:11.822Z"
   },
   {
    "duration": 266099,
    "start_time": "2022-11-28T11:16:11.841Z"
   },
   {
    "duration": 4,
    "start_time": "2022-11-28T11:20:37.942Z"
   },
   {
    "duration": 56936,
    "start_time": "2022-11-28T11:20:37.947Z"
   },
   {
    "duration": 290268,
    "start_time": "2022-11-28T11:21:34.885Z"
   },
   {
    "duration": 91731,
    "start_time": "2022-11-28T11:26:25.155Z"
   },
   {
    "duration": 3,
    "start_time": "2022-11-28T11:35:01.899Z"
   },
   {
    "duration": 63,
    "start_time": "2022-11-28T11:35:01.904Z"
   },
   {
    "duration": 600,
    "start_time": "2022-11-28T11:35:01.969Z"
   },
   {
    "duration": 9,
    "start_time": "2022-11-28T11:35:02.572Z"
   },
   {
    "duration": 757,
    "start_time": "2022-11-28T11:35:02.583Z"
   },
   {
    "duration": 4,
    "start_time": "2022-11-28T11:35:03.342Z"
   },
   {
    "duration": 13,
    "start_time": "2022-11-28T11:35:03.348Z"
   },
   {
    "duration": 23,
    "start_time": "2022-11-28T11:35:03.363Z"
   },
   {
    "duration": 34,
    "start_time": "2022-11-28T11:35:03.387Z"
   },
   {
    "duration": 7,
    "start_time": "2022-11-28T11:35:03.425Z"
   },
   {
    "duration": 15,
    "start_time": "2022-11-28T11:35:03.434Z"
   },
   {
    "duration": 8,
    "start_time": "2022-11-28T11:35:03.450Z"
   },
   {
    "duration": 7,
    "start_time": "2022-11-28T11:35:03.459Z"
   },
   {
    "duration": 11,
    "start_time": "2022-11-28T11:35:03.468Z"
   },
   {
    "duration": 37,
    "start_time": "2022-11-28T11:35:03.480Z"
   },
   {
    "duration": 19,
    "start_time": "2022-11-28T11:35:03.519Z"
   },
   {
    "duration": 8,
    "start_time": "2022-11-28T11:35:03.540Z"
   },
   {
    "duration": 11,
    "start_time": "2022-11-28T11:35:03.550Z"
   },
   {
    "duration": 218939,
    "start_time": "2022-11-28T11:35:03.563Z"
   },
   {
    "duration": 11,
    "start_time": "2022-11-28T11:38:42.504Z"
   },
   {
    "duration": 63673,
    "start_time": "2022-11-28T11:38:42.518Z"
   },
   {
    "duration": 286548,
    "start_time": "2022-11-28T11:39:46.192Z"
   },
   {
    "duration": 0,
    "start_time": "2022-11-28T11:44:32.742Z"
   },
   {
    "duration": 5,
    "start_time": "2022-11-28T11:44:35.432Z"
   },
   {
    "duration": 56,
    "start_time": "2022-11-28T11:44:35.439Z"
   },
   {
    "duration": 516,
    "start_time": "2022-11-28T11:44:35.497Z"
   },
   {
    "duration": 21,
    "start_time": "2022-11-28T11:44:36.014Z"
   },
   {
    "duration": 527,
    "start_time": "2022-11-28T11:44:36.038Z"
   },
   {
    "duration": 4,
    "start_time": "2022-11-28T11:44:36.566Z"
   },
   {
    "duration": 18,
    "start_time": "2022-11-28T11:44:36.572Z"
   },
   {
    "duration": 39,
    "start_time": "2022-11-28T11:44:36.591Z"
   },
   {
    "duration": 10,
    "start_time": "2022-11-28T11:44:36.633Z"
   },
   {
    "duration": 4,
    "start_time": "2022-11-28T11:44:36.645Z"
   },
   {
    "duration": 8,
    "start_time": "2022-11-28T11:44:36.651Z"
   },
   {
    "duration": 5,
    "start_time": "2022-11-28T11:44:36.661Z"
   },
   {
    "duration": 6,
    "start_time": "2022-11-28T11:44:36.668Z"
   },
   {
    "duration": 8,
    "start_time": "2022-11-28T11:44:36.676Z"
   },
   {
    "duration": 35,
    "start_time": "2022-11-28T11:44:36.685Z"
   },
   {
    "duration": 8,
    "start_time": "2022-11-28T11:44:36.723Z"
   },
   {
    "duration": 8,
    "start_time": "2022-11-28T11:44:36.733Z"
   },
   {
    "duration": 11,
    "start_time": "2022-11-28T11:44:36.743Z"
   },
   {
    "duration": 326747,
    "start_time": "2022-11-28T11:44:36.756Z"
   },
   {
    "duration": 6,
    "start_time": "2022-11-28T11:50:03.515Z"
   },
   {
    "duration": 112976,
    "start_time": "2022-11-28T11:50:03.524Z"
   },
   {
    "duration": 102435,
    "start_time": "2022-11-28T11:51:56.501Z"
   },
   {
    "duration": 0,
    "start_time": "2022-11-28T11:53:38.938Z"
   },
   {
    "duration": 5,
    "start_time": "2022-11-28T11:53:41.423Z"
   },
   {
    "duration": 59,
    "start_time": "2022-11-28T11:53:41.430Z"
   },
   {
    "duration": 501,
    "start_time": "2022-11-28T11:53:41.490Z"
   },
   {
    "duration": 7,
    "start_time": "2022-11-28T11:53:41.993Z"
   },
   {
    "duration": 588,
    "start_time": "2022-11-28T11:53:42.001Z"
   },
   {
    "duration": 3,
    "start_time": "2022-11-28T11:53:42.591Z"
   },
   {
    "duration": 26,
    "start_time": "2022-11-28T11:53:42.596Z"
   },
   {
    "duration": 29,
    "start_time": "2022-11-28T11:53:42.625Z"
   },
   {
    "duration": 9,
    "start_time": "2022-11-28T11:53:42.655Z"
   },
   {
    "duration": 4,
    "start_time": "2022-11-28T11:53:42.666Z"
   },
   {
    "duration": 8,
    "start_time": "2022-11-28T11:53:42.671Z"
   },
   {
    "duration": 10,
    "start_time": "2022-11-28T11:53:42.680Z"
   },
   {
    "duration": 24,
    "start_time": "2022-11-28T11:53:42.691Z"
   },
   {
    "duration": 18,
    "start_time": "2022-11-28T11:53:42.717Z"
   },
   {
    "duration": 5,
    "start_time": "2022-11-28T11:53:42.737Z"
   },
   {
    "duration": 5,
    "start_time": "2022-11-28T11:53:42.744Z"
   },
   {
    "duration": 8,
    "start_time": "2022-11-28T11:53:42.750Z"
   },
   {
    "duration": 10,
    "start_time": "2022-11-28T11:53:42.759Z"
   },
   {
    "duration": 4569865,
    "start_time": "2022-11-28T11:53:42.771Z"
   },
   {
    "duration": 4,
    "start_time": "2022-11-28T13:09:52.638Z"
   },
   {
    "duration": 273407,
    "start_time": "2022-11-28T13:09:52.643Z"
   },
   {
    "duration": 669135,
    "start_time": "2022-11-28T13:14:26.052Z"
   },
   {
    "duration": 457840,
    "start_time": "2022-11-28T13:25:35.189Z"
   },
   {
    "duration": 2589,
    "start_time": "2022-11-29T10:01:37.574Z"
   },
   {
    "duration": 150,
    "start_time": "2022-11-29T10:01:40.166Z"
   },
   {
    "duration": 718,
    "start_time": "2022-11-29T10:01:40.318Z"
   },
   {
    "duration": 9,
    "start_time": "2022-11-29T10:01:41.038Z"
   },
   {
    "duration": 607,
    "start_time": "2022-11-29T10:01:41.049Z"
   },
   {
    "duration": 4,
    "start_time": "2022-11-29T10:01:41.658Z"
   },
   {
    "duration": 17,
    "start_time": "2022-11-29T10:01:41.664Z"
   },
   {
    "duration": 25,
    "start_time": "2022-11-29T10:01:41.682Z"
   },
   {
    "duration": 9,
    "start_time": "2022-11-29T10:01:41.708Z"
   },
   {
    "duration": 4,
    "start_time": "2022-11-29T10:01:45.165Z"
   },
   {
    "duration": 8,
    "start_time": "2022-11-29T10:01:51.032Z"
   },
   {
    "duration": 6,
    "start_time": "2022-11-29T10:02:02.168Z"
   },
   {
    "duration": 131,
    "start_time": "2022-11-29T10:02:53.440Z"
   },
   {
    "duration": 3,
    "start_time": "2022-11-29T10:03:01.247Z"
   },
   {
    "duration": 74,
    "start_time": "2022-11-29T10:03:01.252Z"
   },
   {
    "duration": 650,
    "start_time": "2022-11-29T10:03:01.327Z"
   },
   {
    "duration": 8,
    "start_time": "2022-11-29T10:03:01.979Z"
   },
   {
    "duration": 572,
    "start_time": "2022-11-29T10:03:01.989Z"
   },
   {
    "duration": 4,
    "start_time": "2022-11-29T10:03:02.563Z"
   },
   {
    "duration": 38,
    "start_time": "2022-11-29T10:03:02.569Z"
   },
   {
    "duration": 38,
    "start_time": "2022-11-29T10:03:02.609Z"
   },
   {
    "duration": 16,
    "start_time": "2022-11-29T10:03:02.649Z"
   },
   {
    "duration": 26,
    "start_time": "2022-11-29T10:03:02.666Z"
   },
   {
    "duration": 14,
    "start_time": "2022-11-29T10:03:02.694Z"
   },
   {
    "duration": 14,
    "start_time": "2022-11-29T10:03:02.710Z"
   },
   {
    "duration": 9,
    "start_time": "2022-11-29T10:03:02.725Z"
   },
   {
    "duration": 8,
    "start_time": "2022-11-29T10:03:09.506Z"
   },
   {
    "duration": 6,
    "start_time": "2022-11-29T10:04:03.798Z"
   },
   {
    "duration": 4,
    "start_time": "2022-11-29T10:18:58.049Z"
   },
   {
    "duration": 52,
    "start_time": "2022-11-29T10:18:58.056Z"
   },
   {
    "duration": 547,
    "start_time": "2022-11-29T10:18:58.109Z"
   },
   {
    "duration": 7,
    "start_time": "2022-11-29T10:18:58.658Z"
   },
   {
    "duration": 588,
    "start_time": "2022-11-29T10:18:58.668Z"
   },
   {
    "duration": 5,
    "start_time": "2022-11-29T10:18:59.258Z"
   },
   {
    "duration": 17,
    "start_time": "2022-11-29T10:18:59.264Z"
   },
   {
    "duration": 26,
    "start_time": "2022-11-29T10:18:59.282Z"
   },
   {
    "duration": 9,
    "start_time": "2022-11-29T10:18:59.309Z"
   },
   {
    "duration": 9,
    "start_time": "2022-11-29T10:18:59.320Z"
   },
   {
    "duration": 5,
    "start_time": "2022-11-29T10:18:59.351Z"
   },
   {
    "duration": 13,
    "start_time": "2022-11-29T10:18:59.358Z"
   },
   {
    "duration": 6,
    "start_time": "2022-11-29T10:18:59.373Z"
   },
   {
    "duration": 9,
    "start_time": "2022-11-29T10:18:59.381Z"
   },
   {
    "duration": 15,
    "start_time": "2022-11-29T10:18:59.391Z"
   },
   {
    "duration": 33,
    "start_time": "2022-11-29T10:18:59.408Z"
   },
   {
    "duration": 8,
    "start_time": "2022-11-29T10:18:59.443Z"
   },
   {
    "duration": 5,
    "start_time": "2022-11-29T10:18:59.452Z"
   },
   {
    "duration": 11,
    "start_time": "2022-11-29T10:18:59.458Z"
   },
   {
    "duration": 10,
    "start_time": "2022-11-29T10:18:59.471Z"
   },
   {
    "duration": 7,
    "start_time": "2022-11-29T10:18:59.483Z"
   },
   {
    "duration": 6,
    "start_time": "2022-11-29T10:18:59.492Z"
   },
   {
    "duration": 33,
    "start_time": "2022-11-29T10:18:59.500Z"
   },
   {
    "duration": 152,
    "start_time": "2022-11-29T10:19:14.236Z"
   },
   {
    "duration": 29196,
    "start_time": "2022-11-29T10:19:43.216Z"
   },
   {
    "duration": 4,
    "start_time": "2022-11-29T10:21:01.121Z"
   },
   {
    "duration": 11,
    "start_time": "2022-11-29T10:21:53.707Z"
   },
   {
    "duration": 11,
    "start_time": "2022-11-29T10:21:58.294Z"
   },
   {
    "duration": 3,
    "start_time": "2022-11-29T10:24:44.122Z"
   },
   {
    "duration": 59,
    "start_time": "2022-11-29T10:24:44.127Z"
   },
   {
    "duration": 536,
    "start_time": "2022-11-29T10:24:44.188Z"
   },
   {
    "duration": 8,
    "start_time": "2022-11-29T10:24:44.725Z"
   },
   {
    "duration": 603,
    "start_time": "2022-11-29T10:24:44.736Z"
   },
   {
    "duration": 12,
    "start_time": "2022-11-29T10:24:45.340Z"
   },
   {
    "duration": 11,
    "start_time": "2022-11-29T10:24:45.354Z"
   },
   {
    "duration": 24,
    "start_time": "2022-11-29T10:24:45.367Z"
   },
   {
    "duration": 11,
    "start_time": "2022-11-29T10:24:45.392Z"
   },
   {
    "duration": 4,
    "start_time": "2022-11-29T10:24:45.405Z"
   },
   {
    "duration": 7,
    "start_time": "2022-11-29T10:24:45.411Z"
   },
   {
    "duration": 32,
    "start_time": "2022-11-29T10:24:45.420Z"
   },
   {
    "duration": 8,
    "start_time": "2022-11-29T10:24:45.453Z"
   },
   {
    "duration": 7,
    "start_time": "2022-11-29T10:24:45.464Z"
   },
   {
    "duration": 14,
    "start_time": "2022-11-29T10:24:45.473Z"
   },
   {
    "duration": 6,
    "start_time": "2022-11-29T10:24:45.489Z"
   },
   {
    "duration": 15,
    "start_time": "2022-11-29T10:24:45.496Z"
   },
   {
    "duration": 11,
    "start_time": "2022-11-29T10:24:45.513Z"
   },
   {
    "duration": 14,
    "start_time": "2022-11-29T10:24:45.550Z"
   },
   {
    "duration": 25,
    "start_time": "2022-11-29T10:24:45.566Z"
   },
   {
    "duration": 6,
    "start_time": "2022-11-29T10:24:45.593Z"
   },
   {
    "duration": 10,
    "start_time": "2022-11-29T10:24:45.600Z"
   },
   {
    "duration": 29249,
    "start_time": "2022-11-29T10:24:45.611Z"
   },
   {
    "duration": 0,
    "start_time": "2022-11-29T10:25:14.862Z"
   },
   {
    "duration": 31192,
    "start_time": "2022-11-29T10:26:16.829Z"
   },
   {
    "duration": 29,
    "start_time": "2022-11-29T10:26:48.023Z"
   },
   {
    "duration": 14,
    "start_time": "2022-11-29T10:27:32.722Z"
   },
   {
    "duration": 6,
    "start_time": "2022-11-29T10:27:41.932Z"
   },
   {
    "duration": 5,
    "start_time": "2022-11-29T10:29:28.874Z"
   },
   {
    "duration": 18,
    "start_time": "2022-11-29T10:44:46.300Z"
   },
   {
    "duration": 12,
    "start_time": "2022-11-29T10:56:28.784Z"
   },
   {
    "duration": 9,
    "start_time": "2022-11-29T10:56:33.360Z"
   },
   {
    "duration": 7,
    "start_time": "2022-11-29T10:56:39.663Z"
   },
   {
    "duration": 7,
    "start_time": "2022-11-29T10:56:56.719Z"
   },
   {
    "duration": 4,
    "start_time": "2022-11-29T11:03:30.035Z"
   },
   {
    "duration": 62,
    "start_time": "2022-11-29T11:03:30.041Z"
   },
   {
    "duration": 10,
    "start_time": "2022-11-29T11:03:30.104Z"
   },
   {
    "duration": 13,
    "start_time": "2022-11-29T11:03:34.761Z"
   },
   {
    "duration": 18,
    "start_time": "2022-11-29T11:03:38.713Z"
   },
   {
    "duration": 5,
    "start_time": "2022-11-29T11:09:18.388Z"
   },
   {
    "duration": 69,
    "start_time": "2022-11-29T11:09:18.395Z"
   },
   {
    "duration": 13,
    "start_time": "2022-11-29T11:09:18.465Z"
   },
   {
    "duration": 32,
    "start_time": "2022-11-29T11:09:18.479Z"
   },
   {
    "duration": 702,
    "start_time": "2022-11-29T11:09:18.514Z"
   },
   {
    "duration": 9,
    "start_time": "2022-11-29T11:09:19.218Z"
   },
   {
    "duration": 624,
    "start_time": "2022-11-29T11:09:19.229Z"
   },
   {
    "duration": 5,
    "start_time": "2022-11-29T11:09:19.855Z"
   },
   {
    "duration": 25,
    "start_time": "2022-11-29T11:09:19.862Z"
   },
   {
    "duration": 21,
    "start_time": "2022-11-29T11:09:19.889Z"
   },
   {
    "duration": 11,
    "start_time": "2022-11-29T11:09:19.912Z"
   },
   {
    "duration": 28,
    "start_time": "2022-11-29T11:09:19.925Z"
   },
   {
    "duration": 12,
    "start_time": "2022-11-29T11:09:19.955Z"
   },
   {
    "duration": 22,
    "start_time": "2022-11-29T11:09:19.970Z"
   },
   {
    "duration": 24,
    "start_time": "2022-11-29T11:09:19.994Z"
   },
   {
    "duration": 11,
    "start_time": "2022-11-29T11:09:20.020Z"
   },
   {
    "duration": 26,
    "start_time": "2022-11-29T11:09:20.032Z"
   },
   {
    "duration": 12,
    "start_time": "2022-11-29T11:09:20.060Z"
   },
   {
    "duration": 10,
    "start_time": "2022-11-29T11:09:20.074Z"
   },
   {
    "duration": 14,
    "start_time": "2022-11-29T11:09:20.086Z"
   },
   {
    "duration": 17,
    "start_time": "2022-11-29T11:09:20.101Z"
   },
   {
    "duration": 15,
    "start_time": "2022-11-29T11:09:20.120Z"
   },
   {
    "duration": 9,
    "start_time": "2022-11-29T11:09:20.137Z"
   },
   {
    "duration": 31041,
    "start_time": "2022-11-29T11:09:20.152Z"
   },
   {
    "duration": 7,
    "start_time": "2022-11-29T11:09:51.194Z"
   },
   {
    "duration": 2094,
    "start_time": "2022-11-29T13:54:17.264Z"
   },
   {
    "duration": 145,
    "start_time": "2022-11-29T13:54:19.360Z"
   },
   {
    "duration": 12,
    "start_time": "2022-11-29T13:54:19.507Z"
   },
   {
    "duration": 30,
    "start_time": "2022-11-29T13:54:19.521Z"
   },
   {
    "duration": 733,
    "start_time": "2022-11-29T13:54:19.553Z"
   },
   {
    "duration": 10,
    "start_time": "2022-11-29T13:54:20.289Z"
   },
   {
    "duration": 567,
    "start_time": "2022-11-29T13:54:20.301Z"
   },
   {
    "duration": 5,
    "start_time": "2022-11-29T13:54:20.870Z"
   },
   {
    "duration": 32,
    "start_time": "2022-11-29T13:54:20.876Z"
   },
   {
    "duration": 29,
    "start_time": "2022-11-29T13:54:20.922Z"
   },
   {
    "duration": 11,
    "start_time": "2022-11-29T13:54:20.953Z"
   },
   {
    "duration": 3,
    "start_time": "2022-11-29T13:54:20.966Z"
   },
   {
    "duration": 5,
    "start_time": "2022-11-29T13:54:20.971Z"
   },
   {
    "duration": 15,
    "start_time": "2022-11-29T13:54:20.978Z"
   },
   {
    "duration": 29,
    "start_time": "2022-11-29T13:54:20.994Z"
   },
   {
    "duration": 5,
    "start_time": "2022-11-29T13:54:21.025Z"
   },
   {
    "duration": 14,
    "start_time": "2022-11-29T13:54:21.032Z"
   },
   {
    "duration": 5,
    "start_time": "2022-11-29T13:54:21.048Z"
   },
   {
    "duration": 8,
    "start_time": "2022-11-29T13:54:21.054Z"
   },
   {
    "duration": 7,
    "start_time": "2022-11-29T13:54:21.063Z"
   },
   {
    "duration": 10,
    "start_time": "2022-11-29T13:54:21.072Z"
   },
   {
    "duration": 40,
    "start_time": "2022-11-29T13:54:21.084Z"
   },
   {
    "duration": 12,
    "start_time": "2022-11-29T13:54:21.125Z"
   },
   {
    "duration": 203,
    "start_time": "2022-11-29T13:54:21.139Z"
   },
   {
    "duration": 0,
    "start_time": "2022-11-29T13:54:21.344Z"
   },
   {
    "duration": 4,
    "start_time": "2022-11-29T13:55:07.727Z"
   },
   {
    "duration": 56,
    "start_time": "2022-11-29T13:55:07.734Z"
   },
   {
    "duration": 9,
    "start_time": "2022-11-29T13:55:07.791Z"
   },
   {
    "duration": 64,
    "start_time": "2022-11-29T13:55:07.802Z"
   },
   {
    "duration": 564,
    "start_time": "2022-11-29T13:55:07.868Z"
   },
   {
    "duration": 9,
    "start_time": "2022-11-29T13:55:08.433Z"
   },
   {
    "duration": 575,
    "start_time": "2022-11-29T13:55:08.443Z"
   },
   {
    "duration": 4,
    "start_time": "2022-11-29T13:55:09.021Z"
   },
   {
    "duration": 46,
    "start_time": "2022-11-29T13:55:09.029Z"
   },
   {
    "duration": 29,
    "start_time": "2022-11-29T13:55:09.077Z"
   },
   {
    "duration": 14,
    "start_time": "2022-11-29T13:55:09.108Z"
   },
   {
    "duration": 6,
    "start_time": "2022-11-29T13:55:09.124Z"
   },
   {
    "duration": 40,
    "start_time": "2022-11-29T13:55:09.131Z"
   },
   {
    "duration": 25,
    "start_time": "2022-11-29T13:55:09.173Z"
   },
   {
    "duration": 22,
    "start_time": "2022-11-29T13:55:09.200Z"
   },
   {
    "duration": 39,
    "start_time": "2022-11-29T13:55:09.223Z"
   },
   {
    "duration": 27,
    "start_time": "2022-11-29T13:55:09.264Z"
   },
   {
    "duration": 30,
    "start_time": "2022-11-29T13:55:09.293Z"
   },
   {
    "duration": 31,
    "start_time": "2022-11-29T13:55:09.325Z"
   },
   {
    "duration": 40,
    "start_time": "2022-11-29T13:55:09.357Z"
   },
   {
    "duration": 28,
    "start_time": "2022-11-29T13:55:09.398Z"
   },
   {
    "duration": 47,
    "start_time": "2022-11-29T13:55:09.428Z"
   },
   {
    "duration": 38,
    "start_time": "2022-11-29T13:55:09.477Z"
   },
   {
    "duration": 31304,
    "start_time": "2022-11-29T13:55:09.518Z"
   },
   {
    "duration": 6,
    "start_time": "2022-11-29T13:55:40.823Z"
   },
   {
    "duration": 4,
    "start_time": "2022-11-29T13:57:22.299Z"
   },
   {
    "duration": 63,
    "start_time": "2022-11-29T13:57:22.306Z"
   },
   {
    "duration": 13,
    "start_time": "2022-11-29T13:57:22.372Z"
   },
   {
    "duration": 25,
    "start_time": "2022-11-29T13:57:22.388Z"
   },
   {
    "duration": 611,
    "start_time": "2022-11-29T13:57:22.415Z"
   },
   {
    "duration": 7,
    "start_time": "2022-11-29T13:57:23.028Z"
   },
   {
    "duration": 617,
    "start_time": "2022-11-29T13:57:23.037Z"
   },
   {
    "duration": 4,
    "start_time": "2022-11-29T13:57:23.656Z"
   },
   {
    "duration": 28,
    "start_time": "2022-11-29T13:57:23.662Z"
   },
   {
    "duration": 49,
    "start_time": "2022-11-29T13:57:23.693Z"
   },
   {
    "duration": 9,
    "start_time": "2022-11-29T13:57:23.744Z"
   },
   {
    "duration": 16,
    "start_time": "2022-11-29T13:57:23.755Z"
   },
   {
    "duration": 24,
    "start_time": "2022-11-29T13:57:23.773Z"
   },
   {
    "duration": 21,
    "start_time": "2022-11-29T13:57:23.799Z"
   },
   {
    "duration": 25,
    "start_time": "2022-11-29T13:57:23.822Z"
   },
   {
    "duration": 37,
    "start_time": "2022-11-29T13:57:23.848Z"
   },
   {
    "duration": 48,
    "start_time": "2022-11-29T13:57:23.888Z"
   },
   {
    "duration": 33,
    "start_time": "2022-11-29T13:57:23.939Z"
   },
   {
    "duration": 12,
    "start_time": "2022-11-29T13:57:23.974Z"
   },
   {
    "duration": 14,
    "start_time": "2022-11-29T13:57:23.988Z"
   },
   {
    "duration": 21,
    "start_time": "2022-11-29T13:57:24.005Z"
   },
   {
    "duration": 49,
    "start_time": "2022-11-29T13:57:24.028Z"
   },
   {
    "duration": 30,
    "start_time": "2022-11-29T13:57:24.080Z"
   },
   {
    "duration": 31651,
    "start_time": "2022-11-29T13:57:24.112Z"
   },
   {
    "duration": 7,
    "start_time": "2022-11-29T13:57:55.765Z"
   },
   {
    "duration": 5,
    "start_time": "2022-11-29T13:58:34.054Z"
   },
   {
    "duration": 63,
    "start_time": "2022-11-29T13:58:34.062Z"
   },
   {
    "duration": 14,
    "start_time": "2022-11-29T13:58:34.127Z"
   },
   {
    "duration": 26,
    "start_time": "2022-11-29T13:58:34.144Z"
   },
   {
    "duration": 559,
    "start_time": "2022-11-29T13:58:34.172Z"
   },
   {
    "duration": 10,
    "start_time": "2022-11-29T13:58:34.733Z"
   },
   {
    "duration": 563,
    "start_time": "2022-11-29T13:58:34.745Z"
   },
   {
    "duration": 4,
    "start_time": "2022-11-29T13:58:35.309Z"
   },
   {
    "duration": 29,
    "start_time": "2022-11-29T13:58:35.322Z"
   },
   {
    "duration": 29,
    "start_time": "2022-11-29T13:58:35.353Z"
   },
   {
    "duration": 9,
    "start_time": "2022-11-29T13:58:35.383Z"
   },
   {
    "duration": 30,
    "start_time": "2022-11-29T13:58:35.393Z"
   },
   {
    "duration": 11,
    "start_time": "2022-11-29T13:58:35.424Z"
   },
   {
    "duration": 23,
    "start_time": "2022-11-29T13:58:35.437Z"
   },
   {
    "duration": 9,
    "start_time": "2022-11-29T13:58:35.462Z"
   },
   {
    "duration": 16,
    "start_time": "2022-11-29T13:58:35.472Z"
   },
   {
    "duration": 13,
    "start_time": "2022-11-29T13:58:35.490Z"
   },
   {
    "duration": 5,
    "start_time": "2022-11-29T13:58:35.504Z"
   },
   {
    "duration": 12,
    "start_time": "2022-11-29T13:58:35.511Z"
   },
   {
    "duration": 7,
    "start_time": "2022-11-29T13:58:35.525Z"
   },
   {
    "duration": 11,
    "start_time": "2022-11-29T13:58:35.533Z"
   },
   {
    "duration": 8,
    "start_time": "2022-11-29T13:58:35.546Z"
   },
   {
    "duration": 6,
    "start_time": "2022-11-29T13:58:35.555Z"
   },
   {
    "duration": 30328,
    "start_time": "2022-11-29T13:58:35.563Z"
   },
   {
    "duration": 7,
    "start_time": "2022-11-29T13:59:05.893Z"
   },
   {
    "duration": 4,
    "start_time": "2022-11-29T13:59:58.119Z"
   },
   {
    "duration": 50,
    "start_time": "2022-11-29T13:59:58.126Z"
   },
   {
    "duration": 11,
    "start_time": "2022-11-29T13:59:58.177Z"
   },
   {
    "duration": 33,
    "start_time": "2022-11-29T13:59:58.190Z"
   },
   {
    "duration": 609,
    "start_time": "2022-11-29T13:59:58.225Z"
   },
   {
    "duration": 7,
    "start_time": "2022-11-29T13:59:58.836Z"
   },
   {
    "duration": 607,
    "start_time": "2022-11-29T13:59:58.844Z"
   },
   {
    "duration": 3,
    "start_time": "2022-11-29T13:59:59.453Z"
   },
   {
    "duration": 26,
    "start_time": "2022-11-29T13:59:59.459Z"
   },
   {
    "duration": 35,
    "start_time": "2022-11-29T13:59:59.487Z"
   },
   {
    "duration": 8,
    "start_time": "2022-11-29T13:59:59.524Z"
   },
   {
    "duration": 5,
    "start_time": "2022-11-29T13:59:59.535Z"
   },
   {
    "duration": 7,
    "start_time": "2022-11-29T13:59:59.541Z"
   },
   {
    "duration": 15,
    "start_time": "2022-11-29T13:59:59.549Z"
   },
   {
    "duration": 7,
    "start_time": "2022-11-29T13:59:59.565Z"
   },
   {
    "duration": 10,
    "start_time": "2022-11-29T13:59:59.574Z"
   },
   {
    "duration": 13,
    "start_time": "2022-11-29T13:59:59.585Z"
   },
   {
    "duration": 27,
    "start_time": "2022-11-29T13:59:59.599Z"
   },
   {
    "duration": 16,
    "start_time": "2022-11-29T13:59:59.628Z"
   },
   {
    "duration": 11,
    "start_time": "2022-11-29T13:59:59.646Z"
   },
   {
    "duration": 17,
    "start_time": "2022-11-29T13:59:59.659Z"
   },
   {
    "duration": 12,
    "start_time": "2022-11-29T13:59:59.678Z"
   },
   {
    "duration": 6,
    "start_time": "2022-11-29T13:59:59.692Z"
   },
   {
    "duration": 39,
    "start_time": "2022-11-29T13:59:59.701Z"
   },
   {
    "duration": 0,
    "start_time": "2022-11-29T13:59:59.741Z"
   },
   {
    "duration": 4,
    "start_time": "2022-11-29T14:00:14.791Z"
   },
   {
    "duration": 56,
    "start_time": "2022-11-29T14:00:14.797Z"
   },
   {
    "duration": 10,
    "start_time": "2022-11-29T14:00:14.855Z"
   },
   {
    "duration": 19,
    "start_time": "2022-11-29T14:00:14.867Z"
   },
   {
    "duration": 551,
    "start_time": "2022-11-29T14:00:14.888Z"
   },
   {
    "duration": 9,
    "start_time": "2022-11-29T14:00:15.441Z"
   },
   {
    "duration": 592,
    "start_time": "2022-11-29T14:00:15.452Z"
   },
   {
    "duration": 5,
    "start_time": "2022-11-29T14:00:16.046Z"
   },
   {
    "duration": 24,
    "start_time": "2022-11-29T14:00:16.053Z"
   },
   {
    "duration": 23,
    "start_time": "2022-11-29T14:00:16.079Z"
   },
   {
    "duration": 26,
    "start_time": "2022-11-29T14:00:16.104Z"
   },
   {
    "duration": 4,
    "start_time": "2022-11-29T14:00:16.131Z"
   },
   {
    "duration": 6,
    "start_time": "2022-11-29T14:00:16.137Z"
   },
   {
    "duration": 10,
    "start_time": "2022-11-29T14:00:16.144Z"
   },
   {
    "duration": 8,
    "start_time": "2022-11-29T14:00:16.155Z"
   },
   {
    "duration": 11,
    "start_time": "2022-11-29T14:00:16.164Z"
   },
   {
    "duration": 11,
    "start_time": "2022-11-29T14:00:16.177Z"
   },
   {
    "duration": 36,
    "start_time": "2022-11-29T14:00:16.190Z"
   },
   {
    "duration": 8,
    "start_time": "2022-11-29T14:00:16.227Z"
   },
   {
    "duration": 8,
    "start_time": "2022-11-29T14:00:16.238Z"
   },
   {
    "duration": 16,
    "start_time": "2022-11-29T14:00:16.248Z"
   },
   {
    "duration": 9,
    "start_time": "2022-11-29T14:00:16.266Z"
   },
   {
    "duration": 10,
    "start_time": "2022-11-29T14:00:16.277Z"
   },
   {
    "duration": 31554,
    "start_time": "2022-11-29T14:00:16.323Z"
   },
   {
    "duration": 6,
    "start_time": "2022-11-29T14:00:47.879Z"
   },
   {
    "duration": 633,
    "start_time": "2022-11-29T14:04:33.707Z"
   },
   {
    "duration": 3,
    "start_time": "2022-11-29T14:04:37.346Z"
   },
   {
    "duration": 64,
    "start_time": "2022-11-29T14:04:37.352Z"
   },
   {
    "duration": 11,
    "start_time": "2022-11-29T14:04:37.417Z"
   },
   {
    "duration": 23,
    "start_time": "2022-11-29T14:04:37.430Z"
   },
   {
    "duration": 426,
    "start_time": "2022-11-29T14:04:37.455Z"
   },
   {
    "duration": 0,
    "start_time": "2022-11-29T14:04:37.884Z"
   },
   {
    "duration": 0,
    "start_time": "2022-11-29T14:04:37.885Z"
   },
   {
    "duration": 0,
    "start_time": "2022-11-29T14:04:37.888Z"
   },
   {
    "duration": 0,
    "start_time": "2022-11-29T14:04:37.889Z"
   },
   {
    "duration": 0,
    "start_time": "2022-11-29T14:04:37.890Z"
   },
   {
    "duration": 0,
    "start_time": "2022-11-29T14:04:37.892Z"
   },
   {
    "duration": 0,
    "start_time": "2022-11-29T14:04:37.893Z"
   },
   {
    "duration": 0,
    "start_time": "2022-11-29T14:04:37.895Z"
   },
   {
    "duration": 1,
    "start_time": "2022-11-29T14:04:37.902Z"
   },
   {
    "duration": 0,
    "start_time": "2022-11-29T14:04:37.922Z"
   },
   {
    "duration": 0,
    "start_time": "2022-11-29T14:04:37.923Z"
   },
   {
    "duration": 0,
    "start_time": "2022-11-29T14:04:37.924Z"
   },
   {
    "duration": 0,
    "start_time": "2022-11-29T14:04:37.925Z"
   },
   {
    "duration": 0,
    "start_time": "2022-11-29T14:04:37.926Z"
   },
   {
    "duration": 0,
    "start_time": "2022-11-29T14:04:37.927Z"
   },
   {
    "duration": 0,
    "start_time": "2022-11-29T14:04:37.929Z"
   },
   {
    "duration": 0,
    "start_time": "2022-11-29T14:04:37.930Z"
   },
   {
    "duration": 0,
    "start_time": "2022-11-29T14:04:37.931Z"
   },
   {
    "duration": 0,
    "start_time": "2022-11-29T14:04:37.932Z"
   },
   {
    "duration": 0,
    "start_time": "2022-11-29T14:04:37.933Z"
   },
   {
    "duration": 433,
    "start_time": "2022-11-29T14:04:59.753Z"
   },
   {
    "duration": 628,
    "start_time": "2022-11-29T14:05:10.249Z"
   },
   {
    "duration": 508,
    "start_time": "2022-11-29T14:10:44.507Z"
   },
   {
    "duration": 531,
    "start_time": "2022-11-29T14:10:48.962Z"
   },
   {
    "duration": 504,
    "start_time": "2022-11-29T14:10:54.755Z"
   },
   {
    "duration": 526,
    "start_time": "2022-11-29T14:11:01.611Z"
   },
   {
    "duration": 219,
    "start_time": "2022-11-29T14:11:56.425Z"
   },
   {
    "duration": 8,
    "start_time": "2022-11-29T14:13:11.492Z"
   },
   {
    "duration": 551,
    "start_time": "2022-11-29T14:13:17.303Z"
   },
   {
    "duration": 600,
    "start_time": "2022-11-29T14:15:46.136Z"
   },
   {
    "duration": 3,
    "start_time": "2022-11-29T14:17:33.921Z"
   },
   {
    "duration": 54,
    "start_time": "2022-11-29T14:17:33.926Z"
   },
   {
    "duration": 10,
    "start_time": "2022-11-29T14:17:33.983Z"
   },
   {
    "duration": 17,
    "start_time": "2022-11-29T14:17:33.995Z"
   },
   {
    "duration": 600,
    "start_time": "2022-11-29T14:17:34.015Z"
   },
   {
    "duration": 10,
    "start_time": "2022-11-29T14:17:34.616Z"
   },
   {
    "duration": 506,
    "start_time": "2022-11-29T14:17:34.627Z"
   },
   {
    "duration": 217,
    "start_time": "2022-11-29T14:17:35.135Z"
   },
   {
    "duration": 4,
    "start_time": "2022-11-29T14:17:35.354Z"
   },
   {
    "duration": 15,
    "start_time": "2022-11-29T14:17:35.359Z"
   },
   {
    "duration": 6,
    "start_time": "2022-11-29T14:17:39.694Z"
   },
   {
    "duration": 204,
    "start_time": "2022-11-29T14:17:41.388Z"
   },
   {
    "duration": 3,
    "start_time": "2022-11-29T14:18:12.929Z"
   },
   {
    "duration": 54,
    "start_time": "2022-11-29T14:18:12.934Z"
   },
   {
    "duration": 10,
    "start_time": "2022-11-29T14:18:12.990Z"
   },
   {
    "duration": 19,
    "start_time": "2022-11-29T14:18:13.002Z"
   },
   {
    "duration": 643,
    "start_time": "2022-11-29T14:18:13.022Z"
   },
   {
    "duration": 9,
    "start_time": "2022-11-29T14:18:13.666Z"
   },
   {
    "duration": 519,
    "start_time": "2022-11-29T14:18:13.677Z"
   },
   {
    "duration": 239,
    "start_time": "2022-11-29T14:18:14.199Z"
   },
   {
    "duration": 4,
    "start_time": "2022-11-29T14:18:14.442Z"
   },
   {
    "duration": 38,
    "start_time": "2022-11-29T14:18:14.448Z"
   },
   {
    "duration": 27,
    "start_time": "2022-11-29T14:18:14.488Z"
   },
   {
    "duration": 22,
    "start_time": "2022-11-29T14:18:14.517Z"
   },
   {
    "duration": 5,
    "start_time": "2022-11-29T14:18:14.541Z"
   },
   {
    "duration": 15,
    "start_time": "2022-11-29T14:18:14.548Z"
   },
   {
    "duration": 20,
    "start_time": "2022-11-29T14:18:14.564Z"
   },
   {
    "duration": 18,
    "start_time": "2022-11-29T14:18:14.585Z"
   },
   {
    "duration": 14,
    "start_time": "2022-11-29T14:18:14.605Z"
   },
   {
    "duration": 17,
    "start_time": "2022-11-29T14:18:14.621Z"
   },
   {
    "duration": 10,
    "start_time": "2022-11-29T14:18:14.640Z"
   },
   {
    "duration": 9,
    "start_time": "2022-11-29T14:18:14.652Z"
   },
   {
    "duration": 28,
    "start_time": "2022-11-29T14:18:14.663Z"
   },
   {
    "duration": 18,
    "start_time": "2022-11-29T14:18:14.693Z"
   },
   {
    "duration": 41,
    "start_time": "2022-11-29T14:18:14.712Z"
   },
   {
    "duration": 23,
    "start_time": "2022-11-29T14:18:14.757Z"
   },
   {
    "duration": 48,
    "start_time": "2022-11-29T14:18:14.782Z"
   },
   {
    "duration": 0,
    "start_time": "2022-11-29T14:18:14.831Z"
   },
   {
    "duration": 4,
    "start_time": "2022-11-29T14:18:27.964Z"
   },
   {
    "duration": 4,
    "start_time": "2022-11-29T14:18:28.602Z"
   },
   {
    "duration": 27095,
    "start_time": "2022-11-29T14:18:31.586Z"
   },
   {
    "duration": 6,
    "start_time": "2022-11-29T14:18:58.682Z"
   },
   {
    "duration": 4,
    "start_time": "2022-11-29T14:19:29.228Z"
   },
   {
    "duration": 50,
    "start_time": "2022-11-29T14:19:29.233Z"
   },
   {
    "duration": 10,
    "start_time": "2022-11-29T14:19:29.285Z"
   },
   {
    "duration": 23,
    "start_time": "2022-11-29T14:19:29.296Z"
   },
   {
    "duration": 509,
    "start_time": "2022-11-29T14:19:29.321Z"
   },
   {
    "duration": 9,
    "start_time": "2022-11-29T14:19:29.832Z"
   },
   {
    "duration": 501,
    "start_time": "2022-11-29T14:19:29.843Z"
   },
   {
    "duration": 219,
    "start_time": "2022-11-29T14:19:30.346Z"
   },
   {
    "duration": 4,
    "start_time": "2022-11-29T14:19:30.567Z"
   },
   {
    "duration": 44,
    "start_time": "2022-11-29T14:19:30.572Z"
   },
   {
    "duration": 42,
    "start_time": "2022-11-29T14:19:30.620Z"
   },
   {
    "duration": 13,
    "start_time": "2022-11-29T14:19:30.664Z"
   },
   {
    "duration": 15,
    "start_time": "2022-11-29T14:19:30.679Z"
   },
   {
    "duration": 14,
    "start_time": "2022-11-29T14:19:30.698Z"
   },
   {
    "duration": 30,
    "start_time": "2022-11-29T14:19:30.714Z"
   },
   {
    "duration": 12,
    "start_time": "2022-11-29T14:19:30.746Z"
   },
   {
    "duration": 21,
    "start_time": "2022-11-29T14:19:30.760Z"
   },
   {
    "duration": 25,
    "start_time": "2022-11-29T14:19:30.783Z"
   },
   {
    "duration": 9,
    "start_time": "2022-11-29T14:19:30.810Z"
   },
   {
    "duration": 22,
    "start_time": "2022-11-29T14:19:30.821Z"
   },
   {
    "duration": 30,
    "start_time": "2022-11-29T14:19:30.845Z"
   },
   {
    "duration": 33,
    "start_time": "2022-11-29T14:19:30.876Z"
   },
   {
    "duration": 25,
    "start_time": "2022-11-29T14:19:30.910Z"
   },
   {
    "duration": 25,
    "start_time": "2022-11-29T14:19:30.936Z"
   },
   {
    "duration": 28529,
    "start_time": "2022-11-29T14:19:30.963Z"
   },
   {
    "duration": 34,
    "start_time": "2022-11-29T14:19:59.494Z"
   },
   {
    "duration": 4,
    "start_time": "2022-11-29T14:20:53.451Z"
   },
   {
    "duration": 73,
    "start_time": "2022-11-29T14:20:53.457Z"
   },
   {
    "duration": 11,
    "start_time": "2022-11-29T14:20:53.532Z"
   },
   {
    "duration": 32,
    "start_time": "2022-11-29T14:20:53.545Z"
   },
   {
    "duration": 562,
    "start_time": "2022-11-29T14:20:53.579Z"
   },
   {
    "duration": 13,
    "start_time": "2022-11-29T14:20:54.143Z"
   },
   {
    "duration": 650,
    "start_time": "2022-11-29T14:20:54.158Z"
   },
   {
    "duration": 212,
    "start_time": "2022-11-29T14:20:54.822Z"
   },
   {
    "duration": 4,
    "start_time": "2022-11-29T14:20:55.036Z"
   },
   {
    "duration": 24,
    "start_time": "2022-11-29T14:20:55.044Z"
   },
   {
    "duration": 32,
    "start_time": "2022-11-29T14:20:55.070Z"
   },
   {
    "duration": 19,
    "start_time": "2022-11-29T14:20:55.104Z"
   },
   {
    "duration": 24,
    "start_time": "2022-11-29T14:20:55.124Z"
   },
   {
    "duration": 20,
    "start_time": "2022-11-29T14:20:55.149Z"
   },
   {
    "duration": 30,
    "start_time": "2022-11-29T14:20:55.171Z"
   },
   {
    "duration": 22,
    "start_time": "2022-11-29T14:20:55.203Z"
   },
   {
    "duration": 24,
    "start_time": "2022-11-29T14:20:55.227Z"
   },
   {
    "duration": 20,
    "start_time": "2022-11-29T14:20:55.253Z"
   },
   {
    "duration": 23,
    "start_time": "2022-11-29T14:20:55.275Z"
   },
   {
    "duration": 17,
    "start_time": "2022-11-29T14:20:55.300Z"
   },
   {
    "duration": 8,
    "start_time": "2022-11-29T14:20:55.319Z"
   },
   {
    "duration": 11,
    "start_time": "2022-11-29T14:20:55.329Z"
   },
   {
    "duration": 7,
    "start_time": "2022-11-29T14:20:55.342Z"
   },
   {
    "duration": 8,
    "start_time": "2022-11-29T14:20:55.350Z"
   },
   {
    "duration": 28273,
    "start_time": "2022-11-29T14:20:55.360Z"
   },
   {
    "duration": 16,
    "start_time": "2022-11-29T14:21:23.635Z"
   },
   {
    "duration": 3,
    "start_time": "2022-11-29T14:22:04.824Z"
   },
   {
    "duration": 58,
    "start_time": "2022-11-29T14:22:04.829Z"
   },
   {
    "duration": 9,
    "start_time": "2022-11-29T14:22:04.889Z"
   },
   {
    "duration": 18,
    "start_time": "2022-11-29T14:22:04.900Z"
   },
   {
    "duration": 536,
    "start_time": "2022-11-29T14:22:04.920Z"
   },
   {
    "duration": 8,
    "start_time": "2022-11-29T14:22:05.458Z"
   },
   {
    "duration": 529,
    "start_time": "2022-11-29T14:22:05.467Z"
   },
   {
    "duration": 214,
    "start_time": "2022-11-29T14:22:05.998Z"
   },
   {
    "duration": 8,
    "start_time": "2022-11-29T14:22:20.370Z"
   },
   {
    "duration": 9,
    "start_time": "2022-11-29T14:22:31.456Z"
   },
   {
    "duration": 6,
    "start_time": "2022-11-29T14:22:47.079Z"
   },
   {
    "duration": 12,
    "start_time": "2022-11-29T14:22:49.071Z"
   },
   {
    "duration": 4,
    "start_time": "2022-11-29T14:23:10.257Z"
   },
   {
    "duration": 12,
    "start_time": "2022-11-29T14:23:18.743Z"
   },
   {
    "duration": 18,
    "start_time": "2022-11-29T14:23:28.039Z"
   },
   {
    "duration": 30,
    "start_time": "2022-11-29T14:23:31.678Z"
   },
   {
    "duration": 25,
    "start_time": "2022-11-29T14:24:04.951Z"
   },
   {
    "duration": 82,
    "start_time": "2022-11-29T14:24:40.958Z"
   },
   {
    "duration": 3,
    "start_time": "2022-11-29T14:24:49.782Z"
   },
   {
    "duration": 95,
    "start_time": "2022-11-29T14:24:52.637Z"
   },
   {
    "duration": 66,
    "start_time": "2022-11-29T14:24:55.149Z"
   },
   {
    "duration": 79,
    "start_time": "2022-11-29T14:25:32.782Z"
   },
   {
    "duration": 25,
    "start_time": "2022-11-29T14:25:36.116Z"
   },
   {
    "duration": 28,
    "start_time": "2022-11-29T14:25:46.021Z"
   },
   {
    "duration": 12,
    "start_time": "2022-11-29T14:25:51.398Z"
   },
   {
    "duration": 27,
    "start_time": "2022-11-29T14:26:02.834Z"
   },
   {
    "duration": 7,
    "start_time": "2022-11-29T14:26:07.526Z"
   },
   {
    "duration": 4,
    "start_time": "2022-11-29T14:26:17.850Z"
   },
   {
    "duration": 52,
    "start_time": "2022-11-29T14:26:17.856Z"
   },
   {
    "duration": 10,
    "start_time": "2022-11-29T14:26:17.910Z"
   },
   {
    "duration": 27,
    "start_time": "2022-11-29T14:26:17.922Z"
   },
   {
    "duration": 521,
    "start_time": "2022-11-29T14:26:17.951Z"
   },
   {
    "duration": 9,
    "start_time": "2022-11-29T14:26:18.474Z"
   },
   {
    "duration": 490,
    "start_time": "2022-11-29T14:26:18.485Z"
   },
   {
    "duration": 237,
    "start_time": "2022-11-29T14:26:18.977Z"
   },
   {
    "duration": 4,
    "start_time": "2022-11-29T14:26:21.892Z"
   },
   {
    "duration": 16,
    "start_time": "2022-11-29T14:26:25.048Z"
   },
   {
    "duration": 27,
    "start_time": "2022-11-29T14:26:27.095Z"
   },
   {
    "duration": 7,
    "start_time": "2022-11-29T14:26:37.432Z"
   },
   {
    "duration": 4,
    "start_time": "2022-11-29T14:26:42.705Z"
   },
   {
    "duration": 5,
    "start_time": "2022-11-29T14:26:45.449Z"
   },
   {
    "duration": 8,
    "start_time": "2022-11-29T14:26:46.311Z"
   },
   {
    "duration": 6,
    "start_time": "2022-11-29T14:26:47.149Z"
   },
   {
    "duration": 6,
    "start_time": "2022-11-29T14:26:48.195Z"
   },
   {
    "duration": 13,
    "start_time": "2022-11-29T14:26:49.247Z"
   },
   {
    "duration": 5,
    "start_time": "2022-11-29T14:26:50.557Z"
   },
   {
    "duration": 5,
    "start_time": "2022-11-29T14:26:52.801Z"
   },
   {
    "duration": 3,
    "start_time": "2022-11-29T14:26:53.775Z"
   },
   {
    "duration": 12,
    "start_time": "2022-11-29T14:26:55.508Z"
   },
   {
    "duration": 3,
    "start_time": "2022-11-29T14:26:55.703Z"
   },
   {
    "duration": 4,
    "start_time": "2022-11-29T14:26:55.899Z"
   },
   {
    "duration": 27841,
    "start_time": "2022-11-29T14:26:58.010Z"
   },
   {
    "duration": 22,
    "start_time": "2022-11-29T14:27:25.853Z"
   },
   {
    "duration": 4,
    "start_time": "2022-11-29T14:27:41.707Z"
   },
   {
    "duration": 4,
    "start_time": "2022-11-29T14:28:50.184Z"
   },
   {
    "duration": 63,
    "start_time": "2022-11-29T14:28:50.190Z"
   },
   {
    "duration": 10,
    "start_time": "2022-11-29T14:28:50.255Z"
   },
   {
    "duration": 29,
    "start_time": "2022-11-29T14:28:50.266Z"
   },
   {
    "duration": 651,
    "start_time": "2022-11-29T14:28:50.297Z"
   },
   {
    "duration": 12,
    "start_time": "2022-11-29T14:28:50.949Z"
   },
   {
    "duration": 515,
    "start_time": "2022-11-29T14:28:50.962Z"
   },
   {
    "duration": 266,
    "start_time": "2022-11-29T14:28:51.480Z"
   },
   {
    "duration": 4,
    "start_time": "2022-11-29T14:28:51.748Z"
   },
   {
    "duration": 21,
    "start_time": "2022-11-29T14:28:51.754Z"
   },
   {
    "duration": 45,
    "start_time": "2022-11-29T14:28:51.778Z"
   },
   {
    "duration": 8,
    "start_time": "2022-11-29T14:28:51.825Z"
   },
   {
    "duration": 11,
    "start_time": "2022-11-29T14:28:51.835Z"
   },
   {
    "duration": 8,
    "start_time": "2022-11-29T14:28:51.848Z"
   },
   {
    "duration": 12,
    "start_time": "2022-11-29T14:28:51.860Z"
   },
   {
    "duration": 29,
    "start_time": "2022-11-29T14:28:51.874Z"
   },
   {
    "duration": 18,
    "start_time": "2022-11-29T14:28:51.905Z"
   },
   {
    "duration": 18,
    "start_time": "2022-11-29T14:28:51.924Z"
   },
   {
    "duration": 19,
    "start_time": "2022-11-29T14:28:51.943Z"
   },
   {
    "duration": 11,
    "start_time": "2022-11-29T14:28:51.963Z"
   },
   {
    "duration": 20,
    "start_time": "2022-11-29T14:28:51.976Z"
   },
   {
    "duration": 31,
    "start_time": "2022-11-29T14:28:51.997Z"
   },
   {
    "duration": 36,
    "start_time": "2022-11-29T14:28:52.030Z"
   },
   {
    "duration": 33,
    "start_time": "2022-11-29T14:28:52.067Z"
   },
   {
    "duration": 28808,
    "start_time": "2022-11-29T14:28:52.102Z"
   },
   {
    "duration": 12,
    "start_time": "2022-11-29T14:29:20.912Z"
   },
   {
    "duration": 4,
    "start_time": "2022-11-29T14:29:49.467Z"
   },
   {
    "duration": 60,
    "start_time": "2022-11-29T14:29:49.472Z"
   },
   {
    "duration": 9,
    "start_time": "2022-11-29T14:29:49.533Z"
   },
   {
    "duration": 16,
    "start_time": "2022-11-29T14:29:49.545Z"
   },
   {
    "duration": 570,
    "start_time": "2022-11-29T14:29:49.562Z"
   },
   {
    "duration": 10,
    "start_time": "2022-11-29T14:29:50.134Z"
   },
   {
    "duration": 508,
    "start_time": "2022-11-29T14:29:50.145Z"
   },
   {
    "duration": 219,
    "start_time": "2022-11-29T14:29:50.654Z"
   },
   {
    "duration": 4,
    "start_time": "2022-11-29T14:29:50.875Z"
   },
   {
    "duration": 20,
    "start_time": "2022-11-29T14:29:50.881Z"
   },
   {
    "duration": 37,
    "start_time": "2022-11-29T14:29:50.902Z"
   },
   {
    "duration": 8,
    "start_time": "2022-11-29T14:29:50.941Z"
   },
   {
    "duration": 4,
    "start_time": "2022-11-29T14:29:50.950Z"
   },
   {
    "duration": 8,
    "start_time": "2022-11-29T14:29:50.956Z"
   },
   {
    "duration": 10,
    "start_time": "2022-11-29T14:29:50.966Z"
   },
   {
    "duration": 5,
    "start_time": "2022-11-29T14:29:50.978Z"
   },
   {
    "duration": 7,
    "start_time": "2022-11-29T14:29:50.985Z"
   },
   {
    "duration": 11,
    "start_time": "2022-11-29T14:29:51.022Z"
   },
   {
    "duration": 6,
    "start_time": "2022-11-29T14:29:51.035Z"
   },
   {
    "duration": 6,
    "start_time": "2022-11-29T14:29:51.042Z"
   },
   {
    "duration": 10,
    "start_time": "2022-11-29T14:29:51.049Z"
   },
   {
    "duration": 11,
    "start_time": "2022-11-29T14:29:51.061Z"
   },
   {
    "duration": 15,
    "start_time": "2022-11-29T14:29:51.074Z"
   },
   {
    "duration": 30,
    "start_time": "2022-11-29T14:29:51.092Z"
   },
   {
    "duration": 27617,
    "start_time": "2022-11-29T14:29:51.124Z"
   },
   {
    "duration": 4,
    "start_time": "2022-11-29T14:30:18.743Z"
   },
   {
    "duration": 474,
    "start_time": "2022-11-29T14:31:50.935Z"
   },
   {
    "duration": 1001,
    "start_time": "2022-11-29T14:34:25.364Z"
   },
   {
    "duration": 840,
    "start_time": "2022-11-29T14:34:47.116Z"
   },
   {
    "duration": 869,
    "start_time": "2022-11-29T14:34:59.035Z"
   },
   {
    "duration": 3,
    "start_time": "2022-11-29T14:35:07.057Z"
   },
   {
    "duration": 47,
    "start_time": "2022-11-29T14:35:07.063Z"
   },
   {
    "duration": 11,
    "start_time": "2022-11-29T14:35:07.112Z"
   },
   {
    "duration": 18,
    "start_time": "2022-11-29T14:35:07.125Z"
   },
   {
    "duration": 541,
    "start_time": "2022-11-29T14:35:09.955Z"
   },
   {
    "duration": 525,
    "start_time": "2022-11-29T14:36:15.898Z"
   },
   {
    "duration": 532,
    "start_time": "2022-11-29T14:36:33.082Z"
   },
   {
    "duration": 530,
    "start_time": "2022-11-29T14:41:38.285Z"
   },
   {
    "duration": 4,
    "start_time": "2022-11-29T14:42:38.774Z"
   },
   {
    "duration": 52,
    "start_time": "2022-11-29T14:42:38.780Z"
   },
   {
    "duration": 10,
    "start_time": "2022-11-29T14:42:38.834Z"
   },
   {
    "duration": 24,
    "start_time": "2022-11-29T14:42:38.846Z"
   },
   {
    "duration": 683,
    "start_time": "2022-11-29T14:42:38.871Z"
   },
   {
    "duration": 3,
    "start_time": "2022-11-29T14:42:39.555Z"
   },
   {
    "duration": 510,
    "start_time": "2022-11-29T14:42:39.559Z"
   },
   {
    "duration": 5,
    "start_time": "2022-11-29T14:42:40.071Z"
   },
   {
    "duration": 21,
    "start_time": "2022-11-29T14:42:40.078Z"
   },
   {
    "duration": 39,
    "start_time": "2022-11-29T14:42:40.101Z"
   },
   {
    "duration": 16,
    "start_time": "2022-11-29T14:42:40.141Z"
   },
   {
    "duration": 29,
    "start_time": "2022-11-29T14:42:40.159Z"
   },
   {
    "duration": 14,
    "start_time": "2022-11-29T14:42:40.190Z"
   },
   {
    "duration": 14,
    "start_time": "2022-11-29T14:42:40.207Z"
   },
   {
    "duration": 9,
    "start_time": "2022-11-29T14:42:40.223Z"
   },
   {
    "duration": 16,
    "start_time": "2022-11-29T14:42:40.234Z"
   },
   {
    "duration": 19,
    "start_time": "2022-11-29T14:42:40.252Z"
   },
   {
    "duration": 5,
    "start_time": "2022-11-29T14:42:40.273Z"
   },
   {
    "duration": 8,
    "start_time": "2022-11-29T14:42:40.280Z"
   },
   {
    "duration": 7,
    "start_time": "2022-11-29T14:42:40.290Z"
   },
   {
    "duration": 26,
    "start_time": "2022-11-29T14:42:40.299Z"
   },
   {
    "duration": 10,
    "start_time": "2022-11-29T14:42:40.327Z"
   },
   {
    "duration": 9,
    "start_time": "2022-11-29T14:42:40.338Z"
   },
   {
    "duration": 28058,
    "start_time": "2022-11-29T14:42:40.350Z"
   },
   {
    "duration": 14,
    "start_time": "2022-11-29T14:43:08.409Z"
   },
   {
    "duration": 4,
    "start_time": "2022-11-29T14:44:35.218Z"
   },
   {
    "duration": 51,
    "start_time": "2022-11-29T14:44:35.224Z"
   },
   {
    "duration": 11,
    "start_time": "2022-11-29T14:44:35.277Z"
   },
   {
    "duration": 22,
    "start_time": "2022-11-29T14:44:35.290Z"
   },
   {
    "duration": 523,
    "start_time": "2022-11-29T14:44:35.314Z"
   },
   {
    "duration": 8,
    "start_time": "2022-11-29T14:44:35.839Z"
   },
   {
    "duration": 536,
    "start_time": "2022-11-29T14:44:38.381Z"
   },
   {
    "duration": 9,
    "start_time": "2022-11-29T14:44:46.932Z"
   },
   {
    "duration": 501,
    "start_time": "2022-11-29T14:44:47.674Z"
   },
   {
    "duration": 20,
    "start_time": "2022-11-29T14:45:43.816Z"
   },
   {
    "duration": 4,
    "start_time": "2022-11-29T14:45:50.567Z"
   },
   {
    "duration": 50,
    "start_time": "2022-11-29T14:45:50.574Z"
   },
   {
    "duration": 12,
    "start_time": "2022-11-29T14:45:50.626Z"
   },
   {
    "duration": 18,
    "start_time": "2022-11-29T14:45:50.640Z"
   },
   {
    "duration": 543,
    "start_time": "2022-11-29T14:45:50.660Z"
   },
   {
    "duration": 15,
    "start_time": "2022-11-29T14:45:52.938Z"
   },
   {
    "duration": 4,
    "start_time": "2022-11-29T14:50:40.431Z"
   },
   {
    "duration": 49,
    "start_time": "2022-11-29T14:50:40.437Z"
   },
   {
    "duration": 11,
    "start_time": "2022-11-29T14:50:40.488Z"
   },
   {
    "duration": 17,
    "start_time": "2022-11-29T14:50:40.501Z"
   },
   {
    "duration": 617,
    "start_time": "2022-11-29T14:50:40.519Z"
   },
   {
    "duration": 17,
    "start_time": "2022-11-29T14:50:41.138Z"
   },
   {
    "duration": 17,
    "start_time": "2022-11-29T14:50:42.982Z"
   },
   {
    "duration": 22,
    "start_time": "2022-11-29T14:50:53.878Z"
   },
   {
    "duration": 85,
    "start_time": "2022-11-29T14:54:00.033Z"
   },
   {
    "duration": 9,
    "start_time": "2022-11-29T14:56:22.093Z"
   },
   {
    "duration": 685,
    "start_time": "2022-11-29T14:56:24.302Z"
   },
   {
    "duration": 2276,
    "start_time": "2022-11-30T08:35:53.938Z"
   },
   {
    "duration": 151,
    "start_time": "2022-11-30T08:35:56.217Z"
   },
   {
    "duration": 14,
    "start_time": "2022-11-30T08:35:56.371Z"
   },
   {
    "duration": 32,
    "start_time": "2022-11-30T08:35:56.387Z"
   },
   {
    "duration": 745,
    "start_time": "2022-11-30T08:35:56.421Z"
   },
   {
    "duration": 10,
    "start_time": "2022-11-30T08:35:57.168Z"
   },
   {
    "duration": 729,
    "start_time": "2022-11-30T08:35:57.181Z"
   },
   {
    "duration": 9,
    "start_time": "2022-11-30T08:36:16.266Z"
   },
   {
    "duration": 6,
    "start_time": "2022-11-30T08:36:30.996Z"
   },
   {
    "duration": 7,
    "start_time": "2022-11-30T08:36:50.928Z"
   },
   {
    "duration": 7,
    "start_time": "2022-11-30T08:37:19.608Z"
   },
   {
    "duration": 7,
    "start_time": "2022-11-30T08:37:49.174Z"
   },
   {
    "duration": 8,
    "start_time": "2022-11-30T08:38:23.791Z"
   },
   {
    "duration": 4,
    "start_time": "2022-11-30T08:39:01.949Z"
   },
   {
    "duration": 56,
    "start_time": "2022-11-30T08:39:01.954Z"
   },
   {
    "duration": 9,
    "start_time": "2022-11-30T08:39:02.012Z"
   },
   {
    "duration": 18,
    "start_time": "2022-11-30T08:39:02.023Z"
   },
   {
    "duration": 499,
    "start_time": "2022-11-30T08:39:02.042Z"
   },
   {
    "duration": 11,
    "start_time": "2022-11-30T08:39:02.543Z"
   },
   {
    "duration": 626,
    "start_time": "2022-11-30T08:39:02.557Z"
   },
   {
    "duration": 10,
    "start_time": "2022-11-30T08:39:03.185Z"
   },
   {
    "duration": 6,
    "start_time": "2022-11-30T08:39:03.198Z"
   },
   {
    "duration": 20,
    "start_time": "2022-11-30T08:39:03.206Z"
   },
   {
    "duration": 26,
    "start_time": "2022-11-30T08:39:03.228Z"
   },
   {
    "duration": 9,
    "start_time": "2022-11-30T08:39:03.278Z"
   },
   {
    "duration": 17,
    "start_time": "2022-11-30T08:39:03.288Z"
   },
   {
    "duration": 22,
    "start_time": "2022-11-30T08:39:03.307Z"
   },
   {
    "duration": 16,
    "start_time": "2022-11-30T08:39:03.330Z"
   },
   {
    "duration": 13,
    "start_time": "2022-11-30T08:39:03.348Z"
   },
   {
    "duration": 23,
    "start_time": "2022-11-30T08:39:03.362Z"
   },
   {
    "duration": 13,
    "start_time": "2022-11-30T08:39:03.386Z"
   },
   {
    "duration": 11,
    "start_time": "2022-11-30T08:39:03.401Z"
   },
   {
    "duration": 6,
    "start_time": "2022-11-30T08:39:03.414Z"
   },
   {
    "duration": 15,
    "start_time": "2022-11-30T08:39:03.421Z"
   },
   {
    "duration": 15,
    "start_time": "2022-11-30T08:39:03.438Z"
   },
   {
    "duration": 23,
    "start_time": "2022-11-30T08:39:03.455Z"
   },
   {
    "duration": 37,
    "start_time": "2022-11-30T08:39:03.482Z"
   },
   {
    "duration": 30595,
    "start_time": "2022-11-30T08:39:03.521Z"
   },
   {
    "duration": 6,
    "start_time": "2022-11-30T08:39:34.118Z"
   },
   {
    "duration": 4,
    "start_time": "2022-11-30T08:40:09.837Z"
   },
   {
    "duration": 63,
    "start_time": "2022-11-30T08:40:09.844Z"
   },
   {
    "duration": 10,
    "start_time": "2022-11-30T08:40:09.908Z"
   },
   {
    "duration": 24,
    "start_time": "2022-11-30T08:40:09.921Z"
   },
   {
    "duration": 597,
    "start_time": "2022-11-30T08:40:09.947Z"
   },
   {
    "duration": 9,
    "start_time": "2022-11-30T08:40:10.546Z"
   },
   {
    "duration": 490,
    "start_time": "2022-11-30T08:40:10.557Z"
   },
   {
    "duration": 5,
    "start_time": "2022-11-30T08:40:11.049Z"
   },
   {
    "duration": 29,
    "start_time": "2022-11-30T08:40:11.055Z"
   },
   {
    "duration": 24,
    "start_time": "2022-11-30T08:40:11.087Z"
   },
   {
    "duration": 11,
    "start_time": "2022-11-30T08:40:11.113Z"
   },
   {
    "duration": 4,
    "start_time": "2022-11-30T08:40:11.126Z"
   },
   {
    "duration": 6,
    "start_time": "2022-11-30T08:40:11.132Z"
   },
   {
    "duration": 39,
    "start_time": "2022-11-30T08:40:11.139Z"
   },
   {
    "duration": 5,
    "start_time": "2022-11-30T08:40:11.180Z"
   },
   {
    "duration": 10,
    "start_time": "2022-11-30T08:40:11.187Z"
   },
   {
    "duration": 14,
    "start_time": "2022-11-30T08:40:11.199Z"
   },
   {
    "duration": 7,
    "start_time": "2022-11-30T08:40:11.215Z"
   },
   {
    "duration": 9,
    "start_time": "2022-11-30T08:40:11.224Z"
   },
   {
    "duration": 8,
    "start_time": "2022-11-30T08:40:11.235Z"
   },
   {
    "duration": 41,
    "start_time": "2022-11-30T08:40:11.245Z"
   },
   {
    "duration": 15,
    "start_time": "2022-11-30T08:40:11.288Z"
   },
   {
    "duration": 16,
    "start_time": "2022-11-30T08:40:11.305Z"
   },
   {
    "duration": 200,
    "start_time": "2022-11-30T08:40:11.323Z"
   },
   {
    "duration": 0,
    "start_time": "2022-11-30T08:40:11.525Z"
   },
   {
    "duration": 4,
    "start_time": "2022-11-30T08:40:24.038Z"
   },
   {
    "duration": 71,
    "start_time": "2022-11-30T08:40:24.044Z"
   },
   {
    "duration": 11,
    "start_time": "2022-11-30T08:40:24.117Z"
   },
   {
    "duration": 32,
    "start_time": "2022-11-30T08:40:24.132Z"
   },
   {
    "duration": 533,
    "start_time": "2022-11-30T08:40:24.166Z"
   },
   {
    "duration": 9,
    "start_time": "2022-11-30T08:40:24.701Z"
   },
   {
    "duration": 484,
    "start_time": "2022-11-30T08:40:24.711Z"
   },
   {
    "duration": 4,
    "start_time": "2022-11-30T08:40:25.197Z"
   },
   {
    "duration": 32,
    "start_time": "2022-11-30T08:40:25.203Z"
   },
   {
    "duration": 55,
    "start_time": "2022-11-30T08:40:25.236Z"
   },
   {
    "duration": 23,
    "start_time": "2022-11-30T08:40:25.293Z"
   },
   {
    "duration": 25,
    "start_time": "2022-11-30T08:40:25.318Z"
   },
   {
    "duration": 7,
    "start_time": "2022-11-30T08:40:25.345Z"
   },
   {
    "duration": 13,
    "start_time": "2022-11-30T08:40:25.353Z"
   },
   {
    "duration": 5,
    "start_time": "2022-11-30T08:40:25.368Z"
   },
   {
    "duration": 6,
    "start_time": "2022-11-30T08:40:25.374Z"
   },
   {
    "duration": 10,
    "start_time": "2022-11-30T08:40:25.382Z"
   },
   {
    "duration": 4,
    "start_time": "2022-11-30T08:40:25.394Z"
   },
   {
    "duration": 7,
    "start_time": "2022-11-30T08:40:25.400Z"
   },
   {
    "duration": 7,
    "start_time": "2022-11-30T08:40:25.408Z"
   },
   {
    "duration": 10,
    "start_time": "2022-11-30T08:40:25.417Z"
   },
   {
    "duration": 8,
    "start_time": "2022-11-30T08:40:25.429Z"
   },
   {
    "duration": 8,
    "start_time": "2022-11-30T08:40:25.439Z"
   },
   {
    "duration": 29061,
    "start_time": "2022-11-30T08:40:25.477Z"
   },
   {
    "duration": 4,
    "start_time": "2022-11-30T08:40:54.540Z"
   },
   {
    "duration": 3,
    "start_time": "2022-11-30T08:41:17.433Z"
   },
   {
    "duration": 5,
    "start_time": "2022-11-30T08:49:16.162Z"
   },
   {
    "duration": 3,
    "start_time": "2022-11-30T08:50:05.838Z"
   },
   {
    "duration": 59,
    "start_time": "2022-11-30T08:50:05.844Z"
   },
   {
    "duration": 10,
    "start_time": "2022-11-30T08:50:05.904Z"
   },
   {
    "duration": 22,
    "start_time": "2022-11-30T08:50:05.915Z"
   },
   {
    "duration": 498,
    "start_time": "2022-11-30T08:50:05.938Z"
   },
   {
    "duration": 10,
    "start_time": "2022-11-30T08:50:06.438Z"
   },
   {
    "duration": 503,
    "start_time": "2022-11-30T08:50:06.449Z"
   },
   {
    "duration": 5,
    "start_time": "2022-11-30T08:50:06.953Z"
   },
   {
    "duration": 27,
    "start_time": "2022-11-30T08:50:06.961Z"
   },
   {
    "duration": 25,
    "start_time": "2022-11-30T08:50:06.990Z"
   },
   {
    "duration": 13,
    "start_time": "2022-11-30T08:50:07.017Z"
   },
   {
    "duration": 27,
    "start_time": "2022-11-30T08:50:07.032Z"
   },
   {
    "duration": 9,
    "start_time": "2022-11-30T08:50:07.061Z"
   },
   {
    "duration": 12,
    "start_time": "2022-11-30T08:50:07.071Z"
   },
   {
    "duration": 11,
    "start_time": "2022-11-30T08:50:07.085Z"
   },
   {
    "duration": 13,
    "start_time": "2022-11-30T08:50:07.099Z"
   },
   {
    "duration": 4,
    "start_time": "2022-11-30T08:50:07.114Z"
   },
   {
    "duration": 18,
    "start_time": "2022-11-30T08:50:09.414Z"
   },
   {
    "duration": 11,
    "start_time": "2022-11-30T08:50:57.704Z"
   },
   {
    "duration": 5,
    "start_time": "2022-11-30T08:51:13.471Z"
   },
   {
    "duration": 3,
    "start_time": "2022-11-30T08:51:40.882Z"
   },
   {
    "duration": 56,
    "start_time": "2022-11-30T08:51:40.886Z"
   },
   {
    "duration": 10,
    "start_time": "2022-11-30T08:51:40.943Z"
   },
   {
    "duration": 16,
    "start_time": "2022-11-30T08:51:40.954Z"
   },
   {
    "duration": 478,
    "start_time": "2022-11-30T08:51:40.977Z"
   },
   {
    "duration": 22,
    "start_time": "2022-11-30T08:51:41.456Z"
   },
   {
    "duration": 462,
    "start_time": "2022-11-30T08:51:41.480Z"
   },
   {
    "duration": 4,
    "start_time": "2022-11-30T08:51:41.943Z"
   },
   {
    "duration": 32,
    "start_time": "2022-11-30T08:51:41.949Z"
   },
   {
    "duration": 23,
    "start_time": "2022-11-30T08:51:41.982Z"
   },
   {
    "duration": 7,
    "start_time": "2022-11-30T08:51:42.008Z"
   },
   {
    "duration": 7,
    "start_time": "2022-11-30T08:51:42.016Z"
   },
   {
    "duration": 5,
    "start_time": "2022-11-30T08:51:42.024Z"
   },
   {
    "duration": 13,
    "start_time": "2022-11-30T08:51:42.031Z"
   },
   {
    "duration": 32,
    "start_time": "2022-11-30T08:51:42.046Z"
   },
   {
    "duration": 10,
    "start_time": "2022-11-30T08:51:42.081Z"
   },
   {
    "duration": 3,
    "start_time": "2022-11-30T08:51:42.093Z"
   },
   {
    "duration": 54,
    "start_time": "2022-11-30T08:51:43.744Z"
   },
   {
    "duration": 4,
    "start_time": "2022-11-30T08:53:04.382Z"
   },
   {
    "duration": 5,
    "start_time": "2022-11-30T08:53:14.821Z"
   },
   {
    "duration": 4,
    "start_time": "2022-11-30T08:54:00.556Z"
   },
   {
    "duration": 4,
    "start_time": "2022-11-30T08:55:38.724Z"
   },
   {
    "duration": 65,
    "start_time": "2022-11-30T08:55:38.731Z"
   },
   {
    "duration": 14,
    "start_time": "2022-11-30T08:55:38.798Z"
   },
   {
    "duration": 18,
    "start_time": "2022-11-30T08:55:38.815Z"
   },
   {
    "duration": 530,
    "start_time": "2022-11-30T08:55:38.835Z"
   },
   {
    "duration": 19,
    "start_time": "2022-11-30T08:55:39.367Z"
   },
   {
    "duration": 485,
    "start_time": "2022-11-30T08:55:39.388Z"
   },
   {
    "duration": 6,
    "start_time": "2022-11-30T08:55:39.874Z"
   },
   {
    "duration": 29,
    "start_time": "2022-11-30T08:55:39.882Z"
   },
   {
    "duration": 25,
    "start_time": "2022-11-30T08:55:39.912Z"
   },
   {
    "duration": 12,
    "start_time": "2022-11-30T08:55:39.939Z"
   },
   {
    "duration": 26,
    "start_time": "2022-11-30T08:55:39.954Z"
   },
   {
    "duration": 6,
    "start_time": "2022-11-30T08:55:39.982Z"
   },
   {
    "duration": 12,
    "start_time": "2022-11-30T08:55:39.990Z"
   },
   {
    "duration": 7,
    "start_time": "2022-11-30T08:55:40.004Z"
   },
   {
    "duration": 13,
    "start_time": "2022-11-30T08:55:40.012Z"
   },
   {
    "duration": 21,
    "start_time": "2022-11-30T08:55:40.026Z"
   },
   {
    "duration": 1,
    "start_time": "2022-11-30T08:55:40.049Z"
   },
   {
    "duration": 13,
    "start_time": "2022-11-30T08:56:05.491Z"
   },
   {
    "duration": 4,
    "start_time": "2022-11-30T08:56:15.330Z"
   },
   {
    "duration": 4,
    "start_time": "2022-11-30T08:56:26.657Z"
   },
   {
    "duration": 5,
    "start_time": "2022-11-30T08:56:27.498Z"
   },
   {
    "duration": 16,
    "start_time": "2022-11-30T08:56:32.705Z"
   },
   {
    "duration": 10,
    "start_time": "2022-11-30T08:56:50.129Z"
   },
   {
    "duration": 13,
    "start_time": "2022-11-30T08:56:54.953Z"
   },
   {
    "duration": 4,
    "start_time": "2022-11-30T08:57:02.576Z"
   },
   {
    "duration": 4,
    "start_time": "2022-11-30T08:57:12.936Z"
   },
   {
    "duration": 4,
    "start_time": "2022-11-30T08:57:21.473Z"
   },
   {
    "duration": 4,
    "start_time": "2022-11-30T08:57:25.184Z"
   },
   {
    "duration": 3,
    "start_time": "2022-11-30T08:57:36.271Z"
   },
   {
    "duration": 4,
    "start_time": "2022-11-30T08:57:38.072Z"
   },
   {
    "duration": 69,
    "start_time": "2022-11-30T08:58:00.424Z"
   },
   {
    "duration": 84,
    "start_time": "2022-11-30T08:58:04.695Z"
   },
   {
    "duration": 78,
    "start_time": "2022-11-30T08:58:07.727Z"
   },
   {
    "duration": 13,
    "start_time": "2022-11-30T08:59:02.766Z"
   },
   {
    "duration": 12,
    "start_time": "2022-11-30T08:59:18.638Z"
   },
   {
    "duration": 4,
    "start_time": "2022-11-30T08:59:22.821Z"
   },
   {
    "duration": 3,
    "start_time": "2022-11-30T08:59:27.573Z"
   },
   {
    "duration": 4,
    "start_time": "2022-11-30T08:59:30.061Z"
   },
   {
    "duration": 21,
    "start_time": "2022-11-30T08:59:43.445Z"
   },
   {
    "duration": 19,
    "start_time": "2022-11-30T08:59:49.438Z"
   },
   {
    "duration": 40,
    "start_time": "2022-11-30T09:00:03.933Z"
   },
   {
    "duration": 170,
    "start_time": "2022-11-30T09:00:10.781Z"
   },
   {
    "duration": 5,
    "start_time": "2022-11-30T09:00:27.213Z"
   },
   {
    "duration": 13,
    "start_time": "2022-11-30T09:00:37.829Z"
   },
   {
    "duration": 4,
    "start_time": "2022-11-30T09:00:47.372Z"
   },
   {
    "duration": 5,
    "start_time": "2022-11-30T09:00:51.461Z"
   },
   {
    "duration": 12,
    "start_time": "2022-11-30T09:01:04.710Z"
   },
   {
    "duration": 24,
    "start_time": "2022-11-30T09:01:15.789Z"
   },
   {
    "duration": 5,
    "start_time": "2022-11-30T09:01:25.892Z"
   },
   {
    "duration": 13,
    "start_time": "2022-11-30T09:02:34.992Z"
   },
   {
    "duration": 4,
    "start_time": "2022-11-30T09:02:48.420Z"
   },
   {
    "duration": 42,
    "start_time": "2022-11-30T09:02:50.876Z"
   },
   {
    "duration": 3,
    "start_time": "2022-11-30T09:03:33.708Z"
   },
   {
    "duration": 4,
    "start_time": "2022-11-30T09:03:35.596Z"
   },
   {
    "duration": 29,
    "start_time": "2022-11-30T09:03:38.619Z"
   },
   {
    "duration": 3,
    "start_time": "2022-11-30T09:04:07.523Z"
   },
   {
    "duration": 4,
    "start_time": "2022-11-30T09:04:08.906Z"
   },
   {
    "duration": 29,
    "start_time": "2022-11-30T09:04:17.587Z"
   },
   {
    "duration": 22,
    "start_time": "2022-11-30T09:04:43.163Z"
   },
   {
    "duration": 7,
    "start_time": "2022-11-30T09:05:02.207Z"
   },
   {
    "duration": 4,
    "start_time": "2022-11-30T09:05:04.545Z"
   },
   {
    "duration": 20,
    "start_time": "2022-11-30T09:05:05.910Z"
   },
   {
    "duration": 4,
    "start_time": "2022-11-30T09:05:34.311Z"
   },
   {
    "duration": 67,
    "start_time": "2022-11-30T09:05:34.318Z"
   },
   {
    "duration": 10,
    "start_time": "2022-11-30T09:05:34.386Z"
   },
   {
    "duration": 16,
    "start_time": "2022-11-30T09:05:34.398Z"
   },
   {
    "duration": 533,
    "start_time": "2022-11-30T09:05:34.415Z"
   },
   {
    "duration": 9,
    "start_time": "2022-11-30T09:05:34.950Z"
   },
   {
    "duration": 480,
    "start_time": "2022-11-30T09:05:34.960Z"
   },
   {
    "duration": 5,
    "start_time": "2022-11-30T09:05:35.443Z"
   },
   {
    "duration": 43,
    "start_time": "2022-11-30T09:05:35.449Z"
   },
   {
    "duration": 47,
    "start_time": "2022-11-30T09:05:35.495Z"
   },
   {
    "duration": 9,
    "start_time": "2022-11-30T09:05:35.544Z"
   },
   {
    "duration": 9,
    "start_time": "2022-11-30T09:05:35.556Z"
   },
   {
    "duration": 7,
    "start_time": "2022-11-30T09:05:35.567Z"
   },
   {
    "duration": 33,
    "start_time": "2022-11-30T09:05:35.576Z"
   },
   {
    "duration": 32,
    "start_time": "2022-11-30T09:05:35.610Z"
   },
   {
    "duration": 20,
    "start_time": "2022-11-30T09:05:35.644Z"
   },
   {
    "duration": 32,
    "start_time": "2022-11-30T09:05:35.666Z"
   },
   {
    "duration": 18,
    "start_time": "2022-11-30T09:05:35.700Z"
   },
   {
    "duration": 5,
    "start_time": "2022-11-30T09:05:37.545Z"
   },
   {
    "duration": 22,
    "start_time": "2022-11-30T09:05:37.829Z"
   },
   {
    "duration": 5,
    "start_time": "2022-11-30T09:06:24.009Z"
   },
   {
    "duration": 16,
    "start_time": "2022-11-30T09:06:24.890Z"
   },
   {
    "duration": 14,
    "start_time": "2022-11-30T09:06:50.985Z"
   },
   {
    "duration": 4,
    "start_time": "2022-11-30T09:06:57.497Z"
   },
   {
    "duration": 12,
    "start_time": "2022-11-30T09:07:31.536Z"
   },
   {
    "duration": 9,
    "start_time": "2022-11-30T09:08:04.191Z"
   },
   {
    "duration": 11,
    "start_time": "2022-11-30T09:08:13.391Z"
   },
   {
    "duration": 5,
    "start_time": "2022-11-30T09:08:23.903Z"
   },
   {
    "duration": 5,
    "start_time": "2022-11-30T09:08:56.986Z"
   },
   {
    "duration": 65,
    "start_time": "2022-11-30T09:08:56.993Z"
   },
   {
    "duration": 12,
    "start_time": "2022-11-30T09:08:57.060Z"
   },
   {
    "duration": 39,
    "start_time": "2022-11-30T09:08:57.074Z"
   },
   {
    "duration": 513,
    "start_time": "2022-11-30T09:08:57.115Z"
   },
   {
    "duration": 9,
    "start_time": "2022-11-30T09:08:57.630Z"
   },
   {
    "duration": 509,
    "start_time": "2022-11-30T09:08:57.641Z"
   },
   {
    "duration": 4,
    "start_time": "2022-11-30T09:08:58.152Z"
   },
   {
    "duration": 30,
    "start_time": "2022-11-30T09:08:58.158Z"
   },
   {
    "duration": 37,
    "start_time": "2022-11-30T09:08:58.191Z"
   },
   {
    "duration": 10,
    "start_time": "2022-11-30T09:08:58.230Z"
   },
   {
    "duration": 4,
    "start_time": "2022-11-30T09:08:58.242Z"
   },
   {
    "duration": 29,
    "start_time": "2022-11-30T09:08:58.249Z"
   },
   {
    "duration": 10,
    "start_time": "2022-11-30T09:08:58.281Z"
   },
   {
    "duration": 9,
    "start_time": "2022-11-30T09:08:58.293Z"
   },
   {
    "duration": 5,
    "start_time": "2022-11-30T09:08:58.304Z"
   },
   {
    "duration": 13,
    "start_time": "2022-11-30T09:08:58.311Z"
   },
   {
    "duration": 4,
    "start_time": "2022-11-30T09:08:58.326Z"
   },
   {
    "duration": 6,
    "start_time": "2022-11-30T09:09:01.092Z"
   },
   {
    "duration": 135,
    "start_time": "2022-11-30T09:09:02.008Z"
   },
   {
    "duration": 27,
    "start_time": "2022-11-30T09:09:21.686Z"
   },
   {
    "duration": 3,
    "start_time": "2022-11-30T09:10:32.358Z"
   },
   {
    "duration": 3,
    "start_time": "2022-11-30T09:10:42.067Z"
   },
   {
    "duration": 64,
    "start_time": "2022-11-30T09:10:42.073Z"
   },
   {
    "duration": 10,
    "start_time": "2022-11-30T09:10:42.139Z"
   },
   {
    "duration": 15,
    "start_time": "2022-11-30T09:10:42.152Z"
   },
   {
    "duration": 533,
    "start_time": "2022-11-30T09:10:42.169Z"
   },
   {
    "duration": 12,
    "start_time": "2022-11-30T09:10:42.703Z"
   },
   {
    "duration": 526,
    "start_time": "2022-11-30T09:10:42.716Z"
   },
   {
    "duration": 4,
    "start_time": "2022-11-30T09:10:43.243Z"
   },
   {
    "duration": 42,
    "start_time": "2022-11-30T09:10:43.250Z"
   },
   {
    "duration": 23,
    "start_time": "2022-11-30T09:10:43.295Z"
   },
   {
    "duration": 10,
    "start_time": "2022-11-30T09:10:43.319Z"
   },
   {
    "duration": 4,
    "start_time": "2022-11-30T09:10:43.330Z"
   },
   {
    "duration": 7,
    "start_time": "2022-11-30T09:10:43.335Z"
   },
   {
    "duration": 13,
    "start_time": "2022-11-30T09:10:43.343Z"
   },
   {
    "duration": 6,
    "start_time": "2022-11-30T09:10:43.357Z"
   },
   {
    "duration": 5,
    "start_time": "2022-11-30T09:10:43.364Z"
   },
   {
    "duration": 8,
    "start_time": "2022-11-30T09:10:43.391Z"
   },
   {
    "duration": 7,
    "start_time": "2022-11-30T09:10:43.401Z"
   },
   {
    "duration": 71,
    "start_time": "2022-11-30T09:10:59.036Z"
   },
   {
    "duration": 8,
    "start_time": "2022-11-30T09:12:34.181Z"
   },
   {
    "duration": 58,
    "start_time": "2022-11-30T09:12:36.787Z"
   },
   {
    "duration": 176,
    "start_time": "2022-11-30T09:12:50.639Z"
   },
   {
    "duration": 4,
    "start_time": "2022-11-30T09:13:10.262Z"
   },
   {
    "duration": 55,
    "start_time": "2022-11-30T09:13:10.267Z"
   },
   {
    "duration": 10,
    "start_time": "2022-11-30T09:13:10.324Z"
   },
   {
    "duration": 16,
    "start_time": "2022-11-30T09:13:10.336Z"
   },
   {
    "duration": 788,
    "start_time": "2022-11-30T09:13:10.353Z"
   },
   {
    "duration": 46,
    "start_time": "2022-11-30T09:13:11.142Z"
   },
   {
    "duration": 469,
    "start_time": "2022-11-30T09:13:11.190Z"
   },
   {
    "duration": 4,
    "start_time": "2022-11-30T09:13:11.661Z"
   },
   {
    "duration": 17,
    "start_time": "2022-11-30T09:13:11.678Z"
   },
   {
    "duration": 24,
    "start_time": "2022-11-30T09:13:11.697Z"
   },
   {
    "duration": 8,
    "start_time": "2022-11-30T09:13:11.722Z"
   },
   {
    "duration": 3,
    "start_time": "2022-11-30T09:13:11.731Z"
   },
   {
    "duration": 6,
    "start_time": "2022-11-30T09:13:11.736Z"
   },
   {
    "duration": 14,
    "start_time": "2022-11-30T09:13:11.743Z"
   },
   {
    "duration": 24,
    "start_time": "2022-11-30T09:13:11.758Z"
   },
   {
    "duration": 17,
    "start_time": "2022-11-30T09:13:11.785Z"
   },
   {
    "duration": 11,
    "start_time": "2022-11-30T09:13:11.803Z"
   },
   {
    "duration": 3,
    "start_time": "2022-11-30T09:13:11.816Z"
   },
   {
    "duration": 46,
    "start_time": "2022-11-30T09:13:13.708Z"
   },
   {
    "duration": 15,
    "start_time": "2022-11-30T09:13:21.115Z"
   },
   {
    "duration": 5,
    "start_time": "2022-11-30T09:13:24.246Z"
   },
   {
    "duration": 3,
    "start_time": "2022-11-30T09:13:24.568Z"
   },
   {
    "duration": 11,
    "start_time": "2022-11-30T09:13:25.210Z"
   },
   {
    "duration": 4,
    "start_time": "2022-11-30T09:13:25.441Z"
   },
   {
    "duration": 10,
    "start_time": "2022-11-30T09:13:25.674Z"
   },
   {
    "duration": 40385,
    "start_time": "2022-11-30T09:13:28.657Z"
   },
   {
    "duration": 5,
    "start_time": "2022-11-30T09:14:09.043Z"
   },
   {
    "duration": 4,
    "start_time": "2022-11-30T09:14:29.115Z"
   },
   {
    "duration": 82,
    "start_time": "2022-11-30T09:14:29.121Z"
   },
   {
    "duration": 14,
    "start_time": "2022-11-30T09:14:29.206Z"
   },
   {
    "duration": 37,
    "start_time": "2022-11-30T09:14:29.222Z"
   },
   {
    "duration": 534,
    "start_time": "2022-11-30T09:14:29.263Z"
   },
   {
    "duration": 11,
    "start_time": "2022-11-30T09:14:29.801Z"
   },
   {
    "duration": 512,
    "start_time": "2022-11-30T09:14:29.813Z"
   },
   {
    "duration": 4,
    "start_time": "2022-11-30T09:14:30.327Z"
   },
   {
    "duration": 28,
    "start_time": "2022-11-30T09:14:30.333Z"
   },
   {
    "duration": 44,
    "start_time": "2022-11-30T09:14:30.362Z"
   },
   {
    "duration": 11,
    "start_time": "2022-11-30T09:14:30.409Z"
   },
   {
    "duration": 20,
    "start_time": "2022-11-30T09:14:30.422Z"
   },
   {
    "duration": 21,
    "start_time": "2022-11-30T09:14:30.444Z"
   },
   {
    "duration": 55,
    "start_time": "2022-11-30T09:14:30.468Z"
   },
   {
    "duration": 16,
    "start_time": "2022-11-30T09:14:30.525Z"
   },
   {
    "duration": 33,
    "start_time": "2022-11-30T09:14:30.543Z"
   },
   {
    "duration": 33,
    "start_time": "2022-11-30T09:14:30.582Z"
   },
   {
    "duration": 26,
    "start_time": "2022-11-30T09:14:30.617Z"
   },
   {
    "duration": 90,
    "start_time": "2022-11-30T09:14:30.644Z"
   },
   {
    "duration": 13,
    "start_time": "2022-11-30T09:14:30.736Z"
   },
   {
    "duration": 0,
    "start_time": "2022-11-30T09:14:30.752Z"
   },
   {
    "duration": 0,
    "start_time": "2022-11-30T09:14:30.753Z"
   },
   {
    "duration": 0,
    "start_time": "2022-11-30T09:14:30.755Z"
   },
   {
    "duration": 0,
    "start_time": "2022-11-30T09:14:30.756Z"
   },
   {
    "duration": 1,
    "start_time": "2022-11-30T09:14:30.757Z"
   },
   {
    "duration": 0,
    "start_time": "2022-11-30T09:14:30.759Z"
   },
   {
    "duration": 1,
    "start_time": "2022-11-30T09:14:30.779Z"
   },
   {
    "duration": 24,
    "start_time": "2022-11-30T09:15:27.673Z"
   },
   {
    "duration": 9,
    "start_time": "2022-11-30T09:16:01.305Z"
   },
   {
    "duration": 5,
    "start_time": "2022-11-30T09:16:05.595Z"
   },
   {
    "duration": 3,
    "start_time": "2022-11-30T09:16:06.392Z"
   },
   {
    "duration": 10,
    "start_time": "2022-11-30T09:16:07.603Z"
   },
   {
    "duration": 3,
    "start_time": "2022-11-30T09:16:08.165Z"
   },
   {
    "duration": 4,
    "start_time": "2022-11-30T09:16:08.894Z"
   },
   {
    "duration": 31,
    "start_time": "2022-11-30T09:16:11.071Z"
   },
   {
    "duration": 3,
    "start_time": "2022-11-30T09:16:19.356Z"
   },
   {
    "duration": 5,
    "start_time": "2022-11-30T09:16:19.836Z"
   },
   {
    "duration": 43383,
    "start_time": "2022-11-30T09:16:21.032Z"
   },
   {
    "duration": 5,
    "start_time": "2022-11-30T09:17:04.416Z"
   },
   {
    "duration": 5,
    "start_time": "2022-11-30T09:21:07.601Z"
   },
   {
    "duration": 83,
    "start_time": "2022-11-30T09:21:07.609Z"
   },
   {
    "duration": 11,
    "start_time": "2022-11-30T09:21:07.693Z"
   },
   {
    "duration": 25,
    "start_time": "2022-11-30T09:21:07.706Z"
   },
   {
    "duration": 571,
    "start_time": "2022-11-30T09:21:07.733Z"
   },
   {
    "duration": 8,
    "start_time": "2022-11-30T09:21:08.306Z"
   },
   {
    "duration": 516,
    "start_time": "2022-11-30T09:21:08.316Z"
   },
   {
    "duration": 4,
    "start_time": "2022-11-30T09:21:08.834Z"
   },
   {
    "duration": 22,
    "start_time": "2022-11-30T09:21:08.840Z"
   },
   {
    "duration": 46,
    "start_time": "2022-11-30T09:21:08.864Z"
   },
   {
    "duration": 6,
    "start_time": "2022-11-30T09:21:08.912Z"
   },
   {
    "duration": 6,
    "start_time": "2022-11-30T09:21:08.920Z"
   },
   {
    "duration": 10,
    "start_time": "2022-11-30T09:21:08.927Z"
   },
   {
    "duration": 17,
    "start_time": "2022-11-30T09:21:08.939Z"
   },
   {
    "duration": 13,
    "start_time": "2022-11-30T09:21:08.957Z"
   },
   {
    "duration": 15,
    "start_time": "2022-11-30T09:21:08.971Z"
   },
   {
    "duration": 13,
    "start_time": "2022-11-30T09:21:08.992Z"
   },
   {
    "duration": 22,
    "start_time": "2022-11-30T09:21:09.007Z"
   },
   {
    "duration": 66,
    "start_time": "2022-11-30T09:21:09.034Z"
   },
   {
    "duration": 11,
    "start_time": "2022-11-30T09:21:09.102Z"
   },
   {
    "duration": 5,
    "start_time": "2022-11-30T09:21:09.115Z"
   },
   {
    "duration": 5,
    "start_time": "2022-11-30T09:21:09.121Z"
   },
   {
    "duration": 11,
    "start_time": "2022-11-30T09:21:09.128Z"
   },
   {
    "duration": 36,
    "start_time": "2022-11-30T09:21:09.143Z"
   },
   {
    "duration": 25,
    "start_time": "2022-11-30T09:21:09.181Z"
   },
   {
    "duration": 41989,
    "start_time": "2022-11-30T09:21:09.208Z"
   },
   {
    "duration": 4,
    "start_time": "2022-11-30T09:21:51.199Z"
   },
   {
    "duration": 9,
    "start_time": "2022-11-30T09:22:33.041Z"
   },
   {
    "duration": 4,
    "start_time": "2022-11-30T09:55:45.030Z"
   },
   {
    "duration": 58,
    "start_time": "2022-11-30T09:55:45.036Z"
   },
   {
    "duration": 10,
    "start_time": "2022-11-30T09:55:45.095Z"
   },
   {
    "duration": 19,
    "start_time": "2022-11-30T09:55:45.106Z"
   },
   {
    "duration": 529,
    "start_time": "2022-11-30T09:55:45.128Z"
   },
   {
    "duration": 19,
    "start_time": "2022-11-30T09:55:45.659Z"
   },
   {
    "duration": 621,
    "start_time": "2022-11-30T09:55:45.680Z"
   },
   {
    "duration": 6,
    "start_time": "2022-11-30T09:55:46.303Z"
   },
   {
    "duration": 22,
    "start_time": "2022-11-30T09:55:46.311Z"
   },
   {
    "duration": 42,
    "start_time": "2022-11-30T09:55:46.335Z"
   },
   {
    "duration": 8,
    "start_time": "2022-11-30T09:55:46.381Z"
   },
   {
    "duration": 4,
    "start_time": "2022-11-30T09:55:46.390Z"
   },
   {
    "duration": 6,
    "start_time": "2022-11-30T09:55:46.396Z"
   },
   {
    "duration": 12,
    "start_time": "2022-11-30T09:55:46.404Z"
   },
   {
    "duration": 5,
    "start_time": "2022-11-30T09:55:46.418Z"
   },
   {
    "duration": 6,
    "start_time": "2022-11-30T09:55:46.425Z"
   },
   {
    "duration": 49,
    "start_time": "2022-11-30T09:55:46.433Z"
   },
   {
    "duration": 4,
    "start_time": "2022-11-30T09:55:46.484Z"
   },
   {
    "duration": 48,
    "start_time": "2022-11-30T09:55:46.490Z"
   },
   {
    "duration": 14,
    "start_time": "2022-11-30T09:55:46.539Z"
   },
   {
    "duration": 27,
    "start_time": "2022-11-30T09:55:46.555Z"
   },
   {
    "duration": 7,
    "start_time": "2022-11-30T09:55:46.584Z"
   },
   {
    "duration": 11,
    "start_time": "2022-11-30T09:55:46.593Z"
   },
   {
    "duration": 111,
    "start_time": "2022-11-30T09:55:46.605Z"
   },
   {
    "duration": 0,
    "start_time": "2022-11-30T09:55:46.718Z"
   },
   {
    "duration": 0,
    "start_time": "2022-11-30T09:55:46.720Z"
   },
   {
    "duration": 0,
    "start_time": "2022-11-30T09:55:46.721Z"
   },
   {
    "duration": 3,
    "start_time": "2022-11-30T09:59:24.647Z"
   },
   {
    "duration": 51,
    "start_time": "2022-11-30T09:59:24.653Z"
   },
   {
    "duration": 9,
    "start_time": "2022-11-30T09:59:24.706Z"
   },
   {
    "duration": 17,
    "start_time": "2022-11-30T09:59:24.717Z"
   },
   {
    "duration": 534,
    "start_time": "2022-11-30T09:59:24.736Z"
   },
   {
    "duration": 10,
    "start_time": "2022-11-30T09:59:25.277Z"
   },
   {
    "duration": 507,
    "start_time": "2022-11-30T09:59:25.289Z"
   },
   {
    "duration": 4,
    "start_time": "2022-11-30T09:59:25.798Z"
   },
   {
    "duration": 16,
    "start_time": "2022-11-30T09:59:25.804Z"
   },
   {
    "duration": 24,
    "start_time": "2022-11-30T09:59:25.822Z"
   },
   {
    "duration": 55,
    "start_time": "2022-11-30T09:59:25.848Z"
   },
   {
    "duration": 11,
    "start_time": "2022-11-30T09:59:25.905Z"
   },
   {
    "duration": 17,
    "start_time": "2022-11-30T09:59:25.918Z"
   },
   {
    "duration": 28,
    "start_time": "2022-11-30T09:59:25.937Z"
   },
   {
    "duration": 16,
    "start_time": "2022-11-30T09:59:25.966Z"
   },
   {
    "duration": 9,
    "start_time": "2022-11-30T09:59:25.984Z"
   },
   {
    "duration": 17,
    "start_time": "2022-11-30T09:59:25.995Z"
   },
   {
    "duration": 3,
    "start_time": "2022-11-30T09:59:26.014Z"
   },
   {
    "duration": 56,
    "start_time": "2022-11-30T09:59:26.019Z"
   },
   {
    "duration": 9,
    "start_time": "2022-11-30T09:59:26.077Z"
   },
   {
    "duration": 25,
    "start_time": "2022-11-30T09:59:26.087Z"
   },
   {
    "duration": 18,
    "start_time": "2022-11-30T09:59:26.114Z"
   },
   {
    "duration": 12,
    "start_time": "2022-11-30T09:59:26.134Z"
   },
   {
    "duration": 18,
    "start_time": "2022-11-30T09:59:26.148Z"
   },
   {
    "duration": 0,
    "start_time": "2022-11-30T09:59:26.167Z"
   },
   {
    "duration": 0,
    "start_time": "2022-11-30T09:59:26.168Z"
   },
   {
    "duration": 0,
    "start_time": "2022-11-30T09:59:26.169Z"
   },
   {
    "duration": 3648155,
    "start_time": "2022-11-30T10:00:03.010Z"
   },
   {
    "duration": 136182,
    "start_time": "2022-11-30T11:00:51.168Z"
   },
   {
    "duration": 62986,
    "start_time": "2022-11-30T11:03:07.352Z"
   },
   {
    "duration": 4,
    "start_time": "2022-11-30T11:04:10.340Z"
   },
   {
    "duration": 3,
    "start_time": "2022-11-30T11:08:54.949Z"
   },
   {
    "duration": 3,
    "start_time": "2022-11-30T11:09:03.845Z"
   },
   {
    "duration": 4,
    "start_time": "2022-11-30T11:09:53.013Z"
   },
   {
    "duration": 4,
    "start_time": "2022-11-30T11:12:26.357Z"
   },
   {
    "duration": 4,
    "start_time": "2022-11-30T11:13:22.423Z"
   },
   {
    "duration": 54,
    "start_time": "2022-11-30T11:13:22.428Z"
   },
   {
    "duration": 10,
    "start_time": "2022-11-30T11:13:22.484Z"
   },
   {
    "duration": 15,
    "start_time": "2022-11-30T11:13:22.496Z"
   },
   {
    "duration": 502,
    "start_time": "2022-11-30T11:13:22.513Z"
   },
   {
    "duration": 9,
    "start_time": "2022-11-30T11:13:23.016Z"
   },
   {
    "duration": 446,
    "start_time": "2022-11-30T11:13:23.027Z"
   },
   {
    "duration": 5,
    "start_time": "2022-11-30T11:13:23.477Z"
   },
   {
    "duration": 16,
    "start_time": "2022-11-30T11:13:23.484Z"
   },
   {
    "duration": 22,
    "start_time": "2022-11-30T11:13:23.502Z"
   },
   {
    "duration": 7,
    "start_time": "2022-11-30T11:13:23.525Z"
   },
   {
    "duration": 3,
    "start_time": "2022-11-30T11:13:23.533Z"
   },
   {
    "duration": 5,
    "start_time": "2022-11-30T11:13:23.537Z"
   },
   {
    "duration": 34,
    "start_time": "2022-11-30T11:13:23.544Z"
   },
   {
    "duration": 5,
    "start_time": "2022-11-30T11:13:23.579Z"
   },
   {
    "duration": 7,
    "start_time": "2022-11-30T11:13:23.585Z"
   },
   {
    "duration": 9,
    "start_time": "2022-11-30T11:13:23.594Z"
   },
   {
    "duration": 3,
    "start_time": "2022-11-30T11:13:23.604Z"
   },
   {
    "duration": 44,
    "start_time": "2022-11-30T11:13:23.609Z"
   },
   {
    "duration": 25,
    "start_time": "2022-11-30T11:13:23.655Z"
   },
   {
    "duration": 6,
    "start_time": "2022-11-30T11:13:23.682Z"
   },
   {
    "duration": 6,
    "start_time": "2022-11-30T11:13:23.689Z"
   },
   {
    "duration": 10,
    "start_time": "2022-11-30T11:13:23.697Z"
   },
   {
    "duration": 11,
    "start_time": "2022-11-30T11:13:23.708Z"
   },
   {
    "duration": 74,
    "start_time": "2022-11-30T11:13:23.720Z"
   },
   {
    "duration": 0,
    "start_time": "2022-11-30T11:13:23.796Z"
   },
   {
    "duration": 0,
    "start_time": "2022-11-30T11:13:23.797Z"
   },
   {
    "duration": 3,
    "start_time": "2022-11-30T11:13:50.766Z"
   },
   {
    "duration": 57104,
    "start_time": "2022-11-30T11:13:53.361Z"
   },
   {
    "duration": 4,
    "start_time": "2022-11-30T11:14:50.466Z"
   },
   {
    "duration": 16,
    "start_time": "2022-11-30T11:15:13.822Z"
   },
   {
    "duration": 8,
    "start_time": "2022-11-30T11:15:34.261Z"
   },
   {
    "duration": 6,
    "start_time": "2022-11-30T11:15:55.839Z"
   },
   {
    "duration": 3,
    "start_time": "2022-11-30T11:16:17.358Z"
   },
   {
    "duration": 6,
    "start_time": "2022-11-30T11:16:24.470Z"
   },
   {
    "duration": 6,
    "start_time": "2022-11-30T11:18:11.332Z"
   },
   {
    "duration": 422,
    "start_time": "2022-11-30T13:05:00.085Z"
   },
   {
    "duration": 383,
    "start_time": "2022-11-30T13:05:08.917Z"
   },
   {
    "duration": 353,
    "start_time": "2022-11-30T13:05:19.162Z"
   },
   {
    "duration": 3,
    "start_time": "2022-11-30T13:24:43.163Z"
   },
   {
    "duration": 5,
    "start_time": "2022-11-30T13:24:47.674Z"
   },
   {
    "duration": 42,
    "start_time": "2022-11-30T13:28:09.285Z"
   },
   {
    "duration": 59,
    "start_time": "2022-11-30T13:28:09.329Z"
   },
   {
    "duration": 10,
    "start_time": "2022-11-30T13:28:09.390Z"
   },
   {
    "duration": 27,
    "start_time": "2022-11-30T13:28:09.403Z"
   },
   {
    "duration": 662,
    "start_time": "2022-11-30T13:28:09.431Z"
   },
   {
    "duration": 10,
    "start_time": "2022-11-30T13:28:10.094Z"
   },
   {
    "duration": 337,
    "start_time": "2022-11-30T13:28:10.106Z"
   },
   {
    "duration": 4,
    "start_time": "2022-11-30T13:28:10.445Z"
   },
   {
    "duration": 16,
    "start_time": "2022-11-30T13:28:10.451Z"
   },
   {
    "duration": 23,
    "start_time": "2022-11-30T13:28:10.480Z"
   },
   {
    "duration": 9,
    "start_time": "2022-11-30T13:28:10.504Z"
   },
   {
    "duration": 4,
    "start_time": "2022-11-30T13:28:10.514Z"
   },
   {
    "duration": 7,
    "start_time": "2022-11-30T13:28:10.519Z"
   },
   {
    "duration": 10,
    "start_time": "2022-11-30T13:28:10.528Z"
   },
   {
    "duration": 5,
    "start_time": "2022-11-30T13:28:10.539Z"
   },
   {
    "duration": 6,
    "start_time": "2022-11-30T13:28:10.545Z"
   },
   {
    "duration": 31,
    "start_time": "2022-11-30T13:28:10.552Z"
   },
   {
    "duration": 7,
    "start_time": "2022-11-30T13:28:10.585Z"
   },
   {
    "duration": 49,
    "start_time": "2022-11-30T13:28:10.593Z"
   },
   {
    "duration": 3,
    "start_time": "2022-11-30T13:28:10.644Z"
   },
   {
    "duration": 32,
    "start_time": "2022-11-30T13:28:10.649Z"
   },
   {
    "duration": 5,
    "start_time": "2022-11-30T13:28:10.682Z"
   },
   {
    "duration": 7,
    "start_time": "2022-11-30T13:28:10.689Z"
   },
   {
    "duration": 11,
    "start_time": "2022-11-30T13:28:10.698Z"
   },
   {
    "duration": 8,
    "start_time": "2022-11-30T13:28:10.710Z"
   },
   {
    "duration": 8,
    "start_time": "2022-11-30T13:28:10.720Z"
   },
   {
    "duration": 8,
    "start_time": "2022-11-30T13:28:10.730Z"
   },
   {
    "duration": 139,
    "start_time": "2022-11-30T13:28:10.741Z"
   },
   {
    "duration": 97,
    "start_time": "2022-11-30T13:28:10.882Z"
   },
   {
    "duration": 6,
    "start_time": "2022-11-30T13:28:10.981Z"
   },
   {
    "duration": 25,
    "start_time": "2022-11-30T13:28:10.988Z"
   },
   {
    "duration": 0,
    "start_time": "2022-11-30T13:28:11.014Z"
   },
   {
    "duration": 0,
    "start_time": "2022-11-30T13:28:11.016Z"
   },
   {
    "duration": 0,
    "start_time": "2022-11-30T13:28:11.017Z"
   },
   {
    "duration": 4,
    "start_time": "2022-11-30T13:28:39.961Z"
   },
   {
    "duration": 32,
    "start_time": "2022-11-30T13:28:49.519Z"
   },
   {
    "duration": 218,
    "start_time": "2022-11-30T13:34:01.978Z"
   },
   {
    "duration": 65920,
    "start_time": "2022-11-30T13:34:05.820Z"
   },
   {
    "duration": 310,
    "start_time": "2022-11-30T13:35:11.742Z"
   },
   {
    "duration": 0,
    "start_time": "2022-11-30T13:35:12.053Z"
   },
   {
    "duration": 175,
    "start_time": "2022-11-30T13:35:19.504Z"
   },
   {
    "duration": 95,
    "start_time": "2022-11-30T13:35:43.288Z"
   },
   {
    "duration": 11,
    "start_time": "2022-11-30T13:35:45.360Z"
   },
   {
    "duration": 3,
    "start_time": "2022-11-30T13:39:12.992Z"
   },
   {
    "duration": 3,
    "start_time": "2022-11-30T13:39:13.441Z"
   },
   {
    "duration": 161,
    "start_time": "2022-11-30T13:39:14.226Z"
   },
   {
    "duration": 4,
    "start_time": "2022-11-30T13:39:18.353Z"
   },
   {
    "duration": 84,
    "start_time": "2022-11-30T13:39:19.500Z"
   },
   {
    "duration": 9,
    "start_time": "2022-11-30T13:39:20.790Z"
   },
   {
    "duration": 4,
    "start_time": "2022-11-30T13:43:09.327Z"
   },
   {
    "duration": 2,
    "start_time": "2022-11-30T13:43:09.838Z"
   },
   {
    "duration": 371,
    "start_time": "2022-11-30T13:43:10.624Z"
   },
   {
    "duration": 25,
    "start_time": "2022-11-30T13:43:14.564Z"
   },
   {
    "duration": 7,
    "start_time": "2022-11-30T13:43:15.092Z"
   },
   {
    "duration": 5,
    "start_time": "2022-11-30T13:48:10.781Z"
   },
   {
    "duration": 84,
    "start_time": "2022-11-30T13:48:10.788Z"
   },
   {
    "duration": 11,
    "start_time": "2022-11-30T13:48:10.874Z"
   },
   {
    "duration": 25,
    "start_time": "2022-11-30T13:48:10.888Z"
   },
   {
    "duration": 502,
    "start_time": "2022-11-30T13:48:10.915Z"
   },
   {
    "duration": 10,
    "start_time": "2022-11-30T13:48:11.418Z"
   },
   {
    "duration": 339,
    "start_time": "2022-11-30T13:48:11.429Z"
   },
   {
    "duration": 5,
    "start_time": "2022-11-30T13:48:11.778Z"
   },
   {
    "duration": 18,
    "start_time": "2022-11-30T13:48:11.785Z"
   },
   {
    "duration": 33,
    "start_time": "2022-11-30T13:48:11.805Z"
   },
   {
    "duration": 10,
    "start_time": "2022-11-30T13:48:11.840Z"
   },
   {
    "duration": 11,
    "start_time": "2022-11-30T13:48:11.861Z"
   },
   {
    "duration": 6,
    "start_time": "2022-11-30T13:48:11.878Z"
   },
   {
    "duration": 11,
    "start_time": "2022-11-30T13:48:11.886Z"
   },
   {
    "duration": 8,
    "start_time": "2022-11-30T13:48:11.899Z"
   },
   {
    "duration": 8,
    "start_time": "2022-11-30T13:48:11.910Z"
   },
   {
    "duration": 11,
    "start_time": "2022-11-30T13:48:11.920Z"
   },
   {
    "duration": 5,
    "start_time": "2022-11-30T13:48:11.933Z"
   },
   {
    "duration": 91,
    "start_time": "2022-11-30T13:48:11.940Z"
   },
   {
    "duration": 3,
    "start_time": "2022-11-30T13:48:12.033Z"
   },
   {
    "duration": 11,
    "start_time": "2022-11-30T13:48:12.037Z"
   },
   {
    "duration": 31,
    "start_time": "2022-11-30T13:48:12.050Z"
   },
   {
    "duration": 10,
    "start_time": "2022-11-30T13:48:12.082Z"
   },
   {
    "duration": 11,
    "start_time": "2022-11-30T13:48:12.095Z"
   },
   {
    "duration": 10,
    "start_time": "2022-11-30T13:48:12.107Z"
   },
   {
    "duration": 12,
    "start_time": "2022-11-30T13:48:12.118Z"
   },
   {
    "duration": 62000,
    "start_time": "2022-11-30T13:48:12.131Z"
   },
   {
    "duration": 4,
    "start_time": "2022-11-30T13:49:14.134Z"
   },
   {
    "duration": 46,
    "start_time": "2022-11-30T13:49:14.140Z"
   },
   {
    "duration": 94,
    "start_time": "2022-11-30T13:49:14.188Z"
   },
   {
    "duration": 7,
    "start_time": "2022-11-30T13:49:14.285Z"
   },
   {
    "duration": 321,
    "start_time": "2022-11-30T13:49:14.379Z"
   },
   {
    "duration": 183,
    "start_time": "2022-11-30T13:49:14.702Z"
   },
   {
    "duration": 92,
    "start_time": "2022-11-30T13:49:14.888Z"
   },
   {
    "duration": 2061,
    "start_time": "2022-12-01T06:10:54.023Z"
   },
   {
    "duration": 3,
    "start_time": "2022-12-01T06:12:04.299Z"
   },
   {
    "duration": 109,
    "start_time": "2022-12-01T06:12:04.305Z"
   },
   {
    "duration": 11,
    "start_time": "2022-12-01T06:12:04.416Z"
   },
   {
    "duration": 34,
    "start_time": "2022-12-01T06:12:04.429Z"
   },
   {
    "duration": 765,
    "start_time": "2022-12-01T06:12:04.465Z"
   },
   {
    "duration": 10,
    "start_time": "2022-12-01T06:12:05.232Z"
   },
   {
    "duration": 372,
    "start_time": "2022-12-01T06:12:05.244Z"
   },
   {
    "duration": 4,
    "start_time": "2022-12-01T06:12:05.618Z"
   },
   {
    "duration": 31,
    "start_time": "2022-12-01T06:12:05.625Z"
   },
   {
    "duration": 27,
    "start_time": "2022-12-01T06:12:05.658Z"
   },
   {
    "duration": 28,
    "start_time": "2022-12-01T06:12:05.687Z"
   },
   {
    "duration": 4,
    "start_time": "2022-12-01T06:12:05.717Z"
   },
   {
    "duration": 18,
    "start_time": "2022-12-01T06:12:05.723Z"
   },
   {
    "duration": 17,
    "start_time": "2022-12-01T06:12:05.743Z"
   },
   {
    "duration": 15,
    "start_time": "2022-12-01T06:12:05.762Z"
   },
   {
    "duration": 38,
    "start_time": "2022-12-01T06:12:05.778Z"
   },
   {
    "duration": 14,
    "start_time": "2022-12-01T06:12:05.817Z"
   },
   {
    "duration": 7,
    "start_time": "2022-12-01T06:12:05.833Z"
   },
   {
    "duration": 69,
    "start_time": "2022-12-01T06:12:05.841Z"
   },
   {
    "duration": 3,
    "start_time": "2022-12-01T06:12:05.912Z"
   },
   {
    "duration": 15,
    "start_time": "2022-12-01T06:12:05.917Z"
   },
   {
    "duration": 5,
    "start_time": "2022-12-01T06:12:05.933Z"
   },
   {
    "duration": 35,
    "start_time": "2022-12-01T06:12:05.939Z"
   },
   {
    "duration": 12,
    "start_time": "2022-12-01T06:12:05.978Z"
   },
   {
    "duration": 15,
    "start_time": "2022-12-01T06:12:05.992Z"
   },
   {
    "duration": 12,
    "start_time": "2022-12-01T06:12:06.009Z"
   },
   {
    "duration": 59739,
    "start_time": "2022-12-01T06:12:06.023Z"
   },
   {
    "duration": 3,
    "start_time": "2022-12-01T06:13:05.763Z"
   },
   {
    "duration": 87,
    "start_time": "2022-12-01T06:13:05.768Z"
   },
   {
    "duration": 99,
    "start_time": "2022-12-01T06:13:05.858Z"
   },
   {
    "duration": 335,
    "start_time": "2022-12-01T06:13:05.959Z"
   },
   {
    "duration": 0,
    "start_time": "2022-12-01T06:13:06.295Z"
   },
   {
    "duration": 0,
    "start_time": "2022-12-01T06:13:06.296Z"
   },
   {
    "duration": 0,
    "start_time": "2022-12-01T06:13:06.297Z"
   },
   {
    "duration": 0,
    "start_time": "2022-12-01T06:13:06.298Z"
   },
   {
    "duration": 0,
    "start_time": "2022-12-01T06:13:06.300Z"
   },
   {
    "duration": 0,
    "start_time": "2022-12-01T06:13:06.301Z"
   },
   {
    "duration": 0,
    "start_time": "2022-12-01T06:13:06.302Z"
   },
   {
    "duration": 0,
    "start_time": "2022-12-01T06:13:06.303Z"
   },
   {
    "duration": 0,
    "start_time": "2022-12-01T06:13:06.304Z"
   },
   {
    "duration": 0,
    "start_time": "2022-12-01T06:13:06.306Z"
   },
   {
    "duration": 13,
    "start_time": "2022-12-01T06:17:16.020Z"
   },
   {
    "duration": 4,
    "start_time": "2022-12-01T06:17:20.544Z"
   },
   {
    "duration": 13,
    "start_time": "2022-12-01T06:17:22.559Z"
   },
   {
    "duration": 3,
    "start_time": "2022-12-01T06:17:58.002Z"
   },
   {
    "duration": 4,
    "start_time": "2022-12-01T06:17:58.899Z"
   },
   {
    "duration": 24509,
    "start_time": "2022-12-01T06:18:01.288Z"
   },
   {
    "duration": 5,
    "start_time": "2022-12-01T06:19:57.643Z"
   },
   {
    "duration": 4,
    "start_time": "2022-12-01T06:19:59.360Z"
   },
   {
    "duration": 0,
    "start_time": "2022-12-01T06:21:02.480Z"
   },
   {
    "duration": 0,
    "start_time": "2022-12-01T06:21:02.481Z"
   },
   {
    "duration": 0,
    "start_time": "2022-12-01T06:21:02.483Z"
   },
   {
    "duration": 0,
    "start_time": "2022-12-01T06:21:02.484Z"
   },
   {
    "duration": 4,
    "start_time": "2022-12-01T06:21:06.714Z"
   },
   {
    "duration": 58,
    "start_time": "2022-12-01T06:21:06.720Z"
   },
   {
    "duration": 12,
    "start_time": "2022-12-01T06:21:06.779Z"
   },
   {
    "duration": 17,
    "start_time": "2022-12-01T06:21:06.794Z"
   },
   {
    "duration": 711,
    "start_time": "2022-12-01T06:21:06.813Z"
   },
   {
    "duration": 13,
    "start_time": "2022-12-01T06:21:07.525Z"
   },
   {
    "duration": 393,
    "start_time": "2022-12-01T06:21:07.556Z"
   },
   {
    "duration": 5,
    "start_time": "2022-12-01T06:21:07.951Z"
   },
   {
    "duration": 23,
    "start_time": "2022-12-01T06:21:07.959Z"
   },
   {
    "duration": 27,
    "start_time": "2022-12-01T06:21:07.984Z"
   },
   {
    "duration": 8,
    "start_time": "2022-12-01T06:21:08.013Z"
   },
   {
    "duration": 5,
    "start_time": "2022-12-01T06:21:08.023Z"
   },
   {
    "duration": 4,
    "start_time": "2022-12-01T06:21:08.055Z"
   },
   {
    "duration": 9,
    "start_time": "2022-12-01T06:21:08.061Z"
   },
   {
    "duration": 6,
    "start_time": "2022-12-01T06:21:08.072Z"
   },
   {
    "duration": 12,
    "start_time": "2022-12-01T06:21:08.080Z"
   },
   {
    "duration": 12,
    "start_time": "2022-12-01T06:21:08.094Z"
   },
   {
    "duration": 9,
    "start_time": "2022-12-01T06:21:08.108Z"
   },
   {
    "duration": 69,
    "start_time": "2022-12-01T06:21:08.119Z"
   },
   {
    "duration": 3,
    "start_time": "2022-12-01T06:21:08.190Z"
   },
   {
    "duration": 15,
    "start_time": "2022-12-01T06:21:08.195Z"
   },
   {
    "duration": 9,
    "start_time": "2022-12-01T06:21:08.212Z"
   },
   {
    "duration": 20,
    "start_time": "2022-12-01T06:21:08.222Z"
   },
   {
    "duration": 18,
    "start_time": "2022-12-01T06:21:08.245Z"
   },
   {
    "duration": 22,
    "start_time": "2022-12-01T06:21:08.264Z"
   },
   {
    "duration": 12,
    "start_time": "2022-12-01T06:21:08.288Z"
   },
   {
    "duration": 72023,
    "start_time": "2022-12-01T06:21:08.302Z"
   },
   {
    "duration": 3,
    "start_time": "2022-12-01T06:22:20.328Z"
   },
   {
    "duration": 41,
    "start_time": "2022-12-01T06:22:20.333Z"
   },
   {
    "duration": 88,
    "start_time": "2022-12-01T06:22:20.377Z"
   },
   {
    "duration": 189,
    "start_time": "2022-12-01T06:22:20.467Z"
   },
   {
    "duration": 8,
    "start_time": "2022-12-01T06:22:20.658Z"
   },
   {
    "duration": 7,
    "start_time": "2022-12-01T06:22:20.667Z"
   },
   {
    "duration": 63203,
    "start_time": "2022-12-01T06:22:20.676Z"
   },
   {
    "duration": 4,
    "start_time": "2022-12-01T06:23:31.074Z"
   },
   {
    "duration": 960,
    "start_time": "2022-12-01T06:23:33.359Z"
   },
   {
    "duration": 3,
    "start_time": "2022-12-01T06:24:06.920Z"
   },
   {
    "duration": 4,
    "start_time": "2022-12-01T06:24:11.565Z"
   },
   {
    "duration": 29030,
    "start_time": "2022-12-01T06:24:13.549Z"
   },
   {
    "duration": 5,
    "start_time": "2022-12-01T06:25:11.155Z"
   },
   {
    "duration": 3,
    "start_time": "2022-12-01T06:25:11.631Z"
   },
   {
    "duration": 4,
    "start_time": "2022-12-01T06:25:12.074Z"
   },
   {
    "duration": 231086,
    "start_time": "2022-12-01T06:25:12.783Z"
   },
   {
    "duration": 4,
    "start_time": "2022-12-01T06:29:03.871Z"
   },
   {
    "duration": 6,
    "start_time": "2022-12-01T06:29:03.877Z"
   },
   {
    "duration": 187,
    "start_time": "2022-12-01T06:29:03.884Z"
   },
   {
    "duration": 6,
    "start_time": "2022-12-01T06:29:04.073Z"
   },
   {
    "duration": 11,
    "start_time": "2022-12-01T06:29:04.155Z"
   },
   {
    "duration": 5,
    "start_time": "2022-12-01T06:29:32.219Z"
   },
   {
    "duration": 5,
    "start_time": "2022-12-01T06:29:41.884Z"
   },
   {
    "duration": 8,
    "start_time": "2022-12-01T06:29:44.934Z"
   },
   {
    "duration": 4,
    "start_time": "2022-12-01T06:30:42.591Z"
   },
   {
    "duration": 271,
    "start_time": "2022-12-01T06:30:46.286Z"
   },
   {
    "duration": 304,
    "start_time": "2022-12-01T06:30:51.458Z"
   },
   {
    "duration": 6,
    "start_time": "2022-12-01T06:31:03.525Z"
   },
   {
    "duration": 7,
    "start_time": "2022-12-01T06:31:05.957Z"
   },
   {
    "duration": 4,
    "start_time": "2022-12-01T06:31:09.974Z"
   },
   {
    "duration": 7,
    "start_time": "2022-12-01T06:31:12.973Z"
   },
   {
    "duration": 4,
    "start_time": "2022-12-01T06:32:23.719Z"
   },
   {
    "duration": 72,
    "start_time": "2022-12-01T06:32:23.726Z"
   },
   {
    "duration": 12,
    "start_time": "2022-12-01T06:32:23.800Z"
   },
   {
    "duration": 41,
    "start_time": "2022-12-01T06:32:23.815Z"
   },
   {
    "duration": 582,
    "start_time": "2022-12-01T06:32:23.860Z"
   },
   {
    "duration": 19,
    "start_time": "2022-12-01T06:32:24.443Z"
   },
   {
    "duration": 563,
    "start_time": "2022-12-01T06:32:24.464Z"
   },
   {
    "duration": 4,
    "start_time": "2022-12-01T06:32:25.029Z"
   },
   {
    "duration": 29,
    "start_time": "2022-12-01T06:32:25.035Z"
   },
   {
    "duration": 30,
    "start_time": "2022-12-01T06:32:25.066Z"
   },
   {
    "duration": 10,
    "start_time": "2022-12-01T06:32:25.098Z"
   },
   {
    "duration": 10,
    "start_time": "2022-12-01T06:32:25.111Z"
   },
   {
    "duration": 11,
    "start_time": "2022-12-01T06:32:25.124Z"
   },
   {
    "duration": 12,
    "start_time": "2022-12-01T06:32:25.155Z"
   },
   {
    "duration": 16,
    "start_time": "2022-12-01T06:32:25.170Z"
   },
   {
    "duration": 7,
    "start_time": "2022-12-01T06:32:25.189Z"
   },
   {
    "duration": 12,
    "start_time": "2022-12-01T06:32:25.199Z"
   },
   {
    "duration": 7,
    "start_time": "2022-12-01T06:32:25.213Z"
   },
   {
    "duration": 79,
    "start_time": "2022-12-01T06:32:25.222Z"
   },
   {
    "duration": 4,
    "start_time": "2022-12-01T06:32:25.302Z"
   },
   {
    "duration": 33,
    "start_time": "2022-12-01T06:32:25.308Z"
   },
   {
    "duration": 7,
    "start_time": "2022-12-01T06:32:25.342Z"
   },
   {
    "duration": 7,
    "start_time": "2022-12-01T06:32:25.351Z"
   },
   {
    "duration": 12,
    "start_time": "2022-12-01T06:32:25.360Z"
   },
   {
    "duration": 3352794,
    "start_time": "2022-12-01T06:32:25.375Z"
   },
   {
    "duration": 179338,
    "start_time": "2022-12-01T07:28:18.171Z"
   },
   {
    "duration": 32735,
    "start_time": "2022-12-01T07:31:17.510Z"
   },
   {
    "duration": 3,
    "start_time": "2022-12-01T07:31:50.246Z"
   },
   {
    "duration": 42,
    "start_time": "2022-12-01T07:31:50.251Z"
   },
   {
    "duration": 176,
    "start_time": "2022-12-01T07:31:50.295Z"
   },
   {
    "duration": 86,
    "start_time": "2022-12-01T07:31:50.475Z"
   },
   {
    "duration": 102,
    "start_time": "2022-12-01T07:31:50.571Z"
   },
   {
    "duration": 16,
    "start_time": "2022-12-01T07:31:50.674Z"
   },
   {
    "duration": 253393,
    "start_time": "2022-12-01T07:31:50.692Z"
   },
   {
    "duration": 71,
    "start_time": "2022-12-01T07:36:04.087Z"
   },
   {
    "duration": 14,
    "start_time": "2022-12-01T07:36:04.160Z"
   },
   {
    "duration": 12,
    "start_time": "2022-12-01T07:36:04.180Z"
   },
   {
    "duration": 182,
    "start_time": "2022-12-01T07:36:04.193Z"
   },
   {
    "duration": 6,
    "start_time": "2022-12-01T07:36:04.377Z"
   },
   {
    "duration": 11,
    "start_time": "2022-12-01T07:36:04.384Z"
   },
   {
    "duration": 10,
    "start_time": "2022-12-01T07:36:04.397Z"
   },
   {
    "duration": 9,
    "start_time": "2022-12-01T07:36:04.455Z"
   },
   {
    "duration": 4,
    "start_time": "2022-12-01T07:36:43.835Z"
   },
   {
    "duration": 7,
    "start_time": "2022-12-01T07:38:34.817Z"
   },
   {
    "duration": 4,
    "start_time": "2022-12-01T07:43:44.489Z"
   },
   {
    "duration": 56,
    "start_time": "2022-12-01T07:43:44.495Z"
   },
   {
    "duration": 21,
    "start_time": "2022-12-01T07:43:44.553Z"
   },
   {
    "duration": 25,
    "start_time": "2022-12-01T07:43:44.575Z"
   },
   {
    "duration": 674,
    "start_time": "2022-12-01T07:43:44.602Z"
   },
   {
    "duration": 10,
    "start_time": "2022-12-01T07:43:45.278Z"
   },
   {
    "duration": 385,
    "start_time": "2022-12-01T07:43:45.289Z"
   },
   {
    "duration": 4,
    "start_time": "2022-12-01T07:43:45.676Z"
   },
   {
    "duration": 20,
    "start_time": "2022-12-01T07:43:45.682Z"
   },
   {
    "duration": 26,
    "start_time": "2022-12-01T07:43:45.704Z"
   },
   {
    "duration": 36,
    "start_time": "2022-12-01T07:43:45.732Z"
   },
   {
    "duration": 4,
    "start_time": "2022-12-01T07:43:45.769Z"
   },
   {
    "duration": 6,
    "start_time": "2022-12-01T07:43:45.775Z"
   },
   {
    "duration": 11,
    "start_time": "2022-12-01T07:43:45.783Z"
   },
   {
    "duration": 6,
    "start_time": "2022-12-01T07:43:45.796Z"
   },
   {
    "duration": 7,
    "start_time": "2022-12-01T07:43:45.804Z"
   },
   {
    "duration": 10,
    "start_time": "2022-12-01T07:43:45.813Z"
   },
   {
    "duration": 13,
    "start_time": "2022-12-01T07:43:45.825Z"
   },
   {
    "duration": 180,
    "start_time": "2022-12-01T07:43:45.840Z"
   },
   {
    "duration": 4,
    "start_time": "2022-12-01T07:43:46.022Z"
   },
   {
    "duration": 37,
    "start_time": "2022-12-01T07:43:46.028Z"
   },
   {
    "duration": 8,
    "start_time": "2022-12-01T07:43:46.066Z"
   },
   {
    "duration": 8,
    "start_time": "2022-12-01T07:43:46.076Z"
   },
   {
    "duration": 11,
    "start_time": "2022-12-01T07:43:46.087Z"
   },
   {
    "duration": 23,
    "start_time": "2022-12-01T07:43:46.100Z"
   },
   {
    "duration": 11,
    "start_time": "2022-12-01T07:43:46.124Z"
   },
   {
    "duration": 9,
    "start_time": "2022-12-01T07:43:46.137Z"
   },
   {
    "duration": 31626,
    "start_time": "2022-12-01T07:43:46.148Z"
   },
   {
    "duration": 2,
    "start_time": "2022-12-01T07:44:17.778Z"
   },
   {
    "duration": 87,
    "start_time": "2022-12-01T07:44:17.782Z"
   },
   {
    "duration": 197,
    "start_time": "2022-12-01T07:44:17.871Z"
   },
   {
    "duration": 10,
    "start_time": "2022-12-01T07:44:18.070Z"
   },
   {
    "duration": 78,
    "start_time": "2022-12-01T07:44:18.082Z"
   },
   {
    "duration": 116,
    "start_time": "2022-12-01T07:44:18.162Z"
   },
   {
    "duration": 8,
    "start_time": "2022-12-01T07:44:18.280Z"
   },
   {
    "duration": 11,
    "start_time": "2022-12-01T07:44:18.289Z"
   },
   {
    "duration": 11,
    "start_time": "2022-12-01T07:44:18.302Z"
   },
   {
    "duration": 159,
    "start_time": "2022-12-01T07:44:18.314Z"
   },
   {
    "duration": 6,
    "start_time": "2022-12-01T07:44:18.474Z"
   },
   {
    "duration": 9,
    "start_time": "2022-12-01T07:44:18.482Z"
   },
   {
    "duration": 65,
    "start_time": "2022-12-01T07:44:18.492Z"
   },
   {
    "duration": 11,
    "start_time": "2022-12-01T07:44:18.558Z"
   },
   {
    "duration": 29305,
    "start_time": "2022-12-01T07:45:07.869Z"
   },
   {
    "duration": 4,
    "start_time": "2022-12-01T07:45:43.329Z"
   },
   {
    "duration": 7,
    "start_time": "2022-12-01T07:45:55.824Z"
   },
   {
    "duration": 7,
    "start_time": "2022-12-01T07:45:59.496Z"
   },
   {
    "duration": 7,
    "start_time": "2022-12-01T07:46:00.669Z"
   },
   {
    "duration": 3,
    "start_time": "2022-12-01T07:51:00.442Z"
   },
   {
    "duration": 2,
    "start_time": "2022-12-01T07:51:00.944Z"
   },
   {
    "duration": 2,
    "start_time": "2022-12-01T07:51:01.410Z"
   },
   {
    "duration": 263510,
    "start_time": "2022-12-01T07:51:02.253Z"
   },
   {
    "duration": 4,
    "start_time": "2022-12-01T07:55:25.769Z"
   },
   {
    "duration": 8,
    "start_time": "2022-12-01T07:55:25.775Z"
   },
   {
    "duration": 7,
    "start_time": "2022-12-01T07:55:25.785Z"
   },
   {
    "duration": 197603,
    "start_time": "2022-12-01T08:02:26.960Z"
   },
   {
    "duration": 3,
    "start_time": "2022-12-01T08:05:44.566Z"
   },
   {
    "duration": 15,
    "start_time": "2022-12-01T08:05:44.570Z"
   },
   {
    "duration": 5,
    "start_time": "2022-12-01T08:07:11.068Z"
   },
   {
    "duration": 4,
    "start_time": "2022-12-01T08:07:37.490Z"
   },
   {
    "duration": 6,
    "start_time": "2022-12-01T08:07:43.842Z"
   },
   {
    "duration": 4,
    "start_time": "2022-12-01T08:56:29.505Z"
   },
   {
    "duration": 2500,
    "start_time": "2023-06-29T09:10:30.125Z"
   },
   {
    "duration": 183,
    "start_time": "2023-06-29T09:10:32.627Z"
   },
   {
    "duration": 12,
    "start_time": "2023-06-29T09:10:40.290Z"
   },
   {
    "duration": 44,
    "start_time": "2023-06-29T09:14:08.814Z"
   },
   {
    "duration": 7,
    "start_time": "2023-06-29T09:14:29.591Z"
   },
   {
    "duration": 7,
    "start_time": "2023-06-29T09:16:11.487Z"
   },
   {
    "duration": 15,
    "start_time": "2023-06-29T09:17:34.191Z"
   },
   {
    "duration": 133,
    "start_time": "2023-06-29T09:17:42.933Z"
   },
   {
    "duration": 5,
    "start_time": "2023-06-29T09:17:49.854Z"
   },
   {
    "duration": 4,
    "start_time": "2023-06-29T09:36:40.319Z"
   },
   {
    "duration": 733,
    "start_time": "2023-06-29T09:55:39.352Z"
   },
   {
    "duration": 12,
    "start_time": "2023-06-29T09:55:44.664Z"
   },
   {
    "duration": 341,
    "start_time": "2023-06-29T09:55:45.586Z"
   },
   {
    "duration": 3,
    "start_time": "2023-06-29T09:55:48.231Z"
   },
   {
    "duration": 11,
    "start_time": "2023-06-29T09:55:52.184Z"
   },
   {
    "duration": 447,
    "start_time": "2023-06-29T09:55:58.056Z"
   },
   {
    "duration": 10,
    "start_time": "2023-06-29T09:58:54.374Z"
   },
   {
    "duration": 318,
    "start_time": "2023-06-29T09:58:55.613Z"
   },
   {
    "duration": 189,
    "start_time": "2023-06-29T09:59:35.109Z"
   },
   {
    "duration": 278,
    "start_time": "2023-06-29T09:59:44.862Z"
   },
   {
    "duration": 211,
    "start_time": "2023-06-29T09:59:52.821Z"
   },
   {
    "duration": 4,
    "start_time": "2023-06-29T10:00:41.207Z"
   },
   {
    "duration": 27,
    "start_time": "2023-06-29T10:05:57.992Z"
   },
   {
    "duration": 25,
    "start_time": "2023-06-29T10:05:58.998Z"
   },
   {
    "duration": 169,
    "start_time": "2023-06-29T10:06:13.505Z"
   },
   {
    "duration": 11,
    "start_time": "2023-06-29T10:06:41.799Z"
   },
   {
    "duration": 4,
    "start_time": "2023-06-29T10:06:52.091Z"
   },
   {
    "duration": 5,
    "start_time": "2023-06-29T10:07:10.983Z"
   },
   {
    "duration": 8,
    "start_time": "2023-06-29T10:07:23.749Z"
   },
   {
    "duration": 5,
    "start_time": "2023-06-29T10:07:41.292Z"
   },
   {
    "duration": 4,
    "start_time": "2023-06-29T10:09:05.686Z"
   },
   {
    "duration": 3,
    "start_time": "2023-06-29T10:10:16.726Z"
   },
   {
    "duration": 8,
    "start_time": "2023-06-29T10:10:17.503Z"
   },
   {
    "duration": 5,
    "start_time": "2023-06-29T10:10:18.795Z"
   },
   {
    "duration": 56,
    "start_time": "2023-06-29T10:10:26.820Z"
   },
   {
    "duration": 4,
    "start_time": "2023-06-29T10:10:38.031Z"
   },
   {
    "duration": 12,
    "start_time": "2023-06-29T10:10:44.048Z"
   },
   {
    "duration": 4,
    "start_time": "2023-06-29T10:24:41.497Z"
   },
   {
    "duration": 3,
    "start_time": "2023-06-29T10:24:45.966Z"
   },
   {
    "duration": 65,
    "start_time": "2023-06-29T10:45:12.560Z"
   },
   {
    "duration": 6,
    "start_time": "2023-06-29T10:45:31.587Z"
   },
   {
    "duration": 6,
    "start_time": "2023-06-29T10:46:18.801Z"
   },
   {
    "duration": 9,
    "start_time": "2023-06-29T10:52:25.450Z"
   },
   {
    "duration": 31,
    "start_time": "2023-06-29T10:53:00.324Z"
   },
   {
    "duration": 8,
    "start_time": "2023-06-29T10:53:51.468Z"
   },
   {
    "duration": 29,
    "start_time": "2023-06-29T10:53:56.491Z"
   },
   {
    "duration": 7,
    "start_time": "2023-06-29T10:55:32.894Z"
   },
   {
    "duration": 34,
    "start_time": "2023-06-29T10:55:37.477Z"
   },
   {
    "duration": 8,
    "start_time": "2023-06-29T10:56:25.675Z"
   },
   {
    "duration": 28,
    "start_time": "2023-06-29T10:56:31.807Z"
   },
   {
    "duration": 7,
    "start_time": "2023-06-29T10:56:53.642Z"
   },
   {
    "duration": 36,
    "start_time": "2023-06-29T10:56:59.008Z"
   },
   {
    "duration": 10,
    "start_time": "2023-06-29T10:57:10.721Z"
   },
   {
    "duration": 29,
    "start_time": "2023-06-29T10:57:14.695Z"
   },
   {
    "duration": 9,
    "start_time": "2023-06-29T10:59:09.891Z"
   },
   {
    "duration": 34,
    "start_time": "2023-06-29T10:59:12.492Z"
   },
   {
    "duration": 7,
    "start_time": "2023-06-29T10:59:51.294Z"
   },
   {
    "duration": 24,
    "start_time": "2023-06-29T10:59:57.587Z"
   },
   {
    "duration": 9,
    "start_time": "2023-06-29T11:00:45.055Z"
   },
   {
    "duration": 32,
    "start_time": "2023-06-29T11:00:51.863Z"
   },
   {
    "duration": 5,
    "start_time": "2023-06-29T11:02:55.856Z"
   },
   {
    "duration": 52,
    "start_time": "2023-06-29T11:02:55.862Z"
   },
   {
    "duration": 6,
    "start_time": "2023-06-29T11:02:55.916Z"
   },
   {
    "duration": 20,
    "start_time": "2023-06-29T11:02:55.923Z"
   },
   {
    "duration": 33,
    "start_time": "2023-06-29T11:02:55.945Z"
   },
   {
    "duration": 27,
    "start_time": "2023-06-29T11:02:55.980Z"
   },
   {
    "duration": 34,
    "start_time": "2023-06-29T11:02:56.008Z"
   },
   {
    "duration": 533,
    "start_time": "2023-06-29T11:02:56.043Z"
   },
   {
    "duration": 8,
    "start_time": "2023-06-29T11:02:56.578Z"
   },
   {
    "duration": 331,
    "start_time": "2023-06-29T11:02:56.588Z"
   },
   {
    "duration": 9,
    "start_time": "2023-06-29T11:02:56.922Z"
   },
   {
    "duration": 205,
    "start_time": "2023-06-29T11:02:56.932Z"
   },
   {
    "duration": 3,
    "start_time": "2023-06-29T11:02:57.139Z"
   },
   {
    "duration": 35,
    "start_time": "2023-06-29T11:02:57.144Z"
   },
   {
    "duration": 23,
    "start_time": "2023-06-29T11:02:57.180Z"
   },
   {
    "duration": 22,
    "start_time": "2023-06-29T11:02:57.204Z"
   },
   {
    "duration": 45,
    "start_time": "2023-06-29T11:02:57.228Z"
   },
   {
    "duration": 18,
    "start_time": "2023-06-29T11:02:57.275Z"
   },
   {
    "duration": 17,
    "start_time": "2023-06-29T11:02:57.294Z"
   },
   {
    "duration": 14,
    "start_time": "2023-06-29T11:02:57.312Z"
   },
   {
    "duration": 9,
    "start_time": "2023-06-29T11:02:57.327Z"
   },
   {
    "duration": 15,
    "start_time": "2023-06-29T11:02:57.337Z"
   },
   {
    "duration": 16,
    "start_time": "2023-06-29T11:02:57.353Z"
   },
   {
    "duration": 52,
    "start_time": "2023-06-29T11:02:57.370Z"
   },
   {
    "duration": 3,
    "start_time": "2023-06-29T11:02:57.424Z"
   },
   {
    "duration": 13,
    "start_time": "2023-06-29T11:02:57.428Z"
   },
   {
    "duration": 4,
    "start_time": "2023-06-29T11:02:57.443Z"
   },
   {
    "duration": 5,
    "start_time": "2023-06-29T11:03:01.205Z"
   },
   {
    "duration": 7,
    "start_time": "2023-06-29T11:03:02.541Z"
   },
   {
    "duration": 8,
    "start_time": "2023-06-29T11:03:08.208Z"
   },
   {
    "duration": 32,
    "start_time": "2023-06-29T11:06:04.306Z"
   },
   {
    "duration": 7,
    "start_time": "2023-06-29T11:06:27.809Z"
   },
   {
    "duration": 21,
    "start_time": "2023-06-29T11:06:30.855Z"
   },
   {
    "duration": 9,
    "start_time": "2023-06-29T11:07:10.507Z"
   },
   {
    "duration": 20,
    "start_time": "2023-06-29T11:07:11.434Z"
   },
   {
    "duration": 9,
    "start_time": "2023-06-29T11:07:47.836Z"
   },
   {
    "duration": 202719,
    "start_time": "2023-06-29T11:07:50.361Z"
   },
   {
    "duration": 0,
    "start_time": "2023-06-29T11:11:13.083Z"
   },
   {
    "duration": 153,
    "start_time": "2023-06-29T11:11:18.452Z"
   },
   {
    "duration": 4,
    "start_time": "2023-06-29T11:14:12.201Z"
   },
   {
    "duration": 6,
    "start_time": "2023-06-29T11:14:57.022Z"
   },
   {
    "duration": 3,
    "start_time": "2023-06-29T11:14:58.754Z"
   },
   {
    "duration": 8,
    "start_time": "2023-06-29T11:15:03.088Z"
   },
   {
    "duration": 25,
    "start_time": "2023-06-29T11:15:03.968Z"
   },
   {
    "duration": 6,
    "start_time": "2023-06-29T11:15:46.570Z"
   },
   {
    "duration": 7,
    "start_time": "2023-06-29T11:19:11.738Z"
   },
   {
    "duration": 3,
    "start_time": "2023-06-29T11:19:12.752Z"
   },
   {
    "duration": 12,
    "start_time": "2023-06-29T11:19:13.713Z"
   },
   {
    "duration": 8020,
    "start_time": "2023-06-29T11:19:14.962Z"
   },
   {
    "duration": 8,
    "start_time": "2023-06-29T11:20:41.141Z"
   },
   {
    "duration": 31,
    "start_time": "2023-06-29T11:20:42.996Z"
   },
   {
    "duration": 8,
    "start_time": "2023-06-29T11:21:28.386Z"
   },
   {
    "duration": 23,
    "start_time": "2023-06-29T11:21:32.248Z"
   },
   {
    "duration": 8,
    "start_time": "2023-06-29T11:22:05.308Z"
   },
   {
    "duration": 2,
    "start_time": "2023-06-29T11:22:06.960Z"
   },
   {
    "duration": 8,
    "start_time": "2023-06-29T11:22:07.359Z"
   },
   {
    "duration": 29,
    "start_time": "2023-06-29T11:22:07.894Z"
   },
   {
    "duration": 8,
    "start_time": "2023-06-29T11:24:16.533Z"
   },
   {
    "duration": 22,
    "start_time": "2023-06-29T11:24:17.624Z"
   },
   {
    "duration": 10,
    "start_time": "2023-06-29T11:25:28.222Z"
   },
   {
    "duration": 3,
    "start_time": "2023-06-29T11:25:30.062Z"
   },
   {
    "duration": 9,
    "start_time": "2023-06-29T11:26:05.925Z"
   },
   {
    "duration": 8,
    "start_time": "2023-06-29T11:27:14.433Z"
   },
   {
    "duration": 6,
    "start_time": "2023-06-29T11:27:20.184Z"
   },
   {
    "duration": 8,
    "start_time": "2023-06-29T11:27:22.598Z"
   },
   {
    "duration": 22,
    "start_time": "2023-06-29T11:27:23.745Z"
   },
   {
    "duration": 8,
    "start_time": "2023-06-29T11:28:36.080Z"
   },
   {
    "duration": 43,
    "start_time": "2023-06-29T11:28:39.284Z"
   },
   {
    "duration": 11,
    "start_time": "2023-06-29T11:30:00.015Z"
   },
   {
    "duration": 9,
    "start_time": "2023-06-29T11:31:48.492Z"
   },
   {
    "duration": 41,
    "start_time": "2023-06-29T11:31:49.291Z"
   },
   {
    "duration": 7,
    "start_time": "2023-06-29T11:33:30.143Z"
   },
   {
    "duration": 11,
    "start_time": "2023-06-29T11:34:27.799Z"
   },
   {
    "duration": 22,
    "start_time": "2023-06-29T11:34:29.015Z"
   },
   {
    "duration": 4,
    "start_time": "2023-06-29T11:35:13.808Z"
   },
   {
    "duration": 76,
    "start_time": "2023-06-29T11:35:13.815Z"
   },
   {
    "duration": 8,
    "start_time": "2023-06-29T11:35:13.893Z"
   },
   {
    "duration": 12,
    "start_time": "2023-06-29T11:35:13.904Z"
   },
   {
    "duration": 32,
    "start_time": "2023-06-29T11:35:13.917Z"
   },
   {
    "duration": 61,
    "start_time": "2023-06-29T11:35:13.952Z"
   },
   {
    "duration": 33,
    "start_time": "2023-06-29T11:35:14.015Z"
   },
   {
    "duration": 634,
    "start_time": "2023-06-29T11:35:14.050Z"
   },
   {
    "duration": 9,
    "start_time": "2023-06-29T11:35:14.687Z"
   },
   {
    "duration": 418,
    "start_time": "2023-06-29T11:35:14.697Z"
   },
   {
    "duration": 11,
    "start_time": "2023-06-29T11:35:15.116Z"
   },
   {
    "duration": 210,
    "start_time": "2023-06-29T11:35:15.129Z"
   },
   {
    "duration": 4,
    "start_time": "2023-06-29T11:35:15.341Z"
   },
   {
    "duration": 38,
    "start_time": "2023-06-29T11:35:15.347Z"
   },
   {
    "duration": 51,
    "start_time": "2023-06-29T11:35:15.387Z"
   },
   {
    "duration": 21,
    "start_time": "2023-06-29T11:35:15.440Z"
   },
   {
    "duration": 8,
    "start_time": "2023-06-29T11:35:15.462Z"
   },
   {
    "duration": 17,
    "start_time": "2023-06-29T11:35:15.471Z"
   },
   {
    "duration": 32,
    "start_time": "2023-06-29T11:35:15.490Z"
   },
   {
    "duration": 15,
    "start_time": "2023-06-29T11:35:15.524Z"
   },
   {
    "duration": 15,
    "start_time": "2023-06-29T11:35:15.542Z"
   },
   {
    "duration": 30,
    "start_time": "2023-06-29T11:35:15.559Z"
   },
   {
    "duration": 7,
    "start_time": "2023-06-29T11:35:15.591Z"
   },
   {
    "duration": 64,
    "start_time": "2023-06-29T11:35:15.600Z"
   },
   {
    "duration": 3,
    "start_time": "2023-06-29T11:35:15.665Z"
   },
   {
    "duration": 24,
    "start_time": "2023-06-29T11:35:15.669Z"
   },
   {
    "duration": 29,
    "start_time": "2023-06-29T11:35:15.695Z"
   },
   {
    "duration": 26,
    "start_time": "2023-06-29T11:35:15.726Z"
   },
   {
    "duration": 17,
    "start_time": "2023-06-29T11:35:15.753Z"
   },
   {
    "duration": 3,
    "start_time": "2023-06-29T11:35:16.802Z"
   },
   {
    "duration": 9,
    "start_time": "2023-06-29T11:35:17.912Z"
   },
   {
    "duration": 23,
    "start_time": "2023-06-29T11:35:18.692Z"
   },
   {
    "duration": 8,
    "start_time": "2023-06-29T11:51:26.578Z"
   },
   {
    "duration": 46,
    "start_time": "2023-06-29T11:51:28.952Z"
   },
   {
    "duration": 10,
    "start_time": "2023-06-29T12:04:35.671Z"
   },
   {
    "duration": 41,
    "start_time": "2023-06-29T12:04:36.972Z"
   },
   {
    "duration": 10,
    "start_time": "2023-06-29T12:05:21.942Z"
   },
   {
    "duration": 33111,
    "start_time": "2023-06-29T12:05:23.464Z"
   },
   {
    "duration": 9,
    "start_time": "2023-06-29T12:06:04.927Z"
   },
   {
    "duration": 26854,
    "start_time": "2023-06-29T12:06:05.420Z"
   },
   {
    "duration": 12,
    "start_time": "2023-06-29T12:11:51.867Z"
   },
   {
    "duration": 38,
    "start_time": "2023-06-29T12:11:53.261Z"
   },
   {
    "duration": 9,
    "start_time": "2023-06-29T12:18:10.324Z"
   },
   {
    "duration": 96,
    "start_time": "2023-06-29T12:18:11.085Z"
   },
   {
    "duration": 8,
    "start_time": "2023-06-29T12:18:26.265Z"
   },
   {
    "duration": 272414,
    "start_time": "2023-06-29T12:18:32.885Z"
   },
   {
    "duration": 3,
    "start_time": "2023-06-29T12:57:39.476Z"
   },
   {
    "duration": 3,
    "start_time": "2023-06-29T12:57:50.808Z"
   },
   {
    "duration": 4,
    "start_time": "2023-06-29T12:57:58.708Z"
   },
   {
    "duration": 3,
    "start_time": "2023-06-29T12:59:09.501Z"
   },
   {
    "duration": 3,
    "start_time": "2023-06-29T13:00:02.122Z"
   },
   {
    "duration": 3,
    "start_time": "2023-06-29T13:00:12.514Z"
   },
   {
    "duration": 87,
    "start_time": "2023-06-29T13:04:48.222Z"
   },
   {
    "duration": 4,
    "start_time": "2023-06-29T13:05:55.245Z"
   },
   {
    "duration": 4,
    "start_time": "2023-06-29T13:06:21.044Z"
   },
   {
    "duration": 15,
    "start_time": "2023-06-29T13:07:06.243Z"
   },
   {
    "duration": 12,
    "start_time": "2023-06-29T13:07:44.873Z"
   },
   {
    "duration": 11,
    "start_time": "2023-06-29T13:07:51.497Z"
   },
   {
    "duration": 13,
    "start_time": "2023-06-29T13:08:19.059Z"
   },
   {
    "duration": 10,
    "start_time": "2023-06-29T13:08:24.850Z"
   },
   {
    "duration": 15,
    "start_time": "2023-06-29T13:09:29.129Z"
   },
   {
    "duration": 16,
    "start_time": "2023-06-29T13:09:36.701Z"
   },
   {
    "duration": 19,
    "start_time": "2023-06-29T13:09:44.218Z"
   },
   {
    "duration": 16,
    "start_time": "2023-06-29T13:09:50.605Z"
   },
   {
    "duration": 3,
    "start_time": "2023-06-29T13:09:57.225Z"
   },
   {
    "duration": 12,
    "start_time": "2023-06-29T13:10:13.578Z"
   },
   {
    "duration": 11,
    "start_time": "2023-06-29T13:10:26.624Z"
   },
   {
    "duration": 12,
    "start_time": "2023-06-29T13:10:51.169Z"
   },
   {
    "duration": 12,
    "start_time": "2023-06-29T13:10:58.009Z"
   },
   {
    "duration": 13,
    "start_time": "2023-06-29T13:11:04.398Z"
   },
   {
    "duration": 12,
    "start_time": "2023-06-29T13:11:19.616Z"
   },
   {
    "duration": 14,
    "start_time": "2023-06-29T13:11:30.343Z"
   },
   {
    "duration": 6,
    "start_time": "2023-06-29T13:11:35.336Z"
   },
   {
    "duration": 73,
    "start_time": "2023-06-29T13:12:09.143Z"
   },
   {
    "duration": 67,
    "start_time": "2023-06-29T13:12:12.605Z"
   },
   {
    "duration": 4,
    "start_time": "2023-06-29T13:12:16.974Z"
   },
   {
    "duration": 5,
    "start_time": "2023-06-29T13:12:22.109Z"
   },
   {
    "duration": 6,
    "start_time": "2023-06-29T13:12:37.949Z"
   },
   {
    "duration": 6,
    "start_time": "2023-06-29T13:13:24.028Z"
   },
   {
    "duration": 17,
    "start_time": "2023-06-29T13:14:39.199Z"
   },
   {
    "duration": 5,
    "start_time": "2023-06-29T13:14:51.452Z"
   },
   {
    "duration": 5,
    "start_time": "2023-06-29T13:15:31.235Z"
   },
   {
    "duration": 5,
    "start_time": "2023-06-29T13:16:03.169Z"
   },
   {
    "duration": 19,
    "start_time": "2023-06-29T13:17:45.301Z"
   },
   {
    "duration": 7,
    "start_time": "2023-06-29T13:18:11.668Z"
   },
   {
    "duration": 23,
    "start_time": "2023-06-29T13:21:50.203Z"
   },
   {
    "duration": 27,
    "start_time": "2023-06-29T13:22:17.346Z"
   },
   {
    "duration": 18,
    "start_time": "2023-06-29T13:22:26.011Z"
   },
   {
    "duration": 18,
    "start_time": "2023-06-29T13:22:49.902Z"
   },
   {
    "duration": 6,
    "start_time": "2023-06-29T13:24:03.033Z"
   },
   {
    "duration": 5,
    "start_time": "2023-06-29T13:24:10.336Z"
   },
   {
    "duration": 6,
    "start_time": "2023-06-29T13:24:22.902Z"
   },
   {
    "duration": 18,
    "start_time": "2023-06-29T13:25:39.711Z"
   },
   {
    "duration": 7,
    "start_time": "2023-06-29T13:25:46.678Z"
   },
   {
    "duration": 3058,
    "start_time": "2023-07-03T14:23:59.999Z"
   },
   {
    "duration": 119,
    "start_time": "2023-07-03T14:25:23.826Z"
   },
   {
    "duration": 157,
    "start_time": "2023-07-03T14:25:30.386Z"
   },
   {
    "duration": 89,
    "start_time": "2023-07-03T14:25:50.222Z"
   },
   {
    "duration": 6,
    "start_time": "2023-07-03T14:25:57.325Z"
   },
   {
    "duration": 5,
    "start_time": "2023-07-03T14:26:07.076Z"
   },
   {
    "duration": 5,
    "start_time": "2023-07-03T14:26:22.997Z"
   },
   {
    "duration": 145,
    "start_time": "2023-07-03T14:27:04.524Z"
   },
   {
    "duration": 5,
    "start_time": "2023-07-03T14:27:17.566Z"
   },
   {
    "duration": 6,
    "start_time": "2023-07-03T14:27:58.990Z"
   },
   {
    "duration": 8,
    "start_time": "2023-07-03T14:28:19.366Z"
   },
   {
    "duration": 5,
    "start_time": "2023-07-03T14:28:44.875Z"
   },
   {
    "duration": 5,
    "start_time": "2023-07-03T14:29:11.886Z"
   },
   {
    "duration": 5,
    "start_time": "2023-07-03T14:29:36.306Z"
   },
   {
    "duration": 7,
    "start_time": "2023-07-03T14:30:48.521Z"
   },
   {
    "duration": 196,
    "start_time": "2023-07-03T14:31:02.440Z"
   },
   {
    "duration": 9,
    "start_time": "2023-07-03T14:31:26.528Z"
   },
   {
    "duration": 10,
    "start_time": "2023-07-03T14:31:54.112Z"
   },
   {
    "duration": 9,
    "start_time": "2023-07-03T14:32:59.083Z"
   },
   {
    "duration": 8,
    "start_time": "2023-07-03T14:33:19.519Z"
   },
   {
    "duration": 8,
    "start_time": "2023-07-03T14:35:57.541Z"
   },
   {
    "duration": 24,
    "start_time": "2023-07-03T14:36:21.548Z"
   },
   {
    "duration": 22,
    "start_time": "2023-07-03T14:36:27.747Z"
   },
   {
    "duration": 11,
    "start_time": "2023-07-03T14:36:39.347Z"
   },
   {
    "duration": 11,
    "start_time": "2023-07-03T14:37:08.097Z"
   },
   {
    "duration": 8,
    "start_time": "2023-07-03T14:37:28.939Z"
   },
   {
    "duration": 9,
    "start_time": "2023-07-03T14:37:40.914Z"
   },
   {
    "duration": 9,
    "start_time": "2023-07-03T14:37:47.923Z"
   },
   {
    "duration": 11,
    "start_time": "2023-07-03T14:37:58.676Z"
   },
   {
    "duration": 8,
    "start_time": "2023-07-03T14:38:57.033Z"
   },
   {
    "duration": 12,
    "start_time": "2023-07-03T14:39:11.750Z"
   },
   {
    "duration": 7,
    "start_time": "2023-07-03T14:40:22.911Z"
   },
   {
    "duration": 8,
    "start_time": "2023-07-03T14:40:57.285Z"
   },
   {
    "duration": 8,
    "start_time": "2023-07-03T14:41:40.686Z"
   },
   {
    "duration": 21,
    "start_time": "2023-07-03T14:45:24.946Z"
   },
   {
    "duration": 88,
    "start_time": "2023-07-03T14:49:59.127Z"
   },
   {
    "duration": 7,
    "start_time": "2023-07-03T14:50:06.231Z"
   },
   {
    "duration": 18,
    "start_time": "2023-07-03T14:50:35.865Z"
   },
   {
    "duration": 10,
    "start_time": "2023-07-03T14:51:44.725Z"
   },
   {
    "duration": 10,
    "start_time": "2023-07-03T14:52:18.525Z"
   },
   {
    "duration": 383,
    "start_time": "2023-07-03T14:53:09.988Z"
   },
   {
    "duration": 22,
    "start_time": "2023-07-03T14:53:33.947Z"
   },
   {
    "duration": 788,
    "start_time": "2023-07-03T14:54:17.089Z"
   },
   {
    "duration": 13,
    "start_time": "2023-07-03T14:54:54.898Z"
   },
   {
    "duration": 12,
    "start_time": "2023-07-03T14:55:02.378Z"
   },
   {
    "duration": 9,
    "start_time": "2023-07-03T14:55:42.074Z"
   },
   {
    "duration": 18,
    "start_time": "2023-07-03T14:56:23.449Z"
   },
   {
    "duration": 8,
    "start_time": "2023-07-03T14:57:19.480Z"
   },
   {
    "duration": 13,
    "start_time": "2023-07-03T14:57:48.592Z"
   },
   {
    "duration": 8,
    "start_time": "2023-07-03T14:57:56.527Z"
   },
   {
    "duration": 6,
    "start_time": "2023-07-03T15:08:59.990Z"
   },
   {
    "duration": 187,
    "start_time": "2023-07-03T15:11:31.132Z"
   },
   {
    "duration": 24,
    "start_time": "2023-07-03T15:11:35.650Z"
   },
   {
    "duration": 23,
    "start_time": "2023-07-03T15:11:40.993Z"
   },
   {
    "duration": 7,
    "start_time": "2023-07-03T15:12:42.899Z"
   },
   {
    "duration": 9,
    "start_time": "2023-07-03T15:14:44.563Z"
   },
   {
    "duration": 53,
    "start_time": "2023-07-03T15:15:42.885Z"
   },
   {
    "duration": 107,
    "start_time": "2023-07-03T15:16:11.867Z"
   },
   {
    "duration": 87,
    "start_time": "2023-07-03T15:16:49.677Z"
   },
   {
    "duration": 196,
    "start_time": "2023-07-03T15:17:23.133Z"
   },
   {
    "duration": 56,
    "start_time": "2023-07-03T15:17:59.411Z"
   },
   {
    "duration": 64,
    "start_time": "2023-07-03T15:18:34.011Z"
   },
   {
    "duration": 56,
    "start_time": "2023-07-03T15:19:22.522Z"
   },
   {
    "duration": 10,
    "start_time": "2023-07-03T15:21:26.825Z"
   },
   {
    "duration": 10,
    "start_time": "2023-07-03T15:21:41.468Z"
   },
   {
    "duration": 9,
    "start_time": "2023-07-03T15:22:04.124Z"
   },
   {
    "duration": 12,
    "start_time": "2023-07-03T15:22:24.831Z"
   },
   {
    "duration": 210,
    "start_time": "2023-07-03T15:23:04.679Z"
   },
   {
    "duration": 51,
    "start_time": "2023-07-03T15:23:43.879Z"
   },
   {
    "duration": 126,
    "start_time": "2023-07-03T15:25:39.373Z"
   },
   {
    "duration": 45,
    "start_time": "2023-07-03T15:25:52.092Z"
   },
   {
    "duration": 51,
    "start_time": "2023-07-03T15:26:03.990Z"
   },
   {
    "duration": 66,
    "start_time": "2023-07-03T15:26:14.676Z"
   },
   {
    "duration": 72,
    "start_time": "2023-07-03T15:27:32.475Z"
   },
   {
    "duration": 47,
    "start_time": "2023-07-03T15:27:43.667Z"
   },
   {
    "duration": 49,
    "start_time": "2023-07-03T15:27:54.664Z"
   },
   {
    "duration": 9,
    "start_time": "2023-07-03T15:28:34.188Z"
   },
   {
    "duration": 10,
    "start_time": "2023-07-03T15:28:42.097Z"
   },
   {
    "duration": 48,
    "start_time": "2023-07-03T15:29:00.158Z"
   },
   {
    "duration": 65,
    "start_time": "2023-07-03T15:29:10.905Z"
   },
   {
    "duration": 49,
    "start_time": "2023-07-03T15:29:14.617Z"
   },
   {
    "duration": 63,
    "start_time": "2023-07-03T15:29:36.817Z"
   },
   {
    "duration": 50,
    "start_time": "2023-07-03T15:29:49.705Z"
   },
   {
    "duration": 20,
    "start_time": "2023-07-03T15:30:12.593Z"
   },
   {
    "duration": 38,
    "start_time": "2023-07-03T15:30:18.504Z"
   },
   {
    "duration": 50,
    "start_time": "2023-07-03T15:30:27.968Z"
   },
   {
    "duration": 71,
    "start_time": "2023-07-03T15:30:37.816Z"
   },
   {
    "duration": 5767,
    "start_time": "2023-07-04T06:05:12.997Z"
   },
   {
    "duration": 171,
    "start_time": "2023-07-04T06:19:01.620Z"
   },
   {
    "duration": 32,
    "start_time": "2023-07-04T06:19:23.816Z"
   },
   {
    "duration": 10,
    "start_time": "2023-07-04T06:20:11.472Z"
   },
   {
    "duration": 11,
    "start_time": "2023-07-04T06:21:07.933Z"
   },
   {
    "duration": 10,
    "start_time": "2023-07-04T06:21:54.046Z"
   },
   {
    "duration": 7,
    "start_time": "2023-07-04T06:23:51.060Z"
   },
   {
    "duration": 8,
    "start_time": "2023-07-04T06:24:54.457Z"
   },
   {
    "duration": 15,
    "start_time": "2023-07-04T06:25:45.721Z"
   },
   {
    "duration": 7,
    "start_time": "2023-07-04T06:26:03.569Z"
   },
   {
    "duration": 7,
    "start_time": "2023-07-04T06:26:12.745Z"
   },
   {
    "duration": 22,
    "start_time": "2023-07-04T06:28:37.239Z"
   },
   {
    "duration": 13,
    "start_time": "2023-07-04T06:30:55.613Z"
   },
   {
    "duration": 16,
    "start_time": "2023-07-04T06:31:13.740Z"
   },
   {
    "duration": 17,
    "start_time": "2023-07-04T06:31:18.796Z"
   },
   {
    "duration": 10,
    "start_time": "2023-07-04T06:31:27.371Z"
   },
   {
    "duration": 12,
    "start_time": "2023-07-04T06:33:01.227Z"
   },
   {
    "duration": 11,
    "start_time": "2023-07-04T06:39:18.651Z"
   },
   {
    "duration": 106,
    "start_time": "2023-07-04T07:14:10.643Z"
   },
   {
    "duration": 86,
    "start_time": "2023-07-04T07:19:13.222Z"
   },
   {
    "duration": 10,
    "start_time": "2023-07-04T07:19:28.806Z"
   },
   {
    "duration": 10,
    "start_time": "2023-07-04T07:20:21.029Z"
   },
   {
    "duration": 10,
    "start_time": "2023-07-04T07:21:09.820Z"
   },
   {
    "duration": 24,
    "start_time": "2023-07-04T07:22:47.442Z"
   },
   {
    "duration": 8,
    "start_time": "2023-07-04T07:24:15.097Z"
   },
   {
    "duration": 7,
    "start_time": "2023-07-04T07:24:21.768Z"
   },
   {
    "duration": 8,
    "start_time": "2023-07-04T07:24:37.705Z"
   },
   {
    "duration": 31,
    "start_time": "2023-07-04T07:24:47.314Z"
   },
   {
    "duration": 11,
    "start_time": "2023-07-04T07:25:21.128Z"
   },
   {
    "duration": 10,
    "start_time": "2023-07-04T07:25:40.392Z"
   },
   {
    "duration": 11,
    "start_time": "2023-07-04T07:26:14.647Z"
   },
   {
    "duration": 5,
    "start_time": "2023-07-04T07:41:13.910Z"
   },
   {
    "duration": 25,
    "start_time": "2023-07-04T07:41:44.544Z"
   },
   {
    "duration": 12,
    "start_time": "2023-07-04T07:43:17.189Z"
   },
   {
    "duration": 25,
    "start_time": "2023-07-04T07:44:27.581Z"
   },
   {
    "duration": 7,
    "start_time": "2023-07-04T07:44:45.393Z"
   },
   {
    "duration": 11,
    "start_time": "2023-07-04T07:44:51.292Z"
   },
   {
    "duration": 11,
    "start_time": "2023-07-04T07:54:28.611Z"
   },
   {
    "duration": 6,
    "start_time": "2023-07-04T07:54:41.219Z"
   },
   {
    "duration": 10,
    "start_time": "2023-07-04T07:54:45.307Z"
   },
   {
    "duration": 10,
    "start_time": "2023-07-04T08:43:46.009Z"
   },
   {
    "duration": 3311,
    "start_time": "2023-07-05T09:55:08.213Z"
   },
   {
    "duration": 12,
    "start_time": "2023-07-05T09:56:51.277Z"
   },
   {
    "duration": 8,
    "start_time": "2023-07-05T09:57:27.725Z"
   },
   {
    "duration": 8,
    "start_time": "2023-07-05T09:57:49.037Z"
   },
   {
    "duration": 8,
    "start_time": "2023-07-05T09:58:22.996Z"
   },
   {
    "duration": 7,
    "start_time": "2023-07-05T10:06:56.760Z"
   },
   {
    "duration": 9,
    "start_time": "2023-07-05T10:07:03.939Z"
   },
   {
    "duration": 13,
    "start_time": "2023-07-05T10:07:37.499Z"
   },
   {
    "duration": 7,
    "start_time": "2023-07-05T10:13:28.325Z"
   },
   {
    "duration": 9,
    "start_time": "2023-07-05T10:14:43.044Z"
   },
   {
    "duration": 13,
    "start_time": "2023-07-05T10:15:01.369Z"
   },
   {
    "duration": 11,
    "start_time": "2023-07-05T10:16:15.772Z"
   },
   {
    "duration": 7,
    "start_time": "2023-07-05T10:16:37.033Z"
   },
   {
    "duration": 8,
    "start_time": "2023-07-05T10:16:41.766Z"
   },
   {
    "duration": 10,
    "start_time": "2023-07-05T10:17:28.041Z"
   },
   {
    "duration": 10,
    "start_time": "2023-07-05T10:17:50.624Z"
   },
   {
    "duration": 11,
    "start_time": "2023-07-05T10:18:22.370Z"
   },
   {
    "duration": 8,
    "start_time": "2023-07-05T10:19:14.880Z"
   },
   {
    "duration": 8,
    "start_time": "2023-07-05T10:19:44.921Z"
   },
   {
    "duration": 8,
    "start_time": "2023-07-05T10:21:18.141Z"
   },
   {
    "duration": 13,
    "start_time": "2023-07-05T10:22:57.702Z"
   },
   {
    "duration": 9,
    "start_time": "2023-07-05T10:24:13.810Z"
   },
   {
    "duration": 8,
    "start_time": "2023-07-05T10:24:31.338Z"
   },
   {
    "duration": 21,
    "start_time": "2023-07-05T10:24:46.275Z"
   },
   {
    "duration": 16,
    "start_time": "2023-07-05T10:25:06.006Z"
   },
   {
    "duration": 10,
    "start_time": "2023-07-05T10:25:10.434Z"
   },
   {
    "duration": 12,
    "start_time": "2023-07-05T10:25:18.818Z"
   },
   {
    "duration": 8,
    "start_time": "2023-07-05T10:25:40.825Z"
   },
   {
    "duration": 9,
    "start_time": "2023-07-05T10:26:12.633Z"
   },
   {
    "duration": 10,
    "start_time": "2023-07-05T10:26:22.521Z"
   },
   {
    "duration": 9,
    "start_time": "2023-07-05T10:28:40.207Z"
   },
   {
    "duration": 15,
    "start_time": "2023-07-05T10:29:25.103Z"
   },
   {
    "duration": 15,
    "start_time": "2023-07-05T10:30:50.571Z"
   },
   {
    "duration": 43,
    "start_time": "2023-07-05T10:30:54.373Z"
   },
   {
    "duration": 8,
    "start_time": "2023-07-05T10:31:18.206Z"
   },
   {
    "duration": 8,
    "start_time": "2023-07-05T10:31:31.504Z"
   },
   {
    "duration": 8,
    "start_time": "2023-07-05T10:33:04.715Z"
   },
   {
    "duration": 11,
    "start_time": "2023-07-05T10:33:29.965Z"
   },
   {
    "duration": 10,
    "start_time": "2023-07-05T10:33:57.307Z"
   },
   {
    "duration": 15,
    "start_time": "2023-07-05T10:34:15.003Z"
   },
   {
    "duration": 19,
    "start_time": "2023-07-05T10:34:48.267Z"
   },
   {
    "duration": 14,
    "start_time": "2023-07-05T10:35:03.506Z"
   },
   {
    "duration": 10,
    "start_time": "2023-07-05T10:35:40.529Z"
   },
   {
    "duration": 11,
    "start_time": "2023-07-05T10:36:20.217Z"
   },
   {
    "duration": 13,
    "start_time": "2023-07-05T10:36:34.369Z"
   },
   {
    "duration": 10,
    "start_time": "2023-07-05T10:37:20.232Z"
   },
   {
    "duration": 9,
    "start_time": "2023-07-05T10:37:43.003Z"
   },
   {
    "duration": 9,
    "start_time": "2023-07-05T10:38:39.950Z"
   },
   {
    "duration": 10,
    "start_time": "2023-07-05T10:39:13.830Z"
   },
   {
    "duration": 18,
    "start_time": "2023-07-05T10:39:21.965Z"
   },
   {
    "duration": 9,
    "start_time": "2023-07-05T10:41:12.671Z"
   },
   {
    "duration": 16,
    "start_time": "2023-07-05T10:42:09.376Z"
   },
   {
    "duration": 21,
    "start_time": "2023-07-05T10:42:17.275Z"
   },
   {
    "duration": 11,
    "start_time": "2023-07-05T10:45:01.121Z"
   },
   {
    "duration": 193,
    "start_time": "2023-07-05T10:45:25.178Z"
   },
   {
    "duration": 9,
    "start_time": "2023-07-05T10:46:20.023Z"
   },
   {
    "duration": 16,
    "start_time": "2023-07-05T10:47:11.720Z"
   },
   {
    "duration": 9,
    "start_time": "2023-07-05T10:47:29.736Z"
   },
   {
    "duration": 170,
    "start_time": "2023-07-05T10:47:58.853Z"
   },
   {
    "duration": 9,
    "start_time": "2023-07-05T10:48:10.445Z"
   },
   {
    "duration": 8,
    "start_time": "2023-07-05T10:50:21.933Z"
   },
   {
    "duration": 2669,
    "start_time": "2023-07-11T09:28:09.819Z"
   },
   {
    "duration": 123,
    "start_time": "2023-07-11T09:28:12.490Z"
   },
   {
    "duration": 11,
    "start_time": "2023-07-11T09:28:12.615Z"
   },
   {
    "duration": 11,
    "start_time": "2023-07-11T09:28:12.628Z"
   },
   {
    "duration": 12,
    "start_time": "2023-07-11T09:28:12.641Z"
   },
   {
    "duration": 14,
    "start_time": "2023-07-11T09:28:12.655Z"
   },
   {
    "duration": 9,
    "start_time": "2023-07-11T09:28:12.671Z"
   },
   {
    "duration": 647,
    "start_time": "2023-07-11T09:28:12.681Z"
   },
   {
    "duration": 10,
    "start_time": "2023-07-11T09:28:13.330Z"
   },
   {
    "duration": 335,
    "start_time": "2023-07-11T09:28:13.343Z"
   },
   {
    "duration": 10,
    "start_time": "2023-07-11T09:28:13.680Z"
   },
   {
    "duration": 226,
    "start_time": "2023-07-11T09:28:13.692Z"
   },
   {
    "duration": 4,
    "start_time": "2023-07-11T09:28:13.919Z"
   },
   {
    "duration": 22,
    "start_time": "2023-07-11T09:28:13.925Z"
   },
   {
    "duration": 29,
    "start_time": "2023-07-11T09:28:13.949Z"
   },
   {
    "duration": 7,
    "start_time": "2023-07-11T09:28:13.980Z"
   },
   {
    "duration": 4,
    "start_time": "2023-07-11T09:28:13.989Z"
   },
   {
    "duration": 12,
    "start_time": "2023-07-11T09:28:13.994Z"
   },
   {
    "duration": 10,
    "start_time": "2023-07-11T09:28:14.008Z"
   },
   {
    "duration": 16,
    "start_time": "2023-07-11T09:28:14.020Z"
   },
   {
    "duration": 7,
    "start_time": "2023-07-11T09:28:14.037Z"
   },
   {
    "duration": 31,
    "start_time": "2023-07-11T09:28:14.046Z"
   },
   {
    "duration": 4,
    "start_time": "2023-07-11T09:28:14.078Z"
   },
   {
    "duration": 58,
    "start_time": "2023-07-11T09:28:14.084Z"
   },
   {
    "duration": 3,
    "start_time": "2023-07-11T09:28:14.144Z"
   },
   {
    "duration": 31,
    "start_time": "2023-07-11T09:28:14.148Z"
   },
   {
    "duration": 5,
    "start_time": "2023-07-11T09:28:14.181Z"
   },
   {
    "duration": 9,
    "start_time": "2023-07-11T09:28:14.189Z"
   },
   {
    "duration": 17,
    "start_time": "2023-07-11T09:28:14.199Z"
   },
   {
    "duration": 11,
    "start_time": "2023-07-11T09:28:14.218Z"
   },
   {
    "duration": 169,
    "start_time": "2023-07-11T09:28:14.231Z"
   },
   {
    "duration": 0,
    "start_time": "2023-07-11T09:28:14.401Z"
   },
   {
    "duration": 0,
    "start_time": "2023-07-11T09:28:14.402Z"
   },
   {
    "duration": 0,
    "start_time": "2023-07-11T09:28:14.403Z"
   },
   {
    "duration": 0,
    "start_time": "2023-07-11T09:28:14.404Z"
   },
   {
    "duration": 0,
    "start_time": "2023-07-11T09:28:14.405Z"
   },
   {
    "duration": 0,
    "start_time": "2023-07-11T09:28:14.407Z"
   },
   {
    "duration": 0,
    "start_time": "2023-07-11T09:28:14.408Z"
   },
   {
    "duration": 0,
    "start_time": "2023-07-11T09:28:14.409Z"
   },
   {
    "duration": 0,
    "start_time": "2023-07-11T09:28:14.410Z"
   },
   {
    "duration": 0,
    "start_time": "2023-07-11T09:28:14.412Z"
   },
   {
    "duration": 0,
    "start_time": "2023-07-11T09:28:14.413Z"
   },
   {
    "duration": 0,
    "start_time": "2023-07-11T09:28:14.414Z"
   },
   {
    "duration": 0,
    "start_time": "2023-07-11T09:28:14.415Z"
   },
   {
    "duration": 0,
    "start_time": "2023-07-11T09:28:14.417Z"
   },
   {
    "duration": 0,
    "start_time": "2023-07-11T09:28:14.418Z"
   },
   {
    "duration": 0,
    "start_time": "2023-07-11T09:28:14.419Z"
   },
   {
    "duration": 0,
    "start_time": "2023-07-11T09:28:14.420Z"
   },
   {
    "duration": 7,
    "start_time": "2023-07-11T09:29:10.401Z"
   },
   {
    "duration": 28,
    "start_time": "2023-07-11T09:29:15.200Z"
   },
   {
    "duration": 6,
    "start_time": "2023-07-11T09:29:32.943Z"
   },
   {
    "duration": 2996434,
    "start_time": "2023-07-11T09:29:36.471Z"
   },
   {
    "duration": 3,
    "start_time": "2023-07-11T10:38:49.652Z"
   },
   {
    "duration": 12,
    "start_time": "2023-07-11T10:38:50.795Z"
   },
   {
    "duration": 75115,
    "start_time": "2023-07-11T10:39:01.066Z"
   },
   {
    "duration": 15,
    "start_time": "2023-07-11T10:40:16.183Z"
   },
   {
    "duration": 0,
    "start_time": "2023-07-11T10:40:16.199Z"
   },
   {
    "duration": 0,
    "start_time": "2023-07-11T10:40:16.200Z"
   },
   {
    "duration": 0,
    "start_time": "2023-07-11T10:40:16.202Z"
   },
   {
    "duration": 0,
    "start_time": "2023-07-11T10:40:16.202Z"
   },
   {
    "duration": 0,
    "start_time": "2023-07-11T10:40:16.203Z"
   },
   {
    "duration": 0,
    "start_time": "2023-07-11T10:40:16.205Z"
   },
   {
    "duration": 0,
    "start_time": "2023-07-11T10:40:16.206Z"
   },
   {
    "duration": 0,
    "start_time": "2023-07-11T10:40:16.207Z"
   },
   {
    "duration": 0,
    "start_time": "2023-07-11T10:40:16.208Z"
   },
   {
    "duration": 0,
    "start_time": "2023-07-11T10:40:16.209Z"
   },
   {
    "duration": 0,
    "start_time": "2023-07-11T10:40:16.210Z"
   },
   {
    "duration": 0,
    "start_time": "2023-07-11T10:40:16.212Z"
   },
   {
    "duration": 0,
    "start_time": "2023-07-11T10:40:16.213Z"
   },
   {
    "duration": 0,
    "start_time": "2023-07-11T10:40:16.214Z"
   },
   {
    "duration": 2,
    "start_time": "2023-07-11T13:29:29.874Z"
   },
   {
    "duration": 15,
    "start_time": "2023-07-11T13:29:30.135Z"
   },
   {
    "duration": 42,
    "start_time": "2023-07-11T13:29:30.333Z"
   },
   {
    "duration": 5,
    "start_time": "2023-07-11T13:29:32.474Z"
   },
   {
    "duration": 2,
    "start_time": "2023-07-11T13:29:32.990Z"
   },
   {
    "duration": 3,
    "start_time": "2023-07-11T13:29:33.206Z"
   },
   {
    "duration": 2,
    "start_time": "2023-07-11T13:29:33.377Z"
   },
   {
    "duration": 2,
    "start_time": "2023-07-11T13:29:34.463Z"
   },
   {
    "duration": 3,
    "start_time": "2023-07-11T13:29:34.658Z"
   },
   {
    "duration": 70,
    "start_time": "2023-07-11T13:29:34.830Z"
   },
   {
    "duration": 11,
    "start_time": "2023-07-11T13:29:36.349Z"
   },
   {
    "duration": 5,
    "start_time": "2023-07-11T13:29:40.862Z"
   },
   {
    "duration": 3193,
    "start_time": "2023-07-13T10:14:34.497Z"
   },
   {
    "duration": 160,
    "start_time": "2023-07-13T10:14:37.693Z"
   },
   {
    "duration": 13,
    "start_time": "2023-07-13T10:14:37.855Z"
   },
   {
    "duration": 21,
    "start_time": "2023-07-13T10:14:37.870Z"
   },
   {
    "duration": 22,
    "start_time": "2023-07-13T10:14:37.898Z"
   },
   {
    "duration": 7,
    "start_time": "2023-07-13T10:14:37.922Z"
   },
   {
    "duration": 8,
    "start_time": "2023-07-13T10:14:37.931Z"
   },
   {
    "duration": 939,
    "start_time": "2023-07-13T10:14:37.941Z"
   },
   {
    "duration": 30,
    "start_time": "2023-07-13T10:14:38.883Z"
   },
   {
    "duration": 558,
    "start_time": "2023-07-13T10:14:38.917Z"
   },
   {
    "duration": 14,
    "start_time": "2023-07-13T10:14:39.478Z"
   },
   {
    "duration": 328,
    "start_time": "2023-07-13T10:14:39.494Z"
   },
   {
    "duration": 5,
    "start_time": "2023-07-13T10:14:39.824Z"
   },
   {
    "duration": 29,
    "start_time": "2023-07-13T10:14:39.834Z"
   },
   {
    "duration": 38,
    "start_time": "2023-07-13T10:14:39.865Z"
   },
   {
    "duration": 42,
    "start_time": "2023-07-13T10:14:39.905Z"
   },
   {
    "duration": 4,
    "start_time": "2023-07-13T10:14:39.950Z"
   },
   {
    "duration": 14,
    "start_time": "2023-07-13T10:14:39.956Z"
   },
   {
    "duration": 46,
    "start_time": "2023-07-13T10:14:39.973Z"
   },
   {
    "duration": 50,
    "start_time": "2023-07-13T10:14:40.021Z"
   },
   {
    "duration": 44,
    "start_time": "2023-07-13T10:14:40.073Z"
   },
   {
    "duration": 27,
    "start_time": "2023-07-13T10:14:40.123Z"
   },
   {
    "duration": 6,
    "start_time": "2023-07-13T10:14:40.152Z"
   },
   {
    "duration": 90,
    "start_time": "2023-07-13T10:14:40.160Z"
   },
   {
    "duration": 3,
    "start_time": "2023-07-13T10:14:40.252Z"
   },
   {
    "duration": 33,
    "start_time": "2023-07-13T10:14:40.257Z"
   },
   {
    "duration": 33,
    "start_time": "2023-07-13T10:14:40.296Z"
   },
   {
    "duration": 20,
    "start_time": "2023-07-13T10:14:40.331Z"
   },
   {
    "duration": 49,
    "start_time": "2023-07-13T10:14:40.353Z"
   },
   {
    "duration": 13,
    "start_time": "2023-07-13T10:14:40.407Z"
   },
   {
    "duration": 120540,
    "start_time": "2023-07-13T10:14:40.422Z"
   },
   {
    "duration": 0,
    "start_time": "2023-07-13T10:16:40.965Z"
   },
   {
    "duration": 11,
    "start_time": "2023-07-13T10:17:00.967Z"
   },
   {
    "duration": 58482,
    "start_time": "2023-07-13T10:17:09.638Z"
   },
   {
    "duration": 0,
    "start_time": "2023-07-13T10:18:08.123Z"
   },
   {
    "duration": 0,
    "start_time": "2023-07-13T10:18:08.124Z"
   },
   {
    "duration": 8,
    "start_time": "2023-07-13T10:19:05.633Z"
   },
   {
    "duration": 12914480,
    "start_time": "2023-07-13T10:19:13.059Z"
   },
   {
    "duration": 3,
    "start_time": "2023-07-13T13:54:27.541Z"
   },
   {
    "duration": 66,
    "start_time": "2023-07-13T13:54:27.546Z"
   },
   {
    "duration": 111,
    "start_time": "2023-07-13T13:54:27.616Z"
   },
   {
    "duration": 0,
    "start_time": "2023-07-13T13:54:27.729Z"
   },
   {
    "duration": 0,
    "start_time": "2023-07-13T13:54:27.730Z"
   },
   {
    "duration": 0,
    "start_time": "2023-07-13T13:54:27.731Z"
   },
   {
    "duration": 0,
    "start_time": "2023-07-13T13:54:27.732Z"
   },
   {
    "duration": 0,
    "start_time": "2023-07-13T13:54:27.733Z"
   },
   {
    "duration": 0,
    "start_time": "2023-07-13T13:54:27.734Z"
   },
   {
    "duration": 0,
    "start_time": "2023-07-13T13:54:27.735Z"
   },
   {
    "duration": 0,
    "start_time": "2023-07-13T13:54:27.736Z"
   },
   {
    "duration": 0,
    "start_time": "2023-07-13T13:54:27.737Z"
   },
   {
    "duration": 0,
    "start_time": "2023-07-13T13:54:27.738Z"
   },
   {
    "duration": 0,
    "start_time": "2023-07-13T13:54:27.739Z"
   },
   {
    "duration": 0,
    "start_time": "2023-07-13T13:54:27.740Z"
   },
   {
    "duration": 0,
    "start_time": "2023-07-13T13:54:27.741Z"
   },
   {
    "duration": 0,
    "start_time": "2023-07-13T13:54:27.743Z"
   },
   {
    "duration": 2181,
    "start_time": "2023-07-14T06:41:15.768Z"
   },
   {
    "duration": 111,
    "start_time": "2023-07-14T06:41:17.951Z"
   },
   {
    "duration": 10,
    "start_time": "2023-07-14T06:41:18.064Z"
   },
   {
    "duration": 18,
    "start_time": "2023-07-14T06:41:18.075Z"
   },
   {
    "duration": 10,
    "start_time": "2023-07-14T06:41:18.095Z"
   },
   {
    "duration": 8,
    "start_time": "2023-07-14T06:41:18.107Z"
   },
   {
    "duration": 19,
    "start_time": "2023-07-14T06:41:18.117Z"
   },
   {
    "duration": 584,
    "start_time": "2023-07-14T06:41:18.138Z"
   },
   {
    "duration": 11,
    "start_time": "2023-07-14T06:41:18.724Z"
   },
   {
    "duration": 307,
    "start_time": "2023-07-14T06:41:18.738Z"
   },
   {
    "duration": 11,
    "start_time": "2023-07-14T06:41:19.046Z"
   },
   {
    "duration": 191,
    "start_time": "2023-07-14T06:41:19.058Z"
   },
   {
    "duration": 4,
    "start_time": "2023-07-14T06:41:19.251Z"
   },
   {
    "duration": 22,
    "start_time": "2023-07-14T06:41:19.257Z"
   },
   {
    "duration": 22,
    "start_time": "2023-07-14T06:41:19.281Z"
   },
   {
    "duration": 33,
    "start_time": "2023-07-14T06:41:19.305Z"
   },
   {
    "duration": 4,
    "start_time": "2023-07-14T06:41:19.340Z"
   },
   {
    "duration": 16,
    "start_time": "2023-07-14T06:41:19.345Z"
   },
   {
    "duration": 27,
    "start_time": "2023-07-14T06:41:19.362Z"
   },
   {
    "duration": 20,
    "start_time": "2023-07-14T06:41:19.390Z"
   },
   {
    "duration": 7,
    "start_time": "2023-07-14T06:41:19.412Z"
   },
   {
    "duration": 19,
    "start_time": "2023-07-14T06:41:19.420Z"
   },
   {
    "duration": 4,
    "start_time": "2023-07-14T06:41:19.440Z"
   },
   {
    "duration": 55,
    "start_time": "2023-07-14T06:41:19.445Z"
   },
   {
    "duration": 4,
    "start_time": "2023-07-14T06:41:19.501Z"
   },
   {
    "duration": 36,
    "start_time": "2023-07-14T06:41:19.506Z"
   },
   {
    "duration": 24,
    "start_time": "2023-07-14T06:41:19.543Z"
   },
   {
    "duration": 22,
    "start_time": "2023-07-14T06:41:19.570Z"
   },
   {
    "duration": 11,
    "start_time": "2023-07-14T06:41:19.594Z"
   },
   {
    "duration": 7,
    "start_time": "2023-07-14T06:41:19.607Z"
   },
   {
    "duration": 22,
    "start_time": "2023-07-14T06:41:19.615Z"
   },
   {
    "duration": 7,
    "start_time": "2023-07-14T06:41:19.638Z"
   },
   {
    "duration": 5,
    "start_time": "2023-07-14T06:41:19.647Z"
   },
   {
    "duration": 149,
    "start_time": "2023-07-14T06:41:19.653Z"
   },
   {
    "duration": 0,
    "start_time": "2023-07-14T06:41:19.803Z"
   },
   {
    "duration": 0,
    "start_time": "2023-07-14T06:41:19.805Z"
   },
   {
    "duration": 0,
    "start_time": "2023-07-14T06:41:19.805Z"
   },
   {
    "duration": 0,
    "start_time": "2023-07-14T06:41:19.806Z"
   },
   {
    "duration": 0,
    "start_time": "2023-07-14T06:41:19.807Z"
   },
   {
    "duration": 0,
    "start_time": "2023-07-14T06:41:19.808Z"
   },
   {
    "duration": 0,
    "start_time": "2023-07-14T06:41:19.809Z"
   },
   {
    "duration": 0,
    "start_time": "2023-07-14T06:41:19.810Z"
   },
   {
    "duration": 0,
    "start_time": "2023-07-14T06:41:19.811Z"
   },
   {
    "duration": 0,
    "start_time": "2023-07-14T06:41:19.812Z"
   },
   {
    "duration": 0,
    "start_time": "2023-07-14T06:41:19.813Z"
   },
   {
    "duration": 0,
    "start_time": "2023-07-14T06:41:19.814Z"
   },
   {
    "duration": 0,
    "start_time": "2023-07-14T06:41:19.815Z"
   },
   {
    "duration": 0,
    "start_time": "2023-07-14T06:41:19.815Z"
   },
   {
    "duration": 37130,
    "start_time": "2023-07-14T06:41:35.976Z"
   },
   {
    "duration": 3,
    "start_time": "2023-07-14T06:42:13.108Z"
   },
   {
    "duration": 96,
    "start_time": "2023-07-14T06:42:13.112Z"
   },
   {
    "duration": 102,
    "start_time": "2023-07-14T06:42:13.212Z"
   },
   {
    "duration": 85,
    "start_time": "2023-07-14T06:42:13.316Z"
   },
   {
    "duration": 94,
    "start_time": "2023-07-14T06:42:13.407Z"
   },
   {
    "duration": 12,
    "start_time": "2023-07-14T06:42:13.503Z"
   },
   {
    "duration": 20,
    "start_time": "2023-07-14T06:42:13.516Z"
   },
   {
    "duration": 8,
    "start_time": "2023-07-14T06:42:13.538Z"
   },
   {
    "duration": 17,
    "start_time": "2023-07-14T06:42:13.550Z"
   },
   {
    "duration": 232,
    "start_time": "2023-07-14T06:42:13.568Z"
   },
   {
    "duration": 6,
    "start_time": "2023-07-14T06:42:13.802Z"
   },
   {
    "duration": 15,
    "start_time": "2023-07-14T06:42:13.809Z"
   },
   {
    "duration": 16,
    "start_time": "2023-07-14T06:42:13.826Z"
   },
   {
    "duration": 0,
    "start_time": "2023-07-14T06:42:13.843Z"
   },
   {
    "duration": 11,
    "start_time": "2023-07-14T06:42:42.469Z"
   },
   {
    "duration": 4,
    "start_time": "2023-07-14T06:43:10.276Z"
   },
   {
    "duration": 4,
    "start_time": "2023-07-14T06:43:17.802Z"
   },
   {
    "duration": 5,
    "start_time": "2023-07-14T06:43:18.426Z"
   },
   {
    "duration": 7,
    "start_time": "2023-07-14T06:49:27.385Z"
   },
   {
    "duration": 5,
    "start_time": "2023-07-14T06:49:49.785Z"
   },
   {
    "duration": 9,
    "start_time": "2023-07-14T06:50:08.047Z"
   },
   {
    "duration": 98,
    "start_time": "2023-07-14T06:50:38.103Z"
   },
   {
    "duration": 124,
    "start_time": "2023-07-14T06:51:07.145Z"
   },
   {
    "duration": 4,
    "start_time": "2023-07-14T06:51:40.519Z"
   },
   {
    "duration": 71,
    "start_time": "2023-07-14T06:51:40.525Z"
   },
   {
    "duration": 6,
    "start_time": "2023-07-14T06:51:40.598Z"
   },
   {
    "duration": 14,
    "start_time": "2023-07-14T06:51:40.606Z"
   },
   {
    "duration": 18,
    "start_time": "2023-07-14T06:51:40.621Z"
   },
   {
    "duration": 13,
    "start_time": "2023-07-14T06:51:40.641Z"
   },
   {
    "duration": 14,
    "start_time": "2023-07-14T06:51:40.655Z"
   },
   {
    "duration": 489,
    "start_time": "2023-07-14T06:51:40.671Z"
   },
   {
    "duration": 7,
    "start_time": "2023-07-14T06:51:41.162Z"
   },
   {
    "duration": 331,
    "start_time": "2023-07-14T06:51:41.171Z"
   },
   {
    "duration": 10,
    "start_time": "2023-07-14T06:51:41.504Z"
   },
   {
    "duration": 269,
    "start_time": "2023-07-14T06:51:41.515Z"
   },
   {
    "duration": 17,
    "start_time": "2023-07-14T06:51:41.785Z"
   },
   {
    "duration": 30,
    "start_time": "2023-07-14T06:51:41.804Z"
   },
   {
    "duration": 14,
    "start_time": "2023-07-14T06:51:41.836Z"
   },
   {
    "duration": 6,
    "start_time": "2023-07-14T06:51:41.852Z"
   },
   {
    "duration": 4,
    "start_time": "2023-07-14T06:51:41.859Z"
   },
   {
    "duration": 16,
    "start_time": "2023-07-14T06:51:41.864Z"
   },
   {
    "duration": 9,
    "start_time": "2023-07-14T06:51:41.882Z"
   },
   {
    "duration": 38,
    "start_time": "2023-07-14T06:51:41.893Z"
   },
   {
    "duration": 27,
    "start_time": "2023-07-14T06:51:41.933Z"
   },
   {
    "duration": 22,
    "start_time": "2023-07-14T06:51:41.961Z"
   },
   {
    "duration": 20,
    "start_time": "2023-07-14T06:51:41.984Z"
   },
   {
    "duration": 56,
    "start_time": "2023-07-14T06:51:42.006Z"
   },
   {
    "duration": 3,
    "start_time": "2023-07-14T06:51:42.064Z"
   },
   {
    "duration": 40,
    "start_time": "2023-07-14T06:51:42.068Z"
   },
   {
    "duration": 19,
    "start_time": "2023-07-14T06:51:42.110Z"
   },
   {
    "duration": 11,
    "start_time": "2023-07-14T06:51:42.132Z"
   },
   {
    "duration": 31,
    "start_time": "2023-07-14T06:51:42.144Z"
   },
   {
    "duration": 11,
    "start_time": "2023-07-14T06:51:42.177Z"
   },
   {
    "duration": 24,
    "start_time": "2023-07-14T06:51:42.189Z"
   },
   {
    "duration": 0,
    "start_time": "2023-07-14T06:51:42.215Z"
   },
   {
    "duration": 0,
    "start_time": "2023-07-14T06:51:42.216Z"
   },
   {
    "duration": 0,
    "start_time": "2023-07-14T06:51:42.217Z"
   },
   {
    "duration": 0,
    "start_time": "2023-07-14T06:51:42.218Z"
   },
   {
    "duration": 0,
    "start_time": "2023-07-14T06:51:42.219Z"
   },
   {
    "duration": 0,
    "start_time": "2023-07-14T06:51:42.220Z"
   },
   {
    "duration": 0,
    "start_time": "2023-07-14T06:51:42.220Z"
   },
   {
    "duration": 0,
    "start_time": "2023-07-14T06:51:42.221Z"
   },
   {
    "duration": 0,
    "start_time": "2023-07-14T06:51:42.222Z"
   },
   {
    "duration": 0,
    "start_time": "2023-07-14T06:51:42.223Z"
   },
   {
    "duration": 0,
    "start_time": "2023-07-14T06:51:42.223Z"
   },
   {
    "duration": 0,
    "start_time": "2023-07-14T06:51:42.225Z"
   },
   {
    "duration": 0,
    "start_time": "2023-07-14T06:51:42.225Z"
   },
   {
    "duration": 0,
    "start_time": "2023-07-14T06:51:42.226Z"
   },
   {
    "duration": 0,
    "start_time": "2023-07-14T06:51:42.227Z"
   },
   {
    "duration": 0,
    "start_time": "2023-07-14T06:51:42.228Z"
   },
   {
    "duration": 0,
    "start_time": "2023-07-14T06:51:42.229Z"
   },
   {
    "duration": 7,
    "start_time": "2023-07-14T06:52:25.461Z"
   },
   {
    "duration": 8,
    "start_time": "2023-07-14T06:52:33.595Z"
   },
   {
    "duration": 2362823,
    "start_time": "2023-07-14T06:52:33.605Z"
   },
   {
    "duration": 2,
    "start_time": "2023-07-14T07:31:56.430Z"
   },
   {
    "duration": 28,
    "start_time": "2023-07-14T07:31:56.434Z"
   },
   {
    "duration": 17846,
    "start_time": "2023-07-14T07:31:56.465Z"
   },
   {
    "duration": 3,
    "start_time": "2023-07-14T07:32:14.313Z"
   },
   {
    "duration": 90,
    "start_time": "2023-07-14T07:32:14.317Z"
   },
   {
    "duration": 91,
    "start_time": "2023-07-14T07:32:14.409Z"
   },
   {
    "duration": 113,
    "start_time": "2023-07-14T07:32:14.502Z"
   },
   {
    "duration": 55,
    "start_time": "2023-07-14T07:32:14.617Z"
   },
   {
    "duration": 80,
    "start_time": "2023-07-14T07:32:14.673Z"
   },
   {
    "duration": 50,
    "start_time": "2023-07-14T07:32:14.754Z"
   },
   {
    "duration": 61,
    "start_time": "2023-07-14T07:32:14.806Z"
   },
   {
    "duration": 15,
    "start_time": "2023-07-14T07:32:14.870Z"
   },
   {
    "duration": 213,
    "start_time": "2023-07-14T07:32:14.887Z"
   },
   {
    "duration": 6,
    "start_time": "2023-07-14T07:32:15.101Z"
   },
   {
    "duration": 20,
    "start_time": "2023-07-14T07:32:15.109Z"
   },
   {
    "duration": 14,
    "start_time": "2023-07-14T07:32:15.130Z"
   },
   {
    "duration": 73,
    "start_time": "2023-07-14T07:32:15.145Z"
   },
   {
    "duration": 3,
    "start_time": "2023-07-14T08:38:22.922Z"
   },
   {
    "duration": 53,
    "start_time": "2023-07-14T08:38:22.928Z"
   },
   {
    "duration": 6,
    "start_time": "2023-07-14T08:38:22.983Z"
   },
   {
    "duration": 24,
    "start_time": "2023-07-14T08:38:22.991Z"
   },
   {
    "duration": 25,
    "start_time": "2023-07-14T08:38:23.017Z"
   },
   {
    "duration": 20,
    "start_time": "2023-07-14T08:38:23.043Z"
   },
   {
    "duration": 37,
    "start_time": "2023-07-14T08:38:23.065Z"
   },
   {
    "duration": 568,
    "start_time": "2023-07-14T08:38:23.103Z"
   },
   {
    "duration": 9,
    "start_time": "2023-07-14T08:38:23.674Z"
   },
   {
    "duration": 345,
    "start_time": "2023-07-14T08:38:23.685Z"
   },
   {
    "duration": 9,
    "start_time": "2023-07-14T08:38:24.032Z"
   },
   {
    "duration": 203,
    "start_time": "2023-07-14T08:38:24.043Z"
   },
   {
    "duration": 3,
    "start_time": "2023-07-14T08:38:24.248Z"
   },
   {
    "duration": 35,
    "start_time": "2023-07-14T08:38:24.253Z"
   },
   {
    "duration": 23,
    "start_time": "2023-07-14T08:38:24.289Z"
   },
   {
    "duration": 15,
    "start_time": "2023-07-14T08:38:24.314Z"
   },
   {
    "duration": 21,
    "start_time": "2023-07-14T08:38:24.331Z"
   },
   {
    "duration": 23,
    "start_time": "2023-07-14T08:38:24.353Z"
   },
   {
    "duration": 29,
    "start_time": "2023-07-14T08:38:24.378Z"
   },
   {
    "duration": 21,
    "start_time": "2023-07-14T08:38:24.408Z"
   },
   {
    "duration": 39,
    "start_time": "2023-07-14T08:38:24.430Z"
   },
   {
    "duration": 35,
    "start_time": "2023-07-14T08:38:24.470Z"
   },
   {
    "duration": 10,
    "start_time": "2023-07-14T08:38:24.506Z"
   },
   {
    "duration": 52,
    "start_time": "2023-07-14T08:38:24.519Z"
   },
   {
    "duration": 3,
    "start_time": "2023-07-14T08:38:24.572Z"
   },
   {
    "duration": 23,
    "start_time": "2023-07-14T08:38:24.576Z"
   },
   {
    "duration": 5,
    "start_time": "2023-07-14T08:38:24.601Z"
   },
   {
    "duration": 19,
    "start_time": "2023-07-14T08:38:24.607Z"
   },
   {
    "duration": 14,
    "start_time": "2023-07-14T08:38:24.628Z"
   },
   {
    "duration": 37,
    "start_time": "2023-07-14T08:38:24.644Z"
   },
   {
    "duration": 3063554,
    "start_time": "2023-07-14T08:38:24.682Z"
   },
   {
    "duration": 3,
    "start_time": "2023-07-14T09:29:28.238Z"
   },
   {
    "duration": 36875,
    "start_time": "2023-07-14T09:29:28.243Z"
   },
   {
    "duration": 2,
    "start_time": "2023-07-14T09:30:05.201Z"
   },
   {
    "duration": 29,
    "start_time": "2023-07-14T09:30:05.205Z"
   },
   {
    "duration": 166,
    "start_time": "2023-07-14T09:30:05.235Z"
   },
   {
    "duration": 97,
    "start_time": "2023-07-14T09:30:05.403Z"
   },
   {
    "duration": 25,
    "start_time": "2023-07-14T09:30:05.501Z"
   },
   {
    "duration": 15,
    "start_time": "2023-07-14T09:30:05.529Z"
   },
   {
    "duration": 206958,
    "start_time": "2023-07-14T09:30:05.546Z"
   },
   {
    "duration": 3,
    "start_time": "2023-07-14T09:33:32.505Z"
   },
   {
    "duration": 31,
    "start_time": "2023-07-14T09:33:32.509Z"
   },
   {
    "duration": 165,
    "start_time": "2023-07-14T09:33:32.541Z"
   },
   {
    "duration": 5,
    "start_time": "2023-07-14T09:33:32.707Z"
   },
   {
    "duration": 18,
    "start_time": "2023-07-14T09:33:32.713Z"
   },
   {
    "duration": 26,
    "start_time": "2023-07-14T09:33:32.732Z"
   },
   {
    "duration": 6,
    "start_time": "2023-07-14T09:33:32.800Z"
   },
   {
    "duration": 47,
    "start_time": "2023-07-14T12:54:29.149Z"
   },
   {
    "duration": 67614,
    "start_time": "2023-07-14T12:57:42.809Z"
   },
   {
    "duration": 0,
    "start_time": "2023-07-14T12:58:50.424Z"
   },
   {
    "duration": 926,
    "start_time": "2023-07-14T13:02:58.198Z"
   },
   {
    "duration": 1099134,
    "start_time": "2023-07-14T13:03:16.065Z"
   },
   {
    "duration": 699708,
    "start_time": "2023-07-14T13:57:48.281Z"
   },
   {
    "duration": 130475,
    "start_time": "2023-07-14T14:54:55.647Z"
   },
   {
    "duration": 57572,
    "start_time": "2023-07-14T14:57:59.196Z"
   },
   {
    "duration": 33899,
    "start_time": "2023-07-14T14:59:10.554Z"
   },
   {
    "duration": 30097,
    "start_time": "2023-07-14T15:00:39.824Z"
   },
   {
    "duration": 22756,
    "start_time": "2023-07-14T15:01:23.087Z"
   },
   {
    "duration": 2620,
    "start_time": "2023-07-18T11:10:00.075Z"
   },
   {
    "duration": 131,
    "start_time": "2023-07-18T11:10:02.697Z"
   },
   {
    "duration": 11,
    "start_time": "2023-07-18T11:10:02.830Z"
   },
   {
    "duration": 45,
    "start_time": "2023-07-18T11:10:02.843Z"
   },
   {
    "duration": 24,
    "start_time": "2023-07-18T11:10:02.891Z"
   },
   {
    "duration": 55,
    "start_time": "2023-07-18T11:10:02.917Z"
   },
   {
    "duration": 38,
    "start_time": "2023-07-18T11:10:02.974Z"
   },
   {
    "duration": 709,
    "start_time": "2023-07-18T11:10:03.014Z"
   },
   {
    "duration": 9,
    "start_time": "2023-07-18T11:10:03.725Z"
   },
   {
    "duration": 397,
    "start_time": "2023-07-18T11:10:03.736Z"
   },
   {
    "duration": 28,
    "start_time": "2023-07-18T11:10:04.134Z"
   },
   {
    "duration": 220,
    "start_time": "2023-07-18T11:10:04.165Z"
   },
   {
    "duration": 4,
    "start_time": "2023-07-18T11:10:04.387Z"
   },
   {
    "duration": 26,
    "start_time": "2023-07-18T11:10:04.394Z"
   },
   {
    "duration": 19,
    "start_time": "2023-07-18T11:10:04.422Z"
   },
   {
    "duration": 12,
    "start_time": "2023-07-18T11:10:04.458Z"
   },
   {
    "duration": 20,
    "start_time": "2023-07-18T11:10:04.472Z"
   },
   {
    "duration": 25,
    "start_time": "2023-07-18T11:10:04.494Z"
   },
   {
    "duration": 40,
    "start_time": "2023-07-18T11:10:04.521Z"
   },
   {
    "duration": 82,
    "start_time": "2023-07-18T11:10:04.564Z"
   },
   {
    "duration": 53,
    "start_time": "2023-07-18T11:10:04.649Z"
   },
   {
    "duration": 20,
    "start_time": "2023-07-18T11:10:04.704Z"
   },
   {
    "duration": 41,
    "start_time": "2023-07-18T11:10:04.725Z"
   },
   {
    "duration": 77,
    "start_time": "2023-07-18T11:10:04.768Z"
   },
   {
    "duration": 4,
    "start_time": "2023-07-18T11:10:04.846Z"
   },
   {
    "duration": 44,
    "start_time": "2023-07-18T11:10:04.851Z"
   },
   {
    "duration": 20,
    "start_time": "2023-07-18T11:10:04.897Z"
   },
   {
    "duration": 35,
    "start_time": "2023-07-18T11:10:04.918Z"
   },
   {
    "duration": 44,
    "start_time": "2023-07-18T11:10:04.963Z"
   },
   {
    "duration": 20,
    "start_time": "2023-07-18T11:10:05.009Z"
   },
   {
    "duration": 4431858,
    "start_time": "2023-07-18T11:10:05.032Z"
   },
   {
    "duration": 4,
    "start_time": "2023-07-18T12:23:56.893Z"
   },
   {
    "duration": 35072,
    "start_time": "2023-07-18T12:23:56.900Z"
   },
   {
    "duration": 40998,
    "start_time": "2023-07-18T12:24:31.974Z"
   },
   {
    "duration": 80,
    "start_time": "2023-07-18T12:25:12.974Z"
   },
   {
    "duration": 30,
    "start_time": "2023-07-18T12:25:13.056Z"
   },
   {
    "duration": 166,
    "start_time": "2023-07-18T12:25:13.087Z"
   },
   {
    "duration": 203,
    "start_time": "2023-07-18T12:25:13.256Z"
   },
   {
    "duration": 94,
    "start_time": "2023-07-18T12:25:13.460Z"
   },
   {
    "duration": 192,
    "start_time": "2023-07-18T12:25:13.557Z"
   },
   {
    "duration": 38,
    "start_time": "2023-07-18T12:25:13.753Z"
   },
   {
    "duration": 225075,
    "start_time": "2023-07-18T12:25:13.793Z"
   },
   {
    "duration": 3,
    "start_time": "2023-07-18T12:28:58.871Z"
   },
   {
    "duration": 37,
    "start_time": "2023-07-18T12:28:58.876Z"
   },
   {
    "duration": 252,
    "start_time": "2023-07-18T12:28:58.915Z"
   },
   {
    "duration": 13,
    "start_time": "2023-07-18T12:28:59.170Z"
   },
   {
    "duration": 413,
    "start_time": "2023-07-18T12:28:59.253Z"
   },
   {
    "duration": 7,
    "start_time": "2023-07-18T12:28:59.668Z"
   },
   {
    "duration": 10,
    "start_time": "2023-07-18T12:28:59.678Z"
   },
   {
    "duration": 111,
    "start_time": "2023-07-18T12:28:59.753Z"
   },
   {
    "duration": 101,
    "start_time": "2023-07-18T12:28:59.866Z"
   },
   {
    "duration": 7,
    "start_time": "2023-07-18T14:56:58.796Z"
   },
   {
    "duration": 6,
    "start_time": "2023-07-18T14:57:55.573Z"
   },
   {
    "duration": 4,
    "start_time": "2023-07-18T14:58:00.612Z"
   },
   {
    "duration": 362,
    "start_time": "2023-07-18T14:58:19.092Z"
   },
   {
    "duration": 350,
    "start_time": "2023-07-18T14:58:24.076Z"
   },
   {
    "duration": 2305,
    "start_time": "2023-07-19T06:39:14.502Z"
   },
   {
    "duration": 160,
    "start_time": "2023-07-19T06:39:16.809Z"
   },
   {
    "duration": 9,
    "start_time": "2023-07-19T06:39:16.971Z"
   },
   {
    "duration": 7,
    "start_time": "2023-07-19T06:39:16.982Z"
   },
   {
    "duration": 14,
    "start_time": "2023-07-19T06:39:16.990Z"
   },
   {
    "duration": 4,
    "start_time": "2023-07-19T06:39:17.005Z"
   },
   {
    "duration": 16,
    "start_time": "2023-07-19T06:39:17.011Z"
   },
   {
    "duration": 705,
    "start_time": "2023-07-19T06:39:17.028Z"
   },
   {
    "duration": 10,
    "start_time": "2023-07-19T06:39:17.753Z"
   },
   {
    "duration": 402,
    "start_time": "2023-07-19T06:39:17.767Z"
   },
   {
    "duration": 11,
    "start_time": "2023-07-19T06:39:18.171Z"
   },
   {
    "duration": 236,
    "start_time": "2023-07-19T06:39:18.184Z"
   },
   {
    "duration": 9,
    "start_time": "2023-07-19T06:39:18.421Z"
   },
   {
    "duration": 51,
    "start_time": "2023-07-19T06:39:18.432Z"
   },
   {
    "duration": 15,
    "start_time": "2023-07-19T06:39:18.484Z"
   },
   {
    "duration": 6,
    "start_time": "2023-07-19T06:39:18.500Z"
   },
   {
    "duration": 3,
    "start_time": "2023-07-19T06:39:18.508Z"
   },
   {
    "duration": 22,
    "start_time": "2023-07-19T06:39:18.513Z"
   },
   {
    "duration": 38,
    "start_time": "2023-07-19T06:39:18.537Z"
   },
   {
    "duration": 11,
    "start_time": "2023-07-19T06:39:18.577Z"
   },
   {
    "duration": 6,
    "start_time": "2023-07-19T06:39:18.590Z"
   },
   {
    "duration": 17,
    "start_time": "2023-07-19T06:39:18.597Z"
   },
   {
    "duration": 28,
    "start_time": "2023-07-19T06:39:18.616Z"
   },
   {
    "duration": 85,
    "start_time": "2023-07-19T06:39:18.648Z"
   },
   {
    "duration": 3,
    "start_time": "2023-07-19T06:39:18.734Z"
   },
   {
    "duration": 13,
    "start_time": "2023-07-19T06:39:18.738Z"
   },
   {
    "duration": 20,
    "start_time": "2023-07-19T06:39:18.752Z"
   },
   {
    "duration": 57,
    "start_time": "2023-07-19T06:39:18.777Z"
   },
   {
    "duration": 46,
    "start_time": "2023-07-19T06:39:18.836Z"
   },
   {
    "duration": 68,
    "start_time": "2023-07-19T06:39:18.884Z"
   },
   {
    "duration": 45957,
    "start_time": "2023-07-19T06:39:18.954Z"
   },
   {
    "duration": 0,
    "start_time": "2023-07-19T06:40:04.913Z"
   },
   {
    "duration": 0,
    "start_time": "2023-07-19T06:40:04.914Z"
   },
   {
    "duration": 0,
    "start_time": "2023-07-19T06:40:04.915Z"
   },
   {
    "duration": 0,
    "start_time": "2023-07-19T06:40:04.915Z"
   },
   {
    "duration": 0,
    "start_time": "2023-07-19T06:40:04.916Z"
   },
   {
    "duration": 0,
    "start_time": "2023-07-19T06:40:04.920Z"
   },
   {
    "duration": 0,
    "start_time": "2023-07-19T06:40:04.923Z"
   },
   {
    "duration": 0,
    "start_time": "2023-07-19T06:40:04.924Z"
   },
   {
    "duration": 0,
    "start_time": "2023-07-19T06:40:04.925Z"
   },
   {
    "duration": 0,
    "start_time": "2023-07-19T06:40:04.926Z"
   },
   {
    "duration": 0,
    "start_time": "2023-07-19T06:40:04.928Z"
   },
   {
    "duration": 0,
    "start_time": "2023-07-19T06:40:04.929Z"
   },
   {
    "duration": 0,
    "start_time": "2023-07-19T06:40:04.930Z"
   },
   {
    "duration": 0,
    "start_time": "2023-07-19T06:40:04.931Z"
   },
   {
    "duration": 0,
    "start_time": "2023-07-19T06:40:04.932Z"
   },
   {
    "duration": 0,
    "start_time": "2023-07-19T06:40:04.933Z"
   },
   {
    "duration": 0,
    "start_time": "2023-07-19T06:40:04.934Z"
   },
   {
    "duration": 0,
    "start_time": "2023-07-19T06:40:04.934Z"
   },
   {
    "duration": 0,
    "start_time": "2023-07-19T06:40:04.935Z"
   },
   {
    "duration": 1,
    "start_time": "2023-07-19T06:40:04.935Z"
   },
   {
    "duration": 4,
    "start_time": "2023-07-19T06:40:26.044Z"
   },
   {
    "duration": 66,
    "start_time": "2023-07-19T06:40:26.051Z"
   },
   {
    "duration": 8,
    "start_time": "2023-07-19T06:40:26.118Z"
   },
   {
    "duration": 43,
    "start_time": "2023-07-19T06:40:26.128Z"
   },
   {
    "duration": 8,
    "start_time": "2023-07-19T06:40:26.173Z"
   },
   {
    "duration": 5,
    "start_time": "2023-07-19T06:40:26.183Z"
   },
   {
    "duration": 5,
    "start_time": "2023-07-19T06:40:26.189Z"
   },
   {
    "duration": 570,
    "start_time": "2023-07-19T06:40:26.195Z"
   },
   {
    "duration": 8,
    "start_time": "2023-07-19T06:40:26.767Z"
   },
   {
    "duration": 371,
    "start_time": "2023-07-19T06:40:26.776Z"
   },
   {
    "duration": 10,
    "start_time": "2023-07-19T06:40:27.148Z"
   },
   {
    "duration": 311,
    "start_time": "2023-07-19T06:40:27.159Z"
   },
   {
    "duration": 4,
    "start_time": "2023-07-19T06:40:27.471Z"
   },
   {
    "duration": 16,
    "start_time": "2023-07-19T06:40:27.477Z"
   },
   {
    "duration": 13,
    "start_time": "2023-07-19T06:40:27.495Z"
   },
   {
    "duration": 11,
    "start_time": "2023-07-19T06:40:27.520Z"
   },
   {
    "duration": 32,
    "start_time": "2023-07-19T06:40:27.533Z"
   },
   {
    "duration": 8,
    "start_time": "2023-07-19T06:40:27.567Z"
   },
   {
    "duration": 22,
    "start_time": "2023-07-19T06:40:27.576Z"
   },
   {
    "duration": 45,
    "start_time": "2023-07-19T06:40:27.600Z"
   },
   {
    "duration": 16,
    "start_time": "2023-07-19T06:40:27.647Z"
   },
   {
    "duration": 10,
    "start_time": "2023-07-19T06:40:27.664Z"
   },
   {
    "duration": 3,
    "start_time": "2023-07-19T06:40:27.676Z"
   },
   {
    "duration": 49,
    "start_time": "2023-07-19T06:40:27.680Z"
   },
   {
    "duration": 3,
    "start_time": "2023-07-19T06:40:27.731Z"
   },
   {
    "duration": 29,
    "start_time": "2023-07-19T06:40:27.735Z"
   },
   {
    "duration": 7,
    "start_time": "2023-07-19T06:40:27.766Z"
   },
   {
    "duration": 11,
    "start_time": "2023-07-19T06:40:27.775Z"
   },
   {
    "duration": 10,
    "start_time": "2023-07-19T06:40:27.788Z"
   },
   {
    "duration": 3,
    "start_time": "2023-07-19T06:40:32.259Z"
   },
   {
    "duration": 120,
    "start_time": "2023-07-19T06:40:32.264Z"
   },
   {
    "duration": 6,
    "start_time": "2023-07-19T06:40:32.386Z"
   },
   {
    "duration": 19,
    "start_time": "2023-07-19T06:40:32.394Z"
   },
   {
    "duration": 54,
    "start_time": "2023-07-19T06:40:32.415Z"
   },
   {
    "duration": 13,
    "start_time": "2023-07-19T06:40:32.470Z"
   },
   {
    "duration": 15,
    "start_time": "2023-07-19T06:40:32.485Z"
   },
   {
    "duration": 557,
    "start_time": "2023-07-19T06:40:32.502Z"
   },
   {
    "duration": 11,
    "start_time": "2023-07-19T06:40:33.061Z"
   },
   {
    "duration": 390,
    "start_time": "2023-07-19T06:40:33.073Z"
   },
   {
    "duration": 8,
    "start_time": "2023-07-19T06:40:33.465Z"
   },
   {
    "duration": 218,
    "start_time": "2023-07-19T06:40:33.475Z"
   },
   {
    "duration": 3,
    "start_time": "2023-07-19T06:40:33.696Z"
   },
   {
    "duration": 19,
    "start_time": "2023-07-19T06:40:33.701Z"
   },
   {
    "duration": 24,
    "start_time": "2023-07-19T06:40:33.722Z"
   },
   {
    "duration": 20,
    "start_time": "2023-07-19T06:40:33.748Z"
   },
   {
    "duration": 4,
    "start_time": "2023-07-19T06:40:33.770Z"
   },
   {
    "duration": 11,
    "start_time": "2023-07-19T06:40:33.776Z"
   },
   {
    "duration": 28,
    "start_time": "2023-07-19T06:40:33.789Z"
   },
   {
    "duration": 36,
    "start_time": "2023-07-19T06:40:33.818Z"
   },
   {
    "duration": 20,
    "start_time": "2023-07-19T06:40:33.856Z"
   },
   {
    "duration": 10,
    "start_time": "2023-07-19T06:40:33.877Z"
   },
   {
    "duration": 5,
    "start_time": "2023-07-19T06:40:33.888Z"
   },
   {
    "duration": 82,
    "start_time": "2023-07-19T06:40:33.895Z"
   },
   {
    "duration": 2,
    "start_time": "2023-07-19T06:40:33.979Z"
   },
   {
    "duration": 29,
    "start_time": "2023-07-19T06:40:33.983Z"
   },
   {
    "duration": 27,
    "start_time": "2023-07-19T06:40:34.014Z"
   },
   {
    "duration": 33,
    "start_time": "2023-07-19T06:40:34.043Z"
   },
   {
    "duration": 26,
    "start_time": "2023-07-19T06:40:34.078Z"
   },
   {
    "duration": 11,
    "start_time": "2023-07-19T06:40:34.105Z"
   },
   {
    "duration": 4545680,
    "start_time": "2023-07-19T06:40:34.117Z"
   },
   {
    "duration": 4,
    "start_time": "2023-07-19T07:56:19.798Z"
   },
   {
    "duration": 27724,
    "start_time": "2023-07-19T07:56:19.804Z"
   },
   {
    "duration": 19705,
    "start_time": "2023-07-19T07:56:47.530Z"
   },
   {
    "duration": 9,
    "start_time": "2023-07-19T07:57:07.236Z"
   },
   {
    "duration": 181,
    "start_time": "2023-07-19T07:57:07.247Z"
   },
   {
    "duration": 207,
    "start_time": "2023-07-19T07:57:07.432Z"
   },
   {
    "duration": 191,
    "start_time": "2023-07-19T07:57:07.641Z"
   },
   {
    "duration": 92,
    "start_time": "2023-07-19T07:57:07.834Z"
   },
   {
    "duration": 7,
    "start_time": "2023-07-19T07:57:07.927Z"
   },
   {
    "duration": 3,
    "start_time": "2023-07-19T07:57:08.021Z"
   },
   {
    "duration": 216200,
    "start_time": "2023-07-19T07:57:08.026Z"
   },
   {
    "duration": 3,
    "start_time": "2023-07-19T08:00:44.228Z"
   },
   {
    "duration": 34,
    "start_time": "2023-07-19T08:00:44.232Z"
   },
   {
    "duration": 166,
    "start_time": "2023-07-19T08:00:44.268Z"
   },
   {
    "duration": 5,
    "start_time": "2023-07-19T08:00:44.438Z"
   },
   {
    "duration": 209,
    "start_time": "2023-07-19T08:00:44.519Z"
   },
   {
    "duration": 6,
    "start_time": "2023-07-19T08:00:44.730Z"
   },
   {
    "duration": 17,
    "start_time": "2023-07-19T08:00:44.738Z"
   },
   {
    "duration": 264,
    "start_time": "2023-07-19T08:00:44.757Z"
   },
   {
    "duration": 43,
    "start_time": "2023-07-19T08:00:45.023Z"
   },
   {
    "duration": 6,
    "start_time": "2023-07-19T14:22:04.115Z"
   },
   {
    "duration": 122508,
    "start_time": "2023-07-19T14:22:06.126Z"
   },
   {
    "duration": 7,
    "start_time": "2023-07-19T14:25:20.408Z"
   },
   {
    "duration": 13094,
    "start_time": "2023-07-19T14:25:22.847Z"
   },
   {
    "duration": 8,
    "start_time": "2023-07-19T14:25:55.996Z"
   },
   {
    "duration": 94786,
    "start_time": "2023-07-19T14:25:56.453Z"
   },
   {
    "duration": 144,
    "start_time": "2023-07-19T14:29:51.764Z"
   },
   {
    "duration": 12,
    "start_time": "2023-07-19T14:29:52.154Z"
   },
   {
    "duration": 421,
    "start_time": "2023-07-19T14:30:15.479Z"
   },
   {
    "duration": 12,
    "start_time": "2023-07-19T14:30:15.988Z"
   },
   {
    "duration": 7,
    "start_time": "2023-07-19T14:30:36.299Z"
   },
   {
    "duration": 0,
    "start_time": "2023-07-19T14:31:23.672Z"
   },
   {
    "duration": 0,
    "start_time": "2023-07-19T14:31:23.673Z"
   },
   {
    "duration": 0,
    "start_time": "2023-07-19T14:31:23.720Z"
   },
   {
    "duration": 0,
    "start_time": "2023-07-19T14:31:23.721Z"
   },
   {
    "duration": 0,
    "start_time": "2023-07-19T14:31:23.723Z"
   },
   {
    "duration": 0,
    "start_time": "2023-07-19T14:31:23.724Z"
   },
   {
    "duration": 0,
    "start_time": "2023-07-19T14:31:23.724Z"
   },
   {
    "duration": 0,
    "start_time": "2023-07-19T14:31:23.726Z"
   },
   {
    "duration": 0,
    "start_time": "2023-07-19T14:31:23.727Z"
   },
   {
    "duration": 0,
    "start_time": "2023-07-19T14:31:23.728Z"
   },
   {
    "duration": 0,
    "start_time": "2023-07-19T14:31:23.729Z"
   },
   {
    "duration": 0,
    "start_time": "2023-07-19T14:31:23.730Z"
   },
   {
    "duration": 0,
    "start_time": "2023-07-19T14:31:23.731Z"
   },
   {
    "duration": 0,
    "start_time": "2023-07-19T14:31:23.732Z"
   },
   {
    "duration": 0,
    "start_time": "2023-07-19T14:31:23.732Z"
   },
   {
    "duration": 0,
    "start_time": "2023-07-19T14:31:23.733Z"
   },
   {
    "duration": 0,
    "start_time": "2023-07-19T14:31:23.734Z"
   },
   {
    "duration": 0,
    "start_time": "2023-07-19T14:31:23.735Z"
   },
   {
    "duration": 0,
    "start_time": "2023-07-19T14:31:23.735Z"
   },
   {
    "duration": 0,
    "start_time": "2023-07-19T14:31:23.736Z"
   },
   {
    "duration": 0,
    "start_time": "2023-07-19T14:31:23.737Z"
   },
   {
    "duration": 0,
    "start_time": "2023-07-19T14:31:23.738Z"
   },
   {
    "duration": 0,
    "start_time": "2023-07-19T14:31:23.739Z"
   },
   {
    "duration": 0,
    "start_time": "2023-07-19T14:31:23.740Z"
   },
   {
    "duration": 0,
    "start_time": "2023-07-19T14:31:23.741Z"
   },
   {
    "duration": 0,
    "start_time": "2023-07-19T14:31:23.742Z"
   },
   {
    "duration": 0,
    "start_time": "2023-07-19T14:31:23.743Z"
   },
   {
    "duration": 0,
    "start_time": "2023-07-19T14:31:23.744Z"
   },
   {
    "duration": 0,
    "start_time": "2023-07-19T14:31:23.745Z"
   },
   {
    "duration": 0,
    "start_time": "2023-07-19T14:31:23.746Z"
   },
   {
    "duration": 0,
    "start_time": "2023-07-19T14:31:23.747Z"
   },
   {
    "duration": 0,
    "start_time": "2023-07-19T14:31:23.748Z"
   },
   {
    "duration": 0,
    "start_time": "2023-07-19T14:31:23.749Z"
   },
   {
    "duration": 0,
    "start_time": "2023-07-19T14:31:23.749Z"
   },
   {
    "duration": 0,
    "start_time": "2023-07-19T14:31:23.750Z"
   },
   {
    "duration": 0,
    "start_time": "2023-07-19T14:31:23.752Z"
   },
   {
    "duration": 0,
    "start_time": "2023-07-19T14:31:23.752Z"
   },
   {
    "duration": 0,
    "start_time": "2023-07-19T14:31:23.753Z"
   },
   {
    "duration": 0,
    "start_time": "2023-07-19T14:31:23.754Z"
   },
   {
    "duration": 0,
    "start_time": "2023-07-19T14:31:23.820Z"
   },
   {
    "duration": 0,
    "start_time": "2023-07-19T14:31:23.821Z"
   },
   {
    "duration": 0,
    "start_time": "2023-07-19T14:31:23.823Z"
   },
   {
    "duration": 0,
    "start_time": "2023-07-19T14:31:23.824Z"
   },
   {
    "duration": 0,
    "start_time": "2023-07-19T14:31:23.825Z"
   },
   {
    "duration": 0,
    "start_time": "2023-07-19T14:31:23.826Z"
   },
   {
    "duration": 0,
    "start_time": "2023-07-19T14:31:23.828Z"
   },
   {
    "duration": 0,
    "start_time": "2023-07-19T14:31:23.829Z"
   },
   {
    "duration": 0,
    "start_time": "2023-07-19T14:31:23.830Z"
   },
   {
    "duration": 1,
    "start_time": "2023-07-19T14:31:23.831Z"
   },
   {
    "duration": 0,
    "start_time": "2023-07-19T14:31:23.833Z"
   },
   {
    "duration": 0,
    "start_time": "2023-07-19T14:31:23.835Z"
   },
   {
    "duration": 5,
    "start_time": "2023-07-19T14:31:25.604Z"
   },
   {
    "duration": 53,
    "start_time": "2023-07-19T14:31:25.612Z"
   },
   {
    "duration": 8,
    "start_time": "2023-07-19T14:31:25.666Z"
   },
   {
    "duration": 24,
    "start_time": "2023-07-19T14:31:25.676Z"
   },
   {
    "duration": 15,
    "start_time": "2023-07-19T14:31:25.702Z"
   },
   {
    "duration": 18,
    "start_time": "2023-07-19T14:31:25.719Z"
   },
   {
    "duration": 9,
    "start_time": "2023-07-19T14:31:25.739Z"
   },
   {
    "duration": 500,
    "start_time": "2023-07-19T14:31:25.749Z"
   },
   {
    "duration": 7,
    "start_time": "2023-07-19T14:31:26.251Z"
   },
   {
    "duration": 309,
    "start_time": "2023-07-19T14:31:26.261Z"
   },
   {
    "duration": 8,
    "start_time": "2023-07-19T14:31:26.571Z"
   },
   {
    "duration": 186,
    "start_time": "2023-07-19T14:31:26.580Z"
   },
   {
    "duration": 3,
    "start_time": "2023-07-19T14:31:26.768Z"
   },
   {
    "duration": 30,
    "start_time": "2023-07-19T14:31:26.772Z"
   },
   {
    "duration": 14,
    "start_time": "2023-07-19T14:31:26.803Z"
   },
   {
    "duration": 8,
    "start_time": "2023-07-19T14:31:26.820Z"
   },
   {
    "duration": 4,
    "start_time": "2023-07-19T14:31:26.829Z"
   },
   {
    "duration": 5,
    "start_time": "2023-07-19T14:31:26.835Z"
   },
   {
    "duration": 11,
    "start_time": "2023-07-19T14:31:26.841Z"
   },
   {
    "duration": 11,
    "start_time": "2023-07-19T14:31:26.853Z"
   },
   {
    "duration": 14,
    "start_time": "2023-07-19T14:31:26.866Z"
   },
   {
    "duration": 30,
    "start_time": "2023-07-19T14:31:26.881Z"
   },
   {
    "duration": 86,
    "start_time": "2023-07-19T14:31:26.913Z"
   },
   {
    "duration": 45,
    "start_time": "2023-07-19T14:31:27.000Z"
   },
   {
    "duration": 3,
    "start_time": "2023-07-19T14:31:27.047Z"
   },
   {
    "duration": 9,
    "start_time": "2023-07-19T14:31:27.051Z"
   },
   {
    "duration": 5,
    "start_time": "2023-07-19T14:31:27.062Z"
   },
   {
    "duration": 10,
    "start_time": "2023-07-19T14:31:27.070Z"
   },
   {
    "duration": 8,
    "start_time": "2023-07-19T14:31:27.081Z"
   },
   {
    "duration": 9,
    "start_time": "2023-07-19T14:31:27.121Z"
   },
   {
    "duration": 1372103,
    "start_time": "2023-07-19T14:31:27.131Z"
   },
   {
    "duration": 0,
    "start_time": "2023-07-19T14:54:19.236Z"
   },
   {
    "duration": 0,
    "start_time": "2023-07-19T14:54:19.237Z"
   },
   {
    "duration": 0,
    "start_time": "2023-07-19T14:54:19.238Z"
   },
   {
    "duration": 0,
    "start_time": "2023-07-19T14:54:19.239Z"
   },
   {
    "duration": 0,
    "start_time": "2023-07-19T14:54:19.240Z"
   },
   {
    "duration": 0,
    "start_time": "2023-07-19T14:54:19.241Z"
   },
   {
    "duration": 0,
    "start_time": "2023-07-19T14:54:19.242Z"
   },
   {
    "duration": 0,
    "start_time": "2023-07-19T14:54:19.243Z"
   },
   {
    "duration": 0,
    "start_time": "2023-07-19T14:54:19.244Z"
   },
   {
    "duration": 0,
    "start_time": "2023-07-19T14:54:19.246Z"
   },
   {
    "duration": 0,
    "start_time": "2023-07-19T14:54:19.247Z"
   },
   {
    "duration": 0,
    "start_time": "2023-07-19T14:54:19.248Z"
   },
   {
    "duration": 0,
    "start_time": "2023-07-19T14:54:19.249Z"
   },
   {
    "duration": 0,
    "start_time": "2023-07-19T14:54:19.250Z"
   },
   {
    "duration": 0,
    "start_time": "2023-07-19T14:54:19.251Z"
   },
   {
    "duration": 0,
    "start_time": "2023-07-19T14:54:19.252Z"
   },
   {
    "duration": 0,
    "start_time": "2023-07-19T14:54:19.253Z"
   },
   {
    "duration": 0,
    "start_time": "2023-07-19T14:54:19.254Z"
   },
   {
    "duration": 0,
    "start_time": "2023-07-19T14:54:19.255Z"
   },
   {
    "duration": 0,
    "start_time": "2023-07-19T14:54:19.320Z"
   },
   {
    "duration": 4,
    "start_time": "2023-07-19T14:55:38.889Z"
   },
   {
    "duration": 64,
    "start_time": "2023-07-19T14:55:38.895Z"
   },
   {
    "duration": 6,
    "start_time": "2023-07-19T14:55:38.961Z"
   },
   {
    "duration": 12,
    "start_time": "2023-07-19T14:55:38.968Z"
   },
   {
    "duration": 16,
    "start_time": "2023-07-19T14:55:38.982Z"
   },
   {
    "duration": 14,
    "start_time": "2023-07-19T14:55:38.999Z"
   },
   {
    "duration": 24,
    "start_time": "2023-07-19T14:55:39.014Z"
   },
   {
    "duration": 517,
    "start_time": "2023-07-19T14:55:39.040Z"
   },
   {
    "duration": 10,
    "start_time": "2023-07-19T14:55:39.559Z"
   },
   {
    "duration": 330,
    "start_time": "2023-07-19T14:55:39.570Z"
   },
   {
    "duration": 26,
    "start_time": "2023-07-19T14:55:39.902Z"
   },
   {
    "duration": 179,
    "start_time": "2023-07-19T14:55:39.935Z"
   },
   {
    "duration": 18,
    "start_time": "2023-07-19T14:55:40.116Z"
   },
   {
    "duration": 14,
    "start_time": "2023-07-19T14:55:40.138Z"
   },
   {
    "duration": 30,
    "start_time": "2023-07-19T14:55:40.153Z"
   },
   {
    "duration": 23,
    "start_time": "2023-07-19T14:55:40.185Z"
   },
   {
    "duration": 23,
    "start_time": "2023-07-19T14:55:40.209Z"
   },
   {
    "duration": 5,
    "start_time": "2023-07-19T14:55:40.234Z"
   },
   {
    "duration": 13,
    "start_time": "2023-07-19T14:55:40.241Z"
   },
   {
    "duration": 23,
    "start_time": "2023-07-19T14:55:40.256Z"
   },
   {
    "duration": 6,
    "start_time": "2023-07-19T14:55:40.280Z"
   },
   {
    "duration": 13,
    "start_time": "2023-07-19T14:55:40.287Z"
   },
   {
    "duration": 6,
    "start_time": "2023-07-19T14:55:40.301Z"
   },
   {
    "duration": 45,
    "start_time": "2023-07-19T14:55:40.309Z"
   },
   {
    "duration": 3,
    "start_time": "2023-07-19T14:55:40.356Z"
   },
   {
    "duration": 16,
    "start_time": "2023-07-19T14:55:40.360Z"
   },
   {
    "duration": 9,
    "start_time": "2023-07-19T14:55:40.378Z"
   },
   {
    "duration": 15,
    "start_time": "2023-07-19T14:55:40.389Z"
   },
   {
    "duration": 21,
    "start_time": "2023-07-19T14:55:40.419Z"
   },
   {
    "duration": 7,
    "start_time": "2023-07-19T14:55:40.441Z"
   },
   {
    "duration": 4438479,
    "start_time": "2023-07-19T14:55:40.450Z"
   },
   {
    "duration": 7,
    "start_time": "2023-07-19T16:09:38.935Z"
   },
   {
    "duration": 58853,
    "start_time": "2023-07-19T16:09:38.944Z"
   },
   {
    "duration": 32128,
    "start_time": "2023-07-19T16:10:37.799Z"
   },
   {
    "duration": 8,
    "start_time": "2023-07-19T16:11:09.929Z"
   },
   {
    "duration": 17,
    "start_time": "2023-07-19T16:11:09.939Z"
   },
   {
    "duration": 118,
    "start_time": "2023-07-19T16:11:10.019Z"
   },
   {
    "duration": 289,
    "start_time": "2023-07-19T16:11:10.139Z"
   },
   {
    "duration": 106,
    "start_time": "2023-07-19T16:11:10.430Z"
   },
   {
    "duration": 17,
    "start_time": "2023-07-19T16:11:10.538Z"
   },
   {
    "duration": 27,
    "start_time": "2023-07-19T16:11:10.558Z"
   },
   {
    "duration": 336451,
    "start_time": "2023-07-19T16:11:10.586Z"
   },
   {
    "duration": 4,
    "start_time": "2023-07-19T16:16:47.039Z"
   },
   {
    "duration": 20,
    "start_time": "2023-07-19T16:16:47.045Z"
   },
   {
    "duration": 276,
    "start_time": "2023-07-19T16:16:47.067Z"
   },
   {
    "duration": 5,
    "start_time": "2023-07-19T16:16:47.345Z"
   },
   {
    "duration": 487,
    "start_time": "2023-07-19T16:16:47.352Z"
   },
   {
    "duration": 5,
    "start_time": "2023-07-19T16:16:47.842Z"
   },
   {
    "duration": 77,
    "start_time": "2023-07-19T16:16:47.848Z"
   },
   {
    "duration": 111,
    "start_time": "2023-07-19T16:16:47.927Z"
   },
   {
    "duration": 331,
    "start_time": "2023-07-19T16:16:48.040Z"
   },
   {
    "duration": 34207,
    "start_time": "2023-07-20T06:00:15.148Z"
   },
   {
    "duration": 4,
    "start_time": "2023-07-20T06:01:27.137Z"
   },
   {
    "duration": 0,
    "start_time": "2023-07-20T06:06:20.748Z"
   },
   {
    "duration": 0,
    "start_time": "2023-07-20T06:06:20.750Z"
   },
   {
    "duration": 0,
    "start_time": "2023-07-20T06:06:20.751Z"
   },
   {
    "duration": 0,
    "start_time": "2023-07-20T06:06:20.753Z"
   },
   {
    "duration": 0,
    "start_time": "2023-07-20T06:06:20.754Z"
   },
   {
    "duration": 0,
    "start_time": "2023-07-20T06:06:20.756Z"
   },
   {
    "duration": 0,
    "start_time": "2023-07-20T06:06:20.758Z"
   },
   {
    "duration": 0,
    "start_time": "2023-07-20T06:06:20.759Z"
   },
   {
    "duration": 0,
    "start_time": "2023-07-20T06:06:20.760Z"
   },
   {
    "duration": 0,
    "start_time": "2023-07-20T06:06:20.762Z"
   },
   {
    "duration": 0,
    "start_time": "2023-07-20T06:06:20.820Z"
   },
   {
    "duration": 0,
    "start_time": "2023-07-20T06:06:20.821Z"
   },
   {
    "duration": 0,
    "start_time": "2023-07-20T06:06:20.822Z"
   },
   {
    "duration": 0,
    "start_time": "2023-07-20T06:06:20.822Z"
   },
   {
    "duration": 0,
    "start_time": "2023-07-20T06:06:20.823Z"
   },
   {
    "duration": 0,
    "start_time": "2023-07-20T06:06:20.824Z"
   },
   {
    "duration": 0,
    "start_time": "2023-07-20T06:06:20.825Z"
   },
   {
    "duration": 0,
    "start_time": "2023-07-20T06:06:20.825Z"
   },
   {
    "duration": 0,
    "start_time": "2023-07-20T06:06:20.826Z"
   },
   {
    "duration": 0,
    "start_time": "2023-07-20T06:06:20.827Z"
   },
   {
    "duration": 0,
    "start_time": "2023-07-20T06:06:20.828Z"
   },
   {
    "duration": 0,
    "start_time": "2023-07-20T06:06:20.829Z"
   },
   {
    "duration": 0,
    "start_time": "2023-07-20T06:06:20.829Z"
   },
   {
    "duration": 0,
    "start_time": "2023-07-20T06:06:20.830Z"
   },
   {
    "duration": 0,
    "start_time": "2023-07-20T06:06:20.831Z"
   },
   {
    "duration": 0,
    "start_time": "2023-07-20T06:06:20.832Z"
   },
   {
    "duration": 0,
    "start_time": "2023-07-20T06:06:20.832Z"
   },
   {
    "duration": 0,
    "start_time": "2023-07-20T06:06:20.833Z"
   },
   {
    "duration": 0,
    "start_time": "2023-07-20T06:06:20.834Z"
   },
   {
    "duration": 0,
    "start_time": "2023-07-20T06:06:20.835Z"
   },
   {
    "duration": 0,
    "start_time": "2023-07-20T06:06:20.836Z"
   },
   {
    "duration": 0,
    "start_time": "2023-07-20T06:06:20.836Z"
   },
   {
    "duration": 0,
    "start_time": "2023-07-20T06:06:20.837Z"
   },
   {
    "duration": 0,
    "start_time": "2023-07-20T06:06:20.838Z"
   },
   {
    "duration": 0,
    "start_time": "2023-07-20T06:06:20.839Z"
   },
   {
    "duration": 0,
    "start_time": "2023-07-20T06:06:20.840Z"
   },
   {
    "duration": 0,
    "start_time": "2023-07-20T06:06:20.841Z"
   },
   {
    "duration": 0,
    "start_time": "2023-07-20T06:06:20.842Z"
   },
   {
    "duration": 0,
    "start_time": "2023-07-20T06:06:20.842Z"
   },
   {
    "duration": 0,
    "start_time": "2023-07-20T06:06:20.843Z"
   },
   {
    "duration": 0,
    "start_time": "2023-07-20T06:06:20.844Z"
   },
   {
    "duration": 0,
    "start_time": "2023-07-20T06:06:20.845Z"
   },
   {
    "duration": 0,
    "start_time": "2023-07-20T06:06:20.846Z"
   },
   {
    "duration": 0,
    "start_time": "2023-07-20T06:06:20.848Z"
   },
   {
    "duration": 0,
    "start_time": "2023-07-20T06:06:20.849Z"
   },
   {
    "duration": 0,
    "start_time": "2023-07-20T06:06:20.850Z"
   },
   {
    "duration": 0,
    "start_time": "2023-07-20T06:06:20.851Z"
   },
   {
    "duration": 0,
    "start_time": "2023-07-20T06:06:20.852Z"
   },
   {
    "duration": 0,
    "start_time": "2023-07-20T06:06:20.854Z"
   },
   {
    "duration": 0,
    "start_time": "2023-07-20T06:06:20.855Z"
   },
   {
    "duration": 0,
    "start_time": "2023-07-20T06:06:20.856Z"
   },
   {
    "duration": 5,
    "start_time": "2023-07-20T06:06:22.491Z"
   },
   {
    "duration": 69,
    "start_time": "2023-07-20T06:06:22.497Z"
   },
   {
    "duration": 6,
    "start_time": "2023-07-20T06:06:22.568Z"
   },
   {
    "duration": 31,
    "start_time": "2023-07-20T06:06:22.576Z"
   },
   {
    "duration": 27,
    "start_time": "2023-07-20T06:06:22.609Z"
   },
   {
    "duration": 43,
    "start_time": "2023-07-20T06:06:22.637Z"
   },
   {
    "duration": 25,
    "start_time": "2023-07-20T06:06:22.682Z"
   },
   {
    "duration": 507,
    "start_time": "2023-07-20T06:06:22.709Z"
   },
   {
    "duration": 10,
    "start_time": "2023-07-20T06:06:23.219Z"
   },
   {
    "duration": 330,
    "start_time": "2023-07-20T06:06:23.231Z"
   },
   {
    "duration": 8,
    "start_time": "2023-07-20T06:06:23.563Z"
   },
   {
    "duration": 217,
    "start_time": "2023-07-20T06:06:23.572Z"
   },
   {
    "duration": 4,
    "start_time": "2023-07-20T06:06:23.790Z"
   },
   {
    "duration": 27,
    "start_time": "2023-07-20T06:06:23.796Z"
   },
   {
    "duration": 25,
    "start_time": "2023-07-20T06:06:23.824Z"
   },
   {
    "duration": 12,
    "start_time": "2023-07-20T06:06:23.850Z"
   },
   {
    "duration": 19,
    "start_time": "2023-07-20T06:06:23.863Z"
   },
   {
    "duration": 27,
    "start_time": "2023-07-20T06:06:23.883Z"
   },
   {
    "duration": 15,
    "start_time": "2023-07-20T06:06:23.911Z"
   },
   {
    "duration": 38,
    "start_time": "2023-07-20T06:06:23.928Z"
   },
   {
    "duration": 33,
    "start_time": "2023-07-20T06:06:23.968Z"
   },
   {
    "duration": 18,
    "start_time": "2023-07-20T06:06:24.003Z"
   },
   {
    "duration": 22,
    "start_time": "2023-07-20T06:06:24.022Z"
   },
   {
    "duration": 52,
    "start_time": "2023-07-20T06:06:24.046Z"
   },
   {
    "duration": 3,
    "start_time": "2023-07-20T06:06:24.100Z"
   },
   {
    "duration": 32,
    "start_time": "2023-07-20T06:06:24.104Z"
   },
   {
    "duration": 28,
    "start_time": "2023-07-20T06:06:24.138Z"
   },
   {
    "duration": 39,
    "start_time": "2023-07-20T06:06:24.169Z"
   },
   {
    "duration": 30,
    "start_time": "2023-07-20T06:06:24.209Z"
   },
   {
    "duration": 27,
    "start_time": "2023-07-20T06:06:24.240Z"
   },
   {
    "duration": 4138673,
    "start_time": "2023-07-20T06:06:24.268Z"
   },
   {
    "duration": 4,
    "start_time": "2023-07-20T07:15:23.019Z"
   },
   {
    "duration": 26516,
    "start_time": "2023-07-20T07:15:23.024Z"
   },
   {
    "duration": 38387,
    "start_time": "2023-07-20T07:15:49.542Z"
   },
   {
    "duration": 3,
    "start_time": "2023-07-20T07:16:27.931Z"
   },
   {
    "duration": 185,
    "start_time": "2023-07-20T07:16:27.936Z"
   },
   {
    "duration": 101,
    "start_time": "2023-07-20T07:16:28.123Z"
   },
   {
    "duration": 305,
    "start_time": "2023-07-20T07:16:28.226Z"
   },
   {
    "duration": 196,
    "start_time": "2023-07-20T07:16:28.533Z"
   },
   {
    "duration": 20,
    "start_time": "2023-07-20T07:16:28.731Z"
   },
   {
    "duration": 10,
    "start_time": "2023-07-20T07:16:28.753Z"
   },
   {
    "duration": 245464,
    "start_time": "2023-07-20T07:16:28.765Z"
   },
   {
    "duration": 6,
    "start_time": "2023-07-20T07:20:34.231Z"
   },
   {
    "duration": 10,
    "start_time": "2023-07-20T07:20:34.242Z"
   },
   {
    "duration": 377,
    "start_time": "2023-07-20T07:20:34.253Z"
   },
   {
    "duration": 7,
    "start_time": "2023-07-20T07:20:34.643Z"
   },
   {
    "duration": 403,
    "start_time": "2023-07-20T07:20:34.652Z"
   },
   {
    "duration": 6,
    "start_time": "2023-07-20T07:20:35.121Z"
   },
   {
    "duration": 22,
    "start_time": "2023-07-20T07:20:35.128Z"
   },
   {
    "duration": 169,
    "start_time": "2023-07-20T07:20:35.152Z"
   },
   {
    "duration": 59,
    "start_time": "2023-07-20T07:20:35.323Z"
   }
  ],
  "kernelspec": {
   "display_name": "Python 3 (ipykernel)",
   "language": "python",
   "name": "python3"
  },
  "language_info": {
   "codemirror_mode": {
    "name": "ipython",
    "version": 3
   },
   "file_extension": ".py",
   "mimetype": "text/x-python",
   "name": "python",
   "nbconvert_exporter": "python",
   "pygments_lexer": "ipython3",
   "version": "3.9.5"
  },
  "toc": {
   "base_numbering": 1,
   "nav_menu": {},
   "number_sections": true,
   "sideBar": true,
   "skip_h1_title": true,
   "title_cell": "Содержание",
   "title_sidebar": "Contents",
   "toc_cell": true,
   "toc_position": {},
   "toc_section_display": true,
   "toc_window_display": true
  }
 },
 "nbformat": 4,
 "nbformat_minor": 2
}
