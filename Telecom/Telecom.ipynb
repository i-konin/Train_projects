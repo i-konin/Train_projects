{
 "cells": [
  {
   "cell_type": "markdown",
   "metadata": {
    "id": "vts5VkPqgllJ"
   },
   "source": [
    "Оператор связи хочет бороться с оттоком клиентов. Нужна модель, которая будет предсказывать, разорвёт ли абонент договор."
   ]
  },
  {
   "cell_type": "code",
   "execution_count": 1,
   "metadata": {
    "colab": {
     "base_uri": "https://localhost:8080/"
    },
    "id": "tVkKfMSv2wy3",
    "outputId": "4f46c6e1-4f12-4e20-edbd-fa6a1b1480dc"
   },
   "outputs": [],
   "source": [
    "!pip -q install shap\n",
    "!pip -q install phik"
   ]
  },
  {
   "cell_type": "code",
   "execution_count": 2,
   "metadata": {
    "id": "BX2_JzWLfuBQ"
   },
   "outputs": [],
   "source": [
    "from sqlalchemy import create_engine, text\n",
    "import pandas as pd\n",
    "import numpy as np\n",
    "import seaborn as sns\n",
    "import matplotlib.pyplot as plt\n",
    "import shap \n",
    "import torch\n",
    "import torch.nn as nn\n",
    "import itertools\n",
    "import phik\n",
    "\n",
    "from math import ceil\n",
    "\n",
    "from xgboost import XGBClassifier\n",
    "from sklearn.cluster import KMeans\n",
    "from sklearn.preprocessing import OrdinalEncoder, OneHotEncoder \n",
    "from sklearn.preprocessing import  StandardScaler\n",
    "from sklearn.ensemble import RandomForestClassifier\n",
    "from sklearn.tree import DecisionTreeClassifier\n",
    "\n",
    "from sklearn.model_selection import train_test_split\n",
    "from sklearn.model_selection import GridSearchCV\n",
    "from sklearn.model_selection import StratifiedKFold\n",
    "from sklearn.metrics import precision_recall_curve, PrecisionRecallDisplay\n",
    "from sklearn.metrics import roc_auc_score, accuracy_score, confusion_matrix"
   ]
  },
  {
   "cell_type": "code",
   "execution_count": 3,
   "metadata": {
    "id": "Zj9YXW-7u32U"
   },
   "outputs": [],
   "source": [
    "RANDOM_STATE = 130423"
   ]
  },
  {
   "cell_type": "markdown",
   "metadata": {
    "id": "RhIs4fTOivpG"
   },
   "source": [
    "# 1. Загрузка данных"
   ]
  },
  {
   "cell_type": "code",
   "execution_count": 4,
   "metadata": {
    "id": "qhQWKTbqgmKU"
   },
   "outputs": [],
   "source": [
    "db_config = {\n",
    "'user': 'praktikum_student',# имя пользователя,\n",
    "'pwd': 'Sdf4$2;d-d30pp',# пароль,\n",
    "'host': 'rc1b-wcoijxj3yxfsf3fs.mdb.yandexcloud.net',\n",
    "'port': 6432,# порт подключения,\n",
    "'db': 'data-science-final'# название базы данных,\n",
    "}\n",
    "connection_string = 'postgresql://{}:{}@{}:{}/{}'.format(\n",
    "    db_config['user'],\n",
    "    db_config['pwd'],\n",
    "    db_config['host'],\n",
    "    db_config['port'],\n",
    "    db_config['db'],\n",
    ")\n",
    "\n",
    "engine = create_engine(connection_string) "
   ]
  },
  {
   "cell_type": "code",
   "execution_count": 5,
   "metadata": {},
   "outputs": [],
   "source": [
    "query = '''\n",
    "SELECT table_name, column_name\n",
    "FROM INFORMATION_SCHEMA.COLUMNS \n",
    "WHERE table_schema = 'telecom'\n",
    "'''\n",
    "super_table = pd.read_sql_query(query, con=engine) "
   ]
  },
  {
   "cell_type": "code",
   "execution_count": 6,
   "metadata": {
    "scrolled": false
   },
   "outputs": [
    {
     "data": {
      "text/html": [
       "<div>\n",
       "<style scoped>\n",
       "    .dataframe tbody tr th:only-of-type {\n",
       "        vertical-align: middle;\n",
       "    }\n",
       "\n",
       "    .dataframe tbody tr th {\n",
       "        vertical-align: top;\n",
       "    }\n",
       "\n",
       "    .dataframe thead th {\n",
       "        text-align: right;\n",
       "    }\n",
       "</style>\n",
       "<table border=\"1\" class=\"dataframe\">\n",
       "  <thead>\n",
       "    <tr style=\"text-align: right;\">\n",
       "      <th></th>\n",
       "      <th>table_name</th>\n",
       "      <th>column_name</th>\n",
       "    </tr>\n",
       "  </thead>\n",
       "  <tbody>\n",
       "    <tr>\n",
       "      <th>0</th>\n",
       "      <td>personal</td>\n",
       "      <td>customerID</td>\n",
       "    </tr>\n",
       "    <tr>\n",
       "      <th>1</th>\n",
       "      <td>phone</td>\n",
       "      <td>c1</td>\n",
       "    </tr>\n",
       "    <tr>\n",
       "      <th>2</th>\n",
       "      <td>internet</td>\n",
       "      <td>c8</td>\n",
       "    </tr>\n",
       "    <tr>\n",
       "      <th>3</th>\n",
       "      <td>personal</td>\n",
       "      <td>Partner</td>\n",
       "    </tr>\n",
       "    <tr>\n",
       "      <th>4</th>\n",
       "      <td>contract</td>\n",
       "      <td>BeginDate</td>\n",
       "    </tr>\n",
       "    <tr>\n",
       "      <th>5</th>\n",
       "      <td>internet</td>\n",
       "      <td>c6</td>\n",
       "    </tr>\n",
       "    <tr>\n",
       "      <th>6</th>\n",
       "      <td>personal</td>\n",
       "      <td>SeniorCitizen</td>\n",
       "    </tr>\n",
       "    <tr>\n",
       "      <th>7</th>\n",
       "      <td>internet</td>\n",
       "      <td>c1</td>\n",
       "    </tr>\n",
       "    <tr>\n",
       "      <th>8</th>\n",
       "      <td>contract</td>\n",
       "      <td>PaperlessBilling</td>\n",
       "    </tr>\n",
       "    <tr>\n",
       "      <th>9</th>\n",
       "      <td>internet</td>\n",
       "      <td>c4</td>\n",
       "    </tr>\n",
       "    <tr>\n",
       "      <th>10</th>\n",
       "      <td>internet</td>\n",
       "      <td>c7</td>\n",
       "    </tr>\n",
       "    <tr>\n",
       "      <th>11</th>\n",
       "      <td>internet</td>\n",
       "      <td>c3</td>\n",
       "    </tr>\n",
       "    <tr>\n",
       "      <th>12</th>\n",
       "      <td>personal</td>\n",
       "      <td>Dependents</td>\n",
       "    </tr>\n",
       "    <tr>\n",
       "      <th>13</th>\n",
       "      <td>contract</td>\n",
       "      <td>TotalCharges</td>\n",
       "    </tr>\n",
       "    <tr>\n",
       "      <th>14</th>\n",
       "      <td>contract</td>\n",
       "      <td>PaymentMethod</td>\n",
       "    </tr>\n",
       "    <tr>\n",
       "      <th>15</th>\n",
       "      <td>internet</td>\n",
       "      <td>c2</td>\n",
       "    </tr>\n",
       "    <tr>\n",
       "      <th>16</th>\n",
       "      <td>internet</td>\n",
       "      <td>c5</td>\n",
       "    </tr>\n",
       "    <tr>\n",
       "      <th>17</th>\n",
       "      <td>contract</td>\n",
       "      <td>customerID</td>\n",
       "    </tr>\n",
       "    <tr>\n",
       "      <th>18</th>\n",
       "      <td>contract</td>\n",
       "      <td>Type</td>\n",
       "    </tr>\n",
       "    <tr>\n",
       "      <th>19</th>\n",
       "      <td>contract</td>\n",
       "      <td>MonthlyCharges</td>\n",
       "    </tr>\n",
       "    <tr>\n",
       "      <th>20</th>\n",
       "      <td>personal</td>\n",
       "      <td>gender</td>\n",
       "    </tr>\n",
       "    <tr>\n",
       "      <th>21</th>\n",
       "      <td>phone</td>\n",
       "      <td>c2</td>\n",
       "    </tr>\n",
       "    <tr>\n",
       "      <th>22</th>\n",
       "      <td>contract</td>\n",
       "      <td>EndDate</td>\n",
       "    </tr>\n",
       "  </tbody>\n",
       "</table>\n",
       "</div>"
      ],
      "text/plain": [
       "   table_name       column_name\n",
       "0    personal        customerID\n",
       "1       phone                c1\n",
       "2    internet                c8\n",
       "3    personal           Partner\n",
       "4    contract         BeginDate\n",
       "5    internet                c6\n",
       "6    personal     SeniorCitizen\n",
       "7    internet                c1\n",
       "8    contract  PaperlessBilling\n",
       "9    internet                c4\n",
       "10   internet                c7\n",
       "11   internet                c3\n",
       "12   personal        Dependents\n",
       "13   contract      TotalCharges\n",
       "14   contract     PaymentMethod\n",
       "15   internet                c2\n",
       "16   internet                c5\n",
       "17   contract        customerID\n",
       "18   contract              Type\n",
       "19   contract    MonthlyCharges\n",
       "20   personal            gender\n",
       "21      phone                c2\n",
       "22   contract           EndDate"
      ]
     },
     "execution_count": 6,
     "metadata": {},
     "output_type": "execute_result"
    }
   ],
   "source": [
    "super_table"
   ]
  },
  {
   "cell_type": "code",
   "execution_count": 7,
   "metadata": {},
   "outputs": [
    {
     "data": {
      "text/html": [
       "<div>\n",
       "<style scoped>\n",
       "    .dataframe tbody tr th:only-of-type {\n",
       "        vertical-align: middle;\n",
       "    }\n",
       "\n",
       "    .dataframe tbody tr th {\n",
       "        vertical-align: top;\n",
       "    }\n",
       "\n",
       "    .dataframe thead th {\n",
       "        text-align: right;\n",
       "    }\n",
       "</style>\n",
       "<table border=\"1\" class=\"dataframe\">\n",
       "  <thead>\n",
       "    <tr style=\"text-align: right;\">\n",
       "      <th></th>\n",
       "      <th>pg_size_pretty</th>\n",
       "    </tr>\n",
       "  </thead>\n",
       "  <tbody>\n",
       "    <tr>\n",
       "      <th>0</th>\n",
       "      <td>720 kB</td>\n",
       "    </tr>\n",
       "  </tbody>\n",
       "</table>\n",
       "</div>"
      ],
      "text/plain": [
       "  pg_size_pretty\n",
       "0         720 kB"
      ]
     },
     "execution_count": 7,
     "metadata": {},
     "output_type": "execute_result"
    }
   ],
   "source": [
    "query = '''\n",
    "SELECT pg_size_pretty(pg_total_relation_size('telecom.contract'))\n",
    "'''\n",
    "pd.read_sql_query(query, con=engine) "
   ]
  },
  {
   "cell_type": "code",
   "execution_count": 8,
   "metadata": {
    "id": "y2p-RX7Tg6n0"
   },
   "outputs": [],
   "source": [
    "query = '''\n",
    "SELECT *\n",
    "FROM telecom.contract\n",
    "'''\n",
    "\n",
    "contract = pd.read_sql_query(query, con=engine) \n",
    "contract.columns = contract.columns.str.lower()"
   ]
  },
  {
   "cell_type": "code",
   "execution_count": 9,
   "metadata": {},
   "outputs": [
    {
     "data": {
      "text/html": [
       "<div>\n",
       "<style scoped>\n",
       "    .dataframe tbody tr th:only-of-type {\n",
       "        vertical-align: middle;\n",
       "    }\n",
       "\n",
       "    .dataframe tbody tr th {\n",
       "        vertical-align: top;\n",
       "    }\n",
       "\n",
       "    .dataframe thead th {\n",
       "        text-align: right;\n",
       "    }\n",
       "</style>\n",
       "<table border=\"1\" class=\"dataframe\">\n",
       "  <thead>\n",
       "    <tr style=\"text-align: right;\">\n",
       "      <th></th>\n",
       "      <th>pg_size_pretty</th>\n",
       "    </tr>\n",
       "  </thead>\n",
       "  <tbody>\n",
       "    <tr>\n",
       "      <th>0</th>\n",
       "      <td>448 kB</td>\n",
       "    </tr>\n",
       "  </tbody>\n",
       "</table>\n",
       "</div>"
      ],
      "text/plain": [
       "  pg_size_pretty\n",
       "0         448 kB"
      ]
     },
     "execution_count": 9,
     "metadata": {},
     "output_type": "execute_result"
    }
   ],
   "source": [
    "query = '''\n",
    "SELECT pg_size_pretty(pg_total_relation_size('telecom.personal'))\n",
    "'''\n",
    "pd.read_sql_query(query, con=engine) "
   ]
  },
  {
   "cell_type": "code",
   "execution_count": 10,
   "metadata": {
    "id": "MQaWXvt1h6xZ"
   },
   "outputs": [],
   "source": [
    "query = '''\n",
    "SELECT *\n",
    "FROM telecom.personal\n",
    "'''\n",
    "personal = pd.read_sql_query(query, con=engine) \n",
    "personal.columns = personal.columns.str.lower()"
   ]
  },
  {
   "cell_type": "code",
   "execution_count": 11,
   "metadata": {},
   "outputs": [
    {
     "data": {
      "text/html": [
       "<div>\n",
       "<style scoped>\n",
       "    .dataframe tbody tr th:only-of-type {\n",
       "        vertical-align: middle;\n",
       "    }\n",
       "\n",
       "    .dataframe tbody tr th {\n",
       "        vertical-align: top;\n",
       "    }\n",
       "\n",
       "    .dataframe thead th {\n",
       "        text-align: right;\n",
       "    }\n",
       "</style>\n",
       "<table border=\"1\" class=\"dataframe\">\n",
       "  <thead>\n",
       "    <tr style=\"text-align: right;\">\n",
       "      <th></th>\n",
       "      <th>pg_size_pretty</th>\n",
       "    </tr>\n",
       "  </thead>\n",
       "  <tbody>\n",
       "    <tr>\n",
       "      <th>0</th>\n",
       "      <td>432 kB</td>\n",
       "    </tr>\n",
       "  </tbody>\n",
       "</table>\n",
       "</div>"
      ],
      "text/plain": [
       "  pg_size_pretty\n",
       "0         432 kB"
      ]
     },
     "execution_count": 11,
     "metadata": {},
     "output_type": "execute_result"
    }
   ],
   "source": [
    "query = '''\n",
    "SELECT pg_size_pretty(pg_total_relation_size('telecom.internet'))\n",
    "'''\n",
    "pd.read_sql_query(query, con=engine) "
   ]
  },
  {
   "cell_type": "code",
   "execution_count": 12,
   "metadata": {
    "id": "b1zOVVRLiNWZ"
   },
   "outputs": [],
   "source": [
    "query = '''\n",
    "SELECT *\n",
    "FROM telecom.internet\n",
    "'''\n",
    "internet = pd.read_sql_query(query, con=engine) \n",
    "internet.columns = internet.iloc[0].str.lower() #используем первую строку в качестве заголовков\n",
    "internet = internet[1:].reset_index(drop=True)"
   ]
  },
  {
   "cell_type": "code",
   "execution_count": 13,
   "metadata": {},
   "outputs": [
    {
     "data": {
      "text/html": [
       "<div>\n",
       "<style scoped>\n",
       "    .dataframe tbody tr th:only-of-type {\n",
       "        vertical-align: middle;\n",
       "    }\n",
       "\n",
       "    .dataframe tbody tr th {\n",
       "        vertical-align: top;\n",
       "    }\n",
       "\n",
       "    .dataframe thead th {\n",
       "        text-align: right;\n",
       "    }\n",
       "</style>\n",
       "<table border=\"1\" class=\"dataframe\">\n",
       "  <thead>\n",
       "    <tr style=\"text-align: right;\">\n",
       "      <th></th>\n",
       "      <th>pg_size_pretty</th>\n",
       "    </tr>\n",
       "  </thead>\n",
       "  <tbody>\n",
       "    <tr>\n",
       "      <th>0</th>\n",
       "      <td>312 kB</td>\n",
       "    </tr>\n",
       "  </tbody>\n",
       "</table>\n",
       "</div>"
      ],
      "text/plain": [
       "  pg_size_pretty\n",
       "0         312 kB"
      ]
     },
     "execution_count": 13,
     "metadata": {},
     "output_type": "execute_result"
    }
   ],
   "source": [
    "query = '''\n",
    "SELECT pg_size_pretty(pg_total_relation_size('telecom.phone'))\n",
    "'''\n",
    "pd.read_sql_query(query, con=engine) "
   ]
  },
  {
   "cell_type": "code",
   "execution_count": 14,
   "metadata": {
    "id": "PpK09PsjideN"
   },
   "outputs": [],
   "source": [
    "query = '''\n",
    "SELECT *\n",
    "FROM telecom.phone\n",
    "'''\n",
    "phone = pd.read_sql_query(query, con=engine) \n",
    "phone.columns = phone.iloc[0].str.lower()\n",
    "phone = phone[1:].reset_index(drop=True)"
   ]
  },
  {
   "cell_type": "code",
   "execution_count": 15,
   "metadata": {
    "colab": {
     "base_uri": "https://localhost:8080/",
     "height": 0
    },
    "id": "8MJR951ei4oC",
    "outputId": "27dbd01a-dfe4-480b-ef42-e568e7916574"
   },
   "outputs": [
    {
     "data": {
      "text/html": [
       "<div>\n",
       "<style scoped>\n",
       "    .dataframe tbody tr th:only-of-type {\n",
       "        vertical-align: middle;\n",
       "    }\n",
       "\n",
       "    .dataframe tbody tr th {\n",
       "        vertical-align: top;\n",
       "    }\n",
       "\n",
       "    .dataframe thead th {\n",
       "        text-align: right;\n",
       "    }\n",
       "</style>\n",
       "<table border=\"1\" class=\"dataframe\">\n",
       "  <thead>\n",
       "    <tr style=\"text-align: right;\">\n",
       "      <th></th>\n",
       "      <th>customerid</th>\n",
       "      <th>begindate</th>\n",
       "      <th>enddate</th>\n",
       "      <th>type</th>\n",
       "      <th>paperlessbilling</th>\n",
       "      <th>paymentmethod</th>\n",
       "      <th>monthlycharges</th>\n",
       "      <th>totalcharges</th>\n",
       "    </tr>\n",
       "  </thead>\n",
       "  <tbody>\n",
       "    <tr>\n",
       "      <th>0</th>\n",
       "      <td>4472-LVYGI</td>\n",
       "      <td>2020-02-01</td>\n",
       "      <td>None</td>\n",
       "      <td>Two year</td>\n",
       "      <td>Yes</td>\n",
       "      <td>Bank transfer (automatic)</td>\n",
       "      <td>52.55</td>\n",
       "      <td>NaN</td>\n",
       "    </tr>\n",
       "    <tr>\n",
       "      <th>1</th>\n",
       "      <td>3115-CZMZD</td>\n",
       "      <td>2020-02-01</td>\n",
       "      <td>None</td>\n",
       "      <td>Two year</td>\n",
       "      <td>No</td>\n",
       "      <td>Mailed check</td>\n",
       "      <td>20.25</td>\n",
       "      <td>NaN</td>\n",
       "    </tr>\n",
       "    <tr>\n",
       "      <th>2</th>\n",
       "      <td>3668-QPYBK</td>\n",
       "      <td>2018-08-09</td>\n",
       "      <td>2019-12-01</td>\n",
       "      <td>Month-to-month</td>\n",
       "      <td>Yes</td>\n",
       "      <td>Mailed check</td>\n",
       "      <td>53.85</td>\n",
       "      <td>108.15</td>\n",
       "    </tr>\n",
       "    <tr>\n",
       "      <th>3</th>\n",
       "      <td>5709-LVOEQ</td>\n",
       "      <td>2020-02-01</td>\n",
       "      <td>None</td>\n",
       "      <td>Two year</td>\n",
       "      <td>No</td>\n",
       "      <td>Mailed check</td>\n",
       "      <td>80.85</td>\n",
       "      <td>NaN</td>\n",
       "    </tr>\n",
       "    <tr>\n",
       "      <th>4</th>\n",
       "      <td>9237-HQITU</td>\n",
       "      <td>2019-01-26</td>\n",
       "      <td>2019-11-01</td>\n",
       "      <td>Month-to-month</td>\n",
       "      <td>Yes</td>\n",
       "      <td>Electronic check</td>\n",
       "      <td>70.70</td>\n",
       "      <td>151.65</td>\n",
       "    </tr>\n",
       "  </tbody>\n",
       "</table>\n",
       "</div>"
      ],
      "text/plain": [
       "   customerid   begindate     enddate            type paperlessbilling  \\\n",
       "0  4472-LVYGI  2020-02-01        None        Two year              Yes   \n",
       "1  3115-CZMZD  2020-02-01        None        Two year               No   \n",
       "2  3668-QPYBK  2018-08-09  2019-12-01  Month-to-month              Yes   \n",
       "3  5709-LVOEQ  2020-02-01        None        Two year               No   \n",
       "4  9237-HQITU  2019-01-26  2019-11-01  Month-to-month              Yes   \n",
       "\n",
       "               paymentmethod  monthlycharges  totalcharges  \n",
       "0  Bank transfer (automatic)           52.55           NaN  \n",
       "1               Mailed check           20.25           NaN  \n",
       "2               Mailed check           53.85        108.15  \n",
       "3               Mailed check           80.85           NaN  \n",
       "4           Electronic check           70.70        151.65  "
      ]
     },
     "metadata": {},
     "output_type": "display_data"
    },
    {
     "data": {
      "text/html": [
       "<div>\n",
       "<style scoped>\n",
       "    .dataframe tbody tr th:only-of-type {\n",
       "        vertical-align: middle;\n",
       "    }\n",
       "\n",
       "    .dataframe tbody tr th {\n",
       "        vertical-align: top;\n",
       "    }\n",
       "\n",
       "    .dataframe thead th {\n",
       "        text-align: right;\n",
       "    }\n",
       "</style>\n",
       "<table border=\"1\" class=\"dataframe\">\n",
       "  <thead>\n",
       "    <tr style=\"text-align: right;\">\n",
       "      <th></th>\n",
       "      <th>customerid</th>\n",
       "      <th>gender</th>\n",
       "      <th>seniorcitizen</th>\n",
       "      <th>partner</th>\n",
       "      <th>dependents</th>\n",
       "    </tr>\n",
       "  </thead>\n",
       "  <tbody>\n",
       "    <tr>\n",
       "      <th>0</th>\n",
       "      <td>7590-VHVEG</td>\n",
       "      <td>Female</td>\n",
       "      <td>0</td>\n",
       "      <td>Yes</td>\n",
       "      <td>No</td>\n",
       "    </tr>\n",
       "    <tr>\n",
       "      <th>1</th>\n",
       "      <td>5575-GNVDE</td>\n",
       "      <td>Male</td>\n",
       "      <td>0</td>\n",
       "      <td>No</td>\n",
       "      <td>No</td>\n",
       "    </tr>\n",
       "    <tr>\n",
       "      <th>2</th>\n",
       "      <td>3668-QPYBK</td>\n",
       "      <td>Male</td>\n",
       "      <td>0</td>\n",
       "      <td>No</td>\n",
       "      <td>No</td>\n",
       "    </tr>\n",
       "    <tr>\n",
       "      <th>3</th>\n",
       "      <td>7795-CFOCW</td>\n",
       "      <td>Male</td>\n",
       "      <td>0</td>\n",
       "      <td>No</td>\n",
       "      <td>No</td>\n",
       "    </tr>\n",
       "    <tr>\n",
       "      <th>4</th>\n",
       "      <td>9237-HQITU</td>\n",
       "      <td>Female</td>\n",
       "      <td>0</td>\n",
       "      <td>No</td>\n",
       "      <td>No</td>\n",
       "    </tr>\n",
       "  </tbody>\n",
       "</table>\n",
       "</div>"
      ],
      "text/plain": [
       "   customerid  gender  seniorcitizen partner dependents\n",
       "0  7590-VHVEG  Female              0     Yes         No\n",
       "1  5575-GNVDE    Male              0      No         No\n",
       "2  3668-QPYBK    Male              0      No         No\n",
       "3  7795-CFOCW    Male              0      No         No\n",
       "4  9237-HQITU  Female              0      No         No"
      ]
     },
     "metadata": {},
     "output_type": "display_data"
    },
    {
     "data": {
      "text/html": [
       "<div>\n",
       "<style scoped>\n",
       "    .dataframe tbody tr th:only-of-type {\n",
       "        vertical-align: middle;\n",
       "    }\n",
       "\n",
       "    .dataframe tbody tr th {\n",
       "        vertical-align: top;\n",
       "    }\n",
       "\n",
       "    .dataframe thead th {\n",
       "        text-align: right;\n",
       "    }\n",
       "</style>\n",
       "<table border=\"1\" class=\"dataframe\">\n",
       "  <thead>\n",
       "    <tr style=\"text-align: right;\">\n",
       "      <th></th>\n",
       "      <th>customerid</th>\n",
       "      <th>internetservice</th>\n",
       "      <th>onlinesecurity</th>\n",
       "      <th>onlinebackup</th>\n",
       "      <th>deviceprotection</th>\n",
       "      <th>techsupport</th>\n",
       "      <th>streamingtv</th>\n",
       "      <th>streamingmovies</th>\n",
       "    </tr>\n",
       "  </thead>\n",
       "  <tbody>\n",
       "    <tr>\n",
       "      <th>0</th>\n",
       "      <td>7590-VHVEG</td>\n",
       "      <td>DSL</td>\n",
       "      <td>No</td>\n",
       "      <td>Yes</td>\n",
       "      <td>No</td>\n",
       "      <td>No</td>\n",
       "      <td>No</td>\n",
       "      <td>No</td>\n",
       "    </tr>\n",
       "    <tr>\n",
       "      <th>1</th>\n",
       "      <td>5575-GNVDE</td>\n",
       "      <td>DSL</td>\n",
       "      <td>Yes</td>\n",
       "      <td>No</td>\n",
       "      <td>Yes</td>\n",
       "      <td>No</td>\n",
       "      <td>No</td>\n",
       "      <td>No</td>\n",
       "    </tr>\n",
       "    <tr>\n",
       "      <th>2</th>\n",
       "      <td>3668-QPYBK</td>\n",
       "      <td>DSL</td>\n",
       "      <td>Yes</td>\n",
       "      <td>Yes</td>\n",
       "      <td>No</td>\n",
       "      <td>No</td>\n",
       "      <td>No</td>\n",
       "      <td>No</td>\n",
       "    </tr>\n",
       "    <tr>\n",
       "      <th>3</th>\n",
       "      <td>7795-CFOCW</td>\n",
       "      <td>DSL</td>\n",
       "      <td>Yes</td>\n",
       "      <td>No</td>\n",
       "      <td>Yes</td>\n",
       "      <td>Yes</td>\n",
       "      <td>No</td>\n",
       "      <td>No</td>\n",
       "    </tr>\n",
       "    <tr>\n",
       "      <th>4</th>\n",
       "      <td>9237-HQITU</td>\n",
       "      <td>Fiber optic</td>\n",
       "      <td>No</td>\n",
       "      <td>No</td>\n",
       "      <td>No</td>\n",
       "      <td>No</td>\n",
       "      <td>No</td>\n",
       "      <td>No</td>\n",
       "    </tr>\n",
       "  </tbody>\n",
       "</table>\n",
       "</div>"
      ],
      "text/plain": [
       "0  customerid internetservice onlinesecurity onlinebackup deviceprotection  \\\n",
       "0  7590-VHVEG             DSL             No          Yes               No   \n",
       "1  5575-GNVDE             DSL            Yes           No              Yes   \n",
       "2  3668-QPYBK             DSL            Yes          Yes               No   \n",
       "3  7795-CFOCW             DSL            Yes           No              Yes   \n",
       "4  9237-HQITU     Fiber optic             No           No               No   \n",
       "\n",
       "0 techsupport streamingtv streamingmovies  \n",
       "0          No          No              No  \n",
       "1          No          No              No  \n",
       "2          No          No              No  \n",
       "3         Yes          No              No  \n",
       "4          No          No              No  "
      ]
     },
     "metadata": {},
     "output_type": "display_data"
    },
    {
     "data": {
      "text/html": [
       "<div>\n",
       "<style scoped>\n",
       "    .dataframe tbody tr th:only-of-type {\n",
       "        vertical-align: middle;\n",
       "    }\n",
       "\n",
       "    .dataframe tbody tr th {\n",
       "        vertical-align: top;\n",
       "    }\n",
       "\n",
       "    .dataframe thead th {\n",
       "        text-align: right;\n",
       "    }\n",
       "</style>\n",
       "<table border=\"1\" class=\"dataframe\">\n",
       "  <thead>\n",
       "    <tr style=\"text-align: right;\">\n",
       "      <th></th>\n",
       "      <th>customerid</th>\n",
       "      <th>multiplelines</th>\n",
       "    </tr>\n",
       "  </thead>\n",
       "  <tbody>\n",
       "    <tr>\n",
       "      <th>0</th>\n",
       "      <td>5575-GNVDE</td>\n",
       "      <td>No</td>\n",
       "    </tr>\n",
       "    <tr>\n",
       "      <th>1</th>\n",
       "      <td>3668-QPYBK</td>\n",
       "      <td>No</td>\n",
       "    </tr>\n",
       "    <tr>\n",
       "      <th>2</th>\n",
       "      <td>9237-HQITU</td>\n",
       "      <td>No</td>\n",
       "    </tr>\n",
       "    <tr>\n",
       "      <th>3</th>\n",
       "      <td>9305-CDSKC</td>\n",
       "      <td>Yes</td>\n",
       "    </tr>\n",
       "    <tr>\n",
       "      <th>4</th>\n",
       "      <td>1452-KIOVK</td>\n",
       "      <td>Yes</td>\n",
       "    </tr>\n",
       "  </tbody>\n",
       "</table>\n",
       "</div>"
      ],
      "text/plain": [
       "0  customerid multiplelines\n",
       "0  5575-GNVDE            No\n",
       "1  3668-QPYBK            No\n",
       "2  9237-HQITU            No\n",
       "3  9305-CDSKC           Yes\n",
       "4  1452-KIOVK           Yes"
      ]
     },
     "metadata": {},
     "output_type": "display_data"
    }
   ],
   "source": [
    "display(contract.head())\n",
    "display(personal.head())\n",
    "display(internet.head())\n",
    "display(phone.head())"
   ]
  },
  {
   "cell_type": "markdown",
   "metadata": {
    "id": "eGdiuzT3kKRO"
   },
   "source": [
    "Данные загружены без ошибок"
   ]
  },
  {
   "cell_type": "markdown",
   "metadata": {
    "id": "gaT51cXdkaBx"
   },
   "source": [
    "# 2. Анализ данных"
   ]
  },
  {
   "cell_type": "markdown",
   "metadata": {
    "id": "38vxNDC0oNeQ"
   },
   "source": [
    "## 2.1 Contract"
   ]
  },
  {
   "cell_type": "code",
   "execution_count": 16,
   "metadata": {
    "colab": {
     "base_uri": "https://localhost:8080/",
     "height": 0
    },
    "id": "aNaAN5axlFWf",
    "outputId": "3c672ded-a9ac-4908-ecbf-643c9d48924a"
   },
   "outputs": [
    {
     "data": {
      "text/html": [
       "<div>\n",
       "<style scoped>\n",
       "    .dataframe tbody tr th:only-of-type {\n",
       "        vertical-align: middle;\n",
       "    }\n",
       "\n",
       "    .dataframe tbody tr th {\n",
       "        vertical-align: top;\n",
       "    }\n",
       "\n",
       "    .dataframe thead th {\n",
       "        text-align: right;\n",
       "    }\n",
       "</style>\n",
       "<table border=\"1\" class=\"dataframe\">\n",
       "  <thead>\n",
       "    <tr style=\"text-align: right;\">\n",
       "      <th></th>\n",
       "      <th>customerid</th>\n",
       "      <th>begindate</th>\n",
       "      <th>enddate</th>\n",
       "      <th>type</th>\n",
       "      <th>paperlessbilling</th>\n",
       "      <th>paymentmethod</th>\n",
       "      <th>monthlycharges</th>\n",
       "      <th>totalcharges</th>\n",
       "    </tr>\n",
       "  </thead>\n",
       "  <tbody>\n",
       "    <tr>\n",
       "      <th>0</th>\n",
       "      <td>4472-LVYGI</td>\n",
       "      <td>2020-02-01</td>\n",
       "      <td>None</td>\n",
       "      <td>Two year</td>\n",
       "      <td>Yes</td>\n",
       "      <td>Bank transfer (automatic)</td>\n",
       "      <td>52.55</td>\n",
       "      <td>NaN</td>\n",
       "    </tr>\n",
       "    <tr>\n",
       "      <th>1</th>\n",
       "      <td>3115-CZMZD</td>\n",
       "      <td>2020-02-01</td>\n",
       "      <td>None</td>\n",
       "      <td>Two year</td>\n",
       "      <td>No</td>\n",
       "      <td>Mailed check</td>\n",
       "      <td>20.25</td>\n",
       "      <td>NaN</td>\n",
       "    </tr>\n",
       "    <tr>\n",
       "      <th>2</th>\n",
       "      <td>3668-QPYBK</td>\n",
       "      <td>2018-08-09</td>\n",
       "      <td>2019-12-01</td>\n",
       "      <td>Month-to-month</td>\n",
       "      <td>Yes</td>\n",
       "      <td>Mailed check</td>\n",
       "      <td>53.85</td>\n",
       "      <td>108.15</td>\n",
       "    </tr>\n",
       "    <tr>\n",
       "      <th>3</th>\n",
       "      <td>5709-LVOEQ</td>\n",
       "      <td>2020-02-01</td>\n",
       "      <td>None</td>\n",
       "      <td>Two year</td>\n",
       "      <td>No</td>\n",
       "      <td>Mailed check</td>\n",
       "      <td>80.85</td>\n",
       "      <td>NaN</td>\n",
       "    </tr>\n",
       "    <tr>\n",
       "      <th>4</th>\n",
       "      <td>9237-HQITU</td>\n",
       "      <td>2019-01-26</td>\n",
       "      <td>2019-11-01</td>\n",
       "      <td>Month-to-month</td>\n",
       "      <td>Yes</td>\n",
       "      <td>Electronic check</td>\n",
       "      <td>70.70</td>\n",
       "      <td>151.65</td>\n",
       "    </tr>\n",
       "  </tbody>\n",
       "</table>\n",
       "</div>"
      ],
      "text/plain": [
       "   customerid   begindate     enddate            type paperlessbilling  \\\n",
       "0  4472-LVYGI  2020-02-01        None        Two year              Yes   \n",
       "1  3115-CZMZD  2020-02-01        None        Two year               No   \n",
       "2  3668-QPYBK  2018-08-09  2019-12-01  Month-to-month              Yes   \n",
       "3  5709-LVOEQ  2020-02-01        None        Two year               No   \n",
       "4  9237-HQITU  2019-01-26  2019-11-01  Month-to-month              Yes   \n",
       "\n",
       "               paymentmethod  monthlycharges  totalcharges  \n",
       "0  Bank transfer (automatic)           52.55           NaN  \n",
       "1               Mailed check           20.25           NaN  \n",
       "2               Mailed check           53.85        108.15  \n",
       "3               Mailed check           80.85           NaN  \n",
       "4           Electronic check           70.70        151.65  "
      ]
     },
     "execution_count": 16,
     "metadata": {},
     "output_type": "execute_result"
    }
   ],
   "source": [
    "contract.head()"
   ]
  },
  {
   "cell_type": "markdown",
   "metadata": {
    "id": "5fpvRdZtokjI"
   },
   "source": [
    "таблица содержит информацию о договорах.\n",
    "1. customerID — ID абонента;\n",
    "2. BeginDate — дата начала действия договора;\n",
    "3. EndDate — дата окончания действия договора;\n",
    "4. Type — тип оплаты: раз в год-два или ежемесячно;\n",
    "5. PaperlessBilling — электронный расчётный лист;\n",
    "6. PaymentMethod — тип платежа;\n",
    "7. MonthlyCharges — расходы за месяц;\n",
    "8. TotalCharges — общие расходы абонента."
   ]
  },
  {
   "cell_type": "code",
   "execution_count": 17,
   "metadata": {
    "colab": {
     "base_uri": "https://localhost:8080/"
    },
    "id": "vg2ixeAdkeZU",
    "outputId": "3fa0c480-b26a-4c60-e135-d51e9e6858e3"
   },
   "outputs": [
    {
     "name": "stdout",
     "output_type": "stream",
     "text": [
      "<class 'pandas.core.frame.DataFrame'>\n",
      "RangeIndex: 7043 entries, 0 to 7042\n",
      "Data columns (total 8 columns):\n",
      " #   Column            Non-Null Count  Dtype  \n",
      "---  ------            --------------  -----  \n",
      " 0   customerid        7043 non-null   object \n",
      " 1   begindate         7043 non-null   object \n",
      " 2   enddate           1869 non-null   object \n",
      " 3   type              7043 non-null   object \n",
      " 4   paperlessbilling  7043 non-null   object \n",
      " 5   paymentmethod     7043 non-null   object \n",
      " 6   monthlycharges    7043 non-null   float64\n",
      " 7   totalcharges      7032 non-null   float64\n",
      "dtypes: float64(2), object(6)\n",
      "memory usage: 440.3+ KB\n"
     ]
    }
   ],
   "source": [
    "contract.info()"
   ]
  },
  {
   "cell_type": "markdown",
   "metadata": {
    "id": "zFAg7N1JpJOd"
   },
   "source": [
    "Все данные прописаны строкой. Нужно будет перевести даты и числа в соответствующий формат.\n",
    "\n",
    "так же есть пропуски в дате завершения договора, очевидно, для тех, кто договор не прервал на дату получения данных. И 10 пропусков в общих расходах."
   ]
  },
  {
   "cell_type": "code",
   "execution_count": 18,
   "metadata": {
    "id": "hNFjwAWt6Saq"
   },
   "outputs": [],
   "source": [
    "contract['begindate'] = pd.to_datetime(contract['begindate'], format='%Y-%m-%d')\n",
    "contract['enddate'] = pd.to_datetime(contract['enddate'], format='%Y-%m-%d', errors='coerce')"
   ]
  },
  {
   "cell_type": "code",
   "execution_count": 19,
   "metadata": {
    "id": "2-dNd2XE7xjm"
   },
   "outputs": [],
   "source": [
    "contract['monthlycharges'] = contract['monthlycharges'].apply(pd.to_numeric, errors='coerce')\n",
    "contract['totalcharges'] = contract['totalcharges'].apply(pd.to_numeric, errors='coerce')"
   ]
  },
  {
   "cell_type": "code",
   "execution_count": 20,
   "metadata": {
    "colab": {
     "base_uri": "https://localhost:8080/",
     "height": 0
    },
    "id": "zdRvh9l48D0f",
    "outputId": "a8030cda-493f-49b5-ce41-52ec90ce61ea"
   },
   "outputs": [
    {
     "data": {
      "text/html": [
       "<div>\n",
       "<style scoped>\n",
       "    .dataframe tbody tr th:only-of-type {\n",
       "        vertical-align: middle;\n",
       "    }\n",
       "\n",
       "    .dataframe tbody tr th {\n",
       "        vertical-align: top;\n",
       "    }\n",
       "\n",
       "    .dataframe thead th {\n",
       "        text-align: right;\n",
       "    }\n",
       "</style>\n",
       "<table border=\"1\" class=\"dataframe\">\n",
       "  <thead>\n",
       "    <tr style=\"text-align: right;\">\n",
       "      <th></th>\n",
       "      <th>monthlycharges</th>\n",
       "      <th>totalcharges</th>\n",
       "    </tr>\n",
       "  </thead>\n",
       "  <tbody>\n",
       "    <tr>\n",
       "      <th>count</th>\n",
       "      <td>7043.000000</td>\n",
       "      <td>7032.000000</td>\n",
       "    </tr>\n",
       "    <tr>\n",
       "      <th>mean</th>\n",
       "      <td>64.761692</td>\n",
       "      <td>2283.300441</td>\n",
       "    </tr>\n",
       "    <tr>\n",
       "      <th>std</th>\n",
       "      <td>30.090047</td>\n",
       "      <td>2266.771362</td>\n",
       "    </tr>\n",
       "    <tr>\n",
       "      <th>min</th>\n",
       "      <td>18.250000</td>\n",
       "      <td>18.800000</td>\n",
       "    </tr>\n",
       "    <tr>\n",
       "      <th>25%</th>\n",
       "      <td>35.500000</td>\n",
       "      <td>401.450000</td>\n",
       "    </tr>\n",
       "    <tr>\n",
       "      <th>50%</th>\n",
       "      <td>70.350000</td>\n",
       "      <td>1397.475000</td>\n",
       "    </tr>\n",
       "    <tr>\n",
       "      <th>75%</th>\n",
       "      <td>89.850000</td>\n",
       "      <td>3794.737500</td>\n",
       "    </tr>\n",
       "    <tr>\n",
       "      <th>max</th>\n",
       "      <td>118.750000</td>\n",
       "      <td>8684.800000</td>\n",
       "    </tr>\n",
       "  </tbody>\n",
       "</table>\n",
       "</div>"
      ],
      "text/plain": [
       "       monthlycharges  totalcharges\n",
       "count     7043.000000   7032.000000\n",
       "mean        64.761692   2283.300441\n",
       "std         30.090047   2266.771362\n",
       "min         18.250000     18.800000\n",
       "25%         35.500000    401.450000\n",
       "50%         70.350000   1397.475000\n",
       "75%         89.850000   3794.737500\n",
       "max        118.750000   8684.800000"
      ]
     },
     "execution_count": 20,
     "metadata": {},
     "output_type": "execute_result"
    }
   ],
   "source": [
    "contract.describe()"
   ]
  },
  {
   "cell_type": "code",
   "execution_count": 21,
   "metadata": {
    "colab": {
     "base_uri": "https://localhost:8080/",
     "height": 0
    },
    "id": "5aoWoXE58rKY",
    "outputId": "51ef64e8-190b-47ba-a6c1-511160c675ec"
   },
   "outputs": [
    {
     "data": {
      "image/png": "[encoded data removed]",
      "text/plain": [
       "<Figure size 720x504 with 2 Axes>"
      ]
     },
     "metadata": {
      "needs_background": "light"
     },
     "output_type": "display_data"
    }
   ],
   "source": [
    "fig, ax = plt.subplots(2, 1, figsize=(10,7))\n",
    "ax[0].boxplot(contract['monthlycharges'], vert=False)\n",
    "ax[0].set_title('monthly charges', fontsize=14)\n",
    "ax[1].boxplot(contract['totalcharges'].dropna(), vert=False)\n",
    "ax[1].set_title('total charges', fontsize=14)\n",
    "plt.show()\n",
    "#sns.boxplot(contract['monthlycharges'], orient=\"h\", notch=True, showcaps=False)"
   ]
  },
  {
   "cell_type": "markdown",
   "metadata": {
    "id": "K7lT-FqWp1_t"
   },
   "source": [
    "Судя по \"коробкам\" выбросов, не смотря на разброс значений, в данных нет."
   ]
  },
  {
   "cell_type": "code",
   "execution_count": 22,
   "metadata": {
    "colab": {
     "base_uri": "https://localhost:8080/"
    },
    "id": "KoSIMvCOqnpy",
    "outputId": "e01587fc-3e73-4ef3-8713-28966d68561d"
   },
   "outputs": [
    {
     "name": "stdout",
     "output_type": "stream",
     "text": [
      "2020-02-01 00:00:00\n",
      "2018-04-17 00:00:00\n"
     ]
    }
   ],
   "source": [
    "print(contract['begindate'].max())\n",
    "print(contract['begindate'].min())"
   ]
  },
  {
   "cell_type": "code",
   "execution_count": 23,
   "metadata": {
    "colab": {
     "base_uri": "https://localhost:8080/",
     "height": 0
    },
    "id": "yDj1nJQh1elr",
    "outputId": "834c8477-3c64-4347-8637-a3dda31cf390"
   },
   "outputs": [
    {
     "data": {
      "text/plain": [
       "<AxesSubplot:>"
      ]
     },
     "execution_count": 23,
     "metadata": {},
     "output_type": "execute_result"
    },
    {
     "data": {
      "image/png": "[encoded data removed]",
      "text/plain": [
       "<Figure size 432x288 with 1 Axes>"
      ]
     },
     "metadata": {
      "needs_background": "light"
     },
     "output_type": "display_data"
    }
   ],
   "source": [
    "contract['begindate'].hist(bins=23)"
   ]
  },
  {
   "cell_type": "markdown",
   "metadata": {
    "id": "bcEW677mqF1Z"
   },
   "source": [
    "Распределение дат начала договора близко к нормальному."
   ]
  },
  {
   "cell_type": "code",
   "execution_count": 24,
   "metadata": {
    "colab": {
     "base_uri": "https://localhost:8080/"
    },
    "id": "eo-Y6ShM1pcH",
    "outputId": "369e3f02-fbd2-4e2d-a72f-e98fd1ed9c9d"
   },
   "outputs": [
    {
     "data": {
      "text/plain": [
       "2019-11-01    485\n",
       "2019-12-01    466\n",
       "2020-01-01    460\n",
       "2019-10-01    458\n",
       "Name: enddate, dtype: int64"
      ]
     },
     "execution_count": 24,
     "metadata": {},
     "output_type": "execute_result"
    }
   ],
   "source": [
    "contract[contract['enddate'].notna()]['enddate'].value_counts()"
   ]
  },
  {
   "cell_type": "markdown",
   "metadata": {
    "id": "8Mj3DfC3ri96"
   },
   "source": [
    "А вот даты расторжения договора включают в себя только 4 варианта. Судя по тому, что все они приходятся на первое число, это дата загрузки в бд отчета за предыдущий месяц."
   ]
  },
  {
   "cell_type": "markdown",
   "metadata": {
    "id": "3TcgBI2zr_Wk"
   },
   "source": [
    "Проверим нет ли в данных строк, где дата завершения предшествует дате начала договора."
   ]
  },
  {
   "cell_type": "code",
   "execution_count": 25,
   "metadata": {
    "colab": {
     "base_uri": "https://localhost:8080/",
     "height": 0
    },
    "id": "lPo_KO5n4rZb",
    "outputId": "b2ca6e57-07f9-462a-cd6e-4a7a3d11619c"
   },
   "outputs": [
    {
     "data": {
      "text/html": [
       "<div>\n",
       "<style scoped>\n",
       "    .dataframe tbody tr th:only-of-type {\n",
       "        vertical-align: middle;\n",
       "    }\n",
       "\n",
       "    .dataframe tbody tr th {\n",
       "        vertical-align: top;\n",
       "    }\n",
       "\n",
       "    .dataframe thead th {\n",
       "        text-align: right;\n",
       "    }\n",
       "</style>\n",
       "<table border=\"1\" class=\"dataframe\">\n",
       "  <thead>\n",
       "    <tr style=\"text-align: right;\">\n",
       "      <th></th>\n",
       "      <th>customerid</th>\n",
       "      <th>begindate</th>\n",
       "      <th>enddate</th>\n",
       "      <th>type</th>\n",
       "      <th>paperlessbilling</th>\n",
       "      <th>paymentmethod</th>\n",
       "      <th>monthlycharges</th>\n",
       "      <th>totalcharges</th>\n",
       "    </tr>\n",
       "  </thead>\n",
       "  <tbody>\n",
       "  </tbody>\n",
       "</table>\n",
       "</div>"
      ],
      "text/plain": [
       "Empty DataFrame\n",
       "Columns: [customerid, begindate, enddate, type, paperlessbilling, paymentmethod, monthlycharges, totalcharges]\n",
       "Index: []"
      ]
     },
     "execution_count": 25,
     "metadata": {},
     "output_type": "execute_result"
    }
   ],
   "source": [
    "contract[contract['begindate']>contract['enddate']]"
   ]
  },
  {
   "cell_type": "markdown",
   "metadata": {
    "id": "KvUF4N2FsPaP"
   },
   "source": [
    "Таких сэмплов нет.\n",
    "\n",
    "Проверим наличие дубликатов"
   ]
  },
  {
   "cell_type": "code",
   "execution_count": 26,
   "metadata": {
    "colab": {
     "base_uri": "https://localhost:8080/"
    },
    "id": "osb2O3CJlZEc",
    "outputId": "b0d79be2-4cc0-4f95-aa77-fa11870e8156"
   },
   "outputs": [
    {
     "data": {
      "text/plain": [
       "0"
      ]
     },
     "execution_count": 26,
     "metadata": {},
     "output_type": "execute_result"
    }
   ],
   "source": [
    "contract.duplicated().sum()"
   ]
  },
  {
   "cell_type": "code",
   "execution_count": 27,
   "metadata": {
    "colab": {
     "base_uri": "https://localhost:8080/"
    },
    "id": "IYgmgloVltht",
    "outputId": "2e88788a-214a-4044-9779-1f660e894d6f"
   },
   "outputs": [
    {
     "data": {
      "text/plain": [
       "Month-to-month    3875\n",
       "Two year          1695\n",
       "One year          1473\n",
       "Name: type, dtype: int64"
      ]
     },
     "execution_count": 27,
     "metadata": {},
     "output_type": "execute_result"
    }
   ],
   "source": [
    "contract['type'].value_counts()"
   ]
  },
  {
   "cell_type": "code",
   "execution_count": 28,
   "metadata": {
    "colab": {
     "base_uri": "https://localhost:8080/"
    },
    "id": "RcYMl12Bl3q2",
    "outputId": "f0c6400b-f64c-4b9c-b1eb-4efafe70c5a3"
   },
   "outputs": [
    {
     "data": {
      "text/plain": [
       "Yes    4171\n",
       "No     2872\n",
       "Name: paperlessbilling, dtype: int64"
      ]
     },
     "execution_count": 28,
     "metadata": {},
     "output_type": "execute_result"
    }
   ],
   "source": [
    "contract['paperlessbilling'].value_counts()"
   ]
  },
  {
   "cell_type": "code",
   "execution_count": 29,
   "metadata": {
    "colab": {
     "base_uri": "https://localhost:8080/"
    },
    "id": "5UCTcB2Wl86_",
    "outputId": "fe686e57-b9e3-4ba0-b5e7-ee685f09b667"
   },
   "outputs": [
    {
     "data": {
      "text/plain": [
       "Electronic check             2365\n",
       "Mailed check                 1612\n",
       "Bank transfer (automatic)    1544\n",
       "Credit card (automatic)      1522\n",
       "Name: paymentmethod, dtype: int64"
      ]
     },
     "execution_count": 29,
     "metadata": {},
     "output_type": "execute_result"
    }
   ],
   "source": [
    "contract['paymentmethod'].value_counts()"
   ]
  },
  {
   "cell_type": "markdown",
   "metadata": {
    "id": "IIc_P7W5sRLZ"
   },
   "source": [
    "Неявных дубликатов тоже нет."
   ]
  },
  {
   "cell_type": "markdown",
   "metadata": {
    "id": "vPWlMZMnoYDt"
   },
   "source": [
    "## 2.2 Personal"
   ]
  },
  {
   "cell_type": "code",
   "execution_count": 30,
   "metadata": {
    "colab": {
     "base_uri": "https://localhost:8080/",
     "height": 0
    },
    "id": "XhOoBTAgoS0I",
    "outputId": "02ba5394-b4a4-4eb6-d78c-4c5075452873"
   },
   "outputs": [
    {
     "data": {
      "text/html": [
       "<div>\n",
       "<style scoped>\n",
       "    .dataframe tbody tr th:only-of-type {\n",
       "        vertical-align: middle;\n",
       "    }\n",
       "\n",
       "    .dataframe tbody tr th {\n",
       "        vertical-align: top;\n",
       "    }\n",
       "\n",
       "    .dataframe thead th {\n",
       "        text-align: right;\n",
       "    }\n",
       "</style>\n",
       "<table border=\"1\" class=\"dataframe\">\n",
       "  <thead>\n",
       "    <tr style=\"text-align: right;\">\n",
       "      <th></th>\n",
       "      <th>customerid</th>\n",
       "      <th>gender</th>\n",
       "      <th>seniorcitizen</th>\n",
       "      <th>partner</th>\n",
       "      <th>dependents</th>\n",
       "    </tr>\n",
       "  </thead>\n",
       "  <tbody>\n",
       "    <tr>\n",
       "      <th>0</th>\n",
       "      <td>7590-VHVEG</td>\n",
       "      <td>Female</td>\n",
       "      <td>0</td>\n",
       "      <td>Yes</td>\n",
       "      <td>No</td>\n",
       "    </tr>\n",
       "    <tr>\n",
       "      <th>1</th>\n",
       "      <td>5575-GNVDE</td>\n",
       "      <td>Male</td>\n",
       "      <td>0</td>\n",
       "      <td>No</td>\n",
       "      <td>No</td>\n",
       "    </tr>\n",
       "    <tr>\n",
       "      <th>2</th>\n",
       "      <td>3668-QPYBK</td>\n",
       "      <td>Male</td>\n",
       "      <td>0</td>\n",
       "      <td>No</td>\n",
       "      <td>No</td>\n",
       "    </tr>\n",
       "    <tr>\n",
       "      <th>3</th>\n",
       "      <td>7795-CFOCW</td>\n",
       "      <td>Male</td>\n",
       "      <td>0</td>\n",
       "      <td>No</td>\n",
       "      <td>No</td>\n",
       "    </tr>\n",
       "    <tr>\n",
       "      <th>4</th>\n",
       "      <td>9237-HQITU</td>\n",
       "      <td>Female</td>\n",
       "      <td>0</td>\n",
       "      <td>No</td>\n",
       "      <td>No</td>\n",
       "    </tr>\n",
       "  </tbody>\n",
       "</table>\n",
       "</div>"
      ],
      "text/plain": [
       "   customerid  gender  seniorcitizen partner dependents\n",
       "0  7590-VHVEG  Female              0     Yes         No\n",
       "1  5575-GNVDE    Male              0      No         No\n",
       "2  3668-QPYBK    Male              0      No         No\n",
       "3  7795-CFOCW    Male              0      No         No\n",
       "4  9237-HQITU  Female              0      No         No"
      ]
     },
     "execution_count": 30,
     "metadata": {},
     "output_type": "execute_result"
    }
   ],
   "source": [
    "personal.head()"
   ]
  },
  {
   "cell_type": "markdown",
   "metadata": {
    "id": "ySQPra5Ds13C"
   },
   "source": [
    "Таблица содержит персональные данные клиентов.\n",
    "1. customerID — ID пользователя;\n",
    "2. gender — пол;\n",
    "3. SeniorCitizen — является ли абонент пенсионером;\n",
    "4. Partner — есть ли у абонента супруг или супруга;\n",
    "5. Dependents — есть ли у абонента дети."
   ]
  },
  {
   "cell_type": "code",
   "execution_count": 31,
   "metadata": {
    "colab": {
     "base_uri": "https://localhost:8080/"
    },
    "id": "2XMLj4sKoh2J",
    "outputId": "a2a41bf4-14f7-4945-d6fc-d3d9480435d6"
   },
   "outputs": [
    {
     "name": "stdout",
     "output_type": "stream",
     "text": [
      "<class 'pandas.core.frame.DataFrame'>\n",
      "RangeIndex: 7043 entries, 0 to 7042\n",
      "Data columns (total 5 columns):\n",
      " #   Column         Non-Null Count  Dtype \n",
      "---  ------         --------------  ----- \n",
      " 0   customerid     7043 non-null   object\n",
      " 1   gender         7043 non-null   object\n",
      " 2   seniorcitizen  7043 non-null   int64 \n",
      " 3   partner        7043 non-null   object\n",
      " 4   dependents     7043 non-null   object\n",
      "dtypes: int64(1), object(4)\n",
      "memory usage: 275.2+ KB\n"
     ]
    }
   ],
   "source": [
    "personal.info()"
   ]
  },
  {
   "cell_type": "markdown",
   "metadata": {
    "id": "WE9r0jK7tHMk"
   },
   "source": [
    "В этой таблице пропусков нет.\n",
    "Поле seniorcitizen уже переведенно в численый вид, другия поля нужно будет энкодировать дополнительно."
   ]
  },
  {
   "cell_type": "code",
   "execution_count": 32,
   "metadata": {
    "colab": {
     "base_uri": "https://localhost:8080/"
    },
    "id": "P6y2AfWkonO6",
    "outputId": "61a8ae95-f5c9-49b8-dbd9-6e19cdc6f56a"
   },
   "outputs": [
    {
     "data": {
      "text/plain": [
       "0"
      ]
     },
     "execution_count": 32,
     "metadata": {},
     "output_type": "execute_result"
    }
   ],
   "source": [
    "personal.duplicated().sum()"
   ]
  },
  {
   "cell_type": "code",
   "execution_count": 33,
   "metadata": {
    "colab": {
     "base_uri": "https://localhost:8080/"
    },
    "id": "CqHcEoOQo1mV",
    "outputId": "e1e93ae3-a458-44e7-ed8d-acd814c8e027"
   },
   "outputs": [
    {
     "data": {
      "text/plain": [
       "Male      3555\n",
       "Female    3488\n",
       "Name: gender, dtype: int64"
      ]
     },
     "execution_count": 33,
     "metadata": {},
     "output_type": "execute_result"
    }
   ],
   "source": [
    "personal['gender'].value_counts()"
   ]
  },
  {
   "cell_type": "code",
   "execution_count": 34,
   "metadata": {
    "colab": {
     "base_uri": "https://localhost:8080/"
    },
    "id": "0wAk1-vPpBSg",
    "outputId": "06abfadc-914b-4d7f-ab96-e6071b8145ae"
   },
   "outputs": [
    {
     "data": {
      "text/plain": [
       "0    5901\n",
       "1    1142\n",
       "Name: seniorcitizen, dtype: int64"
      ]
     },
     "execution_count": 34,
     "metadata": {},
     "output_type": "execute_result"
    }
   ],
   "source": [
    "personal['seniorcitizen'].value_counts()"
   ]
  },
  {
   "cell_type": "code",
   "execution_count": 35,
   "metadata": {
    "colab": {
     "base_uri": "https://localhost:8080/"
    },
    "id": "_ufRfFIapHdz",
    "outputId": "b9f6c975-cd4b-4a8e-f97b-965c6dededc6"
   },
   "outputs": [
    {
     "data": {
      "text/plain": [
       "No     3641\n",
       "Yes    3402\n",
       "Name: partner, dtype: int64"
      ]
     },
     "execution_count": 35,
     "metadata": {},
     "output_type": "execute_result"
    }
   ],
   "source": [
    "personal['partner'].value_counts()"
   ]
  },
  {
   "cell_type": "code",
   "execution_count": 36,
   "metadata": {
    "colab": {
     "base_uri": "https://localhost:8080/"
    },
    "id": "2q5nJz8RpPC0",
    "outputId": "852143c1-867b-45f7-fe5c-8a6f68735a1c"
   },
   "outputs": [
    {
     "data": {
      "text/plain": [
       "No     4933\n",
       "Yes    2110\n",
       "Name: dependents, dtype: int64"
      ]
     },
     "execution_count": 36,
     "metadata": {},
     "output_type": "execute_result"
    }
   ],
   "source": [
    "personal['dependents'].value_counts()"
   ]
  },
  {
   "cell_type": "markdown",
   "metadata": {
    "id": "ax70pZWRteLV"
   },
   "source": [
    "Все поля содержать только 2 класса, дубликатов, так же, нет."
   ]
  },
  {
   "cell_type": "markdown",
   "metadata": {
    "id": "SAo4L8prphk0"
   },
   "source": [
    "## 2.3 Internet"
   ]
  },
  {
   "cell_type": "code",
   "execution_count": 37,
   "metadata": {
    "colab": {
     "base_uri": "https://localhost:8080/",
     "height": 0
    },
    "id": "i8yF-F1TpkD9",
    "outputId": "1dcea68a-7e9c-4dc9-cb9a-21ba75880a65"
   },
   "outputs": [
    {
     "data": {
      "text/html": [
       "<div>\n",
       "<style scoped>\n",
       "    .dataframe tbody tr th:only-of-type {\n",
       "        vertical-align: middle;\n",
       "    }\n",
       "\n",
       "    .dataframe tbody tr th {\n",
       "        vertical-align: top;\n",
       "    }\n",
       "\n",
       "    .dataframe thead th {\n",
       "        text-align: right;\n",
       "    }\n",
       "</style>\n",
       "<table border=\"1\" class=\"dataframe\">\n",
       "  <thead>\n",
       "    <tr style=\"text-align: right;\">\n",
       "      <th></th>\n",
       "      <th>customerid</th>\n",
       "      <th>internetservice</th>\n",
       "      <th>onlinesecurity</th>\n",
       "      <th>onlinebackup</th>\n",
       "      <th>deviceprotection</th>\n",
       "      <th>techsupport</th>\n",
       "      <th>streamingtv</th>\n",
       "      <th>streamingmovies</th>\n",
       "    </tr>\n",
       "  </thead>\n",
       "  <tbody>\n",
       "    <tr>\n",
       "      <th>0</th>\n",
       "      <td>7590-VHVEG</td>\n",
       "      <td>DSL</td>\n",
       "      <td>No</td>\n",
       "      <td>Yes</td>\n",
       "      <td>No</td>\n",
       "      <td>No</td>\n",
       "      <td>No</td>\n",
       "      <td>No</td>\n",
       "    </tr>\n",
       "    <tr>\n",
       "      <th>1</th>\n",
       "      <td>5575-GNVDE</td>\n",
       "      <td>DSL</td>\n",
       "      <td>Yes</td>\n",
       "      <td>No</td>\n",
       "      <td>Yes</td>\n",
       "      <td>No</td>\n",
       "      <td>No</td>\n",
       "      <td>No</td>\n",
       "    </tr>\n",
       "    <tr>\n",
       "      <th>2</th>\n",
       "      <td>3668-QPYBK</td>\n",
       "      <td>DSL</td>\n",
       "      <td>Yes</td>\n",
       "      <td>Yes</td>\n",
       "      <td>No</td>\n",
       "      <td>No</td>\n",
       "      <td>No</td>\n",
       "      <td>No</td>\n",
       "    </tr>\n",
       "    <tr>\n",
       "      <th>3</th>\n",
       "      <td>7795-CFOCW</td>\n",
       "      <td>DSL</td>\n",
       "      <td>Yes</td>\n",
       "      <td>No</td>\n",
       "      <td>Yes</td>\n",
       "      <td>Yes</td>\n",
       "      <td>No</td>\n",
       "      <td>No</td>\n",
       "    </tr>\n",
       "    <tr>\n",
       "      <th>4</th>\n",
       "      <td>9237-HQITU</td>\n",
       "      <td>Fiber optic</td>\n",
       "      <td>No</td>\n",
       "      <td>No</td>\n",
       "      <td>No</td>\n",
       "      <td>No</td>\n",
       "      <td>No</td>\n",
       "      <td>No</td>\n",
       "    </tr>\n",
       "  </tbody>\n",
       "</table>\n",
       "</div>"
      ],
      "text/plain": [
       "0  customerid internetservice onlinesecurity onlinebackup deviceprotection  \\\n",
       "0  7590-VHVEG             DSL             No          Yes               No   \n",
       "1  5575-GNVDE             DSL            Yes           No              Yes   \n",
       "2  3668-QPYBK             DSL            Yes          Yes               No   \n",
       "3  7795-CFOCW             DSL            Yes           No              Yes   \n",
       "4  9237-HQITU     Fiber optic             No           No               No   \n",
       "\n",
       "0 techsupport streamingtv streamingmovies  \n",
       "0          No          No              No  \n",
       "1          No          No              No  \n",
       "2          No          No              No  \n",
       "3         Yes          No              No  \n",
       "4          No          No              No  "
      ]
     },
     "execution_count": 37,
     "metadata": {},
     "output_type": "execute_result"
    }
   ],
   "source": [
    "internet.head()"
   ]
  },
  {
   "cell_type": "markdown",
   "metadata": {
    "id": "bE0mxUftttzc"
   },
   "source": [
    "Таблица содержит информацию об интернет-услугах.\n",
    "1. customerID — ID пользователя;\n",
    "2. InternetService — тип подключения;\n",
    "3. OnlineSecurity — блокировка опасных сайтов;\n",
    "4. OnlineBackup — облачное хранилище файлов для резервного копирования данных;\n",
    "5. DeviceProtection — антивирус;\n",
    "6. TechSupport — выделенная линия технической поддержки;\n",
    "7. StreamingTV — стриминговое телевидение;\n",
    "8. StreamingMovies — каталог фильмов."
   ]
  },
  {
   "cell_type": "code",
   "execution_count": 38,
   "metadata": {
    "colab": {
     "base_uri": "https://localhost:8080/"
    },
    "id": "8qCYO1kppnsD",
    "outputId": "4390350d-de36-469d-aad4-47fc35ec5ae0"
   },
   "outputs": [
    {
     "name": "stdout",
     "output_type": "stream",
     "text": [
      "<class 'pandas.core.frame.DataFrame'>\n",
      "RangeIndex: 5517 entries, 0 to 5516\n",
      "Data columns (total 8 columns):\n",
      " #   Column            Non-Null Count  Dtype \n",
      "---  ------            --------------  ----- \n",
      " 0   customerid        5517 non-null   object\n",
      " 1   internetservice   5517 non-null   object\n",
      " 2   onlinesecurity    5517 non-null   object\n",
      " 3   onlinebackup      5517 non-null   object\n",
      " 4   deviceprotection  5517 non-null   object\n",
      " 5   techsupport       5517 non-null   object\n",
      " 6   streamingtv       5517 non-null   object\n",
      " 7   streamingmovies   5517 non-null   object\n",
      "dtypes: object(8)\n",
      "memory usage: 344.9+ KB\n"
     ]
    }
   ],
   "source": [
    "internet.info()"
   ]
  },
  {
   "cell_type": "markdown",
   "metadata": {
    "id": "ixw69-00zNeD"
   },
   "source": [
    "строчек в этой таблице меньше, чем в предыдущих. Вероятно, это связано с тем, что остальные абоненты не пользуются этой услугой."
   ]
  },
  {
   "cell_type": "code",
   "execution_count": 39,
   "metadata": {
    "colab": {
     "base_uri": "https://localhost:8080/"
    },
    "id": "rBDindoZpo32",
    "outputId": "4f71c2be-f5c2-4d8b-d5c5-ee8b50b29e5c"
   },
   "outputs": [
    {
     "data": {
      "text/plain": [
       "0"
      ]
     },
     "execution_count": 39,
     "metadata": {},
     "output_type": "execute_result"
    }
   ],
   "source": [
    "internet.duplicated().sum()"
   ]
  },
  {
   "cell_type": "code",
   "execution_count": 40,
   "metadata": {
    "colab": {
     "base_uri": "https://localhost:8080/"
    },
    "id": "jmXIRg_tpxg0",
    "outputId": "3cd38bde-72c3-4cb8-ccad-394b64599fc2"
   },
   "outputs": [
    {
     "data": {
      "text/plain": [
       "Fiber optic    3096\n",
       "DSL            2421\n",
       "Name: internetservice, dtype: int64"
      ]
     },
     "execution_count": 40,
     "metadata": {},
     "output_type": "execute_result"
    }
   ],
   "source": [
    "internet['internetservice'].value_counts()"
   ]
  },
  {
   "cell_type": "code",
   "execution_count": 41,
   "metadata": {
    "colab": {
     "base_uri": "https://localhost:8080/"
    },
    "id": "KYdyrWk-qoSm",
    "outputId": "49e89e88-5dd9-4127-cb80-f20cfff77c89"
   },
   "outputs": [
    {
     "data": {
      "text/plain": [
       "No     3498\n",
       "Yes    2019\n",
       "Name: onlinesecurity, dtype: int64"
      ]
     },
     "execution_count": 41,
     "metadata": {},
     "output_type": "execute_result"
    }
   ],
   "source": [
    "internet['onlinesecurity'].value_counts()"
   ]
  },
  {
   "cell_type": "code",
   "execution_count": 42,
   "metadata": {
    "colab": {
     "base_uri": "https://localhost:8080/"
    },
    "id": "jr_ssYvv4O4r",
    "outputId": "7f6d5acd-f6f3-43b3-c117-23bf13aa06f8"
   },
   "outputs": [
    {
     "data": {
      "text/plain": [
       "No     3088\n",
       "Yes    2429\n",
       "Name: onlinebackup, dtype: int64"
      ]
     },
     "execution_count": 42,
     "metadata": {},
     "output_type": "execute_result"
    }
   ],
   "source": [
    "internet['onlinebackup'].value_counts()"
   ]
  },
  {
   "cell_type": "code",
   "execution_count": 43,
   "metadata": {
    "colab": {
     "base_uri": "https://localhost:8080/"
    },
    "id": "nV-ZcdYy4UFG",
    "outputId": "5afdbac4-3005-466b-b6ce-34aad4a6f709"
   },
   "outputs": [
    {
     "data": {
      "text/plain": [
       "No     3095\n",
       "Yes    2422\n",
       "Name: deviceprotection, dtype: int64"
      ]
     },
     "execution_count": 43,
     "metadata": {},
     "output_type": "execute_result"
    }
   ],
   "source": [
    "internet['deviceprotection'].value_counts()"
   ]
  },
  {
   "cell_type": "code",
   "execution_count": 44,
   "metadata": {
    "colab": {
     "base_uri": "https://localhost:8080/"
    },
    "id": "inu4ZDkc4U1f",
    "outputId": "2bc2c09d-86b9-4fbe-e727-0ef97a3a762e"
   },
   "outputs": [
    {
     "data": {
      "text/plain": [
       "No     3473\n",
       "Yes    2044\n",
       "Name: techsupport, dtype: int64"
      ]
     },
     "execution_count": 44,
     "metadata": {},
     "output_type": "execute_result"
    }
   ],
   "source": [
    "internet['techsupport'].value_counts()"
   ]
  },
  {
   "cell_type": "code",
   "execution_count": 45,
   "metadata": {
    "colab": {
     "base_uri": "https://localhost:8080/"
    },
    "id": "i1vlCTln4Urx",
    "outputId": "037ca714-ea19-4eee-8852-93f222645dcc"
   },
   "outputs": [
    {
     "data": {
      "text/plain": [
       "No     2810\n",
       "Yes    2707\n",
       "Name: streamingtv, dtype: int64"
      ]
     },
     "execution_count": 45,
     "metadata": {},
     "output_type": "execute_result"
    }
   ],
   "source": [
    "internet['streamingtv'].value_counts()"
   ]
  },
  {
   "cell_type": "code",
   "execution_count": 46,
   "metadata": {
    "colab": {
     "base_uri": "https://localhost:8080/"
    },
    "id": "fv-6UA8e4Uhn",
    "outputId": "47ce49c9-0542-4c8a-81dc-5e4dc577042a"
   },
   "outputs": [
    {
     "data": {
      "text/plain": [
       "No     2785\n",
       "Yes    2732\n",
       "Name: streamingmovies, dtype: int64"
      ]
     },
     "execution_count": 46,
     "metadata": {},
     "output_type": "execute_result"
    }
   ],
   "source": [
    "internet['streamingmovies'].value_counts()"
   ]
  },
  {
   "cell_type": "markdown",
   "metadata": {
    "id": "MCTqjrWAzQfm"
   },
   "source": [
    "Пропусков и дубликатов нет."
   ]
  },
  {
   "cell_type": "markdown",
   "metadata": {
    "id": "b09qQax54w37"
   },
   "source": [
    "## 2.4 Phone"
   ]
  },
  {
   "cell_type": "code",
   "execution_count": 47,
   "metadata": {
    "colab": {
     "base_uri": "https://localhost:8080/",
     "height": 0
    },
    "id": "WxJnUZkZ40DI",
    "outputId": "e15a106b-bd43-43cb-f42b-87311acce295"
   },
   "outputs": [
    {
     "data": {
      "text/html": [
       "<div>\n",
       "<style scoped>\n",
       "    .dataframe tbody tr th:only-of-type {\n",
       "        vertical-align: middle;\n",
       "    }\n",
       "\n",
       "    .dataframe tbody tr th {\n",
       "        vertical-align: top;\n",
       "    }\n",
       "\n",
       "    .dataframe thead th {\n",
       "        text-align: right;\n",
       "    }\n",
       "</style>\n",
       "<table border=\"1\" class=\"dataframe\">\n",
       "  <thead>\n",
       "    <tr style=\"text-align: right;\">\n",
       "      <th></th>\n",
       "      <th>customerid</th>\n",
       "      <th>multiplelines</th>\n",
       "    </tr>\n",
       "  </thead>\n",
       "  <tbody>\n",
       "    <tr>\n",
       "      <th>0</th>\n",
       "      <td>5575-GNVDE</td>\n",
       "      <td>No</td>\n",
       "    </tr>\n",
       "    <tr>\n",
       "      <th>1</th>\n",
       "      <td>3668-QPYBK</td>\n",
       "      <td>No</td>\n",
       "    </tr>\n",
       "    <tr>\n",
       "      <th>2</th>\n",
       "      <td>9237-HQITU</td>\n",
       "      <td>No</td>\n",
       "    </tr>\n",
       "    <tr>\n",
       "      <th>3</th>\n",
       "      <td>9305-CDSKC</td>\n",
       "      <td>Yes</td>\n",
       "    </tr>\n",
       "    <tr>\n",
       "      <th>4</th>\n",
       "      <td>1452-KIOVK</td>\n",
       "      <td>Yes</td>\n",
       "    </tr>\n",
       "  </tbody>\n",
       "</table>\n",
       "</div>"
      ],
      "text/plain": [
       "0  customerid multiplelines\n",
       "0  5575-GNVDE            No\n",
       "1  3668-QPYBK            No\n",
       "2  9237-HQITU            No\n",
       "3  9305-CDSKC           Yes\n",
       "4  1452-KIOVK           Yes"
      ]
     },
     "execution_count": 47,
     "metadata": {},
     "output_type": "execute_result"
    }
   ],
   "source": [
    "phone.head()"
   ]
  },
  {
   "cell_type": "markdown",
   "metadata": {
    "id": "_g2S8DJjz4_T"
   },
   "source": [
    "В этой таблице содержится информация об услугах телефонии.\n",
    "1. customerID — ID пользователя;\n",
    "2. MultipleLines — подключение телефона к нескольким линиям одновременно."
   ]
  },
  {
   "cell_type": "code",
   "execution_count": 48,
   "metadata": {
    "colab": {
     "base_uri": "https://localhost:8080/"
    },
    "id": "JfSiAG9R43EV",
    "outputId": "4edd80f5-f444-404d-a46d-e687c5dfb794"
   },
   "outputs": [
    {
     "name": "stdout",
     "output_type": "stream",
     "text": [
      "<class 'pandas.core.frame.DataFrame'>\n",
      "RangeIndex: 6361 entries, 0 to 6360\n",
      "Data columns (total 2 columns):\n",
      " #   Column         Non-Null Count  Dtype \n",
      "---  ------         --------------  ----- \n",
      " 0   customerid     6361 non-null   object\n",
      " 1   multiplelines  6361 non-null   object\n",
      "dtypes: object(2)\n",
      "memory usage: 99.5+ KB\n"
     ]
    }
   ],
   "source": [
    "phone.info()"
   ]
  },
  {
   "cell_type": "markdown",
   "metadata": {
    "id": "0dhgAj_g0eQE"
   },
   "source": [
    "как и в случае с интернетом, строк меньше, чем записей об абонентах"
   ]
  },
  {
   "cell_type": "code",
   "execution_count": 49,
   "metadata": {
    "colab": {
     "base_uri": "https://localhost:8080/"
    },
    "id": "s39WsBGp46G8",
    "outputId": "bfe03e71-fd3e-4abb-bd3f-5f58e88ed724"
   },
   "outputs": [
    {
     "data": {
      "text/plain": [
       "0"
      ]
     },
     "execution_count": 49,
     "metadata": {},
     "output_type": "execute_result"
    }
   ],
   "source": [
    "phone.duplicated().sum()"
   ]
  },
  {
   "cell_type": "code",
   "execution_count": 50,
   "metadata": {
    "colab": {
     "base_uri": "https://localhost:8080/"
    },
    "id": "IaLOqY6s4_8q",
    "outputId": "82cc4a78-42eb-41f0-9800-ac64cf6bab95"
   },
   "outputs": [
    {
     "data": {
      "text/plain": [
       "No     3390\n",
       "Yes    2971\n",
       "Name: multiplelines, dtype: int64"
      ]
     },
     "execution_count": 50,
     "metadata": {},
     "output_type": "execute_result"
    }
   ],
   "source": [
    "phone['multiplelines'].value_counts()"
   ]
  },
  {
   "cell_type": "markdown",
   "metadata": {
    "id": "qFrU6qHb3ZPb"
   },
   "source": [
    "## 2.5 Объединение таблиц"
   ]
  },
  {
   "cell_type": "markdown",
   "metadata": {
    "id": "WTZBNdTA0oZK"
   },
   "source": [
    "Объединим таблицы по столбцу customerid, но основе таблицы с контрактами."
   ]
  },
  {
   "cell_type": "code",
   "execution_count": 51,
   "metadata": {
    "id": "7FAGgsgV3YSY"
   },
   "outputs": [],
   "source": [
    "data = personal.merge(contract, how='left', on='customerid').merge(internet, how='left', on='customerid').merge(phone, how='left', on='customerid')"
   ]
  },
  {
   "cell_type": "code",
   "execution_count": 52,
   "metadata": {
    "colab": {
     "base_uri": "https://localhost:8080/",
     "height": 409
    },
    "id": "Ks0JVIFo4GX3",
    "outputId": "6fafcf71-ea84-4afd-8df6-db45bf2c6169"
   },
   "outputs": [
    {
     "data": {
      "text/html": [
       "<div>\n",
       "<style scoped>\n",
       "    .dataframe tbody tr th:only-of-type {\n",
       "        vertical-align: middle;\n",
       "    }\n",
       "\n",
       "    .dataframe tbody tr th {\n",
       "        vertical-align: top;\n",
       "    }\n",
       "\n",
       "    .dataframe thead th {\n",
       "        text-align: right;\n",
       "    }\n",
       "</style>\n",
       "<table border=\"1\" class=\"dataframe\">\n",
       "  <thead>\n",
       "    <tr style=\"text-align: right;\">\n",
       "      <th></th>\n",
       "      <th>customerid</th>\n",
       "      <th>gender</th>\n",
       "      <th>seniorcitizen</th>\n",
       "      <th>partner</th>\n",
       "      <th>dependents</th>\n",
       "      <th>begindate</th>\n",
       "      <th>enddate</th>\n",
       "      <th>type</th>\n",
       "      <th>paperlessbilling</th>\n",
       "      <th>paymentmethod</th>\n",
       "      <th>monthlycharges</th>\n",
       "      <th>totalcharges</th>\n",
       "      <th>internetservice</th>\n",
       "      <th>onlinesecurity</th>\n",
       "      <th>onlinebackup</th>\n",
       "      <th>deviceprotection</th>\n",
       "      <th>techsupport</th>\n",
       "      <th>streamingtv</th>\n",
       "      <th>streamingmovies</th>\n",
       "      <th>multiplelines</th>\n",
       "    </tr>\n",
       "  </thead>\n",
       "  <tbody>\n",
       "    <tr>\n",
       "      <th>0</th>\n",
       "      <td>7590-VHVEG</td>\n",
       "      <td>Female</td>\n",
       "      <td>0</td>\n",
       "      <td>Yes</td>\n",
       "      <td>No</td>\n",
       "      <td>2019-04-29</td>\n",
       "      <td>NaT</td>\n",
       "      <td>Month-to-month</td>\n",
       "      <td>Yes</td>\n",
       "      <td>Electronic check</td>\n",
       "      <td>29.85</td>\n",
       "      <td>29.85</td>\n",
       "      <td>DSL</td>\n",
       "      <td>No</td>\n",
       "      <td>Yes</td>\n",
       "      <td>No</td>\n",
       "      <td>No</td>\n",
       "      <td>No</td>\n",
       "      <td>No</td>\n",
       "      <td>NaN</td>\n",
       "    </tr>\n",
       "    <tr>\n",
       "      <th>1</th>\n",
       "      <td>5575-GNVDE</td>\n",
       "      <td>Male</td>\n",
       "      <td>0</td>\n",
       "      <td>No</td>\n",
       "      <td>No</td>\n",
       "      <td>2019-03-26</td>\n",
       "      <td>NaT</td>\n",
       "      <td>One year</td>\n",
       "      <td>No</td>\n",
       "      <td>Mailed check</td>\n",
       "      <td>56.95</td>\n",
       "      <td>1889.50</td>\n",
       "      <td>DSL</td>\n",
       "      <td>Yes</td>\n",
       "      <td>No</td>\n",
       "      <td>Yes</td>\n",
       "      <td>No</td>\n",
       "      <td>No</td>\n",
       "      <td>No</td>\n",
       "      <td>No</td>\n",
       "    </tr>\n",
       "    <tr>\n",
       "      <th>2</th>\n",
       "      <td>3668-QPYBK</td>\n",
       "      <td>Male</td>\n",
       "      <td>0</td>\n",
       "      <td>No</td>\n",
       "      <td>No</td>\n",
       "      <td>2018-08-09</td>\n",
       "      <td>2019-12-01</td>\n",
       "      <td>Month-to-month</td>\n",
       "      <td>Yes</td>\n",
       "      <td>Mailed check</td>\n",
       "      <td>53.85</td>\n",
       "      <td>108.15</td>\n",
       "      <td>DSL</td>\n",
       "      <td>Yes</td>\n",
       "      <td>Yes</td>\n",
       "      <td>No</td>\n",
       "      <td>No</td>\n",
       "      <td>No</td>\n",
       "      <td>No</td>\n",
       "      <td>No</td>\n",
       "    </tr>\n",
       "    <tr>\n",
       "      <th>3</th>\n",
       "      <td>7795-CFOCW</td>\n",
       "      <td>Male</td>\n",
       "      <td>0</td>\n",
       "      <td>No</td>\n",
       "      <td>No</td>\n",
       "      <td>2018-12-22</td>\n",
       "      <td>NaT</td>\n",
       "      <td>One year</td>\n",
       "      <td>No</td>\n",
       "      <td>Bank transfer (automatic)</td>\n",
       "      <td>42.30</td>\n",
       "      <td>1840.75</td>\n",
       "      <td>DSL</td>\n",
       "      <td>Yes</td>\n",
       "      <td>No</td>\n",
       "      <td>Yes</td>\n",
       "      <td>Yes</td>\n",
       "      <td>No</td>\n",
       "      <td>No</td>\n",
       "      <td>NaN</td>\n",
       "    </tr>\n",
       "    <tr>\n",
       "      <th>4</th>\n",
       "      <td>9237-HQITU</td>\n",
       "      <td>Female</td>\n",
       "      <td>0</td>\n",
       "      <td>No</td>\n",
       "      <td>No</td>\n",
       "      <td>2019-01-26</td>\n",
       "      <td>2019-11-01</td>\n",
       "      <td>Month-to-month</td>\n",
       "      <td>Yes</td>\n",
       "      <td>Electronic check</td>\n",
       "      <td>70.70</td>\n",
       "      <td>151.65</td>\n",
       "      <td>Fiber optic</td>\n",
       "      <td>No</td>\n",
       "      <td>No</td>\n",
       "      <td>No</td>\n",
       "      <td>No</td>\n",
       "      <td>No</td>\n",
       "      <td>No</td>\n",
       "      <td>No</td>\n",
       "    </tr>\n",
       "  </tbody>\n",
       "</table>\n",
       "</div>"
      ],
      "text/plain": [
       "   customerid  gender  seniorcitizen partner dependents  begindate    enddate  \\\n",
       "0  7590-VHVEG  Female              0     Yes         No 2019-04-29        NaT   \n",
       "1  5575-GNVDE    Male              0      No         No 2019-03-26        NaT   \n",
       "2  3668-QPYBK    Male              0      No         No 2018-08-09 2019-12-01   \n",
       "3  7795-CFOCW    Male              0      No         No 2018-12-22        NaT   \n",
       "4  9237-HQITU  Female              0      No         No 2019-01-26 2019-11-01   \n",
       "\n",
       "             type paperlessbilling              paymentmethod  monthlycharges  \\\n",
       "0  Month-to-month              Yes           Electronic check           29.85   \n",
       "1        One year               No               Mailed check           56.95   \n",
       "2  Month-to-month              Yes               Mailed check           53.85   \n",
       "3        One year               No  Bank transfer (automatic)           42.30   \n",
       "4  Month-to-month              Yes           Electronic check           70.70   \n",
       "\n",
       "   totalcharges internetservice onlinesecurity onlinebackup deviceprotection  \\\n",
       "0         29.85             DSL             No          Yes               No   \n",
       "1       1889.50             DSL            Yes           No              Yes   \n",
       "2        108.15             DSL            Yes          Yes               No   \n",
       "3       1840.75             DSL            Yes           No              Yes   \n",
       "4        151.65     Fiber optic             No           No               No   \n",
       "\n",
       "  techsupport streamingtv streamingmovies multiplelines  \n",
       "0          No          No              No           NaN  \n",
       "1          No          No              No            No  \n",
       "2          No          No              No            No  \n",
       "3         Yes          No              No           NaN  \n",
       "4          No          No              No            No  "
      ]
     },
     "execution_count": 52,
     "metadata": {},
     "output_type": "execute_result"
    }
   ],
   "source": [
    "data.head()"
   ]
  },
  {
   "cell_type": "code",
   "execution_count": 53,
   "metadata": {
    "colab": {
     "base_uri": "https://localhost:8080/"
    },
    "id": "qUwgidKAXG4M",
    "outputId": "3a1b55e9-d8a2-4ec4-88ec-34a1c8536e2f",
    "scrolled": true
   },
   "outputs": [
    {
     "name": "stdout",
     "output_type": "stream",
     "text": [
      "<class 'pandas.core.frame.DataFrame'>\n",
      "Int64Index: 7043 entries, 0 to 7042\n",
      "Data columns (total 20 columns):\n",
      " #   Column            Non-Null Count  Dtype         \n",
      "---  ------            --------------  -----         \n",
      " 0   customerid        7043 non-null   object        \n",
      " 1   gender            7043 non-null   object        \n",
      " 2   seniorcitizen     7043 non-null   int64         \n",
      " 3   partner           7043 non-null   object        \n",
      " 4   dependents        7043 non-null   object        \n",
      " 5   begindate         7043 non-null   datetime64[ns]\n",
      " 6   enddate           1869 non-null   datetime64[ns]\n",
      " 7   type              7043 non-null   object        \n",
      " 8   paperlessbilling  7043 non-null   object        \n",
      " 9   paymentmethod     7043 non-null   object        \n",
      " 10  monthlycharges    7043 non-null   float64       \n",
      " 11  totalcharges      7032 non-null   float64       \n",
      " 12  internetservice   5517 non-null   object        \n",
      " 13  onlinesecurity    5517 non-null   object        \n",
      " 14  onlinebackup      5517 non-null   object        \n",
      " 15  deviceprotection  5517 non-null   object        \n",
      " 16  techsupport       5517 non-null   object        \n",
      " 17  streamingtv       5517 non-null   object        \n",
      " 18  streamingmovies   5517 non-null   object        \n",
      " 19  multiplelines     6361 non-null   object        \n",
      "dtypes: datetime64[ns](2), float64(2), int64(1), object(15)\n",
      "memory usage: 1.1+ MB\n"
     ]
    }
   ],
   "source": [
    "data.info()"
   ]
  },
  {
   "cell_type": "markdown",
   "metadata": {
    "id": "vyGaljn203R9"
   },
   "source": [
    "Выделим из полей с датами целевую переменную. А затем заполним пропуски в поле даты завершения договора первым февраля 2020, т.к. имеющаяся информация по договорам актуальная именно на эту дату."
   ]
  },
  {
   "cell_type": "code",
   "execution_count": 54,
   "metadata": {
    "id": "pp5KAleB5kAt"
   },
   "outputs": [],
   "source": [
    "data['break'] = 0\n",
    "data['break'].where(data['enddate'].isna(), 1, inplace=True) \n",
    "data['enddate'].fillna(pd.to_datetime('2021-02-01', format='%Y-%m-%d %H:%M:%S.%f'), inplace=True)"
   ]
  },
  {
   "cell_type": "code",
   "execution_count": 55,
   "metadata": {},
   "outputs": [
    {
     "data": {
      "text/plain": [
       "0    5174\n",
       "1    1869\n",
       "Name: break, dtype: int64"
      ]
     },
     "execution_count": 55,
     "metadata": {},
     "output_type": "execute_result"
    }
   ],
   "source": [
    "data['break'].value_counts()"
   ]
  },
  {
   "cell_type": "markdown",
   "metadata": {},
   "source": [
    "Выборка дисбалансирована. Действующих договоров в 2.77 раз больше расторгнутых."
   ]
  },
  {
   "cell_type": "markdown",
   "metadata": {
    "id": "BQI5MU5T1lhN"
   },
   "source": [
    "вычислим продолжительность контракта для бывших и действующихх клиентов."
   ]
  },
  {
   "cell_type": "code",
   "execution_count": 56,
   "metadata": {
    "id": "UOvVOxCR8Uq7",
    "scrolled": true
   },
   "outputs": [],
   "source": [
    "data['duration'] = [(data.loc[x]['enddate']-data.loc[x]['begindate']).days for x in range(len(data))]"
   ]
  },
  {
   "cell_type": "markdown",
   "metadata": {
    "id": "X8iy4Tpc1t5Q"
   },
   "source": [
    "Проверим есть ли абоненты с пропусками и в интернет-услугах, и в телефонии. Если нет, то это может считаться подтверждением идеи, что пропуски связаны с тем, что услуга просто не используется."
   ]
  },
  {
   "cell_type": "code",
   "execution_count": 57,
   "metadata": {
    "colab": {
     "base_uri": "https://localhost:8080/"
    },
    "id": "bZVgv8UzYbOE",
    "outputId": "6c96ea66-bc72-49d8-83e5-20b01a473761"
   },
   "outputs": [
    {
     "data": {
      "text/plain": [
       "0"
      ]
     },
     "execution_count": 57,
     "metadata": {},
     "output_type": "execute_result"
    }
   ],
   "source": [
    "len(data[data['internetservice'].isna() & data['multiplelines'].isna()])"
   ]
  },
  {
   "cell_type": "markdown",
   "metadata": {
    "id": "bo_5Dzsu2CFN"
   },
   "source": [
    "Таких строк нет, можно будет заполнить пропуски соответствующим способом."
   ]
  },
  {
   "cell_type": "markdown",
   "metadata": {
    "id": "yrUF5ert2Ic8"
   },
   "source": [
    "проверим распределение по целевым классам данных по продолжительности договора.\n",
    "Будем использовать параметр density, что бы количественное распределение классов не повлияло на наглядность."
   ]
  },
  {
   "cell_type": "code",
   "execution_count": 58,
   "metadata": {
    "colab": {
     "base_uri": "https://localhost:8080/",
     "height": 445
    },
    "id": "P1NYVdd2-n83",
    "outputId": "8f938944-1f08-4ac4-9873-f146ca6fa133"
   },
   "outputs": [
    {
     "data": {
      "image/png": "[encoded data removed]",
      "text/plain": [
       "<Figure size 504x360 with 1 Axes>"
      ]
     },
     "metadata": {
      "needs_background": "light"
     },
     "output_type": "display_data"
    }
   ],
   "source": [
    "fig, ax = plt.subplots(1,1, figsize=(7,5))\n",
    "ax.hist(data[data['break']==0]['duration'], bins=50, fc=(0, 0, 1, 0.5), density=True)\n",
    "ax.hist(data[data['break']==1]['duration'], bins=50, fc=(1, 0, 0, 0.5), density=True)\n",
    "ax.legend(['current', 'terminated'])\n",
    "plt.title('Duration', fontsize=12)\n",
    "plt.show()"
   ]
  },
  {
   "cell_type": "markdown",
   "metadata": {
    "id": "Gyu8pBcS3Vlj"
   },
   "source": [
    "Разделение довольно очевидно. Большинство разрывающих договор делают это в первый год использования."
   ]
  },
  {
   "cell_type": "code",
   "execution_count": 59,
   "metadata": {
    "colab": {
     "base_uri": "https://localhost:8080/",
     "height": 462
    },
    "id": "SVXgpdUpAcUy",
    "outputId": "b3487ece-6f0a-448f-cd51-e117bb4b29ea"
   },
   "outputs": [
    {
     "data": {
      "image/png": "[encoded data removed]",
      "text/plain": [
       "<Figure size 504x360 with 1 Axes>"
      ]
     },
     "metadata": {
      "needs_background": "light"
     },
     "output_type": "display_data"
    }
   ],
   "source": [
    "fig, ax = plt.subplots(1,1, figsize=(7,5))\n",
    "ax.hist(data[data['break']==0]['monthlycharges'], bins=50, fc=(0, 0, 1, 0.5), density=True, label='break')\n",
    "ax.hist(data[data['break']==1]['monthlycharges'], bins=50, fc=(1, 0, 0, 0.5), density=True, label='unbreak')\n",
    "ax.legend(['current', 'terminated'])\n",
    "plt.title('monthly charges', fontsize=12)\n",
    "plt.show()"
   ]
  },
  {
   "cell_type": "markdown",
   "metadata": {
    "id": "FUQFRo2i3t1W"
   },
   "source": [
    "Можно отметить, что чаще разрывают договор клиенты с большей ежемесячной стоимостью услуг."
   ]
  },
  {
   "cell_type": "code",
   "execution_count": 60,
   "metadata": {
    "colab": {
     "base_uri": "https://localhost:8080/",
     "height": 462
    },
    "id": "e3wD6KzwB7ya",
    "outputId": "82720d31-0392-4c49-89fe-139bed29056d"
   },
   "outputs": [
    {
     "data": {
      "image/png": "[encoded data removed]",
      "text/plain": [
       "<Figure size 504x360 with 1 Axes>"
      ]
     },
     "metadata": {
      "needs_background": "light"
     },
     "output_type": "display_data"
    }
   ],
   "source": [
    "fig, ax = plt.subplots(1,1, figsize=(7,5))\n",
    "ax.hist(data[data['break']==0]['totalcharges'], bins=50, fc=(0, 0, 1, 0.5), density=True)\n",
    "ax.hist(data[data['break']==1]['totalcharges'], bins=50, fc=(1, 0, 0, 0.5), density=True)\n",
    "ax.legend(['current', 'terminated'])\n",
    "plt.title('total charges', fontsize=12)\n",
    "plt.show()"
   ]
  },
  {
   "cell_type": "markdown",
   "metadata": {
    "id": "mar7BeB24DQQ"
   },
   "source": [
    "График общих затрат по мере увеличения суммы становися более синим, что лгично, т.к. те, кто разрывают контракт раньше не успевают накопить большую сумму затрат."
   ]
  },
  {
   "cell_type": "code",
   "execution_count": 61,
   "metadata": {
    "id": "2NVEhmMBOYg8"
   },
   "outputs": [],
   "source": [
    "cols = data.columns.drop(['customerid', 'begindate', 'enddate', 'break', 'duration', 'monthlycharges', 'totalcharges',]) #категориальные фичи для визуализации"
   ]
  },
  {
   "cell_type": "markdown",
   "metadata": {
    "id": "ayJYAljJ5LAz"
   },
   "source": [
    "Проверим распределение категориальных признаков в классах"
   ]
  },
  {
   "cell_type": "code",
   "execution_count": 62,
   "metadata": {
    "colab": {
     "base_uri": "https://localhost:8080/",
     "height": 1000
    },
    "id": "u8x_XhbnJi05",
    "outputId": "b0cbbdd9-481c-4427-f1b6-57beb01ee3a7"
   },
   "outputs": [
    {
     "data": {
      "image/png": "[encoded data removed]",
      "text/plain": [
       "<Figure size 1080x1800 with 15 Axes>"
      ]
     },
     "metadata": {
      "needs_background": "light"
     },
     "output_type": "display_data"
    }
   ],
   "source": [
    "fig = plt.figure(figsize=(15,25))\n",
    "for i in range(15):\n",
    "    fig.add_subplot(5, 3, i+1)\n",
    "    sns.countplot(data=data, x='break', hue=cols[i], palette=\"pastel\")\n",
    "    plt.yticks([])\n",
    "    plt.title(cols[i], fontsize=7)\n",
    "plt.show()\n",
    "\n"
   ]
  },
  {
   "cell_type": "markdown",
   "metadata": {
    "id": "3V_o8DY05eNM"
   },
   "source": [
    "Из интересного на мой взгляд:\n",
    "\n",
    "Наличие партнера. Клиенты, имеющие партнера менее склонны к разрыву контракта. Возможно, это связано с тем, что партнер так же является клиентом, и это просто удобнее. А может в общей надежности/консервативности людей в парах.\n",
    "\n",
    "Периодичность оплаты. Те кто платит за год-два тоже относятся к действующим клиентам. Но тут причинная связь совсем не очевидна. Вполне вероятно, что так оплатили те, кто после первого года обслуживания на ежемесячной оплате приняли решение остаться. Так же можно объединить год и два в один класс, снижаются они в зависимости от целевой переменной +/- пропорционально, относительно помесячной оплаты.\n",
    "\n",
    "Способ оплаты. Среди тех, кто прервал договор, подавляющее большинство оплачивало электронно.\n",
    "\n",
    "Тип подключения. Разорвавшие контракт клиенты чаще пользовались именно оптоволоконным кабелем.\n",
    "\n",
    "Безопасность. Использование дополнительных услуг (антивирус, блокировка опасных сайтов, выделенная линия технической поддержки, облачное хранилище файлов для резервного копирования данных) характерно для тех, кто задерживается в компании."
   ]
  },
  {
   "cell_type": "code",
   "execution_count": 63,
   "metadata": {
    "colab": {
     "base_uri": "https://localhost:8080/",
     "height": 942
    },
    "id": "F2J_Bdt8LQ9N",
    "outputId": "ff6ed41c-bbf3-4e46-ef3e-b4b1ba192929"
   },
   "outputs": [
    {
     "name": "stdout",
     "output_type": "stream",
     "text": [
      "interval columns not set, guessing: ['gender', 'seniorcitizen', 'partner', 'dependents', 'type', 'paperlessbilling', 'paymentmethod', 'internetservice', 'onlinesecurity', 'onlinebackup', 'deviceprotection', 'techsupport', 'streamingtv', 'streamingmovies', 'multiplelines', 'break']\n"
     ]
    },
    {
     "data": {
      "image/png": "[encoded data removed]",
      "text/plain": [
       "<Figure size 720x720 with 2 Axes>"
      ]
     },
     "metadata": {
      "needs_background": "light"
     },
     "output_type": "display_data"
    }
   ],
   "source": [
    "fig, ax = plt.subplots(1,1, figsize=(10,10))\n",
    "ax = sns.heatmap(data.drop(['customerid', 'enddate', 'begindate', 'monthlycharges', 'totalcharges', 'duration'], axis=1)\n",
    "                     .apply(lambda x : pd.factorize(x)[0]).phik_matrix(), \n",
    "                 annot=True, fmt=\".1f\", cmap=\"crest\", vmin=-1)\n",
    "plt.show()"
   ]
  },
  {
   "cell_type": "code",
   "execution_count": 64,
   "metadata": {},
   "outputs": [
    {
     "data": {
      "image/png": "[encoded data removed]",
      "text/plain": [
       "<Figure size 216x144 with 2 Axes>"
      ]
     },
     "metadata": {
      "needs_background": "light"
     },
     "output_type": "display_data"
    }
   ],
   "source": [
    "fig, ax = plt.subplots(1,1, figsize=(3,2))\n",
    "ax = sns.heatmap(data[['monthlycharges', 'totalcharges', 'duration']]\n",
    "                     .apply(lambda x : pd.factorize(x)[0]).corr(min_periods=1), \n",
    "                 annot=True, fmt=\".1f\", cmap=\"crest\", vmin=-1)\n",
    "plt.show()"
   ]
  },
  {
   "cell_type": "markdown",
   "metadata": {
    "id": "3J6EI_BZ8zsx"
   },
   "source": [
    "есть слабая взаимосвязь между наличием партнера и детей, продолжительностью договора и фактом его расторжения.\n",
    "\n",
    "Отдельно бросается в глаза довольно сильная линейная зависимость в блоке с интернет-услугами. Можно попробовать уменьшить рамерность, кластарезовав этот блок без потери в точности, а, возможно, и увеличить метрику за счет устранения коллинеарности."
   ]
  },
  {
   "cell_type": "markdown",
   "metadata": {
    "id": "tPsgBHynte15"
   },
   "source": [
    "## 2.6 Подготовка данных к обучению"
   ]
  },
  {
   "cell_type": "markdown",
   "metadata": {
    "id": "KWXMz2Zh-S6r"
   },
   "source": [
    "заполним пропуски в полях интернет-услуг и телефонии."
   ]
  },
  {
   "cell_type": "code",
   "execution_count": 65,
   "metadata": {
    "id": "tl83i3_2f1HZ"
   },
   "outputs": [],
   "source": [
    "[data[c].fillna('disable', inplace=True) for c in internet.columns]\n",
    "data['multiplelines'].fillna('disable', inplace=True)"
   ]
  },
  {
   "cell_type": "code",
   "execution_count": 66,
   "metadata": {
    "id": "aiRODq4IKXrb"
   },
   "outputs": [],
   "source": [
    "train_data, test_data = train_test_split(data, test_size=.25, random_state=RANDOM_STATE) # сразу отделим тестовую выборку, что бы на ней не обучались энкодеры и т.д."
   ]
  },
  {
   "cell_type": "code",
   "execution_count": 67,
   "metadata": {
    "id": "-a-5M4D7HnGF"
   },
   "outputs": [],
   "source": [
    "cat_col = data.columns.drop(['customerid', 'begindate', 'enddate', 'monthlycharges', # выделим список категориальных признаков\n",
    "                             'totalcharges', 'break', 'duration'])"
   ]
  },
  {
   "cell_type": "code",
   "execution_count": 68,
   "metadata": {
    "id": "p3npW9ctKNTa"
   },
   "outputs": [],
   "source": [
    "oe = OrdinalEncoder() # и переведем эти признаки в \"цифру\"\n",
    "train_data = pd.concat([train_data.drop(cat_col, axis=1), pd.DataFrame(oe.fit_transform(train_data[cat_col]), columns=cat_col)], axis=1)"
   ]
  },
  {
   "cell_type": "markdown",
   "metadata": {
    "id": "7UtbVkgG-vIe"
   },
   "source": [
    "Использовать OHE пока нецелесообразно. Первыми моделями будут древообразные, которые нормально работают с мультиклассом."
   ]
  },
  {
   "cell_type": "code",
   "execution_count": 69,
   "metadata": {
    "id": "Vl1xDY3QyGbc"
   },
   "outputs": [],
   "source": [
    "def y_extract(data, y_name, rand, size=0): #выделение из датасета целевого признака и разбиение данных на учебную и валидационную\n",
    "    target = data[y_name]\n",
    "    features = data.drop(y_name, axis=1)\n",
    "    if size>0:\n",
    "        X_train, X_valid, y_train, y_valid = train_test_split(features, target, test_size = size, random_state = rand)\n",
    "        for d in (X_train, X_valid, y_train, y_valid):\n",
    "            d.reset_index(drop=True, inplace=True)\n",
    "        return X_train, X_valid, y_train, y_valid\n",
    "    else: \n",
    "        return features, target"
   ]
  },
  {
   "cell_type": "markdown",
   "metadata": {
    "id": "JlnOefO6_AjA"
   },
   "source": [
    "Узалим столбцы, которые, по логике, не должны приниматься во внимание при обучении"
   ]
  },
  {
   "cell_type": "code",
   "execution_count": 70,
   "metadata": {
    "id": "ypNHWiaO4X8N"
   },
   "outputs": [],
   "source": [
    "train_data = train_data.drop(['customerid', 'begindate', 'enddate'], axis=1).dropna() "
   ]
  },
  {
   "cell_type": "code",
   "execution_count": 71,
   "metadata": {
    "id": "b12o-dthP2EM"
   },
   "outputs": [],
   "source": [
    "def data_testing(datat, yname, rs, vs=True): # функция для нагладного определения влияния фичей на предикт\n",
    "    X_train, X_valid, y_train, y_valid = y_extract(datat, yname, rs, size=.25)\n",
    "    model = DecisionTreeClassifier(random_state=rs)\n",
    "\n",
    "    model.fit(X_train, y_train)\n",
    "    predict = model.predict_proba(X_valid)[:,1]\n",
    "    \n",
    "    if vs:\n",
    "        tree_explainer = shap.TreeExplainer(model)\n",
    "        shap_val = tree_explainer.shap_values(X_valid)\n",
    "        shap.summary_plot(shap_val[1], X_valid)\n",
    "        print(roc_auc_score(y_valid, predict))\n",
    "    return roc_auc_score(y_valid, predict)"
   ]
  },
  {
   "cell_type": "code",
   "execution_count": 72,
   "metadata": {
    "colab": {
     "base_uri": "https://localhost:8080/",
     "height": 912
    },
    "id": "u1kE-Xj1QewK",
    "outputId": "10b2373a-daac-4882-c97f-d30a963b643e"
   },
   "outputs": [
    {
     "data": {
      "image/png": "[encoded data removed]",
      "text/plain": [
       "<Figure size 576x626.4 with 2 Axes>"
      ]
     },
     "metadata": {
      "needs_background": "light"
     },
     "output_type": "display_data"
    },
    {
     "name": "stdout",
     "output_type": "stream",
     "text": [
      "0.9827993219563431\n"
     ]
    },
    {
     "data": {
      "text/plain": [
       "0.9827993219563431"
      ]
     },
     "execution_count": 72,
     "metadata": {},
     "output_type": "execute_result"
    }
   ],
   "source": [
    "data_testing(train_data, 'break', RANDOM_STATE)"
   ]
  },
  {
   "cell_type": "markdown",
   "metadata": {
    "id": "YIQlpJET_cgX"
   },
   "source": [
    "Наибольшее влияние оказывает продолжительность договора. Дальше следует ежемесячная стоимость: чем выше сумма, тем выше вероятность разрыва договора.\n",
    "Затем общие затраты. Тут ситуация обратная: чем больше сумма, тем ниже вероятность разрыва. Но, как мне кажется, причинно-следственная связь обратная: чем дольше договор продолжается, тем большая сумма копится.\n",
    "\n",
    "Остальные фичи оказываю заметно меньшее влияние на предсказательную способность."
   ]
  },
  {
   "cell_type": "code",
   "execution_count": 73,
   "metadata": {
    "id": "IT9nuwgLPfby"
   },
   "outputs": [],
   "source": [
    "train_data = train_data.drop('totalcharges', axis=1)"
   ]
  },
  {
   "cell_type": "code",
   "execution_count": 74,
   "metadata": {
    "colab": {
     "base_uri": "https://localhost:8080/"
    },
    "id": "D946tOIpPwm1",
    "outputId": "c3c50c4b-7071-4a44-c335-1d0b09143367"
   },
   "outputs": [
    {
     "data": {
      "image/png": "[encoded data removed]",
      "text/plain": [
       "<Figure size 576x597.6 with 2 Axes>"
      ]
     },
     "metadata": {
      "needs_background": "light"
     },
     "output_type": "display_data"
    },
    {
     "name": "stdout",
     "output_type": "stream",
     "text": [
      "0.9734008257157416\n"
     ]
    },
    {
     "data": {
      "text/plain": [
       "0.9734008257157416"
      ]
     },
     "execution_count": 74,
     "metadata": {},
     "output_type": "execute_result"
    }
   ],
   "source": [
    "data_testing(train_data, 'break', RANDOM_STATE)"
   ]
  },
  {
   "cell_type": "markdown",
   "metadata": {
    "id": "PXG3a6WgBJgv"
   },
   "source": [
    "Кластеризуем поля связанные с интернет-услугами."
   ]
  },
  {
   "cell_type": "code",
   "execution_count": 75,
   "metadata": {
    "colab": {
     "base_uri": "https://localhost:8080/"
    },
    "id": "CaLn2ySESu2y",
    "outputId": "17776889-2008-4d7b-bd58-1ac76e1b785a"
   },
   "outputs": [
    {
     "name": "stderr",
     "output_type": "stream",
     "text": [
      "\n",
      "A value is trying to be set on a copy of a slice from a DataFrame.\n",
      "Try using .loc[row_indexer,col_indexer] = value instead\n",
      "\n",
      "See the caveats in the documentation: https://pandas.pydata.org/pandas-docs/stable/user_guide/indexing.html#returning-a-view-versus-a-copy\n"
     ]
    }
   ],
   "source": [
    "X = train_data[internet.columns.drop('customerid')]\n",
    "\n",
    "kmeans = KMeans(n_clusters=3)\n",
    "X[\"cluster\"] = kmeans.fit_predict(X)\n",
    "\n",
    "train_data['internet_cluster'] = X[\"cluster\"]\n",
    "train_data.drop(internet.columns.drop('customerid'), axis=1, inplace=True)"
   ]
  },
  {
   "cell_type": "code",
   "execution_count": 76,
   "metadata": {},
   "outputs": [
    {
     "data": {
      "image/png": "[encoded data removed]",
      "text/plain": [
       "<Figure size 576x424.8 with 2 Axes>"
      ]
     },
     "metadata": {
      "needs_background": "light"
     },
     "output_type": "display_data"
    },
    {
     "name": "stdout",
     "output_type": "stream",
     "text": [
      "0.9724076789484084\n"
     ]
    },
    {
     "data": {
      "text/plain": [
       "0.9724076789484084"
      ]
     },
     "execution_count": 76,
     "metadata": {},
     "output_type": "execute_result"
    }
   ],
   "source": [
    "data_testing(train_data, 'break', RANDOM_STATE)"
   ]
  },
  {
   "cell_type": "markdown",
   "metadata": {
    "id": "RMxxAgcWtv1Q"
   },
   "source": [
    "## 2.7 Подготовка тестовых данных"
   ]
  },
  {
   "cell_type": "markdown",
   "metadata": {
    "id": "O2ayDLPrB3vN"
   },
   "source": [
    "Аналогичным образом сразу подготовим тестовую выборку"
   ]
  },
  {
   "cell_type": "code",
   "execution_count": 77,
   "metadata": {
    "id": "52Wr9hM8o6eS"
   },
   "outputs": [],
   "source": [
    "test_data = test_data.drop(['customerid', 'begindate', 'enddate','totalcharges'], axis=1).dropna().reset_index(drop=True)####\n",
    "test_data = pd.concat([test_data.drop(cat_col, axis=1), pd.DataFrame(oe.transform(test_data[cat_col]), columns=cat_col)], axis=1)"
   ]
  },
  {
   "cell_type": "code",
   "execution_count": 78,
   "metadata": {
    "colab": {
     "base_uri": "https://localhost:8080/"
    },
    "id": "JRSpTvPIoRvk",
    "outputId": "47d00109-90be-4349-84fc-2ab422124451"
   },
   "outputs": [
    {
     "name": "stderr",
     "output_type": "stream",
     "text": [
      "\n",
      "A value is trying to be set on a copy of a slice from a DataFrame.\n",
      "Try using .loc[row_indexer,col_indexer] = value instead\n",
      "\n",
      "See the caveats in the documentation: https://pandas.pydata.org/pandas-docs/stable/user_guide/indexing.html#returning-a-view-versus-a-copy\n"
     ]
    }
   ],
   "source": [
    "X = test_data[internet.columns.drop('customerid')]\n",
    "\n",
    "X[\"cluster\"] = kmeans.predict(X)\n",
    "\n",
    "test_data['internet_cluster'] = X[\"cluster\"]\n",
    "test_data.drop(internet.columns.drop('customerid'), axis=1, inplace=True)"
   ]
  },
  {
   "cell_type": "code",
   "execution_count": 79,
   "metadata": {
    "id": "5E5daTVMT_mH"
   },
   "outputs": [],
   "source": [
    "X_test, y_test = y_extract(test_data, 'break', RANDOM_STATE, size=0)"
   ]
  },
  {
   "cell_type": "code",
   "execution_count": 80,
   "metadata": {
    "id": "xxdn9Jg8fGnj"
   },
   "outputs": [],
   "source": [
    "cat_col = train_data.columns.drop(['monthlycharges', 'break'])#['monthlycharges', 'totalcharges', 'break', 'duration'])"
   ]
  },
  {
   "cell_type": "markdown",
   "metadata": {
    "id": "-DYxfk9QyRCg"
   },
   "source": [
    "# 3. Обучение модели"
   ]
  },
  {
   "cell_type": "code",
   "execution_count": 81,
   "metadata": {
    "id": "WgrWuLxsTgM_"
   },
   "outputs": [],
   "source": [
    "X, y = y_extract(train_data, 'break', RANDOM_STATE, size=0)"
   ]
  },
  {
   "cell_type": "markdown",
   "metadata": {
    "id": "6YJdSZy3R5nI"
   },
   "source": [
    "## 3.1 Random Forest"
   ]
  },
  {
   "cell_type": "markdown",
   "metadata": {
    "id": "cfDJPDcgR5hP"
   },
   "source": [
    "Первой обучим модель случайного леса."
   ]
  },
  {
   "cell_type": "code",
   "execution_count": 82,
   "metadata": {
    "id": "wOpfjPWlJnhH"
   },
   "outputs": [],
   "source": [
    "params_rf = {  \n",
    "    'n_estimators': np.arange(100, 201, 20), \n",
    "    'max_depth': np.arange(2, 21, 2),\n",
    "    'random_state': [RANDOM_STATE], \n",
    "    'class_weight': [None, 'balanced']\n",
    "}\n"
   ]
  },
  {
   "cell_type": "code",
   "execution_count": 83,
   "metadata": {
    "id": "d0gk-sPxJrAE"
   },
   "outputs": [],
   "source": [
    "model_rf = RandomForestClassifier()"
   ]
  },
  {
   "cell_type": "code",
   "execution_count": 84,
   "metadata": {
    "colab": {
     "base_uri": "https://localhost:8080/",
     "height": 119
    },
    "id": "OthA-TKEJvlH",
    "outputId": "a287d56a-3982-4dca-99dc-ef2a1a1eb0e0"
   },
   "outputs": [
    {
     "name": "stdout",
     "output_type": "stream",
     "text": [
      "Fitting 5 folds for each of 120 candidates, totalling 600 fits\n"
     ]
    },
    {
     "data": {
      "text/plain": [
       "GridSearchCV(cv=5, estimator=RandomForestClassifier(),\n",
       "             param_grid={'class_weight': [None, 'balanced'],\n",
       "                         'max_depth': array([ 2,  4,  6,  8, 10, 12, 14, 16, 18, 20]),\n",
       "                         'n_estimators': array([100, 120, 140, 160, 180, 200]),\n",
       "                         'random_state': [130423]},\n",
       "             scoring='roc_auc', verbose=1)"
      ]
     },
     "execution_count": 84,
     "metadata": {},
     "output_type": "execute_result"
    }
   ],
   "source": [
    "gs = GridSearchCV(model_rf, params_rf, scoring='roc_auc', cv=5, verbose=1)\n",
    "gs.fit(X,y)"
   ]
  },
  {
   "cell_type": "code",
   "execution_count": 85,
   "metadata": {
    "id": "6rBOQvuEJ1fO"
   },
   "outputs": [],
   "source": [
    "params_rf = gs.best_params_"
   ]
  },
  {
   "cell_type": "code",
   "execution_count": 86,
   "metadata": {
    "colab": {
     "base_uri": "https://localhost:8080/"
    },
    "id": "X0kkAw26QxYl",
    "outputId": "228410fa-6c9a-4f64-81cf-7cde921a5623"
   },
   "outputs": [
    {
     "data": {
      "text/plain": [
       "0.9987130660258032"
      ]
     },
     "execution_count": 86,
     "metadata": {},
     "output_type": "execute_result"
    }
   ],
   "source": [
    "gs.cv_results_['mean_test_score'].max()"
   ]
  },
  {
   "cell_type": "code",
   "execution_count": 87,
   "metadata": {
    "colab": {
     "base_uri": "https://localhost:8080/",
     "height": 93
    },
    "id": "P8NhgmRJJ7-r",
    "outputId": "1f435e15-9061-4433-a11e-f530f1be6a0a"
   },
   "outputs": [
    {
     "data": {
      "text/plain": [
       "RandomForestClassifier(max_depth=14, random_state=130423)"
      ]
     },
     "execution_count": 87,
     "metadata": {},
     "output_type": "execute_result"
    }
   ],
   "source": [
    "model_rf = RandomForestClassifier(**params_rf)\n",
    "model_rf.fit(X, y)"
   ]
  },
  {
   "cell_type": "markdown",
   "metadata": {
    "id": "PxWRx3cxSFYZ"
   },
   "source": [
    "## 3.2 Boosting"
   ]
  },
  {
   "cell_type": "markdown",
   "metadata": {
    "id": "Au9Ew8J_Copo"
   },
   "source": [
    "Для модели ГБ применим XGBoost на основе деревьев"
   ]
  },
  {
   "cell_type": "code",
   "execution_count": 88,
   "metadata": {
    "id": "iUOE3ksOSnZM"
   },
   "outputs": [
    {
     "data": {
      "text/plain": [
       "\"\\n{  \\n    'n_estimators': np.arange(50, 201, 10), \\n    'max_depth': np.arange(1, 7, 2),\\n    'scale_pos_weight': [1, 2.77],\\n    'random_state': [RANDOM_STATE],\\n    'verbosity': [0],\\n    'use_label_encoder': [False]\\n}\\n\""
      ]
     },
     "execution_count": 88,
     "metadata": {},
     "output_type": "execute_result"
    }
   ],
   "source": [
    "params_gb={\n",
    "    'max_depth': [1],\n",
    "    'n_estimators': [180],\n",
    "    'random_state': [130423],\n",
    "    'scale_pos_weight': [2.77],\n",
    "    'use_label_encoder': [False],\n",
    "    'verbosity': [0]}\n",
    "'''\n",
    "{  \n",
    "    'n_estimators': np.arange(50, 201, 10), \n",
    "    'max_depth': np.arange(1, 7, 2),\n",
    "    'scale_pos_weight': [1, 2.77],\n",
    "    'random_state': [RANDOM_STATE],\n",
    "    'verbosity': [0],\n",
    "    'use_label_encoder': [False]\n",
    "}\n",
    "'''"
   ]
  },
  {
   "cell_type": "code",
   "execution_count": 89,
   "metadata": {
    "id": "Tfun6uZ8SJQL"
   },
   "outputs": [],
   "source": [
    "model_gb = XGBClassifier()"
   ]
  },
  {
   "cell_type": "code",
   "execution_count": 90,
   "metadata": {
    "colab": {
     "base_uri": "https://localhost:8080/",
     "height": 119
    },
    "id": "1hILwCsRVCl8",
    "outputId": "f69a4692-981c-44ee-9803-3c4b908a5229"
   },
   "outputs": [
    {
     "data": {
      "text/plain": [
       "GridSearchCV(cv=5,\n",
       "             estimator=XGBClassifier(base_score=None, booster=None,\n",
       "                                     colsample_bylevel=None,\n",
       "                                     colsample_bynode=None,\n",
       "                                     colsample_bytree=None,\n",
       "                                     enable_categorical=False, gamma=None,\n",
       "                                     gpu_id=None, importance_type=None,\n",
       "                                     interaction_constraints=None,\n",
       "                                     learning_rate=None, max_delta_step=None,\n",
       "                                     max_depth=None, min_child_weight=None,\n",
       "                                     missing=nan, monotone_constraints=None,\n",
       "                                     n_estimators=100, n_jobs=None,\n",
       "                                     num_parallel_tree=None, predictor=None,\n",
       "                                     random_state=None, reg_alpha=None,\n",
       "                                     reg_lambda=None, scale_pos_weight=None,\n",
       "                                     subsample=None, tree_method=None,\n",
       "                                     validate_parameters=None, verbosity=None),\n",
       "             param_grid={'max_depth': [1], 'n_estimators': [180],\n",
       "                         'random_state': [130423], 'scale_pos_weight': [2.77],\n",
       "                         'use_label_encoder': [False], 'verbosity': [0]},\n",
       "             scoring='roc_auc')"
      ]
     },
     "execution_count": 90,
     "metadata": {},
     "output_type": "execute_result"
    }
   ],
   "source": [
    "gs = GridSearchCV(model_gb, params_gb, scoring='roc_auc', cv=5)\n",
    "gs.fit(X,y)"
   ]
  },
  {
   "cell_type": "code",
   "execution_count": 91,
   "metadata": {
    "id": "Xmv1ZYaOVorf"
   },
   "outputs": [],
   "source": [
    "params_gb = gs.best_params_"
   ]
  },
  {
   "cell_type": "code",
   "execution_count": 92,
   "metadata": {
    "colab": {
     "base_uri": "https://localhost:8080/"
    },
    "id": "_G1Ka1LaVsK-",
    "outputId": "528cae3a-2927-4629-a997-9b478b5dc110"
   },
   "outputs": [
    {
     "data": {
      "text/plain": [
       "0.9988050889619698"
      ]
     },
     "execution_count": 92,
     "metadata": {},
     "output_type": "execute_result"
    }
   ],
   "source": [
    "gs.cv_results_['mean_test_score'].max()"
   ]
  },
  {
   "cell_type": "code",
   "execution_count": 93,
   "metadata": {
    "colab": {
     "base_uri": "https://localhost:8080/",
     "height": 249
    },
    "id": "PGp06nkIX-I3",
    "outputId": "5dec5186-e226-44e6-aa4c-206c5b598e4a"
   },
   "outputs": [
    {
     "data": {
      "text/plain": [
       "XGBClassifier(base_score=0.5, booster='gbtree', colsample_bylevel=1,\n",
       "              colsample_bynode=1, colsample_bytree=1, enable_categorical=False,\n",
       "              gamma=0, gpu_id=-1, importance_type=None,\n",
       "              interaction_constraints='', learning_rate=0.300000012,\n",
       "              max_delta_step=0, max_depth=1, min_child_weight=1, missing=nan,\n",
       "              monotone_constraints='()', n_estimators=180, n_jobs=8,\n",
       "              num_parallel_tree=1, predictor='auto', random_state=130423,\n",
       "              reg_alpha=0, reg_lambda=1, scale_pos_weight=2.77, subsample=1,\n",
       "              tree_method='exact', use_label_encoder=False,\n",
       "              validate_parameters=1, verbosity=0)"
      ]
     },
     "execution_count": 93,
     "metadata": {},
     "output_type": "execute_result"
    }
   ],
   "source": [
    "model_gb = XGBClassifier(**params_gb)\n",
    "model_gb.fit(X, y)"
   ]
  },
  {
   "cell_type": "markdown",
   "metadata": {
    "id": "IGXkZju2YUsK"
   },
   "source": [
    "## 3.3 NN"
   ]
  },
  {
   "cell_type": "markdown",
   "metadata": {
    "id": "j5o5yeEMDB4z"
   },
   "source": [
    "И последней моделью попробуем полносвязную нейронную сеть"
   ]
  },
  {
   "cell_type": "code",
   "execution_count": 94,
   "metadata": {
    "id": "-yLuUDdPY3LP"
   },
   "outputs": [],
   "source": [
    "def init_weights(layer):\n",
    "    if type(layer) == nn.Linear:\n",
    "        nn.init.kaiming_uniform_(layer.weight, mode=\"fan_in\", nonlinearity=\"sigmoid\")"
   ]
  },
  {
   "cell_type": "code",
   "execution_count": 95,
   "metadata": {
    "id": "qe5GDz16D9be"
   },
   "outputs": [],
   "source": [
    "class CustomEarlyStopping(): \n",
    "# класс для проверки изменения целевой метрики. \n",
    "# Если она долго не меняется, или меняется незначительно, то обучение прерывается\n",
    "    def __init__(self, patience=5, min_delta=0):\n",
    "        self.patience = patience\n",
    "        self.min_delta = min_delta\n",
    "        self.counter = 0\n",
    "        self.metric = None\n",
    "        self.early_stop = False\n",
    "\n",
    "    def __call__(self, val_metric):\n",
    "        if self.metric == None:\n",
    "            self.metric = val_metric\n",
    "        elif val_metric - self.metric > self.min_delta:\n",
    "            self.metric = val_metric\n",
    "            self.counter = 0\n",
    "        elif val_metric - self.metric < self.min_delta:\n",
    "            self.counter += 1\n",
    "            #print(f\"INFO: Early stopping counter {self.counter} of {self.patience}\")\n",
    "            if self.counter >= self.patience:\n",
    "                #print('INFO: Early stopping')\n",
    "                self.early_stop = True"
   ]
  },
  {
   "cell_type": "code",
   "execution_count": 96,
   "metadata": {},
   "outputs": [],
   "source": [
    "class MyNN(): \n",
    "    \n",
    "    def __init__(self, neurons, afunc, reg='', dop=[]):\n",
    "        self.neurons = neurons\n",
    "        self.neurons.append(1) # добавим слой на выхо\n",
    "        self.afunc = afunc # массив с функцией активации\n",
    "        self.net_layers = []\n",
    "        self.reg = reg\n",
    "        self.dop = dop\n",
    "        self.net = self.construct_net()\n",
    "        self.net.apply(self.init_weights)\n",
    "        \n",
    "        \n",
    "    def construct_net(self):\n",
    "        for i in range(1, len(self.neurons) - 1):\n",
    "            self.net_layers.append(nn.Linear(self.neurons[i-1], self.neurons[i]))\n",
    "            self.net_layers.append(self.afunc[i-1])\n",
    "            if self.reg == 'bn': self.net_layers.append(nn.BatchNorm1d(self.neurons[i]))\n",
    "            if self.reg == 'do': self.net_layers.append(nn.Dropout(dop[i-1]))\n",
    "        self.net_layers.append(nn.Linear(self.neurons[-2], self.neurons[-1]))\n",
    "        self.net_layers.append(self.afunc[-1])\n",
    "        net = nn.Sequential(*self.net_layers)\n",
    "        return net\n",
    "    \n",
    "    def init_weights(self, layer):\n",
    "        if type(layer) == nn.Linear:\n",
    "            nn.init.kaiming_uniform_(layer.weight, mode=\"fan_out\", nonlinearity=\"relu\")"
   ]
  },
  {
   "cell_type": "code",
   "execution_count": 97,
   "metadata": {},
   "outputs": [],
   "source": [
    "def learning_curve(scores):\n",
    "    plt.plot(scores['metr_train'], color = 'red', label = 'Train')\n",
    "    plt.plot(scores['metr_test'], label = 'Test')\n",
    "    plt.legend()\n",
    "    plt.show()"
   ]
  },
  {
   "cell_type": "markdown",
   "metadata": {
    "id": "HQvqKMODDKoW"
   },
   "source": [
    "Продолжим преобразовывать данные"
   ]
  },
  {
   "cell_type": "code",
   "execution_count": 98,
   "metadata": {
    "id": "jLR2fX2gY4gr"
   },
   "outputs": [],
   "source": [
    "ohe = OneHotEncoder(drop='first', handle_unknown='error')\n",
    "X = pd.concat([X.drop(cat_col, axis=1).reset_index(drop=True), pd.DataFrame(ohe.fit_transform(X[cat_col]).toarray())], axis=1)"
   ]
  },
  {
   "cell_type": "code",
   "execution_count": 99,
   "metadata": {
    "id": "aHmiTZFasaG_"
   },
   "outputs": [],
   "source": [
    "scaler = StandardScaler()\n",
    "scaler.fit(X.to_numpy())\n",
    "X = scaler.transform(X.to_numpy())"
   ]
  },
  {
   "cell_type": "code",
   "execution_count": 100,
   "metadata": {
    "id": "3ZGqHoZEdOS-"
   },
   "outputs": [],
   "source": [
    "X = torch.FloatTensor(X)\n",
    "y = torch.FloatTensor(np.array(y))"
   ]
  },
  {
   "cell_type": "code",
   "execution_count": 103,
   "metadata": {
    "id": "86zfFCVpDFm1"
   },
   "outputs": [],
   "source": [
    "def new_layer(neur, #архитектура НС\n",
    "              afunc,  #Массив с функциями активации\n",
    "              X_t,  #Учебная выборка\n",
    "              X_v,  #Влидационная выборка\n",
    "              y_t,  #Учебный таргет\n",
    "              y_v,  #Валидационный таргет\n",
    "              in_metr=0,  #текущая метрика для подбора гипепрпараметров\n",
    "              check = False,  #Флаг для визуализации и мониторинга обучения\n",
    "              epochs = 5000,  #Максимальное количество эпох\n",
    "              reg=None,  #Способ регуляризации (bn - батчнорм, do - дропаут)\n",
    "              dop = 0,  #Массив с % для дропаута по слоям\n",
    "              metr=0,  #Значение глобальной метрики \n",
    "              batch_s = 100): #Размер батча\n",
    "\n",
    "    n = neur.copy()\n",
    "    n.append(1) # добавим слой на выход\n",
    "    net_layers = []\n",
    "    b_metr = in_metr\n",
    "    score = []\n",
    "    opt_epoch = 0\n",
    "    vis = False\n",
    "\n",
    "    loss = nn.MSELoss()\n",
    "    model_nn = MyNN(n, afunc, loss)\n",
    "    optimizer = torch.optim.Adam(model_nn.net.parameters(), lr=1e-3)\n",
    "    \n",
    "    num_epochs = epochs\n",
    "    batch_size = batch_s\n",
    "    num_batches = ceil(X_t.shape[0]/batch_size)\n",
    "    early_stopping = CustomEarlyStopping(patience=200, min_delta=.002) \n",
    "    #для проверки процесса обучения оставим 200 эпох и .02  шага изменений\n",
    "    \n",
    "    for epch in range(num_epochs):\n",
    "        early_stopping(b_metr)\n",
    "        if early_stopping.early_stop:\n",
    "            break #изменений нет\n",
    "        model_nn.net.train()\n",
    "        order = np.random.permutation(X_t.shape[0])\n",
    "        for batch_idx in range(num_batches):\n",
    "            start_index = batch_idx * batch_size\n",
    "            optimizer.zero_grad()\n",
    "            batch_indexes = order[start_index:start_index+batch_size]\n",
    "            X_batch = X_t[batch_indexes].detach().clone()\n",
    "            y_batch = torch.FloatTensor(np.array(y_t[batch_indexes]))\n",
    "            preds = model_nn.net.forward(X_batch).flatten()\n",
    "            loss_value = loss(preds, y_batch).float()\n",
    "            loss_value.backward()\n",
    "            optimizer.step()\n",
    "      \n",
    "        if epch % 10 == 0 or epch == num_epochs - 1:\n",
    "            with torch.no_grad():\n",
    "                model_nn.net.eval()\n",
    "                test_preds = model_nn.net.forward(X_v)\n",
    "                metr_test = roc_auc_score(y_v.detach().numpy(), test_preds.detach().numpy())\n",
    "                if metr_test > b_metr:\n",
    "                    b_metr = metr_test\n",
    "                    opt_epoch = epch\n",
    "                    if b_metr > metr:\n",
    "                        vis = True\n",
    "                if check: # сохранение результатов на учебных данных для кривой\n",
    "                    train_preds = model_nn.net.forward(X_t).round()\n",
    "                    metr_train = roc_auc_score(y_t.detach().numpy(), train_preds.detach().numpy())\n",
    "                    score.append([metr_train, metr_test])\n",
    "    if vis and check:\n",
    "        score = pd.DataFrame(score, columns=['metr_train', 'metr_test'])\n",
    "        learning_curve(score)\n",
    "        print(n, b_metr)\n",
    "        print(\"___________________________\")\n",
    "    return b_metr, opt_epoch"
   ]
  },
  {
   "cell_type": "code",
   "execution_count": 104,
   "metadata": {
    "colab": {
     "base_uri": "https://localhost:8080/",
     "height": 0
    },
    "id": "3gin2FZkFOas",
    "outputId": "3e16937a-7d31-45d4-b8aa-e564f50becd5"
   },
   "outputs": [],
   "source": [
    "# подбирается количество нейронов в каждом слое НС. Выбираетя самый лучший \n",
    "# вариант для каждого слоя, но, в итоге, сохраняется наиболее оптимальный,\n",
    "\n",
    "in_n = X.shape[1]\n",
    "net_var=[] #массив для хранения структуры сети\n",
    "temp_net_var=[]\n",
    "neurons = 0\n",
    "nneu=[] #временный массив для хранения структуры сети\n",
    "nneu.append(in_n)\n",
    "epochs=0\n",
    "metr=0\n",
    "\n",
    "kf = StratifiedKFold(n_splits=5, shuffle=True, random_state=RANDOM_STATE)\n",
    "\n",
    "\n",
    "for hid_n in np.arange(len(nneu),6): #сеть с 5 скрытыми слоями\n",
    "    for l in np.arange(len(nneu)-1,hid_n):\n",
    "        local_metr=0\n",
    "        for i in np.arange(4, 41, 4): # от 4 до 40 нейронов в слое\n",
    "            temp_metr=0\n",
    "            n_neu=nneu.copy()\n",
    "            n_neu.append(i)\n",
    "            function = np.full(len(n_neu), nn.ReLU()) #оставим РеЛу для скорости вычисления\n",
    "            function = np.append(function, nn.Sigmoid()) #Сигма для классификации\n",
    "            for train, test in kf.split(X, y):\n",
    "                metr_n, ep = new_layer(n_neu, function, X[train], X[test], y[train], y[test], \n",
    "                                       in_metr=0, epochs=10000, metr=metr)\n",
    "                temp_metr+=metr_n\n",
    "            temp_metr = temp_metr/5\n",
    "            if temp_metr > local_metr:\n",
    "                local_metr = temp_metr\n",
    "                neurons = i\n",
    "                temp_net_var = n_neu.copy()\n",
    "            if temp_metr > metr:\n",
    "                metr = temp_metr\n",
    "                epochs = ep\n",
    "                net_var = n_neu.copy()\n",
    "        nneu.append(neurons)\n"
   ]
  },
  {
   "cell_type": "code",
   "execution_count": 105,
   "metadata": {
    "id": "8BZ8EySIjZ9g"
   },
   "outputs": [
    {
     "name": "stdout",
     "output_type": "stream",
     "text": [
      "[718, 40, 16, 12, 28, 4] 280 0.9005159119655957\n"
     ]
    }
   ],
   "source": [
    "print(net_var, epochs, metr)"
   ]
  },
  {
   "cell_type": "markdown",
   "metadata": {
    "id": "K4i3pMsUfzaa"
   },
   "source": [
    "Лучшей моделью на кросс-валидации с результатов 0,9988 оказалась XGBoost. Проверим её на тестовых данных."
   ]
  },
  {
   "cell_type": "markdown",
   "metadata": {
    "id": "iSE3cqswtP-q"
   },
   "source": [
    "# 4. Тестирование модели"
   ]
  },
  {
   "cell_type": "code",
   "execution_count": 106,
   "metadata": {
    "colab": {
     "base_uri": "https://localhost:8080/"
    },
    "id": "tP12aZcXYFfY",
    "outputId": "da5e55e2-c9c7-4c51-e19a-db98722b01ca"
   },
   "outputs": [
    {
     "name": "stdout",
     "output_type": "stream",
     "text": [
      "0.9976190476190476\n",
      "0.9806927881885292\n"
     ]
    }
   ],
   "source": [
    "predict = model_gb.predict_proba(X_test)[:,1]\n",
    "print(roc_auc_score(y_test, predict))\n",
    "print(accuracy_score(y_test, predict.round()))"
   ]
  },
  {
   "cell_type": "code",
   "execution_count": 107,
   "metadata": {
    "colab": {
     "base_uri": "https://localhost:8080/",
     "height": 869
    },
    "id": "95uQn5RVhJMO",
    "outputId": "f4277bab-c5d5-42cb-8be8-dccd5a578672"
   },
   "outputs": [
    {
     "name": "stdout",
     "output_type": "stream",
     "text": [
      "Confusion matrix, without normalization\n",
      "[[1237   23]\n",
      " [  11  490]]\n"
     ]
    },
    {
     "data": {
      "image/png": "[encoded data removed]",
      "text/plain": [
       "<Figure size 360x288 with 2 Axes>"
      ]
     },
     "metadata": {
      "needs_background": "light"
     },
     "output_type": "display_data"
    }
   ],
   "source": [
    "def plot_confusion_matrix(cm, classes,\n",
    "                          normalize=False,\n",
    "                          title='Confusion matrix',\n",
    "                          cmap=plt.cm.Blues):\n",
    "\n",
    "    plt.imshow(cm, interpolation='nearest', cmap=cmap)\n",
    "    plt.title(title)\n",
    "    plt.colorbar()\n",
    "    tick_marks = np.arange(len(classes))\n",
    "    plt.xticks(tick_marks, classes, rotation=45)\n",
    "    plt.yticks(tick_marks, classes)\n",
    "\n",
    "    if normalize:\n",
    "        cm = cm.astype('float') / cm.sum(axis=1)[:, np.newaxis]\n",
    "        print(\"Normalized confusion matrix\")\n",
    "    else:\n",
    "        print('Confusion matrix, without normalization')\n",
    "\n",
    "    print(cm)\n",
    "\n",
    "    thresh = cm.max() / 2.\n",
    "    for i, j in itertools.product(range(cm.shape[0]), range(cm.shape[1])):\n",
    "        plt.text(j, i, cm[i, j],\n",
    "                 horizontalalignment=\"center\",\n",
    "                 color=\"white\" if cm[i, j] > thresh else \"black\")\n",
    "\n",
    "    plt.tight_layout()\n",
    "    plt.ylabel('True label')\n",
    "    plt.xlabel('Predicted label')\n",
    "\n",
    "font = {'size' : 15}\n",
    "\n",
    "plt.rc('font', **font)\n",
    "\n",
    "cnf_matrix = confusion_matrix(y_test, predict.round())\n",
    "plt.figure(figsize=(5, 4))\n",
    "plot_confusion_matrix(cnf_matrix, classes=['current', 'terminated'],\n",
    "                      title='Confusion matrix')\n",
    "#plt.savefig(\"conf_matrix.png\")\n",
    "plt.show()"
   ]
  },
  {
   "cell_type": "code",
   "execution_count": 108,
   "metadata": {},
   "outputs": [
    {
     "data": {
      "image/png": "[encoded data removed]",
      "text/plain": [
       "<Figure size 432x288 with 1 Axes>"
      ]
     },
     "metadata": {
      "needs_background": "light"
     },
     "output_type": "display_data"
    }
   ],
   "source": [
    "precision, recall, _ = precision_recall_curve(y_test, predict.round())\n",
    "disp = PrecisionRecallDisplay(precision=precision, recall=recall)\n",
    "disp.plot()\n",
    "plt.show()"
   ]
  },
  {
   "cell_type": "markdown",
   "metadata": {},
   "source": [
    "По обоим графикам видно, что модель чаще определяет клиента, как потенциального беглеца, чем это необходимо."
   ]
  },
  {
   "cell_type": "code",
   "execution_count": 109,
   "metadata": {
    "colab": {
     "base_uri": "https://localhost:8080/",
     "height": 657
    },
    "id": "bIiEDOsKihb9",
    "outputId": "97b012eb-5f62-44ab-a908-c352e16aeb20"
   },
   "outputs": [
    {
     "data": {
      "image/png": "[encoded data removed]",
      "text/plain": [
       "<Figure size 576x424.8 with 2 Axes>"
      ]
     },
     "metadata": {
      "needs_background": "light"
     },
     "output_type": "display_data"
    }
   ],
   "source": [
    "tree_explainer = shap.TreeExplainer(model_gb)\n",
    "shap_val = tree_explainer.shap_values(X_test)\n",
    "shap.summary_plot(shap_val, X_test)"
   ]
  },
  {
   "cell_type": "markdown",
   "metadata": {
    "id": "ift4BLbdoFIa"
   },
   "source": [
    "Первой по важности, вполне ожидаемо, оказалась продолжительность контракта, а так же объем ежемесячных затрат. По графику выше видно, что чем меньше эта сумма, тем более вероятно, что клиент останется в компании."
   ]
  },
  {
   "cell_type": "markdown",
   "metadata": {
    "id": "aBrd2l_Wo0gi"
   },
   "source": [
    "# 5. Выводы"
   ]
  },
  {
   "cell_type": "markdown",
   "metadata": {
    "id": "4-FhLyEAo36B"
   },
   "source": [
    "Заказчику стоит обратить наиболее пристальное внимание на клиентов в первый год их пользования сервисом, особенно на пользователей интернета. Пользователи на оптоволоконном кабеле чаще других разрывают сотрудничество. Возможно, это связано с более высокой ценой, но стоит лишний раз проверить нет ли проблем с обслуживанием. Оплата электронным чеком тоже характерна для клиентов, разрывающих договор, стоит проконтролировать работу сервиса, возможно где-то есть проблемы. Та же логика может быть в случае меньшей вероятности разрыва договора с клиентами, использующими допуслуги в интернет-обслуживании. Есть вероятность, что облачные сервисы и выделенная линия техподдержки и пр. просто помогают не обращать пристального внимания на проблемы, а не являются показателем высокого уровня обслуживания. Если это не так, то, возможно, стоит добавить их бесплатный демо-период в наиболее вероятный для прекращения договора период (200-400 дней) пользования сервисом."
   ]
  }
 ],
 "metadata": {
  "ExecuteTimeLog": [
   {
    "duration": 13,
    "start_time": "2023-04-21T20:03:24.985Z"
   },
   {
    "duration": 76,
    "start_time": "2023-04-21T20:27:34.122Z"
   },
   {
    "duration": 3919,
    "start_time": "2023-04-22T05:50:32.522Z"
   },
   {
    "duration": 2809,
    "start_time": "2023-04-22T05:50:36.444Z"
   },
   {
    "duration": 0,
    "start_time": "2023-04-22T05:50:39.254Z"
   },
   {
    "duration": 0,
    "start_time": "2023-04-22T05:50:39.255Z"
   },
   {
    "duration": 5293,
    "start_time": "2023-04-22T05:50:57.019Z"
   },
   {
    "duration": 108,
    "start_time": "2023-04-22T05:51:02.314Z"
   },
   {
    "duration": 44,
    "start_time": "2023-04-22T05:51:15.383Z"
   },
   {
    "duration": 41,
    "start_time": "2023-04-22T05:51:32.861Z"
   },
   {
    "duration": 37,
    "start_time": "2023-04-22T05:51:42.981Z"
   },
   {
    "duration": 43,
    "start_time": "2023-04-22T05:51:49.463Z"
   },
   {
    "duration": 157,
    "start_time": "2023-04-22T05:51:52.920Z"
   },
   {
    "duration": 37,
    "start_time": "2023-04-22T05:51:59.947Z"
   },
   {
    "duration": 37,
    "start_time": "2023-04-22T05:52:16.776Z"
   },
   {
    "duration": 47,
    "start_time": "2023-04-22T05:53:15.163Z"
   },
   {
    "duration": 58,
    "start_time": "2023-04-22T05:54:53.279Z"
   },
   {
    "duration": 52,
    "start_time": "2023-04-22T05:54:59.495Z"
   },
   {
    "duration": 44,
    "start_time": "2023-04-22T05:55:07.160Z"
   },
   {
    "duration": 20,
    "start_time": "2023-04-22T05:58:31.219Z"
   },
   {
    "duration": 25,
    "start_time": "2023-04-22T05:58:31.997Z"
   },
   {
    "duration": 17,
    "start_time": "2023-04-22T05:58:32.992Z"
   },
   {
    "duration": 13,
    "start_time": "2023-04-22T05:58:34.299Z"
   },
   {
    "duration": 23,
    "start_time": "2023-04-22T05:58:56.668Z"
   },
   {
    "duration": 26,
    "start_time": "2023-04-22T05:59:24.159Z"
   },
   {
    "duration": 15,
    "start_time": "2023-04-22T05:59:33.700Z"
   },
   {
    "duration": 23,
    "start_time": "2023-04-22T05:59:41.515Z"
   },
   {
    "duration": 21,
    "start_time": "2023-04-22T05:59:46.501Z"
   },
   {
    "duration": 17,
    "start_time": "2023-04-22T06:00:03.120Z"
   },
   {
    "duration": 39,
    "start_time": "2023-04-22T06:00:41.236Z"
   },
   {
    "duration": 37,
    "start_time": "2023-04-22T06:00:46.944Z"
   },
   {
    "duration": 37,
    "start_time": "2023-04-22T06:00:54.944Z"
   },
   {
    "duration": 15,
    "start_time": "2023-04-22T06:01:10.314Z"
   },
   {
    "duration": 13,
    "start_time": "2023-04-22T06:01:18.291Z"
   },
   {
    "duration": 4,
    "start_time": "2023-04-22T06:01:45.909Z"
   },
   {
    "duration": 43,
    "start_time": "2023-04-22T06:02:01.816Z"
   },
   {
    "duration": 38,
    "start_time": "2023-04-22T06:02:10.677Z"
   },
   {
    "duration": 143,
    "start_time": "2023-04-22T06:10:58.052Z"
   },
   {
    "duration": 2474,
    "start_time": "2023-04-22T06:11:34.270Z"
   },
   {
    "duration": 29,
    "start_time": "2023-04-22T06:11:36.747Z"
   },
   {
    "duration": 0,
    "start_time": "2023-04-22T06:11:36.781Z"
   },
   {
    "duration": 0,
    "start_time": "2023-04-22T06:11:36.782Z"
   },
   {
    "duration": 0,
    "start_time": "2023-04-22T06:11:36.784Z"
   },
   {
    "duration": 0,
    "start_time": "2023-04-22T06:11:36.785Z"
   },
   {
    "duration": 0,
    "start_time": "2023-04-22T06:11:36.788Z"
   },
   {
    "duration": 0,
    "start_time": "2023-04-22T06:11:36.789Z"
   },
   {
    "duration": 0,
    "start_time": "2023-04-22T06:11:36.790Z"
   },
   {
    "duration": 0,
    "start_time": "2023-04-22T06:11:36.791Z"
   },
   {
    "duration": 0,
    "start_time": "2023-04-22T06:11:36.792Z"
   },
   {
    "duration": 0,
    "start_time": "2023-04-22T06:11:36.793Z"
   },
   {
    "duration": 0,
    "start_time": "2023-04-22T06:11:36.794Z"
   },
   {
    "duration": 0,
    "start_time": "2023-04-22T06:11:36.795Z"
   },
   {
    "duration": 1,
    "start_time": "2023-04-22T06:11:36.796Z"
   },
   {
    "duration": 0,
    "start_time": "2023-04-22T06:11:36.798Z"
   },
   {
    "duration": 0,
    "start_time": "2023-04-22T06:11:36.799Z"
   },
   {
    "duration": 1,
    "start_time": "2023-04-22T06:11:36.799Z"
   },
   {
    "duration": 0,
    "start_time": "2023-04-22T06:11:36.801Z"
   },
   {
    "duration": 0,
    "start_time": "2023-04-22T06:11:36.802Z"
   },
   {
    "duration": 0,
    "start_time": "2023-04-22T06:11:36.812Z"
   },
   {
    "duration": 0,
    "start_time": "2023-04-22T06:11:36.813Z"
   },
   {
    "duration": 0,
    "start_time": "2023-04-22T06:11:36.814Z"
   },
   {
    "duration": 0,
    "start_time": "2023-04-22T06:11:36.815Z"
   },
   {
    "duration": 0,
    "start_time": "2023-04-22T06:11:36.817Z"
   },
   {
    "duration": 0,
    "start_time": "2023-04-22T06:11:36.818Z"
   },
   {
    "duration": 0,
    "start_time": "2023-04-22T06:11:36.819Z"
   },
   {
    "duration": 0,
    "start_time": "2023-04-22T06:11:36.821Z"
   },
   {
    "duration": 0,
    "start_time": "2023-04-22T06:11:36.822Z"
   },
   {
    "duration": 0,
    "start_time": "2023-04-22T06:11:36.823Z"
   },
   {
    "duration": 0,
    "start_time": "2023-04-22T06:11:36.824Z"
   },
   {
    "duration": 0,
    "start_time": "2023-04-22T06:11:36.825Z"
   },
   {
    "duration": 0,
    "start_time": "2023-04-22T06:11:36.826Z"
   },
   {
    "duration": 0,
    "start_time": "2023-04-22T06:11:36.827Z"
   },
   {
    "duration": 0,
    "start_time": "2023-04-22T06:11:36.828Z"
   },
   {
    "duration": 0,
    "start_time": "2023-04-22T06:11:36.829Z"
   },
   {
    "duration": 0,
    "start_time": "2023-04-22T06:11:36.830Z"
   },
   {
    "duration": 0,
    "start_time": "2023-04-22T06:11:36.831Z"
   },
   {
    "duration": 0,
    "start_time": "2023-04-22T06:11:36.832Z"
   },
   {
    "duration": 0,
    "start_time": "2023-04-22T06:11:36.834Z"
   },
   {
    "duration": 0,
    "start_time": "2023-04-22T06:11:36.835Z"
   },
   {
    "duration": 0,
    "start_time": "2023-04-22T06:11:36.836Z"
   },
   {
    "duration": 0,
    "start_time": "2023-04-22T06:11:36.837Z"
   },
   {
    "duration": 0,
    "start_time": "2023-04-22T06:11:36.838Z"
   },
   {
    "duration": 0,
    "start_time": "2023-04-22T06:11:36.840Z"
   },
   {
    "duration": 0,
    "start_time": "2023-04-22T06:11:36.841Z"
   },
   {
    "duration": 0,
    "start_time": "2023-04-22T06:11:36.842Z"
   },
   {
    "duration": 0,
    "start_time": "2023-04-22T06:11:36.843Z"
   },
   {
    "duration": 0,
    "start_time": "2023-04-22T06:11:36.844Z"
   },
   {
    "duration": 0,
    "start_time": "2023-04-22T06:11:36.846Z"
   },
   {
    "duration": 0,
    "start_time": "2023-04-22T06:11:36.847Z"
   },
   {
    "duration": 0,
    "start_time": "2023-04-22T06:11:36.849Z"
   },
   {
    "duration": 0,
    "start_time": "2023-04-22T06:11:36.914Z"
   },
   {
    "duration": 0,
    "start_time": "2023-04-22T06:11:36.915Z"
   },
   {
    "duration": 0,
    "start_time": "2023-04-22T06:11:36.917Z"
   },
   {
    "duration": 139,
    "start_time": "2023-04-22T06:11:37.383Z"
   },
   {
    "duration": 5503,
    "start_time": "2023-04-22T06:12:07.380Z"
   },
   {
    "duration": 119,
    "start_time": "2023-04-22T06:12:16.191Z"
   },
   {
    "duration": 3,
    "start_time": "2023-04-22T06:12:19.171Z"
   },
   {
    "duration": 5,
    "start_time": "2023-04-22T06:12:21.050Z"
   },
   {
    "duration": 422,
    "start_time": "2023-04-22T06:12:22.074Z"
   },
   {
    "duration": 28,
    "start_time": "2023-04-22T06:12:23.528Z"
   },
   {
    "duration": 26,
    "start_time": "2023-04-22T06:12:23.827Z"
   },
   {
    "duration": 17,
    "start_time": "2023-04-22T06:12:24.193Z"
   },
   {
    "duration": 37,
    "start_time": "2023-04-22T06:12:24.472Z"
   },
   {
    "duration": 11,
    "start_time": "2023-04-22T06:12:26.249Z"
   },
   {
    "duration": 18,
    "start_time": "2023-04-22T06:12:27.187Z"
   },
   {
    "duration": 12,
    "start_time": "2023-04-22T06:12:27.725Z"
   },
   {
    "duration": 38,
    "start_time": "2023-04-22T06:12:27.984Z"
   },
   {
    "duration": 25,
    "start_time": "2023-04-22T06:12:28.230Z"
   },
   {
    "duration": 199,
    "start_time": "2023-04-22T06:12:28.428Z"
   },
   {
    "duration": 9,
    "start_time": "2023-04-22T06:12:28.844Z"
   },
   {
    "duration": 328,
    "start_time": "2023-04-22T06:12:29.014Z"
   },
   {
    "duration": 8,
    "start_time": "2023-04-22T06:12:30.780Z"
   },
   {
    "duration": 12,
    "start_time": "2023-04-22T06:12:32.656Z"
   },
   {
    "duration": 15,
    "start_time": "2023-04-22T06:12:34.495Z"
   },
   {
    "duration": 8,
    "start_time": "2023-04-22T06:12:34.971Z"
   },
   {
    "duration": 8,
    "start_time": "2023-04-22T06:12:35.382Z"
   },
   {
    "duration": 9,
    "start_time": "2023-04-22T06:12:35.947Z"
   },
   {
    "duration": 13,
    "start_time": "2023-04-22T06:12:38.407Z"
   },
   {
    "duration": 16,
    "start_time": "2023-04-22T06:12:39.178Z"
   },
   {
    "duration": 12,
    "start_time": "2023-04-22T06:12:39.572Z"
   },
   {
    "duration": 8,
    "start_time": "2023-04-22T06:12:39.755Z"
   },
   {
    "duration": 6,
    "start_time": "2023-04-22T06:12:39.935Z"
   },
   {
    "duration": 8,
    "start_time": "2023-04-22T06:12:40.125Z"
   },
   {
    "duration": 9,
    "start_time": "2023-04-22T06:12:40.307Z"
   },
   {
    "duration": 11,
    "start_time": "2023-04-22T06:12:40.888Z"
   },
   {
    "duration": 14,
    "start_time": "2023-04-22T06:12:41.313Z"
   },
   {
    "duration": 12,
    "start_time": "2023-04-22T06:12:41.691Z"
   },
   {
    "duration": 8,
    "start_time": "2023-04-22T06:12:41.890Z"
   },
   {
    "duration": 7,
    "start_time": "2023-04-22T06:12:42.071Z"
   },
   {
    "duration": 8,
    "start_time": "2023-04-22T06:12:42.254Z"
   },
   {
    "duration": 8,
    "start_time": "2023-04-22T06:12:42.433Z"
   },
   {
    "duration": 9,
    "start_time": "2023-04-22T06:12:42.614Z"
   },
   {
    "duration": 8,
    "start_time": "2023-04-22T06:12:42.804Z"
   },
   {
    "duration": 9,
    "start_time": "2023-04-22T06:12:43.000Z"
   },
   {
    "duration": 10,
    "start_time": "2023-04-22T06:12:43.567Z"
   },
   {
    "duration": 11,
    "start_time": "2023-04-22T06:12:43.960Z"
   },
   {
    "duration": 11,
    "start_time": "2023-04-22T06:12:44.338Z"
   },
   {
    "duration": 10,
    "start_time": "2023-04-22T06:12:44.534Z"
   },
   {
    "duration": 39,
    "start_time": "2023-04-22T06:12:47.469Z"
   },
   {
    "duration": 19,
    "start_time": "2023-04-22T06:12:48.529Z"
   },
   {
    "duration": 23,
    "start_time": "2023-04-22T06:12:48.761Z"
   },
   {
    "duration": 9,
    "start_time": "2023-04-22T06:12:50.426Z"
   },
   {
    "duration": 2740,
    "start_time": "2023-04-22T06:12:51.582Z"
   },
   {
    "duration": 7,
    "start_time": "2023-04-22T06:12:54.324Z"
   },
   {
    "duration": 314,
    "start_time": "2023-04-22T06:12:54.332Z"
   },
   {
    "duration": 319,
    "start_time": "2023-04-22T06:12:56.423Z"
   },
   {
    "duration": 307,
    "start_time": "2023-04-22T06:12:56.915Z"
   },
   {
    "duration": 4,
    "start_time": "2023-04-22T06:12:57.685Z"
   },
   {
    "duration": 1507,
    "start_time": "2023-04-22T06:12:58.109Z"
   },
   {
    "duration": 3108,
    "start_time": "2023-04-22T06:12:59.618Z"
   },
   {
    "duration": 349,
    "start_time": "2023-04-22T06:13:42.049Z"
   },
   {
    "duration": 324,
    "start_time": "2023-04-22T06:13:55.812Z"
   },
   {
    "duration": 303,
    "start_time": "2023-04-22T06:14:03.032Z"
   },
   {
    "duration": 270,
    "start_time": "2023-04-22T06:14:06.452Z"
   },
   {
    "duration": 17,
    "start_time": "2023-04-22T06:16:27.132Z"
   },
   {
    "duration": 11,
    "start_time": "2023-04-22T06:16:27.882Z"
   },
   {
    "duration": 4,
    "start_time": "2023-04-22T06:16:29.395Z"
   },
   {
    "duration": 69,
    "start_time": "2023-04-22T06:16:29.842Z"
   },
   {
    "duration": 5,
    "start_time": "2023-04-22T06:16:31.590Z"
   },
   {
    "duration": 7,
    "start_time": "2023-04-22T06:16:32.695Z"
   },
   {
    "duration": 5,
    "start_time": "2023-04-22T06:16:33.301Z"
   },
   {
    "duration": 5037,
    "start_time": "2023-04-22T06:16:35.187Z"
   },
   {
    "duration": 6,
    "start_time": "2023-04-22T06:17:21.558Z"
   },
   {
    "duration": 270,
    "start_time": "2023-04-22T06:17:22.193Z"
   },
   {
    "duration": 7,
    "start_time": "2023-04-22T06:20:31.397Z"
   },
   {
    "duration": 399,
    "start_time": "2023-04-22T06:20:32.435Z"
   },
   {
    "duration": 10,
    "start_time": "2023-04-22T06:20:33.621Z"
   },
   {
    "duration": 260,
    "start_time": "2023-04-22T06:20:34.414Z"
   },
   {
    "duration": 601,
    "start_time": "2023-04-22T06:21:06.212Z"
   },
   {
    "duration": 3792,
    "start_time": "2023-04-22T06:21:06.925Z"
   },
   {
    "duration": 6,
    "start_time": "2023-04-22T06:22:25.020Z"
   },
   {
    "duration": 4762,
    "start_time": "2023-04-22T06:22:35.729Z"
   },
   {
    "duration": 6,
    "start_time": "2023-04-22T06:22:40.494Z"
   },
   {
    "duration": 5,
    "start_time": "2023-04-22T06:22:40.502Z"
   },
   {
    "duration": 7,
    "start_time": "2023-04-22T06:22:40.508Z"
   },
   {
    "duration": 77,
    "start_time": "2023-04-22T06:22:40.517Z"
   },
   {
    "duration": 25,
    "start_time": "2023-04-22T06:22:40.597Z"
   },
   {
    "duration": 39,
    "start_time": "2023-04-22T06:22:40.624Z"
   },
   {
    "duration": 19,
    "start_time": "2023-04-22T06:22:40.666Z"
   },
   {
    "duration": 42,
    "start_time": "2023-04-22T06:22:40.688Z"
   },
   {
    "duration": 11,
    "start_time": "2023-04-22T06:22:40.732Z"
   },
   {
    "duration": 15,
    "start_time": "2023-04-22T06:22:40.744Z"
   },
   {
    "duration": 10,
    "start_time": "2023-04-22T06:22:40.761Z"
   },
   {
    "duration": 59,
    "start_time": "2023-04-22T06:22:40.773Z"
   },
   {
    "duration": 18,
    "start_time": "2023-04-22T06:22:40.836Z"
   },
   {
    "duration": 202,
    "start_time": "2023-04-22T06:22:40.856Z"
   },
   {
    "duration": 5,
    "start_time": "2023-04-22T06:22:41.060Z"
   },
   {
    "duration": 203,
    "start_time": "2023-04-22T06:22:41.067Z"
   },
   {
    "duration": 8,
    "start_time": "2023-04-22T06:22:41.271Z"
   },
   {
    "duration": 9,
    "start_time": "2023-04-22T06:22:41.281Z"
   },
   {
    "duration": 12,
    "start_time": "2023-04-22T06:22:41.312Z"
   },
   {
    "duration": 8,
    "start_time": "2023-04-22T06:22:41.325Z"
   },
   {
    "duration": 10,
    "start_time": "2023-04-22T06:22:41.335Z"
   },
   {
    "duration": 7,
    "start_time": "2023-04-22T06:22:41.347Z"
   },
   {
    "duration": 11,
    "start_time": "2023-04-22T06:22:41.356Z"
   },
   {
    "duration": 53,
    "start_time": "2023-04-22T06:22:41.369Z"
   },
   {
    "duration": 30,
    "start_time": "2023-04-22T06:22:41.424Z"
   },
   {
    "duration": 6,
    "start_time": "2023-04-22T06:22:41.456Z"
   },
   {
    "duration": 12,
    "start_time": "2023-04-22T06:22:41.464Z"
   },
   {
    "duration": 10,
    "start_time": "2023-04-22T06:22:41.477Z"
   },
   {
    "duration": 25,
    "start_time": "2023-04-22T06:22:41.488Z"
   },
   {
    "duration": 11,
    "start_time": "2023-04-22T06:22:41.515Z"
   },
   {
    "duration": 15,
    "start_time": "2023-04-22T06:22:41.528Z"
   },
   {
    "duration": 13,
    "start_time": "2023-04-22T06:22:41.545Z"
   },
   {
    "duration": 14,
    "start_time": "2023-04-22T06:22:41.560Z"
   },
   {
    "duration": 37,
    "start_time": "2023-04-22T06:22:41.576Z"
   },
   {
    "duration": 10,
    "start_time": "2023-04-22T06:22:41.614Z"
   },
   {
    "duration": 8,
    "start_time": "2023-04-22T06:22:41.626Z"
   },
   {
    "duration": 8,
    "start_time": "2023-04-22T06:22:41.635Z"
   },
   {
    "duration": 9,
    "start_time": "2023-04-22T06:22:41.645Z"
   },
   {
    "duration": 8,
    "start_time": "2023-04-22T06:22:41.655Z"
   },
   {
    "duration": 46,
    "start_time": "2023-04-22T06:22:41.667Z"
   },
   {
    "duration": 11,
    "start_time": "2023-04-22T06:22:41.715Z"
   },
   {
    "duration": 12,
    "start_time": "2023-04-22T06:22:41.728Z"
   },
   {
    "duration": 7,
    "start_time": "2023-04-22T06:22:41.741Z"
   },
   {
    "duration": 37,
    "start_time": "2023-04-22T06:22:41.749Z"
   },
   {
    "duration": 21,
    "start_time": "2023-04-22T06:22:41.811Z"
   },
   {
    "duration": 20,
    "start_time": "2023-04-22T06:22:41.835Z"
   },
   {
    "duration": 7,
    "start_time": "2023-04-22T06:22:41.856Z"
   },
   {
    "duration": 2919,
    "start_time": "2023-04-22T06:22:41.865Z"
   },
   {
    "duration": 8,
    "start_time": "2023-04-22T06:22:44.786Z"
   },
   {
    "duration": 318,
    "start_time": "2023-04-22T06:22:44.796Z"
   },
   {
    "duration": 323,
    "start_time": "2023-04-22T06:22:45.116Z"
   },
   {
    "duration": 329,
    "start_time": "2023-04-22T06:22:45.441Z"
   },
   {
    "duration": 3,
    "start_time": "2023-04-22T06:22:45.772Z"
   },
   {
    "duration": 1873,
    "start_time": "2023-04-22T06:22:45.778Z"
   },
   {
    "duration": 2754,
    "start_time": "2023-04-22T06:22:47.653Z"
   },
   {
    "duration": 291,
    "start_time": "2023-04-22T06:22:50.412Z"
   },
   {
    "duration": 17,
    "start_time": "2023-04-22T06:22:50.705Z"
   },
   {
    "duration": 16,
    "start_time": "2023-04-22T06:22:50.724Z"
   },
   {
    "duration": 19,
    "start_time": "2023-04-22T06:22:50.742Z"
   },
   {
    "duration": 73,
    "start_time": "2023-04-22T06:22:50.763Z"
   },
   {
    "duration": 4,
    "start_time": "2023-04-22T06:22:50.838Z"
   },
   {
    "duration": 24,
    "start_time": "2023-04-22T06:22:50.844Z"
   },
   {
    "duration": 5,
    "start_time": "2023-04-22T06:22:50.870Z"
   },
   {
    "duration": 5095,
    "start_time": "2023-04-22T06:22:50.877Z"
   },
   {
    "duration": 4,
    "start_time": "2023-04-22T06:26:36.680Z"
   },
   {
    "duration": 4,
    "start_time": "2023-04-22T06:26:37.231Z"
   },
   {
    "duration": 356,
    "start_time": "2023-04-22T06:26:37.951Z"
   },
   {
    "duration": 8,
    "start_time": "2023-04-22T06:26:40.046Z"
   },
   {
    "duration": 431,
    "start_time": "2023-04-22T06:26:40.382Z"
   },
   {
    "duration": 10,
    "start_time": "2023-04-22T06:26:41.167Z"
   },
   {
    "duration": 358,
    "start_time": "2023-04-22T06:26:42.770Z"
   },
   {
    "duration": 464,
    "start_time": "2023-04-22T06:26:50.349Z"
   },
   {
    "duration": 35446,
    "start_time": "2023-04-22T06:26:51.838Z"
   },
   {
    "duration": 31,
    "start_time": "2023-04-22T06:31:28.228Z"
   },
   {
    "duration": 13,
    "start_time": "2023-04-22T06:31:39.336Z"
   },
   {
    "duration": 221,
    "start_time": "2023-04-22T06:32:19.616Z"
   },
   {
    "duration": 12,
    "start_time": "2023-04-22T06:32:41.761Z"
   },
   {
    "duration": 12,
    "start_time": "2023-04-22T06:32:49.260Z"
   },
   {
    "duration": 13,
    "start_time": "2023-04-22T06:32:56.028Z"
   },
   {
    "duration": 237,
    "start_time": "2023-04-22T06:33:22.162Z"
   },
   {
    "duration": 12,
    "start_time": "2023-04-22T06:33:55.907Z"
   },
   {
    "duration": 4,
    "start_time": "2023-04-22T06:34:47.747Z"
   },
   {
    "duration": 8,
    "start_time": "2023-04-22T06:34:54.112Z"
   },
   {
    "duration": 8,
    "start_time": "2023-04-22T06:35:17.758Z"
   },
   {
    "duration": 9,
    "start_time": "2023-04-22T06:37:02.673Z"
   },
   {
    "duration": 4,
    "start_time": "2023-04-22T06:37:32.728Z"
   },
   {
    "duration": 7,
    "start_time": "2023-04-22T06:37:33.406Z"
   },
   {
    "duration": 5,
    "start_time": "2023-04-22T06:37:57.606Z"
   },
   {
    "duration": 30953,
    "start_time": "2023-04-22T06:38:11.635Z"
   },
   {
    "duration": 29527,
    "start_time": "2023-04-22T06:40:07.533Z"
   },
   {
    "duration": 26,
    "start_time": "2023-04-22T06:41:55.704Z"
   },
   {
    "duration": 27,
    "start_time": "2023-04-22T06:42:28.939Z"
   },
   {
    "duration": 23947,
    "start_time": "2023-04-22T06:42:43.310Z"
   },
   {
    "duration": 4754,
    "start_time": "2023-04-22T06:45:52.012Z"
   },
   {
    "duration": 5,
    "start_time": "2023-04-22T06:45:56.769Z"
   },
   {
    "duration": 18,
    "start_time": "2023-04-22T06:45:56.777Z"
   },
   {
    "duration": 11,
    "start_time": "2023-04-22T06:45:56.797Z"
   },
   {
    "duration": 98,
    "start_time": "2023-04-22T06:45:56.810Z"
   },
   {
    "duration": 21,
    "start_time": "2023-04-22T06:45:56.910Z"
   },
   {
    "duration": 24,
    "start_time": "2023-04-22T06:45:56.932Z"
   },
   {
    "duration": 16,
    "start_time": "2023-04-22T06:45:56.958Z"
   },
   {
    "duration": 53,
    "start_time": "2023-04-22T06:45:56.976Z"
   },
   {
    "duration": 15,
    "start_time": "2023-04-22T06:45:57.033Z"
   },
   {
    "duration": 17,
    "start_time": "2023-04-22T06:45:57.049Z"
   },
   {
    "duration": 10,
    "start_time": "2023-04-22T06:45:57.068Z"
   },
   {
    "duration": 53,
    "start_time": "2023-04-22T06:45:57.079Z"
   },
   {
    "duration": 18,
    "start_time": "2023-04-22T06:45:57.134Z"
   },
   {
    "duration": 226,
    "start_time": "2023-04-22T06:45:57.155Z"
   },
   {
    "duration": 4,
    "start_time": "2023-04-22T06:45:57.384Z"
   },
   {
    "duration": 214,
    "start_time": "2023-04-22T06:45:57.391Z"
   },
   {
    "duration": 23,
    "start_time": "2023-04-22T06:45:57.607Z"
   },
   {
    "duration": 10,
    "start_time": "2023-04-22T06:45:57.632Z"
   },
   {
    "duration": 22,
    "start_time": "2023-04-22T06:45:57.643Z"
   },
   {
    "duration": 19,
    "start_time": "2023-04-22T06:45:57.667Z"
   },
   {
    "duration": 7,
    "start_time": "2023-04-22T06:45:57.688Z"
   },
   {
    "duration": 11,
    "start_time": "2023-04-22T06:45:57.696Z"
   },
   {
    "duration": 10,
    "start_time": "2023-04-22T06:45:57.708Z"
   },
   {
    "duration": 16,
    "start_time": "2023-04-22T06:45:57.719Z"
   },
   {
    "duration": 11,
    "start_time": "2023-04-22T06:45:57.737Z"
   },
   {
    "duration": 8,
    "start_time": "2023-04-22T06:45:57.750Z"
   },
   {
    "duration": 6,
    "start_time": "2023-04-22T06:45:57.764Z"
   },
   {
    "duration": 42,
    "start_time": "2023-04-22T06:45:57.772Z"
   },
   {
    "duration": 11,
    "start_time": "2023-04-22T06:45:57.816Z"
   },
   {
    "duration": 13,
    "start_time": "2023-04-22T06:45:57.829Z"
   },
   {
    "duration": 17,
    "start_time": "2023-04-22T06:45:57.844Z"
   },
   {
    "duration": 11,
    "start_time": "2023-04-22T06:45:57.864Z"
   },
   {
    "duration": 36,
    "start_time": "2023-04-22T06:45:57.877Z"
   },
   {
    "duration": 7,
    "start_time": "2023-04-22T06:45:57.915Z"
   },
   {
    "duration": 8,
    "start_time": "2023-04-22T06:45:57.924Z"
   },
   {
    "duration": 7,
    "start_time": "2023-04-22T06:45:57.934Z"
   },
   {
    "duration": 7,
    "start_time": "2023-04-22T06:45:57.943Z"
   },
   {
    "duration": 15,
    "start_time": "2023-04-22T06:45:57.951Z"
   },
   {
    "duration": 7,
    "start_time": "2023-04-22T06:45:57.967Z"
   },
   {
    "duration": 10,
    "start_time": "2023-04-22T06:45:58.011Z"
   },
   {
    "duration": 14,
    "start_time": "2023-04-22T06:45:58.024Z"
   },
   {
    "duration": 9,
    "start_time": "2023-04-22T06:45:58.040Z"
   },
   {
    "duration": 8,
    "start_time": "2023-04-22T06:45:58.050Z"
   },
   {
    "duration": 69,
    "start_time": "2023-04-22T06:45:58.060Z"
   },
   {
    "duration": 21,
    "start_time": "2023-04-22T06:45:58.131Z"
   },
   {
    "duration": 24,
    "start_time": "2023-04-22T06:45:58.154Z"
   },
   {
    "duration": 6,
    "start_time": "2023-04-22T06:45:58.180Z"
   },
   {
    "duration": 2999,
    "start_time": "2023-04-22T06:45:58.188Z"
   },
   {
    "duration": 7,
    "start_time": "2023-04-22T06:46:01.188Z"
   },
   {
    "duration": 364,
    "start_time": "2023-04-22T06:46:01.197Z"
   },
   {
    "duration": 327,
    "start_time": "2023-04-22T06:46:01.563Z"
   },
   {
    "duration": 332,
    "start_time": "2023-04-22T06:46:01.892Z"
   },
   {
    "duration": 4,
    "start_time": "2023-04-22T06:46:02.226Z"
   },
   {
    "duration": 1996,
    "start_time": "2023-04-22T06:46:02.231Z"
   },
   {
    "duration": 2526,
    "start_time": "2023-04-22T06:46:04.229Z"
   },
   {
    "duration": 324,
    "start_time": "2023-04-22T06:46:06.757Z"
   },
   {
    "duration": 13,
    "start_time": "2023-04-22T06:46:07.083Z"
   },
   {
    "duration": 22,
    "start_time": "2023-04-22T06:46:07.098Z"
   },
   {
    "duration": 4,
    "start_time": "2023-04-22T06:46:07.123Z"
   },
   {
    "duration": 58,
    "start_time": "2023-04-22T06:46:07.129Z"
   },
   {
    "duration": 23,
    "start_time": "2023-04-22T06:46:07.189Z"
   },
   {
    "duration": 7,
    "start_time": "2023-04-22T06:46:07.214Z"
   },
   {
    "duration": 21,
    "start_time": "2023-04-22T06:46:07.223Z"
   },
   {
    "duration": 4977,
    "start_time": "2023-04-22T06:46:07.245Z"
   },
   {
    "duration": 5,
    "start_time": "2023-04-22T06:46:12.224Z"
   },
   {
    "duration": 5,
    "start_time": "2023-04-22T06:46:12.232Z"
   },
   {
    "duration": 373,
    "start_time": "2023-04-22T06:46:12.239Z"
   },
   {
    "duration": 7,
    "start_time": "2023-04-22T06:46:12.614Z"
   },
   {
    "duration": 590,
    "start_time": "2023-04-22T06:46:12.623Z"
   },
   {
    "duration": 13,
    "start_time": "2023-04-22T06:46:13.216Z"
   },
   {
    "duration": 371,
    "start_time": "2023-04-22T06:46:13.311Z"
   },
   {
    "duration": 629,
    "start_time": "2023-04-22T06:46:13.684Z"
   },
   {
    "duration": 35289,
    "start_time": "2023-04-22T06:46:14.315Z"
   },
   {
    "duration": 4,
    "start_time": "2023-04-22T06:46:49.609Z"
   },
   {
    "duration": 30765,
    "start_time": "2023-04-22T06:46:49.615Z"
   },
   {
    "duration": 4671,
    "start_time": "2023-04-22T06:50:29.705Z"
   },
   {
    "duration": 5,
    "start_time": "2023-04-22T06:50:34.379Z"
   },
   {
    "duration": 15,
    "start_time": "2023-04-22T06:50:34.386Z"
   },
   {
    "duration": 20,
    "start_time": "2023-04-22T06:50:34.403Z"
   },
   {
    "duration": 100,
    "start_time": "2023-04-22T06:50:34.426Z"
   },
   {
    "duration": 30,
    "start_time": "2023-04-22T06:50:34.528Z"
   },
   {
    "duration": 26,
    "start_time": "2023-04-22T06:50:34.560Z"
   },
   {
    "duration": 29,
    "start_time": "2023-04-22T06:50:34.587Z"
   },
   {
    "duration": 29,
    "start_time": "2023-04-22T06:50:34.618Z"
   },
   {
    "duration": 11,
    "start_time": "2023-04-22T06:50:34.650Z"
   },
   {
    "duration": 17,
    "start_time": "2023-04-22T06:50:34.663Z"
   },
   {
    "duration": 38,
    "start_time": "2023-04-22T06:50:34.682Z"
   },
   {
    "duration": 29,
    "start_time": "2023-04-22T06:50:34.722Z"
   },
   {
    "duration": 16,
    "start_time": "2023-04-22T06:50:34.753Z"
   },
   {
    "duration": 397,
    "start_time": "2023-04-22T06:50:34.770Z"
   },
   {
    "duration": 5,
    "start_time": "2023-04-22T06:50:35.169Z"
   },
   {
    "duration": 210,
    "start_time": "2023-04-22T06:50:35.176Z"
   },
   {
    "duration": 8,
    "start_time": "2023-04-22T06:50:35.388Z"
   },
   {
    "duration": 21,
    "start_time": "2023-04-22T06:50:35.398Z"
   },
   {
    "duration": 12,
    "start_time": "2023-04-22T06:50:35.421Z"
   },
   {
    "duration": 7,
    "start_time": "2023-04-22T06:50:35.435Z"
   },
   {
    "duration": 9,
    "start_time": "2023-04-22T06:50:35.445Z"
   },
   {
    "duration": 9,
    "start_time": "2023-04-22T06:50:35.456Z"
   },
   {
    "duration": 45,
    "start_time": "2023-04-22T06:50:35.467Z"
   },
   {
    "duration": 14,
    "start_time": "2023-04-22T06:50:35.514Z"
   },
   {
    "duration": 10,
    "start_time": "2023-04-22T06:50:35.529Z"
   },
   {
    "duration": 8,
    "start_time": "2023-04-22T06:50:35.541Z"
   },
   {
    "duration": 8,
    "start_time": "2023-04-22T06:50:35.554Z"
   },
   {
    "duration": 19,
    "start_time": "2023-04-22T06:50:35.563Z"
   },
   {
    "duration": 34,
    "start_time": "2023-04-22T06:50:35.584Z"
   },
   {
    "duration": 13,
    "start_time": "2023-04-22T06:50:35.621Z"
   },
   {
    "duration": 22,
    "start_time": "2023-04-22T06:50:35.636Z"
   },
   {
    "duration": 15,
    "start_time": "2023-04-22T06:50:35.660Z"
   },
   {
    "duration": 35,
    "start_time": "2023-04-22T06:50:35.677Z"
   },
   {
    "duration": 9,
    "start_time": "2023-04-22T06:50:35.714Z"
   },
   {
    "duration": 7,
    "start_time": "2023-04-22T06:50:35.725Z"
   },
   {
    "duration": 9,
    "start_time": "2023-04-22T06:50:35.734Z"
   },
   {
    "duration": 18,
    "start_time": "2023-04-22T06:50:35.745Z"
   },
   {
    "duration": 19,
    "start_time": "2023-04-22T06:50:35.764Z"
   },
   {
    "duration": 31,
    "start_time": "2023-04-22T06:50:35.785Z"
   },
   {
    "duration": 19,
    "start_time": "2023-04-22T06:50:35.817Z"
   },
   {
    "duration": 14,
    "start_time": "2023-04-22T06:50:35.838Z"
   },
   {
    "duration": 12,
    "start_time": "2023-04-22T06:50:35.854Z"
   },
   {
    "duration": 7,
    "start_time": "2023-04-22T06:50:35.868Z"
   },
   {
    "duration": 56,
    "start_time": "2023-04-22T06:50:35.877Z"
   },
   {
    "duration": 19,
    "start_time": "2023-04-22T06:50:35.935Z"
   },
   {
    "duration": 21,
    "start_time": "2023-04-22T06:50:35.956Z"
   },
   {
    "duration": 6,
    "start_time": "2023-04-22T06:50:35.979Z"
   },
   {
    "duration": 2817,
    "start_time": "2023-04-22T06:50:35.986Z"
   },
   {
    "duration": 10,
    "start_time": "2023-04-22T06:50:38.806Z"
   },
   {
    "duration": 400,
    "start_time": "2023-04-22T06:50:38.818Z"
   },
   {
    "duration": 788,
    "start_time": "2023-04-22T06:50:39.220Z"
   },
   {
    "duration": 311,
    "start_time": "2023-04-22T06:50:40.011Z"
   },
   {
    "duration": 4,
    "start_time": "2023-04-22T06:50:40.323Z"
   },
   {
    "duration": 1420,
    "start_time": "2023-04-22T06:50:40.329Z"
   },
   {
    "duration": 2632,
    "start_time": "2023-04-22T06:50:41.751Z"
   },
   {
    "duration": 299,
    "start_time": "2023-04-22T06:50:44.385Z"
   },
   {
    "duration": 26,
    "start_time": "2023-04-22T06:50:44.686Z"
   },
   {
    "duration": 13,
    "start_time": "2023-04-22T06:50:44.714Z"
   },
   {
    "duration": 8,
    "start_time": "2023-04-22T06:50:44.729Z"
   },
   {
    "duration": 56,
    "start_time": "2023-04-22T06:50:44.739Z"
   },
   {
    "duration": 18,
    "start_time": "2023-04-22T06:50:44.797Z"
   },
   {
    "duration": 19,
    "start_time": "2023-04-22T06:50:44.816Z"
   },
   {
    "duration": 5,
    "start_time": "2023-04-22T06:50:44.836Z"
   },
   {
    "duration": 4886,
    "start_time": "2023-04-22T06:50:44.843Z"
   },
   {
    "duration": 3,
    "start_time": "2023-04-22T06:50:49.731Z"
   },
   {
    "duration": 6,
    "start_time": "2023-04-22T06:50:49.736Z"
   },
   {
    "duration": 395,
    "start_time": "2023-04-22T06:50:49.746Z"
   },
   {
    "duration": 4,
    "start_time": "2023-04-22T06:50:59.169Z"
   },
   {
    "duration": 48228,
    "start_time": "2023-04-22T06:50:59.964Z"
   },
   {
    "duration": 4576,
    "start_time": "2023-04-22T06:52:35.870Z"
   },
   {
    "duration": 2567,
    "start_time": "2023-04-22T06:52:40.449Z"
   },
   {
    "duration": 3,
    "start_time": "2023-04-22T06:52:43.018Z"
   },
   {
    "duration": 4990,
    "start_time": "2023-04-22T06:52:43.023Z"
   },
   {
    "duration": 68,
    "start_time": "2023-04-22T06:52:48.015Z"
   },
   {
    "duration": 19,
    "start_time": "2023-04-22T06:52:48.085Z"
   },
   {
    "duration": 21,
    "start_time": "2023-04-22T06:52:48.105Z"
   },
   {
    "duration": 15,
    "start_time": "2023-04-22T06:52:48.128Z"
   },
   {
    "duration": 32,
    "start_time": "2023-04-22T06:52:48.145Z"
   },
   {
    "duration": 11,
    "start_time": "2023-04-22T06:52:48.179Z"
   },
   {
    "duration": 16,
    "start_time": "2023-04-22T06:52:48.212Z"
   },
   {
    "duration": 11,
    "start_time": "2023-04-22T06:52:48.229Z"
   },
   {
    "duration": 27,
    "start_time": "2023-04-22T06:52:48.242Z"
   },
   {
    "duration": 45,
    "start_time": "2023-04-22T06:52:48.274Z"
   },
   {
    "duration": 199,
    "start_time": "2023-04-22T06:52:48.321Z"
   },
   {
    "duration": 6,
    "start_time": "2023-04-22T06:52:48.522Z"
   },
   {
    "duration": 425,
    "start_time": "2023-04-22T06:52:48.530Z"
   },
   {
    "duration": 10,
    "start_time": "2023-04-22T06:52:48.957Z"
   },
   {
    "duration": 9,
    "start_time": "2023-04-22T06:52:48.969Z"
   },
   {
    "duration": 34,
    "start_time": "2023-04-22T06:52:48.980Z"
   },
   {
    "duration": 11,
    "start_time": "2023-04-22T06:52:49.017Z"
   },
   {
    "duration": 10,
    "start_time": "2023-04-22T06:52:49.030Z"
   },
   {
    "duration": 11,
    "start_time": "2023-04-22T06:52:49.042Z"
   },
   {
    "duration": 12,
    "start_time": "2023-04-22T06:52:49.055Z"
   },
   {
    "duration": 51,
    "start_time": "2023-04-22T06:52:49.069Z"
   },
   {
    "duration": 11,
    "start_time": "2023-04-22T06:52:49.122Z"
   },
   {
    "duration": 7,
    "start_time": "2023-04-22T06:52:49.135Z"
   },
   {
    "duration": 8,
    "start_time": "2023-04-22T06:52:49.144Z"
   },
   {
    "duration": 12,
    "start_time": "2023-04-22T06:52:49.154Z"
   },
   {
    "duration": 8,
    "start_time": "2023-04-22T06:52:49.167Z"
   },
   {
    "duration": 46,
    "start_time": "2023-04-22T06:52:49.176Z"
   },
   {
    "duration": 15,
    "start_time": "2023-04-22T06:52:49.224Z"
   },
   {
    "duration": 11,
    "start_time": "2023-04-22T06:52:49.241Z"
   },
   {
    "duration": 8,
    "start_time": "2023-04-22T06:52:49.254Z"
   },
   {
    "duration": 11,
    "start_time": "2023-04-22T06:52:49.264Z"
   },
   {
    "duration": 8,
    "start_time": "2023-04-22T06:52:49.312Z"
   },
   {
    "duration": 7,
    "start_time": "2023-04-22T06:52:49.322Z"
   },
   {
    "duration": 11,
    "start_time": "2023-04-22T06:52:49.331Z"
   },
   {
    "duration": 12,
    "start_time": "2023-04-22T06:52:49.344Z"
   },
   {
    "duration": 8,
    "start_time": "2023-04-22T06:52:49.358Z"
   },
   {
    "duration": 7,
    "start_time": "2023-04-22T06:52:49.371Z"
   },
   {
    "duration": 12,
    "start_time": "2023-04-22T06:52:49.411Z"
   },
   {
    "duration": 8,
    "start_time": "2023-04-22T06:52:49.425Z"
   },
   {
    "duration": 8,
    "start_time": "2023-04-22T06:52:49.434Z"
   },
   {
    "duration": 33,
    "start_time": "2023-04-22T06:52:49.444Z"
   },
   {
    "duration": 45,
    "start_time": "2023-04-22T06:52:49.479Z"
   },
   {
    "duration": 30,
    "start_time": "2023-04-22T06:52:49.525Z"
   },
   {
    "duration": 7,
    "start_time": "2023-04-22T06:52:49.556Z"
   },
   {
    "duration": 2609,
    "start_time": "2023-04-22T06:52:49.565Z"
   },
   {
    "duration": 8,
    "start_time": "2023-04-22T06:52:52.176Z"
   },
   {
    "duration": 315,
    "start_time": "2023-04-22T06:52:52.185Z"
   },
   {
    "duration": 338,
    "start_time": "2023-04-22T06:52:52.502Z"
   },
   {
    "duration": 347,
    "start_time": "2023-04-22T06:52:52.842Z"
   },
   {
    "duration": 4,
    "start_time": "2023-04-22T06:52:53.191Z"
   },
   {
    "duration": 1683,
    "start_time": "2023-04-22T06:52:53.197Z"
   },
   {
    "duration": 2533,
    "start_time": "2023-04-22T06:52:54.882Z"
   },
   {
    "duration": 306,
    "start_time": "2023-04-22T06:52:57.417Z"
   },
   {
    "duration": 13,
    "start_time": "2023-04-22T06:52:57.725Z"
   },
   {
    "duration": 18,
    "start_time": "2023-04-22T06:52:57.740Z"
   },
   {
    "duration": 4,
    "start_time": "2023-04-22T06:52:57.760Z"
   },
   {
    "duration": 71,
    "start_time": "2023-04-22T06:52:57.766Z"
   },
   {
    "duration": 4,
    "start_time": "2023-04-22T06:52:57.839Z"
   },
   {
    "duration": 36,
    "start_time": "2023-04-22T06:52:57.845Z"
   },
   {
    "duration": 56,
    "start_time": "2023-04-22T06:52:57.883Z"
   },
   {
    "duration": 5108,
    "start_time": "2023-04-22T06:52:57.940Z"
   },
   {
    "duration": 3,
    "start_time": "2023-04-22T06:53:03.051Z"
   },
   {
    "duration": 12,
    "start_time": "2023-04-22T06:53:03.056Z"
   },
   {
    "duration": 45960,
    "start_time": "2023-04-22T06:53:03.069Z"
   },
   {
    "duration": 27,
    "start_time": "2023-04-22T06:54:52.959Z"
   },
   {
    "duration": 50221,
    "start_time": "2023-04-22T06:55:15.861Z"
   },
   {
    "duration": 49223,
    "start_time": "2023-04-22T06:56:17.164Z"
   },
   {
    "duration": 51742,
    "start_time": "2023-04-22T06:57:23.369Z"
   },
   {
    "duration": 886,
    "start_time": "2023-04-22T06:58:36.930Z"
   },
   {
    "duration": 35912,
    "start_time": "2023-04-22T06:58:40.096Z"
   },
   {
    "duration": 31745,
    "start_time": "2023-04-22T06:59:43.518Z"
   },
   {
    "duration": 31842,
    "start_time": "2023-04-22T07:04:49.895Z"
   },
   {
    "duration": 4817,
    "start_time": "2023-04-22T07:05:35.826Z"
   },
   {
    "duration": 6,
    "start_time": "2023-04-22T07:05:40.646Z"
   },
   {
    "duration": 7,
    "start_time": "2023-04-22T07:05:40.653Z"
   },
   {
    "duration": 7,
    "start_time": "2023-04-22T07:05:40.662Z"
   },
   {
    "duration": 103,
    "start_time": "2023-04-22T07:05:40.671Z"
   },
   {
    "duration": 21,
    "start_time": "2023-04-22T07:05:40.777Z"
   },
   {
    "duration": 24,
    "start_time": "2023-04-22T07:05:40.800Z"
   },
   {
    "duration": 15,
    "start_time": "2023-04-22T07:05:40.826Z"
   },
   {
    "duration": 29,
    "start_time": "2023-04-22T07:05:40.843Z"
   },
   {
    "duration": 11,
    "start_time": "2023-04-22T07:05:40.874Z"
   },
   {
    "duration": 41,
    "start_time": "2023-04-22T07:05:40.887Z"
   },
   {
    "duration": 12,
    "start_time": "2023-04-22T07:05:40.930Z"
   },
   {
    "duration": 34,
    "start_time": "2023-04-22T07:05:40.944Z"
   },
   {
    "duration": 38,
    "start_time": "2023-04-22T07:05:40.982Z"
   },
   {
    "duration": 195,
    "start_time": "2023-04-22T07:05:41.021Z"
   },
   {
    "duration": 5,
    "start_time": "2023-04-22T07:05:41.218Z"
   },
   {
    "duration": 213,
    "start_time": "2023-04-22T07:05:41.225Z"
   },
   {
    "duration": 8,
    "start_time": "2023-04-22T07:05:41.440Z"
   },
   {
    "duration": 12,
    "start_time": "2023-04-22T07:05:41.450Z"
   },
   {
    "duration": 16,
    "start_time": "2023-04-22T07:05:41.464Z"
   },
   {
    "duration": 6,
    "start_time": "2023-04-22T07:05:41.482Z"
   },
   {
    "duration": 7,
    "start_time": "2023-04-22T07:05:41.516Z"
   },
   {
    "duration": 10,
    "start_time": "2023-04-22T07:05:41.525Z"
   },
   {
    "duration": 21,
    "start_time": "2023-04-22T07:05:41.536Z"
   },
   {
    "duration": 13,
    "start_time": "2023-04-22T07:05:41.559Z"
   },
   {
    "duration": 11,
    "start_time": "2023-04-22T07:05:41.574Z"
   },
   {
    "duration": 6,
    "start_time": "2023-04-22T07:05:41.587Z"
   },
   {
    "duration": 23,
    "start_time": "2023-04-22T07:05:41.594Z"
   },
   {
    "duration": 9,
    "start_time": "2023-04-22T07:05:41.619Z"
   },
   {
    "duration": 10,
    "start_time": "2023-04-22T07:05:41.630Z"
   },
   {
    "duration": 21,
    "start_time": "2023-04-22T07:05:41.642Z"
   },
   {
    "duration": 16,
    "start_time": "2023-04-22T07:05:41.665Z"
   },
   {
    "duration": 35,
    "start_time": "2023-04-22T07:05:41.683Z"
   },
   {
    "duration": 7,
    "start_time": "2023-04-22T07:05:41.720Z"
   },
   {
    "duration": 8,
    "start_time": "2023-04-22T07:05:41.729Z"
   },
   {
    "duration": 17,
    "start_time": "2023-04-22T07:05:41.738Z"
   },
   {
    "duration": 7,
    "start_time": "2023-04-22T07:05:41.757Z"
   },
   {
    "duration": 7,
    "start_time": "2023-04-22T07:05:41.766Z"
   },
   {
    "duration": 8,
    "start_time": "2023-04-22T07:05:41.774Z"
   },
   {
    "duration": 8,
    "start_time": "2023-04-22T07:05:41.812Z"
   },
   {
    "duration": 7,
    "start_time": "2023-04-22T07:05:41.825Z"
   },
   {
    "duration": 11,
    "start_time": "2023-04-22T07:05:41.834Z"
   },
   {
    "duration": 15,
    "start_time": "2023-04-22T07:05:41.847Z"
   },
   {
    "duration": 9,
    "start_time": "2023-04-22T07:05:41.864Z"
   },
   {
    "duration": 71,
    "start_time": "2023-04-22T07:05:41.875Z"
   },
   {
    "duration": 20,
    "start_time": "2023-04-22T07:05:41.949Z"
   },
   {
    "duration": 21,
    "start_time": "2023-04-22T07:05:41.971Z"
   },
   {
    "duration": 7,
    "start_time": "2023-04-22T07:05:42.011Z"
   },
   {
    "duration": 2901,
    "start_time": "2023-04-22T07:05:42.020Z"
   },
   {
    "duration": 8,
    "start_time": "2023-04-22T07:05:44.923Z"
   },
   {
    "duration": 513,
    "start_time": "2023-04-22T07:05:44.933Z"
   },
   {
    "duration": 330,
    "start_time": "2023-04-22T07:05:45.448Z"
   },
   {
    "duration": 323,
    "start_time": "2023-04-22T07:05:45.780Z"
   },
   {
    "duration": 4,
    "start_time": "2023-04-22T07:05:46.112Z"
   },
   {
    "duration": 1459,
    "start_time": "2023-04-22T07:05:46.118Z"
   },
   {
    "duration": 2884,
    "start_time": "2023-04-22T07:05:47.578Z"
   },
   {
    "duration": 326,
    "start_time": "2023-04-22T07:05:50.464Z"
   },
   {
    "duration": 20,
    "start_time": "2023-04-22T07:05:50.792Z"
   },
   {
    "duration": 40,
    "start_time": "2023-04-22T07:05:50.815Z"
   },
   {
    "duration": 9,
    "start_time": "2023-04-22T07:05:50.857Z"
   },
   {
    "duration": 67,
    "start_time": "2023-04-22T07:05:50.868Z"
   },
   {
    "duration": 6,
    "start_time": "2023-04-22T07:05:50.937Z"
   },
   {
    "duration": 12,
    "start_time": "2023-04-22T07:05:50.945Z"
   },
   {
    "duration": 6,
    "start_time": "2023-04-22T07:05:50.960Z"
   },
   {
    "duration": 5394,
    "start_time": "2023-04-22T07:05:50.968Z"
   },
   {
    "duration": 793,
    "start_time": "2023-04-22T07:06:11.627Z"
   },
   {
    "duration": 791,
    "start_time": "2023-04-22T07:06:23.210Z"
   },
   {
    "duration": 885,
    "start_time": "2023-04-22T07:06:33.684Z"
   },
   {
    "duration": 4909,
    "start_time": "2023-04-22T07:08:40.413Z"
   },
   {
    "duration": 2611,
    "start_time": "2023-04-22T07:08:45.326Z"
   },
   {
    "duration": 4,
    "start_time": "2023-04-22T07:08:47.939Z"
   },
   {
    "duration": 5040,
    "start_time": "2023-04-22T07:08:47.944Z"
   },
   {
    "duration": 114,
    "start_time": "2023-04-22T07:08:52.986Z"
   },
   {
    "duration": 24,
    "start_time": "2023-04-22T07:08:53.103Z"
   },
   {
    "duration": 38,
    "start_time": "2023-04-22T07:08:53.130Z"
   },
   {
    "duration": 24,
    "start_time": "2023-04-22T07:08:53.170Z"
   },
   {
    "duration": 53,
    "start_time": "2023-04-22T07:08:53.196Z"
   },
   {
    "duration": 18,
    "start_time": "2023-04-22T07:08:53.251Z"
   },
   {
    "duration": 41,
    "start_time": "2023-04-22T07:08:53.271Z"
   },
   {
    "duration": 14,
    "start_time": "2023-04-22T07:08:53.314Z"
   },
   {
    "duration": 55,
    "start_time": "2023-04-22T07:08:53.331Z"
   },
   {
    "duration": 40,
    "start_time": "2023-04-22T07:08:53.390Z"
   },
   {
    "duration": 247,
    "start_time": "2023-04-22T07:08:53.433Z"
   },
   {
    "duration": 5,
    "start_time": "2023-04-22T07:08:53.682Z"
   },
   {
    "duration": 452,
    "start_time": "2023-04-22T07:08:53.689Z"
   },
   {
    "duration": 16,
    "start_time": "2023-04-22T07:08:54.144Z"
   },
   {
    "duration": 20,
    "start_time": "2023-04-22T07:08:54.162Z"
   },
   {
    "duration": 45,
    "start_time": "2023-04-22T07:08:54.185Z"
   },
   {
    "duration": 9,
    "start_time": "2023-04-22T07:08:54.232Z"
   },
   {
    "duration": 19,
    "start_time": "2023-04-22T07:08:54.243Z"
   },
   {
    "duration": 10,
    "start_time": "2023-04-22T07:08:54.265Z"
   },
   {
    "duration": 14,
    "start_time": "2023-04-22T07:08:54.277Z"
   },
   {
    "duration": 34,
    "start_time": "2023-04-22T07:08:54.294Z"
   },
   {
    "duration": 17,
    "start_time": "2023-04-22T07:08:54.331Z"
   },
   {
    "duration": 19,
    "start_time": "2023-04-22T07:08:54.350Z"
   },
   {
    "duration": 14,
    "start_time": "2023-04-22T07:08:54.371Z"
   },
   {
    "duration": 9,
    "start_time": "2023-04-22T07:08:54.387Z"
   },
   {
    "duration": 9,
    "start_time": "2023-04-22T07:08:54.413Z"
   },
   {
    "duration": 15,
    "start_time": "2023-04-22T07:08:54.423Z"
   },
   {
    "duration": 19,
    "start_time": "2023-04-22T07:08:54.440Z"
   },
   {
    "duration": 50,
    "start_time": "2023-04-22T07:08:54.462Z"
   },
   {
    "duration": 11,
    "start_time": "2023-04-22T07:08:54.514Z"
   },
   {
    "duration": 20,
    "start_time": "2023-04-22T07:08:54.528Z"
   },
   {
    "duration": 72,
    "start_time": "2023-04-22T07:08:54.550Z"
   },
   {
    "duration": 58,
    "start_time": "2023-04-22T07:08:54.625Z"
   },
   {
    "duration": 41,
    "start_time": "2023-04-22T07:08:54.685Z"
   },
   {
    "duration": 10,
    "start_time": "2023-04-22T07:08:54.728Z"
   },
   {
    "duration": 14,
    "start_time": "2023-04-22T07:08:54.740Z"
   },
   {
    "duration": 8,
    "start_time": "2023-04-22T07:08:54.760Z"
   },
   {
    "duration": 15,
    "start_time": "2023-04-22T07:08:54.771Z"
   },
   {
    "duration": 33,
    "start_time": "2023-04-22T07:08:54.788Z"
   },
   {
    "duration": 11,
    "start_time": "2023-04-22T07:08:54.823Z"
   },
   {
    "duration": 52,
    "start_time": "2023-04-22T07:08:54.836Z"
   },
   {
    "duration": 48,
    "start_time": "2023-04-22T07:08:54.890Z"
   },
   {
    "duration": 23,
    "start_time": "2023-04-22T07:08:54.941Z"
   },
   {
    "duration": 10,
    "start_time": "2023-04-22T07:08:54.967Z"
   },
   {
    "duration": 2903,
    "start_time": "2023-04-22T07:08:54.979Z"
   },
   {
    "duration": 9,
    "start_time": "2023-04-22T07:08:57.884Z"
   },
   {
    "duration": 350,
    "start_time": "2023-04-22T07:08:57.895Z"
   },
   {
    "duration": 351,
    "start_time": "2023-04-22T07:08:58.247Z"
   },
   {
    "duration": 400,
    "start_time": "2023-04-22T07:08:58.600Z"
   },
   {
    "duration": 14,
    "start_time": "2023-04-22T07:08:59.002Z"
   },
   {
    "duration": 1824,
    "start_time": "2023-04-22T07:08:59.020Z"
   },
   {
    "duration": 2677,
    "start_time": "2023-04-22T07:09:00.847Z"
   },
   {
    "duration": 317,
    "start_time": "2023-04-22T07:09:03.527Z"
   },
   {
    "duration": 13,
    "start_time": "2023-04-22T07:09:03.846Z"
   },
   {
    "duration": 21,
    "start_time": "2023-04-22T07:09:03.862Z"
   },
   {
    "duration": 4,
    "start_time": "2023-04-22T07:09:03.885Z"
   },
   {
    "duration": 76,
    "start_time": "2023-04-22T07:09:03.891Z"
   },
   {
    "duration": 4,
    "start_time": "2023-04-22T07:09:03.969Z"
   },
   {
    "duration": 9,
    "start_time": "2023-04-22T07:09:03.975Z"
   },
   {
    "duration": 7,
    "start_time": "2023-04-22T07:09:03.986Z"
   },
   {
    "duration": 5001,
    "start_time": "2023-04-22T07:09:03.995Z"
   },
   {
    "duration": 871,
    "start_time": "2023-04-22T07:09:08.999Z"
   },
   {
    "duration": 4,
    "start_time": "2023-04-22T07:09:09.872Z"
   },
   {
    "duration": 20,
    "start_time": "2023-04-22T07:09:09.878Z"
   },
   {
    "duration": 48303,
    "start_time": "2023-04-22T07:09:09.901Z"
   },
   {
    "duration": 462,
    "start_time": "2023-04-22T07:10:08.151Z"
   },
   {
    "duration": 36485,
    "start_time": "2023-04-22T07:10:08.618Z"
   },
   {
    "duration": 5,
    "start_time": "2023-04-22T07:12:13.108Z"
   },
   {
    "duration": 4,
    "start_time": "2023-04-22T07:12:58.318Z"
   },
   {
    "duration": 1022,
    "start_time": "2023-04-22T07:13:03.173Z"
   },
   {
    "duration": 6,
    "start_time": "2023-04-22T07:13:23.257Z"
   },
   {
    "duration": 1837,
    "start_time": "2023-04-22T07:13:23.977Z"
   },
   {
    "duration": 5,
    "start_time": "2023-04-22T07:15:35.717Z"
   },
   {
    "duration": 857,
    "start_time": "2023-04-22T07:15:36.557Z"
   },
   {
    "duration": 5,
    "start_time": "2023-04-22T07:18:55.651Z"
   },
   {
    "duration": 1093,
    "start_time": "2023-04-22T07:18:56.040Z"
   },
   {
    "duration": 6,
    "start_time": "2023-04-22T07:19:46.322Z"
   },
   {
    "duration": 905,
    "start_time": "2023-04-22T07:19:53.025Z"
   },
   {
    "duration": 4,
    "start_time": "2023-04-22T07:20:13.519Z"
   },
   {
    "duration": 1097,
    "start_time": "2023-04-22T07:20:13.719Z"
   },
   {
    "duration": 5,
    "start_time": "2023-04-22T07:20:57.632Z"
   },
   {
    "duration": 40517,
    "start_time": "2023-04-22T07:20:58.337Z"
   },
   {
    "duration": 5,
    "start_time": "2023-04-22T07:21:47.937Z"
   },
   {
    "duration": 64302,
    "start_time": "2023-04-22T07:21:52.549Z"
   },
   {
    "duration": 6,
    "start_time": "2023-04-22T07:23:05.867Z"
   },
   {
    "duration": 1497,
    "start_time": "2023-04-22T07:23:06.530Z"
   },
   {
    "duration": 5,
    "start_time": "2023-04-22T07:23:40.038Z"
   },
   {
    "duration": 1757,
    "start_time": "2023-04-22T07:23:44.857Z"
   },
   {
    "duration": 4898,
    "start_time": "2023-04-22T07:24:38.735Z"
   },
   {
    "duration": 6,
    "start_time": "2023-04-22T07:24:43.636Z"
   },
   {
    "duration": 6,
    "start_time": "2023-04-22T07:24:43.644Z"
   },
   {
    "duration": 8,
    "start_time": "2023-04-22T07:24:43.653Z"
   },
   {
    "duration": 392,
    "start_time": "2023-04-22T07:24:43.664Z"
   },
   {
    "duration": 21,
    "start_time": "2023-04-22T07:24:44.058Z"
   },
   {
    "duration": 31,
    "start_time": "2023-04-22T07:24:44.081Z"
   },
   {
    "duration": 15,
    "start_time": "2023-04-22T07:24:44.114Z"
   },
   {
    "duration": 34,
    "start_time": "2023-04-22T07:24:44.131Z"
   },
   {
    "duration": 44,
    "start_time": "2023-04-22T07:24:44.167Z"
   },
   {
    "duration": 15,
    "start_time": "2023-04-22T07:24:44.214Z"
   },
   {
    "duration": 12,
    "start_time": "2023-04-22T07:24:44.231Z"
   },
   {
    "duration": 31,
    "start_time": "2023-04-22T07:24:44.244Z"
   },
   {
    "duration": 47,
    "start_time": "2023-04-22T07:24:44.277Z"
   },
   {
    "duration": 203,
    "start_time": "2023-04-22T07:24:44.326Z"
   },
   {
    "duration": 5,
    "start_time": "2023-04-22T07:24:44.531Z"
   },
   {
    "duration": 261,
    "start_time": "2023-04-22T07:24:44.539Z"
   },
   {
    "duration": 16,
    "start_time": "2023-04-22T07:24:44.803Z"
   },
   {
    "duration": 11,
    "start_time": "2023-04-22T07:24:44.822Z"
   },
   {
    "duration": 19,
    "start_time": "2023-04-22T07:24:44.835Z"
   },
   {
    "duration": 8,
    "start_time": "2023-04-22T07:24:44.856Z"
   },
   {
    "duration": 10,
    "start_time": "2023-04-22T07:24:44.867Z"
   },
   {
    "duration": 11,
    "start_time": "2023-04-22T07:24:44.911Z"
   },
   {
    "duration": 18,
    "start_time": "2023-04-22T07:24:44.925Z"
   },
   {
    "duration": 31,
    "start_time": "2023-04-22T07:24:44.946Z"
   },
   {
    "duration": 18,
    "start_time": "2023-04-22T07:24:44.979Z"
   },
   {
    "duration": 14,
    "start_time": "2023-04-22T07:24:44.999Z"
   },
   {
    "duration": 18,
    "start_time": "2023-04-22T07:24:45.020Z"
   },
   {
    "duration": 19,
    "start_time": "2023-04-22T07:24:45.041Z"
   },
   {
    "duration": 12,
    "start_time": "2023-04-22T07:24:45.062Z"
   },
   {
    "duration": 33,
    "start_time": "2023-04-22T07:24:45.076Z"
   },
   {
    "duration": 15,
    "start_time": "2023-04-22T07:24:45.112Z"
   },
   {
    "duration": 12,
    "start_time": "2023-04-22T07:24:45.130Z"
   },
   {
    "duration": 7,
    "start_time": "2023-04-22T07:24:45.144Z"
   },
   {
    "duration": 10,
    "start_time": "2023-04-22T07:24:45.153Z"
   },
   {
    "duration": 9,
    "start_time": "2023-04-22T07:24:45.165Z"
   },
   {
    "duration": 10,
    "start_time": "2023-04-22T07:24:45.211Z"
   },
   {
    "duration": 8,
    "start_time": "2023-04-22T07:24:45.223Z"
   },
   {
    "duration": 9,
    "start_time": "2023-04-22T07:24:45.232Z"
   },
   {
    "duration": 8,
    "start_time": "2023-04-22T07:24:45.243Z"
   },
   {
    "duration": 9,
    "start_time": "2023-04-22T07:24:45.252Z"
   },
   {
    "duration": 56,
    "start_time": "2023-04-22T07:24:45.263Z"
   },
   {
    "duration": 9,
    "start_time": "2023-04-22T07:24:45.321Z"
   },
   {
    "duration": 11,
    "start_time": "2023-04-22T07:24:45.332Z"
   },
   {
    "duration": 73,
    "start_time": "2023-04-22T07:24:45.345Z"
   },
   {
    "duration": 23,
    "start_time": "2023-04-22T07:24:45.421Z"
   },
   {
    "duration": 23,
    "start_time": "2023-04-22T07:24:45.446Z"
   },
   {
    "duration": 7,
    "start_time": "2023-04-22T07:24:45.471Z"
   },
   {
    "duration": 2783,
    "start_time": "2023-04-22T07:24:45.481Z"
   },
   {
    "duration": 8,
    "start_time": "2023-04-22T07:24:48.266Z"
   },
   {
    "duration": 329,
    "start_time": "2023-04-22T07:24:48.277Z"
   },
   {
    "duration": 420,
    "start_time": "2023-04-22T07:24:48.612Z"
   },
   {
    "duration": 494,
    "start_time": "2023-04-22T07:24:49.035Z"
   },
   {
    "duration": 3,
    "start_time": "2023-04-22T07:24:49.531Z"
   },
   {
    "duration": 1544,
    "start_time": "2023-04-22T07:24:49.537Z"
   },
   {
    "duration": 3001,
    "start_time": "2023-04-22T07:24:51.084Z"
   },
   {
    "duration": 327,
    "start_time": "2023-04-22T07:24:54.087Z"
   },
   {
    "duration": 17,
    "start_time": "2023-04-22T07:24:54.421Z"
   },
   {
    "duration": 24,
    "start_time": "2023-04-22T07:24:54.440Z"
   },
   {
    "duration": 8,
    "start_time": "2023-04-22T07:24:54.466Z"
   },
   {
    "duration": 87,
    "start_time": "2023-04-22T07:24:54.477Z"
   },
   {
    "duration": 5,
    "start_time": "2023-04-22T07:24:54.566Z"
   },
   {
    "duration": 11,
    "start_time": "2023-04-22T07:24:54.573Z"
   },
   {
    "duration": 15,
    "start_time": "2023-04-22T07:24:54.586Z"
   },
   {
    "duration": 2884,
    "start_time": "2023-04-22T07:24:54.604Z"
   },
   {
    "duration": 424,
    "start_time": "2023-04-22T07:24:57.489Z"
   },
   {
    "duration": 6,
    "start_time": "2023-04-22T07:24:57.916Z"
   },
   {
    "duration": 14,
    "start_time": "2023-04-22T07:24:57.925Z"
   },
   {
    "duration": 2540,
    "start_time": "2023-04-22T07:24:57.941Z"
   },
   {
    "duration": 829,
    "start_time": "2023-04-22T07:25:00.483Z"
   },
   {
    "duration": 1432,
    "start_time": "2023-04-22T07:25:01.314Z"
   },
   {
    "duration": 6,
    "start_time": "2023-04-22T07:28:10.767Z"
   },
   {
    "duration": 5,
    "start_time": "2023-04-22T07:28:45.197Z"
   },
   {
    "duration": 1036,
    "start_time": "2023-04-22T07:28:45.963Z"
   },
   {
    "duration": 4906,
    "start_time": "2023-04-22T07:29:02.914Z"
   },
   {
    "duration": 7,
    "start_time": "2023-04-22T07:29:07.824Z"
   },
   {
    "duration": 11,
    "start_time": "2023-04-22T07:29:07.833Z"
   },
   {
    "duration": 7,
    "start_time": "2023-04-22T07:29:07.847Z"
   },
   {
    "duration": 117,
    "start_time": "2023-04-22T07:29:07.855Z"
   },
   {
    "duration": 22,
    "start_time": "2023-04-22T07:29:07.974Z"
   },
   {
    "duration": 24,
    "start_time": "2023-04-22T07:29:07.997Z"
   },
   {
    "duration": 17,
    "start_time": "2023-04-22T07:29:08.023Z"
   },
   {
    "duration": 31,
    "start_time": "2023-04-22T07:29:08.042Z"
   },
   {
    "duration": 12,
    "start_time": "2023-04-22T07:29:08.076Z"
   },
   {
    "duration": 15,
    "start_time": "2023-04-22T07:29:08.112Z"
   },
   {
    "duration": 11,
    "start_time": "2023-04-22T07:29:08.129Z"
   },
   {
    "duration": 29,
    "start_time": "2023-04-22T07:29:08.142Z"
   },
   {
    "duration": 45,
    "start_time": "2023-04-22T07:29:08.173Z"
   },
   {
    "duration": 199,
    "start_time": "2023-04-22T07:29:08.220Z"
   },
   {
    "duration": 5,
    "start_time": "2023-04-22T07:29:08.421Z"
   },
   {
    "duration": 439,
    "start_time": "2023-04-22T07:29:08.428Z"
   },
   {
    "duration": 9,
    "start_time": "2023-04-22T07:29:08.869Z"
   },
   {
    "duration": 60,
    "start_time": "2023-04-22T07:29:08.881Z"
   },
   {
    "duration": 15,
    "start_time": "2023-04-22T07:29:08.944Z"
   },
   {
    "duration": 11,
    "start_time": "2023-04-22T07:29:08.961Z"
   },
   {
    "duration": 9,
    "start_time": "2023-04-22T07:29:08.974Z"
   },
   {
    "duration": 19,
    "start_time": "2023-04-22T07:29:08.985Z"
   },
   {
    "duration": 12,
    "start_time": "2023-04-22T07:29:09.013Z"
   },
   {
    "duration": 16,
    "start_time": "2023-04-22T07:29:09.027Z"
   },
   {
    "duration": 14,
    "start_time": "2023-04-22T07:29:09.046Z"
   },
   {
    "duration": 11,
    "start_time": "2023-04-22T07:29:09.062Z"
   },
   {
    "duration": 7,
    "start_time": "2023-04-22T07:29:09.111Z"
   },
   {
    "duration": 9,
    "start_time": "2023-04-22T07:29:09.120Z"
   },
   {
    "duration": 7,
    "start_time": "2023-04-22T07:29:09.131Z"
   },
   {
    "duration": 12,
    "start_time": "2023-04-22T07:29:09.140Z"
   },
   {
    "duration": 16,
    "start_time": "2023-04-22T07:29:09.153Z"
   },
   {
    "duration": 51,
    "start_time": "2023-04-22T07:29:09.170Z"
   },
   {
    "duration": 7,
    "start_time": "2023-04-22T07:29:09.223Z"
   },
   {
    "duration": 8,
    "start_time": "2023-04-22T07:29:09.232Z"
   },
   {
    "duration": 9,
    "start_time": "2023-04-22T07:29:09.241Z"
   },
   {
    "duration": 7,
    "start_time": "2023-04-22T07:29:09.252Z"
   },
   {
    "duration": 9,
    "start_time": "2023-04-22T07:29:09.261Z"
   },
   {
    "duration": 47,
    "start_time": "2023-04-22T07:29:09.271Z"
   },
   {
    "duration": 7,
    "start_time": "2023-04-22T07:29:09.320Z"
   },
   {
    "duration": 9,
    "start_time": "2023-04-22T07:29:09.329Z"
   },
   {
    "duration": 25,
    "start_time": "2023-04-22T07:29:09.340Z"
   },
   {
    "duration": 9,
    "start_time": "2023-04-22T07:29:09.367Z"
   },
   {
    "duration": 7,
    "start_time": "2023-04-22T07:29:09.378Z"
   },
   {
    "duration": 39,
    "start_time": "2023-04-22T07:29:09.411Z"
   },
   {
    "duration": 21,
    "start_time": "2023-04-22T07:29:09.451Z"
   },
   {
    "duration": 43,
    "start_time": "2023-04-22T07:29:09.474Z"
   },
   {
    "duration": 6,
    "start_time": "2023-04-22T07:29:09.519Z"
   },
   {
    "duration": 2651,
    "start_time": "2023-04-22T07:29:09.527Z"
   },
   {
    "duration": 8,
    "start_time": "2023-04-22T07:29:12.180Z"
   },
   {
    "duration": 316,
    "start_time": "2023-04-22T07:29:12.189Z"
   },
   {
    "duration": 332,
    "start_time": "2023-04-22T07:29:12.511Z"
   },
   {
    "duration": 333,
    "start_time": "2023-04-22T07:29:12.845Z"
   },
   {
    "duration": 4,
    "start_time": "2023-04-22T07:29:13.180Z"
   },
   {
    "duration": 1696,
    "start_time": "2023-04-22T07:29:13.186Z"
   },
   {
    "duration": 2616,
    "start_time": "2023-04-22T07:29:14.884Z"
   },
   {
    "duration": 312,
    "start_time": "2023-04-22T07:29:17.503Z"
   },
   {
    "duration": 15,
    "start_time": "2023-04-22T07:29:17.817Z"
   },
   {
    "duration": 38,
    "start_time": "2023-04-22T07:29:17.834Z"
   },
   {
    "duration": 22,
    "start_time": "2023-04-22T07:29:17.874Z"
   },
   {
    "duration": 84,
    "start_time": "2023-04-22T07:29:17.898Z"
   },
   {
    "duration": 4,
    "start_time": "2023-04-22T07:29:17.984Z"
   },
   {
    "duration": 9,
    "start_time": "2023-04-22T07:29:17.990Z"
   },
   {
    "duration": 6,
    "start_time": "2023-04-22T07:29:18.001Z"
   },
   {
    "duration": 1218,
    "start_time": "2023-04-22T07:29:18.013Z"
   },
   {
    "duration": 411,
    "start_time": "2023-04-22T07:29:19.233Z"
   },
   {
    "duration": 4,
    "start_time": "2023-04-22T07:29:19.646Z"
   },
   {
    "duration": 10,
    "start_time": "2023-04-22T07:29:19.652Z"
   },
   {
    "duration": 1343,
    "start_time": "2023-04-22T07:29:19.664Z"
   },
   {
    "duration": 502,
    "start_time": "2023-04-22T07:29:21.012Z"
   },
   {
    "duration": 1088,
    "start_time": "2023-04-22T07:29:21.519Z"
   },
   {
    "duration": 4885,
    "start_time": "2023-04-22T07:29:49.268Z"
   },
   {
    "duration": 6,
    "start_time": "2023-04-22T07:29:54.156Z"
   },
   {
    "duration": 13,
    "start_time": "2023-04-22T07:29:54.164Z"
   },
   {
    "duration": 5,
    "start_time": "2023-04-22T07:29:54.180Z"
   },
   {
    "duration": 95,
    "start_time": "2023-04-22T07:29:54.187Z"
   },
   {
    "duration": 274,
    "start_time": "2023-04-22T07:29:54.284Z"
   },
   {
    "duration": 27,
    "start_time": "2023-04-22T07:29:54.559Z"
   },
   {
    "duration": 24,
    "start_time": "2023-04-22T07:29:54.588Z"
   },
   {
    "duration": 34,
    "start_time": "2023-04-22T07:29:54.614Z"
   },
   {
    "duration": 17,
    "start_time": "2023-04-22T07:29:54.651Z"
   },
   {
    "duration": 46,
    "start_time": "2023-04-22T07:29:54.670Z"
   },
   {
    "duration": 11,
    "start_time": "2023-04-22T07:29:54.717Z"
   },
   {
    "duration": 43,
    "start_time": "2023-04-22T07:29:54.730Z"
   },
   {
    "duration": 18,
    "start_time": "2023-04-22T07:29:54.775Z"
   },
   {
    "duration": 205,
    "start_time": "2023-04-22T07:29:54.795Z"
   },
   {
    "duration": 11,
    "start_time": "2023-04-22T07:29:55.002Z"
   },
   {
    "duration": 227,
    "start_time": "2023-04-22T07:29:55.016Z"
   },
   {
    "duration": 9,
    "start_time": "2023-04-22T07:29:55.244Z"
   },
   {
    "duration": 55,
    "start_time": "2023-04-22T07:29:55.255Z"
   },
   {
    "duration": 27,
    "start_time": "2023-04-22T07:29:55.312Z"
   },
   {
    "duration": 62,
    "start_time": "2023-04-22T07:29:55.342Z"
   },
   {
    "duration": 23,
    "start_time": "2023-04-22T07:29:55.406Z"
   },
   {
    "duration": 61,
    "start_time": "2023-04-22T07:29:55.430Z"
   },
   {
    "duration": 33,
    "start_time": "2023-04-22T07:29:55.493Z"
   },
   {
    "duration": 67,
    "start_time": "2023-04-22T07:29:55.528Z"
   },
   {
    "duration": 10,
    "start_time": "2023-04-22T07:29:55.598Z"
   },
   {
    "duration": 8,
    "start_time": "2023-04-22T07:29:55.610Z"
   },
   {
    "duration": 21,
    "start_time": "2023-04-22T07:29:55.625Z"
   },
   {
    "duration": 26,
    "start_time": "2023-04-22T07:29:55.648Z"
   },
   {
    "duration": 14,
    "start_time": "2023-04-22T07:29:55.676Z"
   },
   {
    "duration": 20,
    "start_time": "2023-04-22T07:29:55.692Z"
   },
   {
    "duration": 31,
    "start_time": "2023-04-22T07:29:55.714Z"
   },
   {
    "duration": 39,
    "start_time": "2023-04-22T07:29:55.748Z"
   },
   {
    "duration": 11,
    "start_time": "2023-04-22T07:29:55.789Z"
   },
   {
    "duration": 15,
    "start_time": "2023-04-22T07:29:55.802Z"
   },
   {
    "duration": 9,
    "start_time": "2023-04-22T07:29:55.819Z"
   },
   {
    "duration": 7,
    "start_time": "2023-04-22T07:29:55.830Z"
   },
   {
    "duration": 16,
    "start_time": "2023-04-22T07:29:55.839Z"
   },
   {
    "duration": 11,
    "start_time": "2023-04-22T07:29:55.857Z"
   },
   {
    "duration": 11,
    "start_time": "2023-04-22T07:29:55.870Z"
   },
   {
    "duration": 31,
    "start_time": "2023-04-22T07:29:55.883Z"
   },
   {
    "duration": 19,
    "start_time": "2023-04-22T07:29:55.916Z"
   },
   {
    "duration": 13,
    "start_time": "2023-04-22T07:29:55.937Z"
   },
   {
    "duration": 8,
    "start_time": "2023-04-22T07:29:55.952Z"
   },
   {
    "duration": 66,
    "start_time": "2023-04-22T07:29:55.962Z"
   },
   {
    "duration": 21,
    "start_time": "2023-04-22T07:29:56.030Z"
   },
   {
    "duration": 26,
    "start_time": "2023-04-22T07:29:56.053Z"
   },
   {
    "duration": 6,
    "start_time": "2023-04-22T07:29:56.082Z"
   },
   {
    "duration": 2888,
    "start_time": "2023-04-22T07:29:56.090Z"
   },
   {
    "duration": 12,
    "start_time": "2023-04-22T07:29:58.980Z"
   },
   {
    "duration": 398,
    "start_time": "2023-04-22T07:29:58.995Z"
   },
   {
    "duration": 332,
    "start_time": "2023-04-22T07:29:59.395Z"
   },
   {
    "duration": 349,
    "start_time": "2023-04-22T07:29:59.729Z"
   },
   {
    "duration": 4,
    "start_time": "2023-04-22T07:30:00.080Z"
   },
   {
    "duration": 1891,
    "start_time": "2023-04-22T07:30:00.085Z"
   },
   {
    "duration": 2857,
    "start_time": "2023-04-22T07:30:01.977Z"
   },
   {
    "duration": 287,
    "start_time": "2023-04-22T07:30:04.836Z"
   },
   {
    "duration": 16,
    "start_time": "2023-04-22T07:30:05.125Z"
   },
   {
    "duration": 130,
    "start_time": "2023-04-22T07:30:05.143Z"
   },
   {
    "duration": 5,
    "start_time": "2023-04-22T07:30:05.275Z"
   },
   {
    "duration": 91,
    "start_time": "2023-04-22T07:30:05.282Z"
   },
   {
    "duration": 5,
    "start_time": "2023-04-22T07:30:05.375Z"
   },
   {
    "duration": 9,
    "start_time": "2023-04-22T07:30:05.382Z"
   },
   {
    "duration": 9,
    "start_time": "2023-04-22T07:30:05.393Z"
   },
   {
    "duration": 1300,
    "start_time": "2023-04-22T07:30:05.412Z"
   },
   {
    "duration": 451,
    "start_time": "2023-04-22T07:30:06.714Z"
   },
   {
    "duration": 4,
    "start_time": "2023-04-22T07:30:07.168Z"
   },
   {
    "duration": 22,
    "start_time": "2023-04-22T07:30:07.175Z"
   },
   {
    "duration": 1476,
    "start_time": "2023-04-22T07:30:07.199Z"
   },
   {
    "duration": 1033,
    "start_time": "2023-04-22T07:30:08.679Z"
   },
   {
    "duration": 1042,
    "start_time": "2023-04-22T07:30:15.976Z"
   },
   {
    "duration": 1171,
    "start_time": "2023-04-22T07:31:09.026Z"
   },
   {
    "duration": 4672,
    "start_time": "2023-04-22T07:31:50.362Z"
   },
   {
    "duration": 2602,
    "start_time": "2023-04-22T07:31:55.037Z"
   },
   {
    "duration": 3,
    "start_time": "2023-04-22T07:31:57.641Z"
   },
   {
    "duration": 5266,
    "start_time": "2023-04-22T07:31:57.646Z"
   },
   {
    "duration": 79,
    "start_time": "2023-04-22T07:32:02.914Z"
   },
   {
    "duration": 20,
    "start_time": "2023-04-22T07:32:02.994Z"
   },
   {
    "duration": 26,
    "start_time": "2023-04-22T07:32:03.016Z"
   },
   {
    "duration": 15,
    "start_time": "2023-04-22T07:32:03.044Z"
   },
   {
    "duration": 34,
    "start_time": "2023-04-22T07:32:03.061Z"
   },
   {
    "duration": 14,
    "start_time": "2023-04-22T07:32:03.113Z"
   },
   {
    "duration": 17,
    "start_time": "2023-04-22T07:32:03.129Z"
   },
   {
    "duration": 12,
    "start_time": "2023-04-22T07:32:03.148Z"
   },
   {
    "duration": 61,
    "start_time": "2023-04-22T07:32:03.161Z"
   },
   {
    "duration": 21,
    "start_time": "2023-04-22T07:32:03.224Z"
   },
   {
    "duration": 216,
    "start_time": "2023-04-22T07:32:03.247Z"
   },
   {
    "duration": 5,
    "start_time": "2023-04-22T07:32:03.464Z"
   },
   {
    "duration": 411,
    "start_time": "2023-04-22T07:32:03.470Z"
   },
   {
    "duration": 9,
    "start_time": "2023-04-22T07:32:03.883Z"
   },
   {
    "duration": 32,
    "start_time": "2023-04-22T07:32:03.894Z"
   },
   {
    "duration": 54,
    "start_time": "2023-04-22T07:32:03.928Z"
   },
   {
    "duration": 23,
    "start_time": "2023-04-22T07:32:03.984Z"
   },
   {
    "duration": 16,
    "start_time": "2023-04-22T07:32:04.009Z"
   },
   {
    "duration": 44,
    "start_time": "2023-04-22T07:32:04.027Z"
   },
   {
    "duration": 33,
    "start_time": "2023-04-22T07:32:04.073Z"
   },
   {
    "duration": 99,
    "start_time": "2023-04-22T07:32:04.108Z"
   },
   {
    "duration": 33,
    "start_time": "2023-04-22T07:32:04.209Z"
   },
   {
    "duration": 20,
    "start_time": "2023-04-22T07:32:04.244Z"
   },
   {
    "duration": 7,
    "start_time": "2023-04-22T07:32:04.270Z"
   },
   {
    "duration": 29,
    "start_time": "2023-04-22T07:32:04.279Z"
   },
   {
    "duration": 35,
    "start_time": "2023-04-22T07:32:04.310Z"
   },
   {
    "duration": 40,
    "start_time": "2023-04-22T07:32:04.348Z"
   },
   {
    "duration": 26,
    "start_time": "2023-04-22T07:32:04.390Z"
   },
   {
    "duration": 15,
    "start_time": "2023-04-22T07:32:04.419Z"
   },
   {
    "duration": 19,
    "start_time": "2023-04-22T07:32:04.436Z"
   },
   {
    "duration": 11,
    "start_time": "2023-04-22T07:32:04.457Z"
   },
   {
    "duration": 8,
    "start_time": "2023-04-22T07:32:04.469Z"
   },
   {
    "duration": 9,
    "start_time": "2023-04-22T07:32:04.478Z"
   },
   {
    "duration": 27,
    "start_time": "2023-04-22T07:32:04.488Z"
   },
   {
    "duration": 10,
    "start_time": "2023-04-22T07:32:04.516Z"
   },
   {
    "duration": 8,
    "start_time": "2023-04-22T07:32:04.528Z"
   },
   {
    "duration": 8,
    "start_time": "2023-04-22T07:32:04.537Z"
   },
   {
    "duration": 20,
    "start_time": "2023-04-22T07:32:04.547Z"
   },
   {
    "duration": 12,
    "start_time": "2023-04-22T07:32:04.569Z"
   },
   {
    "duration": 30,
    "start_time": "2023-04-22T07:32:04.583Z"
   },
   {
    "duration": 35,
    "start_time": "2023-04-22T07:32:04.614Z"
   },
   {
    "duration": 20,
    "start_time": "2023-04-22T07:32:04.651Z"
   },
   {
    "duration": 45,
    "start_time": "2023-04-22T07:32:04.673Z"
   },
   {
    "duration": 6,
    "start_time": "2023-04-22T07:32:04.720Z"
   },
   {
    "duration": 2642,
    "start_time": "2023-04-22T07:32:04.728Z"
   },
   {
    "duration": 7,
    "start_time": "2023-04-22T07:32:07.372Z"
   },
   {
    "duration": 318,
    "start_time": "2023-04-22T07:32:07.381Z"
   },
   {
    "duration": 333,
    "start_time": "2023-04-22T07:32:07.701Z"
   },
   {
    "duration": 325,
    "start_time": "2023-04-22T07:32:08.036Z"
   },
   {
    "duration": 3,
    "start_time": "2023-04-22T07:32:08.363Z"
   },
   {
    "duration": 1737,
    "start_time": "2023-04-22T07:32:08.368Z"
   },
   {
    "duration": 2629,
    "start_time": "2023-04-22T07:32:10.107Z"
   },
   {
    "duration": 276,
    "start_time": "2023-04-22T07:32:12.738Z"
   },
   {
    "duration": 13,
    "start_time": "2023-04-22T07:32:13.017Z"
   },
   {
    "duration": 19,
    "start_time": "2023-04-22T07:32:13.032Z"
   },
   {
    "duration": 3,
    "start_time": "2023-04-22T07:32:13.053Z"
   },
   {
    "duration": 74,
    "start_time": "2023-04-22T07:32:13.058Z"
   },
   {
    "duration": 6,
    "start_time": "2023-04-22T07:32:13.134Z"
   },
   {
    "duration": 11,
    "start_time": "2023-04-22T07:32:13.142Z"
   },
   {
    "duration": 6,
    "start_time": "2023-04-22T07:32:13.156Z"
   },
   {
    "duration": 1176,
    "start_time": "2023-04-22T07:32:13.164Z"
   },
   {
    "duration": 406,
    "start_time": "2023-04-22T07:32:14.342Z"
   },
   {
    "duration": 4,
    "start_time": "2023-04-22T07:32:14.750Z"
   },
   {
    "duration": 11,
    "start_time": "2023-04-22T07:32:14.756Z"
   },
   {
    "duration": 1260,
    "start_time": "2023-04-22T07:32:14.769Z"
   },
   {
    "duration": 381,
    "start_time": "2023-04-22T07:32:16.031Z"
   },
   {
    "duration": 1101,
    "start_time": "2023-04-22T07:32:16.415Z"
   },
   {
    "duration": 980,
    "start_time": "2023-04-22T07:32:56.626Z"
   },
   {
    "duration": 5,
    "start_time": "2023-04-22T07:34:01.584Z"
   },
   {
    "duration": 992,
    "start_time": "2023-04-22T07:36:23.232Z"
   },
   {
    "duration": 157,
    "start_time": "2023-04-22T07:37:39.944Z"
   },
   {
    "duration": 155,
    "start_time": "2023-04-22T07:38:49.972Z"
   },
   {
    "duration": 1096,
    "start_time": "2023-04-22T07:39:03.877Z"
   },
   {
    "duration": 4949,
    "start_time": "2023-04-22T07:40:02.630Z"
   },
   {
    "duration": 6,
    "start_time": "2023-04-22T07:40:07.582Z"
   },
   {
    "duration": 18,
    "start_time": "2023-04-22T07:40:07.589Z"
   },
   {
    "duration": 28,
    "start_time": "2023-04-22T07:40:07.609Z"
   },
   {
    "duration": 117,
    "start_time": "2023-04-22T07:40:07.639Z"
   },
   {
    "duration": 30,
    "start_time": "2023-04-22T07:40:07.757Z"
   },
   {
    "duration": 30,
    "start_time": "2023-04-22T07:40:07.789Z"
   },
   {
    "duration": 18,
    "start_time": "2023-04-22T07:40:07.820Z"
   },
   {
    "duration": 30,
    "start_time": "2023-04-22T07:40:07.840Z"
   },
   {
    "duration": 48,
    "start_time": "2023-04-22T07:40:07.873Z"
   },
   {
    "duration": 46,
    "start_time": "2023-04-22T07:40:07.923Z"
   },
   {
    "duration": 37,
    "start_time": "2023-04-22T07:40:07.972Z"
   },
   {
    "duration": 36,
    "start_time": "2023-04-22T07:40:08.013Z"
   },
   {
    "duration": 18,
    "start_time": "2023-04-22T07:40:08.051Z"
   },
   {
    "duration": 221,
    "start_time": "2023-04-22T07:40:08.071Z"
   },
   {
    "duration": 4,
    "start_time": "2023-04-22T07:40:08.294Z"
   },
   {
    "duration": 210,
    "start_time": "2023-04-22T07:40:08.312Z"
   },
   {
    "duration": 10,
    "start_time": "2023-04-22T07:40:08.524Z"
   },
   {
    "duration": 8,
    "start_time": "2023-04-22T07:40:08.536Z"
   },
   {
    "duration": 13,
    "start_time": "2023-04-22T07:40:08.546Z"
   },
   {
    "duration": 7,
    "start_time": "2023-04-22T07:40:08.561Z"
   },
   {
    "duration": 54,
    "start_time": "2023-04-22T07:40:08.570Z"
   },
   {
    "duration": 8,
    "start_time": "2023-04-22T07:40:08.625Z"
   },
   {
    "duration": 12,
    "start_time": "2023-04-22T07:40:08.635Z"
   },
   {
    "duration": 18,
    "start_time": "2023-04-22T07:40:08.648Z"
   },
   {
    "duration": 12,
    "start_time": "2023-04-22T07:40:08.668Z"
   },
   {
    "duration": 9,
    "start_time": "2023-04-22T07:40:08.683Z"
   },
   {
    "duration": 10,
    "start_time": "2023-04-22T07:40:08.715Z"
   },
   {
    "duration": 16,
    "start_time": "2023-04-22T07:40:08.728Z"
   },
   {
    "duration": 8,
    "start_time": "2023-04-22T07:40:08.746Z"
   },
   {
    "duration": 13,
    "start_time": "2023-04-22T07:40:08.755Z"
   },
   {
    "duration": 15,
    "start_time": "2023-04-22T07:40:08.770Z"
   },
   {
    "duration": 30,
    "start_time": "2023-04-22T07:40:08.815Z"
   },
   {
    "duration": 10,
    "start_time": "2023-04-22T07:40:08.848Z"
   },
   {
    "duration": 13,
    "start_time": "2023-04-22T07:40:08.860Z"
   },
   {
    "duration": 22,
    "start_time": "2023-04-22T07:40:08.875Z"
   },
   {
    "duration": 8,
    "start_time": "2023-04-22T07:40:08.900Z"
   },
   {
    "duration": 11,
    "start_time": "2023-04-22T07:40:08.924Z"
   },
   {
    "duration": 9,
    "start_time": "2023-04-22T07:40:08.937Z"
   },
   {
    "duration": 11,
    "start_time": "2023-04-22T07:40:08.948Z"
   },
   {
    "duration": 16,
    "start_time": "2023-04-22T07:40:08.961Z"
   },
   {
    "duration": 35,
    "start_time": "2023-04-22T07:40:08.979Z"
   },
   {
    "duration": 16,
    "start_time": "2023-04-22T07:40:09.017Z"
   },
   {
    "duration": 9,
    "start_time": "2023-04-22T07:40:09.036Z"
   },
   {
    "duration": 75,
    "start_time": "2023-04-22T07:40:09.048Z"
   },
   {
    "duration": 33,
    "start_time": "2023-04-22T07:40:09.126Z"
   },
   {
    "duration": 25,
    "start_time": "2023-04-22T07:40:09.162Z"
   },
   {
    "duration": 23,
    "start_time": "2023-04-22T07:40:09.189Z"
   },
   {
    "duration": 2876,
    "start_time": "2023-04-22T07:40:09.220Z"
   },
   {
    "duration": 19,
    "start_time": "2023-04-22T07:40:12.098Z"
   },
   {
    "duration": 319,
    "start_time": "2023-04-22T07:40:12.125Z"
   },
   {
    "duration": 551,
    "start_time": "2023-04-22T07:40:12.447Z"
   },
   {
    "duration": 356,
    "start_time": "2023-04-22T07:40:13.000Z"
   },
   {
    "duration": 4,
    "start_time": "2023-04-22T07:40:13.359Z"
   },
   {
    "duration": 1612,
    "start_time": "2023-04-22T07:40:13.364Z"
   },
   {
    "duration": 2949,
    "start_time": "2023-04-22T07:40:14.978Z"
   },
   {
    "duration": 299,
    "start_time": "2023-04-22T07:40:17.931Z"
   },
   {
    "duration": 14,
    "start_time": "2023-04-22T07:40:18.232Z"
   },
   {
    "duration": 29,
    "start_time": "2023-04-22T07:40:18.248Z"
   },
   {
    "duration": 45,
    "start_time": "2023-04-22T07:40:18.279Z"
   },
   {
    "duration": 71,
    "start_time": "2023-04-22T07:40:18.325Z"
   },
   {
    "duration": 5,
    "start_time": "2023-04-22T07:40:18.398Z"
   },
   {
    "duration": 31,
    "start_time": "2023-04-22T07:40:18.405Z"
   },
   {
    "duration": 20,
    "start_time": "2023-04-22T07:40:18.438Z"
   },
   {
    "duration": 1373,
    "start_time": "2023-04-22T07:40:18.460Z"
   },
   {
    "duration": 425,
    "start_time": "2023-04-22T07:40:19.835Z"
   },
   {
    "duration": 5,
    "start_time": "2023-04-22T07:40:20.262Z"
   },
   {
    "duration": 29,
    "start_time": "2023-04-22T07:40:20.268Z"
   },
   {
    "duration": 1439,
    "start_time": "2023-04-22T07:40:20.299Z"
   },
   {
    "duration": 782,
    "start_time": "2023-04-22T07:40:21.740Z"
   },
   {
    "duration": 1196,
    "start_time": "2023-04-22T07:40:22.525Z"
   },
   {
    "duration": 9914,
    "start_time": "2023-04-22T07:40:31.575Z"
   },
   {
    "duration": 213,
    "start_time": "2023-04-22T07:41:44.483Z"
   },
   {
    "duration": 20,
    "start_time": "2023-04-22T07:42:03.621Z"
   },
   {
    "duration": 14,
    "start_time": "2023-04-22T07:42:10.744Z"
   },
   {
    "duration": 5113,
    "start_time": "2023-04-22T07:42:17.063Z"
   },
   {
    "duration": 6,
    "start_time": "2023-04-22T07:42:22.179Z"
   },
   {
    "duration": 12,
    "start_time": "2023-04-22T07:42:22.188Z"
   },
   {
    "duration": 24,
    "start_time": "2023-04-22T07:42:22.203Z"
   },
   {
    "duration": 108,
    "start_time": "2023-04-22T07:42:22.228Z"
   },
   {
    "duration": 24,
    "start_time": "2023-04-22T07:42:22.338Z"
   },
   {
    "duration": 24,
    "start_time": "2023-04-22T07:42:22.364Z"
   },
   {
    "duration": 49,
    "start_time": "2023-04-22T07:42:22.390Z"
   },
   {
    "duration": 38,
    "start_time": "2023-04-22T07:42:22.440Z"
   },
   {
    "duration": 18,
    "start_time": "2023-04-22T07:42:22.482Z"
   },
   {
    "duration": 32,
    "start_time": "2023-04-22T07:42:22.502Z"
   },
   {
    "duration": 22,
    "start_time": "2023-04-22T07:42:22.536Z"
   },
   {
    "duration": 51,
    "start_time": "2023-04-22T07:42:22.559Z"
   },
   {
    "duration": 51,
    "start_time": "2023-04-22T07:42:22.611Z"
   },
   {
    "duration": 235,
    "start_time": "2023-04-22T07:42:22.664Z"
   },
   {
    "duration": 28,
    "start_time": "2023-04-22T07:42:22.901Z"
   },
   {
    "duration": 235,
    "start_time": "2023-04-22T07:42:22.933Z"
   },
   {
    "duration": 10,
    "start_time": "2023-04-22T07:42:23.169Z"
   },
   {
    "duration": 55,
    "start_time": "2023-04-22T07:42:23.180Z"
   },
   {
    "duration": 40,
    "start_time": "2023-04-22T07:42:23.237Z"
   },
   {
    "duration": 20,
    "start_time": "2023-04-22T07:42:23.279Z"
   },
   {
    "duration": 44,
    "start_time": "2023-04-22T07:42:23.301Z"
   },
   {
    "duration": 50,
    "start_time": "2023-04-22T07:42:23.347Z"
   },
   {
    "duration": 37,
    "start_time": "2023-04-22T07:42:23.399Z"
   },
   {
    "duration": 32,
    "start_time": "2023-04-22T07:42:23.438Z"
   },
   {
    "duration": 28,
    "start_time": "2023-04-22T07:42:23.471Z"
   },
   {
    "duration": 34,
    "start_time": "2023-04-22T07:42:23.501Z"
   },
   {
    "duration": 6,
    "start_time": "2023-04-22T07:42:23.737Z"
   },
   {
    "duration": 29,
    "start_time": "2023-04-22T07:42:23.745Z"
   },
   {
    "duration": 30,
    "start_time": "2023-04-22T07:42:23.776Z"
   },
   {
    "duration": 29,
    "start_time": "2023-04-22T07:42:23.808Z"
   },
   {
    "duration": 36,
    "start_time": "2023-04-22T07:42:23.839Z"
   },
   {
    "duration": 18,
    "start_time": "2023-04-22T07:42:23.877Z"
   },
   {
    "duration": 10,
    "start_time": "2023-04-22T07:42:23.897Z"
   },
   {
    "duration": 12,
    "start_time": "2023-04-22T07:42:23.909Z"
   },
   {
    "duration": 25,
    "start_time": "2023-04-22T07:42:23.923Z"
   },
   {
    "duration": 10,
    "start_time": "2023-04-22T07:42:23.950Z"
   },
   {
    "duration": 11,
    "start_time": "2023-04-22T07:42:23.962Z"
   },
   {
    "duration": 11,
    "start_time": "2023-04-22T07:42:23.975Z"
   },
   {
    "duration": 11,
    "start_time": "2023-04-22T07:42:23.987Z"
   },
   {
    "duration": 24,
    "start_time": "2023-04-22T07:42:24.000Z"
   },
   {
    "duration": 16,
    "start_time": "2023-04-22T07:42:24.026Z"
   },
   {
    "duration": 15,
    "start_time": "2023-04-22T07:42:24.045Z"
   },
   {
    "duration": 16,
    "start_time": "2023-04-22T07:42:24.063Z"
   },
   {
    "duration": 59,
    "start_time": "2023-04-22T07:42:24.081Z"
   },
   {
    "duration": 22,
    "start_time": "2023-04-22T07:42:24.141Z"
   },
   {
    "duration": 32,
    "start_time": "2023-04-22T07:42:24.165Z"
   },
   {
    "duration": 27,
    "start_time": "2023-04-22T07:42:24.199Z"
   },
   {
    "duration": 3199,
    "start_time": "2023-04-22T07:42:24.228Z"
   },
   {
    "duration": 8,
    "start_time": "2023-04-22T07:42:27.429Z"
   },
   {
    "duration": 894,
    "start_time": "2023-04-22T07:42:27.438Z"
   },
   {
    "duration": 331,
    "start_time": "2023-04-22T07:42:28.334Z"
   },
   {
    "duration": 419,
    "start_time": "2023-04-22T07:42:28.667Z"
   },
   {
    "duration": 4,
    "start_time": "2023-04-22T07:42:29.089Z"
   },
   {
    "duration": 1707,
    "start_time": "2023-04-22T07:42:29.096Z"
   },
   {
    "duration": 3180,
    "start_time": "2023-04-22T07:42:30.806Z"
   },
   {
    "duration": 351,
    "start_time": "2023-04-22T07:42:33.988Z"
   },
   {
    "duration": 14,
    "start_time": "2023-04-22T07:42:34.341Z"
   },
   {
    "duration": 18,
    "start_time": "2023-04-22T07:42:34.358Z"
   },
   {
    "duration": 4,
    "start_time": "2023-04-22T07:42:34.379Z"
   },
   {
    "duration": 86,
    "start_time": "2023-04-22T07:42:34.385Z"
   },
   {
    "duration": 5,
    "start_time": "2023-04-22T07:42:34.472Z"
   },
   {
    "duration": 11,
    "start_time": "2023-04-22T07:42:34.479Z"
   },
   {
    "duration": 6,
    "start_time": "2023-04-22T07:42:34.492Z"
   },
   {
    "duration": 1249,
    "start_time": "2023-04-22T07:42:34.512Z"
   },
   {
    "duration": 407,
    "start_time": "2023-04-22T07:42:35.763Z"
   },
   {
    "duration": 4,
    "start_time": "2023-04-22T07:42:36.172Z"
   },
   {
    "duration": 21,
    "start_time": "2023-04-22T07:42:36.178Z"
   },
   {
    "duration": 1439,
    "start_time": "2023-04-22T07:42:36.201Z"
   },
   {
    "duration": 575,
    "start_time": "2023-04-22T07:42:37.642Z"
   },
   {
    "duration": 1050,
    "start_time": "2023-04-22T07:42:38.219Z"
   },
   {
    "duration": 1027,
    "start_time": "2023-04-22T07:42:40.800Z"
   },
   {
    "duration": 22,
    "start_time": "2023-04-22T07:42:46.313Z"
   },
   {
    "duration": 21,
    "start_time": "2023-04-22T07:44:14.824Z"
   },
   {
    "duration": 9103,
    "start_time": "2023-04-22T07:45:14.381Z"
   },
   {
    "duration": 952,
    "start_time": "2023-04-22T07:45:45.424Z"
   },
   {
    "duration": 4951,
    "start_time": "2023-04-22T07:46:05.592Z"
   },
   {
    "duration": 2675,
    "start_time": "2023-04-22T07:46:10.546Z"
   },
   {
    "duration": 5,
    "start_time": "2023-04-22T07:46:13.223Z"
   },
   {
    "duration": 7626,
    "start_time": "2023-04-22T07:46:13.230Z"
   },
   {
    "duration": 80,
    "start_time": "2023-04-22T07:46:20.859Z"
   },
   {
    "duration": 20,
    "start_time": "2023-04-22T07:46:20.941Z"
   },
   {
    "duration": 23,
    "start_time": "2023-04-22T07:46:20.963Z"
   },
   {
    "duration": 54,
    "start_time": "2023-04-22T07:46:20.988Z"
   },
   {
    "duration": 52,
    "start_time": "2023-04-22T07:46:21.044Z"
   },
   {
    "duration": 12,
    "start_time": "2023-04-22T07:46:21.098Z"
   },
   {
    "duration": 41,
    "start_time": "2023-04-22T07:46:21.114Z"
   },
   {
    "duration": 23,
    "start_time": "2023-04-22T07:46:21.157Z"
   },
   {
    "duration": 62,
    "start_time": "2023-04-22T07:46:21.182Z"
   },
   {
    "duration": 20,
    "start_time": "2023-04-22T07:46:21.249Z"
   },
   {
    "duration": 279,
    "start_time": "2023-04-22T07:46:21.271Z"
   },
   {
    "duration": 5,
    "start_time": "2023-04-22T07:46:21.552Z"
   },
   {
    "duration": 458,
    "start_time": "2023-04-22T07:46:21.558Z"
   },
   {
    "duration": 11,
    "start_time": "2023-04-22T07:46:22.021Z"
   },
   {
    "duration": 11,
    "start_time": "2023-04-22T07:46:22.034Z"
   },
   {
    "duration": 12,
    "start_time": "2023-04-22T07:46:22.048Z"
   },
   {
    "duration": 8,
    "start_time": "2023-04-22T07:46:22.062Z"
   },
   {
    "duration": 8,
    "start_time": "2023-04-22T07:46:22.071Z"
   },
   {
    "duration": 49,
    "start_time": "2023-04-22T07:46:22.081Z"
   },
   {
    "duration": 24,
    "start_time": "2023-04-22T07:46:22.132Z"
   },
   {
    "duration": 304,
    "start_time": "2023-04-22T07:46:22.158Z"
   },
   {
    "duration": 14,
    "start_time": "2023-04-22T07:46:22.463Z"
   },
   {
    "duration": 10,
    "start_time": "2023-04-22T07:46:22.479Z"
   },
   {
    "duration": 15,
    "start_time": "2023-04-22T07:46:22.491Z"
   },
   {
    "duration": 35,
    "start_time": "2023-04-22T07:46:22.508Z"
   },
   {
    "duration": 12,
    "start_time": "2023-04-22T07:46:22.545Z"
   },
   {
    "duration": 18,
    "start_time": "2023-04-22T07:46:22.559Z"
   },
   {
    "duration": 21,
    "start_time": "2023-04-22T07:46:22.579Z"
   },
   {
    "duration": 24,
    "start_time": "2023-04-22T07:46:22.602Z"
   },
   {
    "duration": 7,
    "start_time": "2023-04-22T07:46:22.628Z"
   },
   {
    "duration": 10,
    "start_time": "2023-04-22T07:46:22.636Z"
   },
   {
    "duration": 7,
    "start_time": "2023-04-22T07:46:22.648Z"
   },
   {
    "duration": 15,
    "start_time": "2023-04-22T07:46:22.656Z"
   },
   {
    "duration": 15,
    "start_time": "2023-04-22T07:46:22.673Z"
   },
   {
    "duration": 25,
    "start_time": "2023-04-22T07:46:22.690Z"
   },
   {
    "duration": 12,
    "start_time": "2023-04-22T07:46:22.717Z"
   },
   {
    "duration": 15,
    "start_time": "2023-04-22T07:46:22.734Z"
   },
   {
    "duration": 21,
    "start_time": "2023-04-22T07:46:22.751Z"
   },
   {
    "duration": 15,
    "start_time": "2023-04-22T07:46:22.774Z"
   },
   {
    "duration": 26,
    "start_time": "2023-04-22T07:46:22.792Z"
   },
   {
    "duration": 37,
    "start_time": "2023-04-22T07:46:22.822Z"
   },
   {
    "duration": 21,
    "start_time": "2023-04-22T07:46:22.861Z"
   },
   {
    "duration": 35,
    "start_time": "2023-04-22T07:46:22.888Z"
   },
   {
    "duration": 6,
    "start_time": "2023-04-22T07:46:22.926Z"
   },
   {
    "duration": 3008,
    "start_time": "2023-04-22T07:46:22.934Z"
   },
   {
    "duration": 7,
    "start_time": "2023-04-22T07:46:25.944Z"
   },
   {
    "duration": 328,
    "start_time": "2023-04-22T07:46:25.953Z"
   },
   {
    "duration": 349,
    "start_time": "2023-04-22T07:46:26.283Z"
   },
   {
    "duration": 334,
    "start_time": "2023-04-22T07:46:26.634Z"
   },
   {
    "duration": 4,
    "start_time": "2023-04-22T07:46:26.970Z"
   },
   {
    "duration": 1718,
    "start_time": "2023-04-22T07:46:26.975Z"
   },
   {
    "duration": 2884,
    "start_time": "2023-04-22T07:46:28.694Z"
   },
   {
    "duration": 357,
    "start_time": "2023-04-22T07:46:31.580Z"
   },
   {
    "duration": 14,
    "start_time": "2023-04-22T07:46:31.939Z"
   },
   {
    "duration": 12,
    "start_time": "2023-04-22T07:46:31.954Z"
   },
   {
    "duration": 3,
    "start_time": "2023-04-22T07:46:31.968Z"
   },
   {
    "duration": 82,
    "start_time": "2023-04-22T07:46:31.973Z"
   },
   {
    "duration": 4,
    "start_time": "2023-04-22T07:46:32.057Z"
   },
   {
    "duration": 15,
    "start_time": "2023-04-22T07:46:32.063Z"
   },
   {
    "duration": 7,
    "start_time": "2023-04-22T07:46:32.080Z"
   },
   {
    "duration": 1280,
    "start_time": "2023-04-22T07:46:32.088Z"
   },
   {
    "duration": 401,
    "start_time": "2023-04-22T07:46:33.369Z"
   },
   {
    "duration": 4,
    "start_time": "2023-04-22T07:46:33.772Z"
   },
   {
    "duration": 5,
    "start_time": "2023-04-22T07:46:33.778Z"
   },
   {
    "duration": 1432,
    "start_time": "2023-04-22T07:46:33.785Z"
   },
   {
    "duration": 599,
    "start_time": "2023-04-22T07:46:35.219Z"
   },
   {
    "duration": 1102,
    "start_time": "2023-04-22T07:46:35.824Z"
   },
   {
    "duration": 10531,
    "start_time": "2023-04-22T07:46:36.928Z"
   },
   {
    "duration": 919,
    "start_time": "2023-04-22T07:46:47.462Z"
   },
   {
    "duration": 46,
    "start_time": "2023-04-22T07:46:48.382Z"
   },
   {
    "duration": 12,
    "start_time": "2023-04-22T07:46:48.430Z"
   },
   {
    "duration": 4,
    "start_time": "2023-04-22T07:46:48.444Z"
   },
   {
    "duration": 224,
    "start_time": "2023-04-22T07:46:48.450Z"
   },
   {
    "duration": 0,
    "start_time": "2023-04-22T07:46:48.676Z"
   },
   {
    "duration": 0,
    "start_time": "2023-04-22T07:46:48.677Z"
   },
   {
    "duration": 0,
    "start_time": "2023-04-22T07:46:48.678Z"
   },
   {
    "duration": 0,
    "start_time": "2023-04-22T07:46:48.680Z"
   },
   {
    "duration": 0,
    "start_time": "2023-04-22T07:46:48.681Z"
   },
   {
    "duration": 0,
    "start_time": "2023-04-22T07:46:48.683Z"
   },
   {
    "duration": 0,
    "start_time": "2023-04-22T07:46:48.684Z"
   },
   {
    "duration": 0,
    "start_time": "2023-04-22T07:46:48.686Z"
   },
   {
    "duration": 0,
    "start_time": "2023-04-22T07:46:48.713Z"
   },
   {
    "duration": 0,
    "start_time": "2023-04-22T07:46:48.714Z"
   },
   {
    "duration": 0,
    "start_time": "2023-04-22T07:46:48.715Z"
   },
   {
    "duration": 0,
    "start_time": "2023-04-22T07:46:48.716Z"
   },
   {
    "duration": 0,
    "start_time": "2023-04-22T07:46:48.717Z"
   },
   {
    "duration": 0,
    "start_time": "2023-04-22T07:46:48.718Z"
   },
   {
    "duration": 0,
    "start_time": "2023-04-22T07:46:48.719Z"
   },
   {
    "duration": 0,
    "start_time": "2023-04-22T07:46:48.720Z"
   },
   {
    "duration": 0,
    "start_time": "2023-04-22T07:46:48.721Z"
   },
   {
    "duration": 0,
    "start_time": "2023-04-22T07:46:48.722Z"
   },
   {
    "duration": 0,
    "start_time": "2023-04-22T07:46:48.723Z"
   },
   {
    "duration": 0,
    "start_time": "2023-04-22T07:46:48.723Z"
   },
   {
    "duration": 0,
    "start_time": "2023-04-22T07:46:48.724Z"
   },
   {
    "duration": 0,
    "start_time": "2023-04-22T07:46:48.725Z"
   },
   {
    "duration": 0,
    "start_time": "2023-04-22T07:46:48.727Z"
   },
   {
    "duration": 1,
    "start_time": "2023-04-22T07:46:48.727Z"
   },
   {
    "duration": 0,
    "start_time": "2023-04-22T07:46:48.728Z"
   },
   {
    "duration": 0,
    "start_time": "2023-04-22T07:46:48.729Z"
   },
   {
    "duration": 3,
    "start_time": "2023-04-22T07:48:07.373Z"
   },
   {
    "duration": 4,
    "start_time": "2023-04-22T07:48:12.441Z"
   },
   {
    "duration": 14,
    "start_time": "2023-04-22T07:48:12.447Z"
   },
   {
    "duration": 11,
    "start_time": "2023-04-22T07:48:12.463Z"
   },
   {
    "duration": 445017,
    "start_time": "2023-04-22T07:48:12.476Z"
   },
   {
    "duration": 3,
    "start_time": "2023-04-22T07:55:37.496Z"
   },
   {
    "duration": 15,
    "start_time": "2023-04-22T07:55:37.500Z"
   },
   {
    "duration": 7,
    "start_time": "2023-04-22T07:55:37.516Z"
   },
   {
    "duration": 388,
    "start_time": "2023-04-22T07:55:37.524Z"
   },
   {
    "duration": 4,
    "start_time": "2023-04-22T07:55:37.915Z"
   },
   {
    "duration": 6,
    "start_time": "2023-04-22T07:55:37.922Z"
   },
   {
    "duration": 277028,
    "start_time": "2023-04-22T07:55:37.931Z"
   },
   {
    "duration": 0,
    "start_time": "2023-04-22T08:00:14.960Z"
   },
   {
    "duration": 0,
    "start_time": "2023-04-22T08:00:14.961Z"
   },
   {
    "duration": 0,
    "start_time": "2023-04-22T08:00:14.962Z"
   },
   {
    "duration": 0,
    "start_time": "2023-04-22T08:00:14.963Z"
   },
   {
    "duration": 0,
    "start_time": "2023-04-22T08:00:14.964Z"
   },
   {
    "duration": 0,
    "start_time": "2023-04-22T08:00:14.965Z"
   },
   {
    "duration": 0,
    "start_time": "2023-04-22T08:00:14.965Z"
   },
   {
    "duration": 0,
    "start_time": "2023-04-22T08:00:14.967Z"
   },
   {
    "duration": 0,
    "start_time": "2023-04-22T08:00:14.968Z"
   },
   {
    "duration": 0,
    "start_time": "2023-04-22T08:00:14.969Z"
   },
   {
    "duration": 0,
    "start_time": "2023-04-22T08:00:14.970Z"
   },
   {
    "duration": 0,
    "start_time": "2023-04-22T08:00:14.971Z"
   },
   {
    "duration": 0,
    "start_time": "2023-04-22T08:00:15.011Z"
   },
   {
    "duration": 0,
    "start_time": "2023-04-22T08:00:15.012Z"
   },
   {
    "duration": 0,
    "start_time": "2023-04-22T08:00:15.013Z"
   },
   {
    "duration": 5,
    "start_time": "2023-04-22T08:00:33.251Z"
   },
   {
    "duration": 3,
    "start_time": "2023-04-22T08:00:33.751Z"
   },
   {
    "duration": 486273,
    "start_time": "2023-04-22T08:00:34.069Z"
   },
   {
    "duration": 0,
    "start_time": "2023-04-22T08:08:40.345Z"
   },
   {
    "duration": 0,
    "start_time": "2023-04-22T08:08:40.346Z"
   },
   {
    "duration": 0,
    "start_time": "2023-04-22T08:08:40.348Z"
   },
   {
    "duration": 0,
    "start_time": "2023-04-22T08:08:40.349Z"
   },
   {
    "duration": 0,
    "start_time": "2023-04-22T08:08:40.413Z"
   },
   {
    "duration": 0,
    "start_time": "2023-04-22T08:08:40.414Z"
   },
   {
    "duration": 1,
    "start_time": "2023-04-22T08:08:40.415Z"
   },
   {
    "duration": 0,
    "start_time": "2023-04-22T08:08:40.417Z"
   },
   {
    "duration": 0,
    "start_time": "2023-04-22T08:08:40.418Z"
   },
   {
    "duration": 0,
    "start_time": "2023-04-22T08:08:40.420Z"
   },
   {
    "duration": 0,
    "start_time": "2023-04-22T08:08:40.421Z"
   },
   {
    "duration": 0,
    "start_time": "2023-04-22T08:08:40.422Z"
   },
   {
    "duration": 0,
    "start_time": "2023-04-22T08:08:40.423Z"
   },
   {
    "duration": 0,
    "start_time": "2023-04-22T08:08:40.424Z"
   },
   {
    "duration": 0,
    "start_time": "2023-04-22T08:08:40.426Z"
   },
   {
    "duration": 16,
    "start_time": "2023-04-22T08:09:00.967Z"
   },
   {
    "duration": 3,
    "start_time": "2023-04-22T08:09:29.112Z"
   },
   {
    "duration": 3,
    "start_time": "2023-04-22T08:09:29.791Z"
   },
   {
    "duration": 4865,
    "start_time": "2023-04-22T08:12:40.248Z"
   },
   {
    "duration": 2904,
    "start_time": "2023-04-22T08:12:45.116Z"
   },
   {
    "duration": 3,
    "start_time": "2023-04-22T08:12:48.022Z"
   },
   {
    "duration": 5330,
    "start_time": "2023-04-22T08:12:48.027Z"
   },
   {
    "duration": 109,
    "start_time": "2023-04-22T08:12:53.359Z"
   },
   {
    "duration": 20,
    "start_time": "2023-04-22T08:12:53.470Z"
   },
   {
    "duration": 31,
    "start_time": "2023-04-22T08:12:53.492Z"
   },
   {
    "duration": 15,
    "start_time": "2023-04-22T08:12:53.525Z"
   },
   {
    "duration": 36,
    "start_time": "2023-04-22T08:12:53.542Z"
   },
   {
    "duration": 33,
    "start_time": "2023-04-22T08:12:53.581Z"
   },
   {
    "duration": 16,
    "start_time": "2023-04-22T08:12:53.616Z"
   },
   {
    "duration": 14,
    "start_time": "2023-04-22T08:12:53.634Z"
   },
   {
    "duration": 30,
    "start_time": "2023-04-22T08:12:53.649Z"
   },
   {
    "duration": 50,
    "start_time": "2023-04-22T08:12:53.681Z"
   },
   {
    "duration": 245,
    "start_time": "2023-04-22T08:12:53.732Z"
   },
   {
    "duration": 5,
    "start_time": "2023-04-22T08:12:53.978Z"
   },
   {
    "duration": 402,
    "start_time": "2023-04-22T08:12:53.985Z"
   },
   {
    "duration": 10,
    "start_time": "2023-04-22T08:12:54.388Z"
   },
   {
    "duration": 28,
    "start_time": "2023-04-22T08:12:54.411Z"
   },
   {
    "duration": 13,
    "start_time": "2023-04-22T08:12:54.441Z"
   },
   {
    "duration": 7,
    "start_time": "2023-04-22T08:12:54.456Z"
   },
   {
    "duration": 25,
    "start_time": "2023-04-22T08:12:54.465Z"
   },
   {
    "duration": 9,
    "start_time": "2023-04-22T08:12:54.491Z"
   },
   {
    "duration": 15,
    "start_time": "2023-04-22T08:12:54.502Z"
   },
   {
    "duration": 14,
    "start_time": "2023-04-22T08:12:54.519Z"
   },
   {
    "duration": 18,
    "start_time": "2023-04-22T08:12:54.534Z"
   },
   {
    "duration": 7,
    "start_time": "2023-04-22T08:12:54.554Z"
   },
   {
    "duration": 6,
    "start_time": "2023-04-22T08:12:54.566Z"
   },
   {
    "duration": 7,
    "start_time": "2023-04-22T08:12:54.612Z"
   },
   {
    "duration": 10,
    "start_time": "2023-04-22T08:12:54.620Z"
   },
   {
    "duration": 16,
    "start_time": "2023-04-22T08:12:54.632Z"
   },
   {
    "duration": 14,
    "start_time": "2023-04-22T08:12:54.649Z"
   },
   {
    "duration": 47,
    "start_time": "2023-04-22T08:12:54.665Z"
   },
   {
    "duration": 7,
    "start_time": "2023-04-22T08:12:54.714Z"
   },
   {
    "duration": 9,
    "start_time": "2023-04-22T08:12:54.722Z"
   },
   {
    "duration": 10,
    "start_time": "2023-04-22T08:12:54.733Z"
   },
   {
    "duration": 7,
    "start_time": "2023-04-22T08:12:54.744Z"
   },
   {
    "duration": 10,
    "start_time": "2023-04-22T08:12:54.753Z"
   },
   {
    "duration": 9,
    "start_time": "2023-04-22T08:12:54.764Z"
   },
   {
    "duration": 41,
    "start_time": "2023-04-22T08:12:54.774Z"
   },
   {
    "duration": 8,
    "start_time": "2023-04-22T08:12:54.817Z"
   },
   {
    "duration": 12,
    "start_time": "2023-04-22T08:12:54.827Z"
   },
   {
    "duration": 7,
    "start_time": "2023-04-22T08:12:54.841Z"
   },
   {
    "duration": 6,
    "start_time": "2023-04-22T08:12:54.850Z"
   },
   {
    "duration": 64,
    "start_time": "2023-04-22T08:12:54.858Z"
   },
   {
    "duration": 20,
    "start_time": "2023-04-22T08:12:54.924Z"
   },
   {
    "duration": 29,
    "start_time": "2023-04-22T08:12:54.946Z"
   },
   {
    "duration": 6,
    "start_time": "2023-04-22T08:12:54.977Z"
   },
   {
    "duration": 2686,
    "start_time": "2023-04-22T08:12:54.985Z"
   },
   {
    "duration": 9,
    "start_time": "2023-04-22T08:12:57.673Z"
   },
   {
    "duration": 337,
    "start_time": "2023-04-22T08:12:57.684Z"
   },
   {
    "duration": 326,
    "start_time": "2023-04-22T08:12:58.023Z"
   },
   {
    "duration": 333,
    "start_time": "2023-04-22T08:12:58.350Z"
   },
   {
    "duration": 4,
    "start_time": "2023-04-22T08:12:58.685Z"
   },
   {
    "duration": 1738,
    "start_time": "2023-04-22T08:12:58.691Z"
   },
   {
    "duration": 2630,
    "start_time": "2023-04-22T08:13:00.431Z"
   },
   {
    "duration": 358,
    "start_time": "2023-04-22T08:13:03.064Z"
   },
   {
    "duration": 13,
    "start_time": "2023-04-22T08:13:03.425Z"
   },
   {
    "duration": 12,
    "start_time": "2023-04-22T08:13:03.440Z"
   },
   {
    "duration": 5,
    "start_time": "2023-04-22T08:13:03.453Z"
   },
   {
    "duration": 77,
    "start_time": "2023-04-22T08:13:03.460Z"
   },
   {
    "duration": 5,
    "start_time": "2023-04-22T08:13:03.539Z"
   },
   {
    "duration": 9,
    "start_time": "2023-04-22T08:13:03.545Z"
   },
   {
    "duration": 5,
    "start_time": "2023-04-22T08:13:03.556Z"
   },
   {
    "duration": 1473,
    "start_time": "2023-04-22T08:13:03.563Z"
   },
   {
    "duration": 429,
    "start_time": "2023-04-22T08:13:05.038Z"
   },
   {
    "duration": 4,
    "start_time": "2023-04-22T08:13:05.469Z"
   },
   {
    "duration": 5,
    "start_time": "2023-04-22T08:13:05.475Z"
   },
   {
    "duration": 1351,
    "start_time": "2023-04-22T08:13:05.482Z"
   },
   {
    "duration": 682,
    "start_time": "2023-04-22T08:13:06.835Z"
   },
   {
    "duration": 1091,
    "start_time": "2023-04-22T08:13:07.520Z"
   },
   {
    "duration": 8625,
    "start_time": "2023-04-22T08:13:08.614Z"
   },
   {
    "duration": 959,
    "start_time": "2023-04-22T08:13:17.242Z"
   },
   {
    "duration": 33,
    "start_time": "2023-04-22T08:13:18.204Z"
   },
   {
    "duration": 11,
    "start_time": "2023-04-22T08:13:18.239Z"
   },
   {
    "duration": 5,
    "start_time": "2023-04-22T08:13:18.252Z"
   },
   {
    "duration": 9,
    "start_time": "2023-04-22T08:13:18.258Z"
   },
   {
    "duration": 6,
    "start_time": "2023-04-22T08:13:18.268Z"
   },
   {
    "duration": 37,
    "start_time": "2023-04-22T08:13:18.276Z"
   },
   {
    "duration": 15,
    "start_time": "2023-04-22T08:13:18.315Z"
   },
   {
    "duration": 77867,
    "start_time": "2023-04-22T08:13:18.332Z"
   },
   {
    "duration": 0,
    "start_time": "2023-04-22T08:14:36.201Z"
   },
   {
    "duration": 0,
    "start_time": "2023-04-22T08:14:36.202Z"
   },
   {
    "duration": 0,
    "start_time": "2023-04-22T08:14:36.204Z"
   },
   {
    "duration": 0,
    "start_time": "2023-04-22T08:14:36.205Z"
   },
   {
    "duration": 0,
    "start_time": "2023-04-22T08:14:36.205Z"
   },
   {
    "duration": 0,
    "start_time": "2023-04-22T08:14:36.206Z"
   },
   {
    "duration": 0,
    "start_time": "2023-04-22T08:14:36.207Z"
   },
   {
    "duration": 0,
    "start_time": "2023-04-22T08:14:36.208Z"
   },
   {
    "duration": 0,
    "start_time": "2023-04-22T08:14:36.209Z"
   },
   {
    "duration": 0,
    "start_time": "2023-04-22T08:14:36.211Z"
   },
   {
    "duration": 0,
    "start_time": "2023-04-22T08:14:36.212Z"
   },
   {
    "duration": 0,
    "start_time": "2023-04-22T08:14:36.213Z"
   },
   {
    "duration": 0,
    "start_time": "2023-04-22T08:14:36.214Z"
   },
   {
    "duration": 0,
    "start_time": "2023-04-22T08:14:36.215Z"
   },
   {
    "duration": 0,
    "start_time": "2023-04-22T08:14:36.216Z"
   },
   {
    "duration": 0,
    "start_time": "2023-04-22T08:14:36.217Z"
   },
   {
    "duration": 0,
    "start_time": "2023-04-22T08:14:36.219Z"
   },
   {
    "duration": 0,
    "start_time": "2023-04-22T08:14:36.220Z"
   },
   {
    "duration": 0,
    "start_time": "2023-04-22T08:14:36.221Z"
   },
   {
    "duration": 0,
    "start_time": "2023-04-22T08:14:36.222Z"
   },
   {
    "duration": 0,
    "start_time": "2023-04-22T08:14:36.223Z"
   },
   {
    "duration": 0,
    "start_time": "2023-04-22T08:14:36.224Z"
   },
   {
    "duration": 4,
    "start_time": "2023-04-22T08:14:46.469Z"
   },
   {
    "duration": 3,
    "start_time": "2023-04-22T08:14:53.078Z"
   },
   {
    "duration": 247128,
    "start_time": "2023-04-22T08:15:02.841Z"
   },
   {
    "duration": 3,
    "start_time": "2023-04-22T08:19:09.971Z"
   },
   {
    "duration": 7,
    "start_time": "2023-04-22T08:19:09.976Z"
   },
   {
    "duration": 5,
    "start_time": "2023-04-22T08:19:09.985Z"
   },
   {
    "duration": 448,
    "start_time": "2023-04-22T08:19:09.992Z"
   },
   {
    "duration": 3,
    "start_time": "2023-04-22T08:19:23.225Z"
   },
   {
    "duration": 4,
    "start_time": "2023-04-22T08:19:23.528Z"
   },
   {
    "duration": 4,
    "start_time": "2023-04-22T08:19:24.516Z"
   },
   {
    "duration": 435,
    "start_time": "2023-04-22T08:19:29.333Z"
   },
   {
    "duration": 3,
    "start_time": "2023-04-22T08:19:38.577Z"
   },
   {
    "duration": 3,
    "start_time": "2023-04-22T08:19:39.865Z"
   },
   {
    "duration": 2046185,
    "start_time": "2023-04-22T08:19:40.455Z"
   },
   {
    "duration": 3,
    "start_time": "2023-04-22T08:53:46.643Z"
   },
   {
    "duration": 72,
    "start_time": "2023-04-22T08:53:46.648Z"
   },
   {
    "duration": 5,
    "start_time": "2023-04-22T08:53:46.722Z"
   },
   {
    "duration": 4710,
    "start_time": "2023-04-22T08:53:46.728Z"
   },
   {
    "duration": 3,
    "start_time": "2023-04-22T08:59:58.233Z"
   },
   {
    "duration": 5,
    "start_time": "2023-04-22T08:59:58.496Z"
   },
   {
    "duration": 21,
    "start_time": "2023-04-22T09:00:00.660Z"
   },
   {
    "duration": 14,
    "start_time": "2023-04-22T09:00:39.183Z"
   },
   {
    "duration": 5,
    "start_time": "2023-04-22T09:00:43.577Z"
   },
   {
    "duration": 59,
    "start_time": "2023-04-22T09:00:44.447Z"
   },
   {
    "duration": 11,
    "start_time": "2023-04-22T09:00:46.865Z"
   },
   {
    "duration": 11,
    "start_time": "2023-04-22T09:01:07.951Z"
   },
   {
    "duration": 391104,
    "start_time": "2023-04-22T09:01:08.626Z"
   },
   {
    "duration": 3,
    "start_time": "2023-04-22T09:07:39.732Z"
   },
   {
    "duration": 10,
    "start_time": "2023-04-22T09:08:12.688Z"
   },
   {
    "duration": 1715601,
    "start_time": "2023-04-22T09:08:13.225Z"
   },
   {
    "duration": 5,
    "start_time": "2023-04-22T09:36:48.828Z"
   },
   {
    "duration": 4890,
    "start_time": "2023-04-22T09:39:32.854Z"
   },
   {
    "duration": 2654,
    "start_time": "2023-04-22T09:39:37.747Z"
   },
   {
    "duration": 3,
    "start_time": "2023-04-22T09:39:40.403Z"
   },
   {
    "duration": 4953,
    "start_time": "2023-04-22T09:39:40.408Z"
   },
   {
    "duration": 110,
    "start_time": "2023-04-22T09:39:45.363Z"
   },
   {
    "duration": 18,
    "start_time": "2023-04-22T09:39:45.475Z"
   },
   {
    "duration": 23,
    "start_time": "2023-04-22T09:39:45.495Z"
   },
   {
    "duration": 15,
    "start_time": "2023-04-22T09:39:45.520Z"
   },
   {
    "duration": 44,
    "start_time": "2023-04-22T09:39:45.537Z"
   },
   {
    "duration": 10,
    "start_time": "2023-04-22T09:39:45.583Z"
   },
   {
    "duration": 14,
    "start_time": "2023-04-22T09:39:45.612Z"
   },
   {
    "duration": 10,
    "start_time": "2023-04-22T09:39:45.628Z"
   },
   {
    "duration": 29,
    "start_time": "2023-04-22T09:39:45.640Z"
   },
   {
    "duration": 42,
    "start_time": "2023-04-22T09:39:45.671Z"
   },
   {
    "duration": 200,
    "start_time": "2023-04-22T09:39:45.714Z"
   },
   {
    "duration": 5,
    "start_time": "2023-04-22T09:39:45.915Z"
   },
   {
    "duration": 379,
    "start_time": "2023-04-22T09:39:45.921Z"
   },
   {
    "duration": 12,
    "start_time": "2023-04-22T09:39:46.302Z"
   },
   {
    "duration": 9,
    "start_time": "2023-04-22T09:39:46.316Z"
   },
   {
    "duration": 18,
    "start_time": "2023-04-22T09:39:46.327Z"
   },
   {
    "duration": 22,
    "start_time": "2023-04-22T09:39:46.347Z"
   },
   {
    "duration": 25,
    "start_time": "2023-04-22T09:39:46.371Z"
   },
   {
    "duration": 11,
    "start_time": "2023-04-22T09:39:46.397Z"
   },
   {
    "duration": 9,
    "start_time": "2023-04-22T09:39:46.410Z"
   },
   {
    "duration": 12,
    "start_time": "2023-04-22T09:39:46.422Z"
   },
   {
    "duration": 12,
    "start_time": "2023-04-22T09:39:46.436Z"
   },
   {
    "duration": 7,
    "start_time": "2023-04-22T09:39:46.450Z"
   },
   {
    "duration": 7,
    "start_time": "2023-04-22T09:39:46.465Z"
   },
   {
    "duration": 39,
    "start_time": "2023-04-22T09:39:46.474Z"
   },
   {
    "duration": 8,
    "start_time": "2023-04-22T09:39:46.515Z"
   },
   {
    "duration": 10,
    "start_time": "2023-04-22T09:39:46.525Z"
   },
   {
    "duration": 14,
    "start_time": "2023-04-22T09:39:46.536Z"
   },
   {
    "duration": 10,
    "start_time": "2023-04-22T09:39:46.551Z"
   },
   {
    "duration": 6,
    "start_time": "2023-04-22T09:39:46.563Z"
   },
   {
    "duration": 42,
    "start_time": "2023-04-22T09:39:46.571Z"
   },
   {
    "duration": 7,
    "start_time": "2023-04-22T09:39:46.614Z"
   },
   {
    "duration": 8,
    "start_time": "2023-04-22T09:39:46.623Z"
   },
   {
    "duration": 7,
    "start_time": "2023-04-22T09:39:46.633Z"
   },
   {
    "duration": 7,
    "start_time": "2023-04-22T09:39:46.641Z"
   },
   {
    "duration": 7,
    "start_time": "2023-04-22T09:39:46.650Z"
   },
   {
    "duration": 12,
    "start_time": "2023-04-22T09:39:46.658Z"
   },
   {
    "duration": 41,
    "start_time": "2023-04-22T09:39:46.672Z"
   },
   {
    "duration": 10,
    "start_time": "2023-04-22T09:39:46.715Z"
   },
   {
    "duration": 6,
    "start_time": "2023-04-22T09:39:46.726Z"
   },
   {
    "duration": 35,
    "start_time": "2023-04-22T09:39:46.734Z"
   },
   {
    "duration": 20,
    "start_time": "2023-04-22T09:39:46.771Z"
   },
   {
    "duration": 19,
    "start_time": "2023-04-22T09:39:46.813Z"
   },
   {
    "duration": 6,
    "start_time": "2023-04-22T09:39:46.834Z"
   },
   {
    "duration": 2692,
    "start_time": "2023-04-22T09:39:46.842Z"
   },
   {
    "duration": 7,
    "start_time": "2023-04-22T09:39:49.536Z"
   },
   {
    "duration": 315,
    "start_time": "2023-04-22T09:39:49.544Z"
   },
   {
    "duration": 336,
    "start_time": "2023-04-22T09:39:49.860Z"
   },
   {
    "duration": 321,
    "start_time": "2023-04-22T09:39:50.198Z"
   },
   {
    "duration": 4,
    "start_time": "2023-04-22T09:39:50.520Z"
   },
   {
    "duration": 1616,
    "start_time": "2023-04-22T09:39:50.525Z"
   },
   {
    "duration": 2686,
    "start_time": "2023-04-22T09:39:52.142Z"
   },
   {
    "duration": 275,
    "start_time": "2023-04-22T09:39:54.830Z"
   },
   {
    "duration": 18,
    "start_time": "2023-04-22T09:39:55.106Z"
   },
   {
    "duration": 13,
    "start_time": "2023-04-22T09:39:55.126Z"
   },
   {
    "duration": 4,
    "start_time": "2023-04-22T09:39:55.140Z"
   },
   {
    "duration": 81,
    "start_time": "2023-04-22T09:39:55.145Z"
   },
   {
    "duration": 4,
    "start_time": "2023-04-22T09:39:55.228Z"
   },
   {
    "duration": 13,
    "start_time": "2023-04-22T09:39:55.233Z"
   },
   {
    "duration": 5,
    "start_time": "2023-04-22T09:39:55.247Z"
   },
   {
    "duration": 1187,
    "start_time": "2023-04-22T09:39:55.253Z"
   },
   {
    "duration": 424,
    "start_time": "2023-04-22T09:39:56.442Z"
   },
   {
    "duration": 4,
    "start_time": "2023-04-22T09:39:56.868Z"
   },
   {
    "duration": 32,
    "start_time": "2023-04-22T09:39:56.874Z"
   },
   {
    "duration": 1345,
    "start_time": "2023-04-22T09:39:56.908Z"
   },
   {
    "duration": 458,
    "start_time": "2023-04-22T09:39:58.255Z"
   },
   {
    "duration": 1103,
    "start_time": "2023-04-22T09:39:58.716Z"
   },
   {
    "duration": 6,
    "start_time": "2023-04-22T09:39:59.822Z"
   },
   {
    "duration": 1027,
    "start_time": "2023-04-22T09:39:59.830Z"
   },
   {
    "duration": 28,
    "start_time": "2023-04-22T09:40:00.859Z"
   },
   {
    "duration": 54,
    "start_time": "2023-04-22T09:40:00.889Z"
   },
   {
    "duration": 125,
    "start_time": "2023-04-22T09:40:00.945Z"
   },
   {
    "duration": 24,
    "start_time": "2023-04-22T09:40:01.072Z"
   },
   {
    "duration": 17,
    "start_time": "2023-04-22T09:40:01.098Z"
   },
   {
    "duration": 15,
    "start_time": "2023-04-22T09:40:01.117Z"
   },
   {
    "duration": 16,
    "start_time": "2023-04-22T09:40:01.135Z"
   },
   {
    "duration": 278527,
    "start_time": "2023-04-22T09:40:01.153Z"
   },
   {
    "duration": 3,
    "start_time": "2023-04-22T09:44:39.685Z"
   },
   {
    "duration": 10,
    "start_time": "2023-04-22T09:44:39.690Z"
   },
   {
    "duration": 5,
    "start_time": "2023-04-22T09:44:39.712Z"
   },
   {
    "duration": 456,
    "start_time": "2023-04-22T09:44:39.719Z"
   },
   {
    "duration": 4,
    "start_time": "2023-04-22T09:44:40.177Z"
   },
   {
    "duration": 4,
    "start_time": "2023-04-22T09:44:40.183Z"
   },
   {
    "duration": 10713802,
    "start_time": "2023-04-22T09:44:40.189Z"
   },
   {
    "duration": 0,
    "start_time": "2023-04-22T12:43:13.993Z"
   },
   {
    "duration": 0,
    "start_time": "2023-04-22T12:43:13.995Z"
   },
   {
    "duration": 0,
    "start_time": "2023-04-22T12:43:13.996Z"
   },
   {
    "duration": 0,
    "start_time": "2023-04-22T12:43:13.997Z"
   },
   {
    "duration": 0,
    "start_time": "2023-04-22T12:43:13.998Z"
   },
   {
    "duration": 0,
    "start_time": "2023-04-22T12:43:14.011Z"
   },
   {
    "duration": 0,
    "start_time": "2023-04-22T12:43:14.012Z"
   },
   {
    "duration": 0,
    "start_time": "2023-04-22T12:43:14.014Z"
   },
   {
    "duration": 0,
    "start_time": "2023-04-22T12:43:14.015Z"
   },
   {
    "duration": 0,
    "start_time": "2023-04-22T12:43:14.016Z"
   },
   {
    "duration": 0,
    "start_time": "2023-04-22T12:43:14.017Z"
   },
   {
    "duration": 0,
    "start_time": "2023-04-22T12:43:14.019Z"
   },
   {
    "duration": 0,
    "start_time": "2023-04-22T12:43:14.020Z"
   },
   {
    "duration": 0,
    "start_time": "2023-04-22T12:43:14.021Z"
   },
   {
    "duration": 0,
    "start_time": "2023-04-22T12:43:14.022Z"
   },
   {
    "duration": 159060,
    "start_time": "2023-04-22T12:43:16.010Z"
   },
   {
    "duration": 0,
    "start_time": "2023-04-22T12:45:55.113Z"
   },
   {
    "duration": 0,
    "start_time": "2023-04-22T12:45:55.117Z"
   },
   {
    "duration": 0,
    "start_time": "2023-04-22T12:45:55.118Z"
   },
   {
    "duration": 0,
    "start_time": "2023-04-22T12:45:55.119Z"
   },
   {
    "duration": 4,
    "start_time": "2023-04-22T12:46:11.747Z"
   },
   {
    "duration": 3,
    "start_time": "2023-04-22T12:46:12.242Z"
   },
   {
    "duration": 24462,
    "start_time": "2023-04-22T12:46:12.490Z"
   },
   {
    "duration": 4,
    "start_time": "2023-04-22T12:46:47.794Z"
   },
   {
    "duration": 3,
    "start_time": "2023-04-22T12:46:48.092Z"
   },
   {
    "duration": 97876,
    "start_time": "2023-04-22T12:46:48.272Z"
   },
   {
    "duration": 4,
    "start_time": "2023-04-22T12:48:37.150Z"
   },
   {
    "duration": 3,
    "start_time": "2023-04-22T12:48:37.336Z"
   },
   {
    "duration": 9567,
    "start_time": "2023-04-22T12:48:37.568Z"
   },
   {
    "duration": 3,
    "start_time": "2023-04-22T12:48:48.100Z"
   },
   {
    "duration": 2,
    "start_time": "2023-04-22T12:48:48.305Z"
   },
   {
    "duration": 20,
    "start_time": "2023-04-22T12:48:48.828Z"
   },
   {
    "duration": 3,
    "start_time": "2023-04-22T12:49:01.204Z"
   },
   {
    "duration": 2,
    "start_time": "2023-04-22T12:49:01.386Z"
   },
   {
    "duration": 95956,
    "start_time": "2023-04-22T12:49:01.584Z"
   },
   {
    "duration": 3,
    "start_time": "2023-04-22T12:50:51.080Z"
   },
   {
    "duration": 3,
    "start_time": "2023-04-22T12:50:52.302Z"
   },
   {
    "duration": 8072,
    "start_time": "2023-04-22T12:50:52.872Z"
   },
   {
    "duration": 24,
    "start_time": "2023-04-22T12:51:07.146Z"
   },
   {
    "duration": 19728,
    "start_time": "2023-04-22T12:51:24.222Z"
   },
   {
    "duration": 40488,
    "start_time": "2023-04-22T12:51:48.347Z"
   },
   {
    "duration": 2,
    "start_time": "2023-04-22T12:54:37.341Z"
   },
   {
    "duration": 4,
    "start_time": "2023-04-22T12:55:32.753Z"
   },
   {
    "duration": 3,
    "start_time": "2023-04-22T12:55:33.283Z"
   },
   {
    "duration": 4938,
    "start_time": "2023-04-22T14:29:36.721Z"
   },
   {
    "duration": 2670,
    "start_time": "2023-04-22T14:29:41.662Z"
   },
   {
    "duration": 3,
    "start_time": "2023-04-22T14:29:44.334Z"
   },
   {
    "duration": 5532,
    "start_time": "2023-04-22T14:29:44.339Z"
   },
   {
    "duration": 122,
    "start_time": "2023-04-22T14:29:49.873Z"
   },
   {
    "duration": 23,
    "start_time": "2023-04-22T14:29:49.997Z"
   },
   {
    "duration": 30,
    "start_time": "2023-04-22T14:29:50.023Z"
   },
   {
    "duration": 16,
    "start_time": "2023-04-22T14:29:50.056Z"
   },
   {
    "duration": 60,
    "start_time": "2023-04-22T14:29:50.073Z"
   },
   {
    "duration": 14,
    "start_time": "2023-04-22T14:29:50.136Z"
   },
   {
    "duration": 23,
    "start_time": "2023-04-22T14:29:50.152Z"
   },
   {
    "duration": 14,
    "start_time": "2023-04-22T14:29:50.177Z"
   },
   {
    "duration": 54,
    "start_time": "2023-04-22T14:29:50.192Z"
   },
   {
    "duration": 18,
    "start_time": "2023-04-22T14:29:50.249Z"
   },
   {
    "duration": 218,
    "start_time": "2023-04-22T14:29:50.269Z"
   },
   {
    "duration": 4,
    "start_time": "2023-04-22T14:29:50.489Z"
   },
   {
    "duration": 384,
    "start_time": "2023-04-22T14:29:50.494Z"
   },
   {
    "duration": 8,
    "start_time": "2023-04-22T14:29:50.880Z"
   },
   {
    "duration": 36,
    "start_time": "2023-04-22T14:29:50.889Z"
   },
   {
    "duration": 13,
    "start_time": "2023-04-22T14:29:50.927Z"
   },
   {
    "duration": 7,
    "start_time": "2023-04-22T14:29:50.942Z"
   },
   {
    "duration": 11,
    "start_time": "2023-04-22T14:29:50.951Z"
   },
   {
    "duration": 8,
    "start_time": "2023-04-22T14:29:50.964Z"
   },
   {
    "duration": 11,
    "start_time": "2023-04-22T14:29:50.974Z"
   },
   {
    "duration": 13,
    "start_time": "2023-04-22T14:29:51.025Z"
   },
   {
    "duration": 25,
    "start_time": "2023-04-22T14:29:51.040Z"
   },
   {
    "duration": 18,
    "start_time": "2023-04-22T14:29:51.067Z"
   },
   {
    "duration": 8,
    "start_time": "2023-04-22T14:29:51.087Z"
   },
   {
    "duration": 29,
    "start_time": "2023-04-22T14:29:51.096Z"
   },
   {
    "duration": 8,
    "start_time": "2023-04-22T14:29:51.127Z"
   },
   {
    "duration": 39,
    "start_time": "2023-04-22T14:29:51.137Z"
   },
   {
    "duration": 27,
    "start_time": "2023-04-22T14:29:51.177Z"
   },
   {
    "duration": 29,
    "start_time": "2023-04-22T14:29:51.206Z"
   },
   {
    "duration": 7,
    "start_time": "2023-04-22T14:29:51.237Z"
   },
   {
    "duration": 29,
    "start_time": "2023-04-22T14:29:51.246Z"
   },
   {
    "duration": 17,
    "start_time": "2023-04-22T14:29:51.277Z"
   },
   {
    "duration": 54,
    "start_time": "2023-04-22T14:29:51.295Z"
   },
   {
    "duration": 32,
    "start_time": "2023-04-22T14:29:51.351Z"
   },
   {
    "duration": 21,
    "start_time": "2023-04-22T14:29:51.385Z"
   },
   {
    "duration": 21,
    "start_time": "2023-04-22T14:29:51.408Z"
   },
   {
    "duration": 7,
    "start_time": "2023-04-22T14:29:51.437Z"
   },
   {
    "duration": 25,
    "start_time": "2023-04-22T14:29:51.446Z"
   },
   {
    "duration": 10,
    "start_time": "2023-04-22T14:29:51.473Z"
   },
   {
    "duration": 8,
    "start_time": "2023-04-22T14:29:51.485Z"
   },
   {
    "duration": 40,
    "start_time": "2023-04-22T14:29:51.495Z"
   },
   {
    "duration": 19,
    "start_time": "2023-04-22T14:29:51.537Z"
   },
   {
    "duration": 23,
    "start_time": "2023-04-22T14:29:51.558Z"
   },
   {
    "duration": 5,
    "start_time": "2023-04-22T14:29:51.583Z"
   },
   {
    "duration": 3055,
    "start_time": "2023-04-22T14:29:51.590Z"
   },
   {
    "duration": 13,
    "start_time": "2023-04-22T14:29:54.647Z"
   },
   {
    "duration": 418,
    "start_time": "2023-04-22T14:29:54.663Z"
   },
   {
    "duration": 347,
    "start_time": "2023-04-22T14:29:55.083Z"
   },
   {
    "duration": 412,
    "start_time": "2023-04-22T14:29:55.431Z"
   },
   {
    "duration": 4,
    "start_time": "2023-04-22T14:29:55.845Z"
   },
   {
    "duration": 1810,
    "start_time": "2023-04-22T14:29:55.851Z"
   },
   {
    "duration": 2714,
    "start_time": "2023-04-22T14:29:57.662Z"
   },
   {
    "duration": 351,
    "start_time": "2023-04-22T14:30:00.378Z"
   },
   {
    "duration": 12,
    "start_time": "2023-04-22T14:30:00.732Z"
   },
   {
    "duration": 48,
    "start_time": "2023-04-22T14:30:00.746Z"
   },
   {
    "duration": 36,
    "start_time": "2023-04-22T14:30:00.796Z"
   },
   {
    "duration": 91,
    "start_time": "2023-04-22T14:30:00.833Z"
   },
   {
    "duration": 11,
    "start_time": "2023-04-22T14:30:00.926Z"
   },
   {
    "duration": 63,
    "start_time": "2023-04-22T14:30:00.939Z"
   },
   {
    "duration": 70,
    "start_time": "2023-04-22T14:30:01.005Z"
   },
   {
    "duration": 1248,
    "start_time": "2023-04-22T14:30:01.077Z"
   },
   {
    "duration": 447,
    "start_time": "2023-04-22T14:30:02.329Z"
   },
   {
    "duration": 4,
    "start_time": "2023-04-22T14:30:02.778Z"
   },
   {
    "duration": 27,
    "start_time": "2023-04-22T14:30:02.784Z"
   },
   {
    "duration": 1447,
    "start_time": "2023-04-22T14:30:02.814Z"
   },
   {
    "duration": 460,
    "start_time": "2023-04-22T14:30:04.263Z"
   },
   {
    "duration": 1084,
    "start_time": "2023-04-22T14:30:04.729Z"
   },
   {
    "duration": 5,
    "start_time": "2023-04-22T14:30:05.824Z"
   },
   {
    "duration": 999,
    "start_time": "2023-04-22T14:30:05.830Z"
   },
   {
    "duration": 26,
    "start_time": "2023-04-22T14:30:06.831Z"
   },
   {
    "duration": 9,
    "start_time": "2023-04-22T14:30:06.859Z"
   },
   {
    "duration": 7,
    "start_time": "2023-04-22T14:30:06.870Z"
   },
   {
    "duration": 10,
    "start_time": "2023-04-22T14:30:06.878Z"
   },
   {
    "duration": 29,
    "start_time": "2023-04-22T14:30:06.890Z"
   },
   {
    "duration": 6,
    "start_time": "2023-04-22T14:30:06.921Z"
   },
   {
    "duration": 4,
    "start_time": "2023-04-22T14:30:06.929Z"
   },
   {
    "duration": 2701,
    "start_time": "2023-04-22T14:30:06.934Z"
   },
   {
    "duration": 2,
    "start_time": "2023-04-22T14:30:09.637Z"
   },
   {
    "duration": 20,
    "start_time": "2023-04-22T14:30:09.641Z"
   },
   {
    "duration": 465,
    "start_time": "2023-04-22T14:30:09.663Z"
   },
   {
    "duration": 3,
    "start_time": "2023-04-22T14:30:10.131Z"
   },
   {
    "duration": 5,
    "start_time": "2023-04-22T14:30:10.136Z"
   },
   {
    "duration": 4241795,
    "start_time": "2023-04-22T14:30:10.143Z"
   },
   {
    "duration": 3,
    "start_time": "2023-04-22T15:40:51.940Z"
   },
   {
    "duration": 12,
    "start_time": "2023-04-22T15:40:51.944Z"
   },
   {
    "duration": 57,
    "start_time": "2023-04-22T15:40:51.958Z"
   },
   {
    "duration": 4218,
    "start_time": "2023-04-22T15:40:52.016Z"
   },
   {
    "duration": 3,
    "start_time": "2023-04-22T15:40:56.236Z"
   },
   {
    "duration": 12,
    "start_time": "2023-04-22T15:40:56.240Z"
   },
   {
    "duration": 18,
    "start_time": "2023-04-22T15:40:56.254Z"
   },
   {
    "duration": 5,
    "start_time": "2023-04-22T15:40:56.273Z"
   },
   {
    "duration": 34,
    "start_time": "2023-04-22T15:40:56.280Z"
   },
   {
    "duration": 10,
    "start_time": "2023-04-22T15:40:56.316Z"
   },
   {
    "duration": 3897087,
    "start_time": "2023-04-22T15:40:56.328Z"
   },
   {
    "duration": 4,
    "start_time": "2023-04-22T16:45:53.417Z"
   },
   {
    "duration": 214,
    "start_time": "2023-04-22T16:45:53.423Z"
   },
   {
    "duration": 1,
    "start_time": "2023-04-22T16:45:53.638Z"
   },
   {
    "duration": 0,
    "start_time": "2023-04-22T16:45:53.640Z"
   },
   {
    "duration": 0,
    "start_time": "2023-04-22T16:45:53.642Z"
   },
   {
    "duration": 21,
    "start_time": "2023-04-22T16:48:53.036Z"
   },
   {
    "duration": 4988,
    "start_time": "2023-04-22T16:49:08.317Z"
   },
   {
    "duration": 2829,
    "start_time": "2023-04-22T16:49:13.308Z"
   },
   {
    "duration": 3,
    "start_time": "2023-04-22T16:49:16.139Z"
   },
   {
    "duration": 5412,
    "start_time": "2023-04-22T16:49:16.144Z"
   },
   {
    "duration": 85,
    "start_time": "2023-04-22T16:49:21.557Z"
   },
   {
    "duration": 20,
    "start_time": "2023-04-22T16:49:21.643Z"
   },
   {
    "duration": 23,
    "start_time": "2023-04-22T16:49:21.665Z"
   },
   {
    "duration": 46,
    "start_time": "2023-04-22T16:49:21.689Z"
   },
   {
    "duration": 37,
    "start_time": "2023-04-22T16:49:21.737Z"
   },
   {
    "duration": 12,
    "start_time": "2023-04-22T16:49:21.777Z"
   },
   {
    "duration": 33,
    "start_time": "2023-04-22T16:49:21.791Z"
   },
   {
    "duration": 13,
    "start_time": "2023-04-22T16:49:21.826Z"
   },
   {
    "duration": 49,
    "start_time": "2023-04-22T16:49:21.841Z"
   },
   {
    "duration": 39,
    "start_time": "2023-04-22T16:49:21.892Z"
   },
   {
    "duration": 218,
    "start_time": "2023-04-22T16:49:21.933Z"
   },
   {
    "duration": 4,
    "start_time": "2023-04-22T16:49:22.153Z"
   },
   {
    "duration": 407,
    "start_time": "2023-04-22T16:49:22.159Z"
   },
   {
    "duration": 8,
    "start_time": "2023-04-22T16:49:22.568Z"
   },
   {
    "duration": 10,
    "start_time": "2023-04-22T16:49:22.577Z"
   },
   {
    "duration": 40,
    "start_time": "2023-04-22T16:49:22.589Z"
   },
   {
    "duration": 6,
    "start_time": "2023-04-22T16:49:22.632Z"
   },
   {
    "duration": 8,
    "start_time": "2023-04-22T16:49:22.639Z"
   },
   {
    "duration": 8,
    "start_time": "2023-04-22T16:49:22.649Z"
   },
   {
    "duration": 11,
    "start_time": "2023-04-22T16:49:22.659Z"
   },
   {
    "duration": 44,
    "start_time": "2023-04-22T16:49:22.672Z"
   },
   {
    "duration": 14,
    "start_time": "2023-04-22T16:49:22.718Z"
   },
   {
    "duration": 6,
    "start_time": "2023-04-22T16:49:22.734Z"
   },
   {
    "duration": 6,
    "start_time": "2023-04-22T16:49:22.747Z"
   },
   {
    "duration": 23,
    "start_time": "2023-04-22T16:49:22.755Z"
   },
   {
    "duration": 9,
    "start_time": "2023-04-22T16:49:22.780Z"
   },
   {
    "duration": 37,
    "start_time": "2023-04-22T16:49:22.791Z"
   },
   {
    "duration": 21,
    "start_time": "2023-04-22T16:49:22.832Z"
   },
   {
    "duration": 32,
    "start_time": "2023-04-22T16:49:22.855Z"
   },
   {
    "duration": 10,
    "start_time": "2023-04-22T16:49:22.888Z"
   },
   {
    "duration": 11,
    "start_time": "2023-04-22T16:49:22.901Z"
   },
   {
    "duration": 14,
    "start_time": "2023-04-22T16:49:22.916Z"
   },
   {
    "duration": 13,
    "start_time": "2023-04-22T16:49:22.932Z"
   },
   {
    "duration": 8,
    "start_time": "2023-04-22T16:49:22.947Z"
   },
   {
    "duration": 10,
    "start_time": "2023-04-22T16:49:22.956Z"
   },
   {
    "duration": 6,
    "start_time": "2023-04-22T16:49:22.968Z"
   },
   {
    "duration": 8,
    "start_time": "2023-04-22T16:49:22.976Z"
   },
   {
    "duration": 41,
    "start_time": "2023-04-22T16:49:22.986Z"
   },
   {
    "duration": 10,
    "start_time": "2023-04-22T16:49:23.030Z"
   },
   {
    "duration": 8,
    "start_time": "2023-04-22T16:49:23.042Z"
   },
   {
    "duration": 62,
    "start_time": "2023-04-22T16:49:23.051Z"
   },
   {
    "duration": 23,
    "start_time": "2023-04-22T16:49:23.115Z"
   },
   {
    "duration": 26,
    "start_time": "2023-04-22T16:49:23.140Z"
   },
   {
    "duration": 6,
    "start_time": "2023-04-22T16:49:23.168Z"
   },
   {
    "duration": 2954,
    "start_time": "2023-04-22T16:49:23.175Z"
   },
   {
    "duration": 8,
    "start_time": "2023-04-22T16:49:26.131Z"
   },
   {
    "duration": 344,
    "start_time": "2023-04-22T16:49:26.141Z"
   },
   {
    "duration": 348,
    "start_time": "2023-04-22T16:49:26.487Z"
   },
   {
    "duration": 352,
    "start_time": "2023-04-22T16:49:26.837Z"
   },
   {
    "duration": 3,
    "start_time": "2023-04-22T16:49:27.191Z"
   },
   {
    "duration": 2096,
    "start_time": "2023-04-22T16:49:27.196Z"
   },
   {
    "duration": 2656,
    "start_time": "2023-04-22T16:49:29.295Z"
   },
   {
    "duration": 341,
    "start_time": "2023-04-22T16:49:31.954Z"
   },
   {
    "duration": 23,
    "start_time": "2023-04-22T16:49:32.296Z"
   },
   {
    "duration": 12,
    "start_time": "2023-04-22T16:49:32.322Z"
   },
   {
    "duration": 19,
    "start_time": "2023-04-22T16:49:32.335Z"
   },
   {
    "duration": 73,
    "start_time": "2023-04-22T16:49:32.356Z"
   },
   {
    "duration": 6,
    "start_time": "2023-04-22T16:49:32.431Z"
   },
   {
    "duration": 22,
    "start_time": "2023-04-22T16:49:32.439Z"
   },
   {
    "duration": 15,
    "start_time": "2023-04-22T16:49:32.463Z"
   },
   {
    "duration": 1320,
    "start_time": "2023-04-22T16:49:32.480Z"
   },
   {
    "duration": 450,
    "start_time": "2023-04-22T16:49:33.802Z"
   },
   {
    "duration": 3,
    "start_time": "2023-04-22T16:49:34.254Z"
   },
   {
    "duration": 7,
    "start_time": "2023-04-22T16:49:34.259Z"
   },
   {
    "duration": 1365,
    "start_time": "2023-04-22T16:49:34.267Z"
   },
   {
    "duration": 481,
    "start_time": "2023-04-22T16:49:35.634Z"
   },
   {
    "duration": 1121,
    "start_time": "2023-04-22T16:49:36.117Z"
   },
   {
    "duration": 1021,
    "start_time": "2023-04-22T16:49:37.240Z"
   },
   {
    "duration": 27,
    "start_time": "2023-04-22T16:49:38.263Z"
   },
   {
    "duration": 14,
    "start_time": "2023-04-22T16:49:38.311Z"
   },
   {
    "duration": 15,
    "start_time": "2023-04-22T16:49:38.327Z"
   },
   {
    "duration": 5,
    "start_time": "2023-04-22T16:49:38.344Z"
   },
   {
    "duration": 10,
    "start_time": "2023-04-22T16:49:38.350Z"
   },
   {
    "duration": 5,
    "start_time": "2023-04-22T16:49:38.362Z"
   },
   {
    "duration": 5,
    "start_time": "2023-04-22T16:49:38.369Z"
   },
   {
    "duration": 2908,
    "start_time": "2023-04-22T16:49:38.376Z"
   },
   {
    "duration": 4,
    "start_time": "2023-04-22T16:49:41.286Z"
   },
   {
    "duration": 6,
    "start_time": "2023-04-22T16:49:41.311Z"
   },
   {
    "duration": 487,
    "start_time": "2023-04-22T16:49:41.319Z"
   },
   {
    "duration": 6,
    "start_time": "2023-04-22T16:49:41.807Z"
   },
   {
    "duration": 4,
    "start_time": "2023-04-22T16:49:41.815Z"
   },
   {
    "duration": 187828,
    "start_time": "2023-04-22T16:49:41.821Z"
   },
   {
    "duration": 3,
    "start_time": "2023-04-22T16:52:49.652Z"
   },
   {
    "duration": 6,
    "start_time": "2023-04-22T16:52:49.659Z"
   },
   {
    "duration": 47,
    "start_time": "2023-04-22T16:52:49.666Z"
   },
   {
    "duration": 26630,
    "start_time": "2023-04-22T16:52:49.715Z"
   },
   {
    "duration": 4,
    "start_time": "2023-04-22T16:53:16.412Z"
   },
   {
    "duration": 7,
    "start_time": "2023-04-22T16:53:16.418Z"
   },
   {
    "duration": 22,
    "start_time": "2023-04-22T16:53:16.427Z"
   },
   {
    "duration": 6,
    "start_time": "2023-04-22T16:53:16.452Z"
   },
   {
    "duration": 7,
    "start_time": "2023-04-22T16:53:16.460Z"
   },
   {
    "duration": 11,
    "start_time": "2023-04-22T16:53:16.513Z"
   },
   {
    "duration": 24,
    "start_time": "2023-04-22T16:53:16.527Z"
   },
   {
    "duration": 17,
    "start_time": "2023-04-22T16:53:16.553Z"
   },
   {
    "duration": 37,
    "start_time": "2023-04-22T16:53:16.573Z"
   },
   {
    "duration": 639,
    "start_time": "2023-04-22T16:53:16.612Z"
   },
   {
    "duration": 224,
    "start_time": "2023-04-22T16:53:17.252Z"
   },
   {
    "duration": 0,
    "start_time": "2023-04-22T16:53:17.478Z"
   },
   {
    "duration": 7,
    "start_time": "2023-04-22T16:57:07.057Z"
   },
   {
    "duration": 146,
    "start_time": "2023-04-22T16:57:30.464Z"
   },
   {
    "duration": 119,
    "start_time": "2023-04-22T16:57:48.117Z"
   },
   {
    "duration": 22,
    "start_time": "2023-04-22T17:14:55.101Z"
   },
   {
    "duration": 21,
    "start_time": "2023-04-22T17:15:17.650Z"
   },
   {
    "duration": 21,
    "start_time": "2023-04-22T17:15:28.613Z"
   },
   {
    "duration": 15,
    "start_time": "2023-04-22T17:15:46.530Z"
   },
   {
    "duration": 15,
    "start_time": "2023-04-22T17:16:26.025Z"
   },
   {
    "duration": 14,
    "start_time": "2023-04-22T17:16:46.672Z"
   },
   {
    "duration": 8,
    "start_time": "2023-04-22T17:16:52.905Z"
   },
   {
    "duration": 6,
    "start_time": "2023-04-22T17:17:04.123Z"
   },
   {
    "duration": 24982,
    "start_time": "2023-04-22T17:17:48.231Z"
   },
   {
    "duration": 10,
    "start_time": "2023-04-22T17:18:13.216Z"
   },
   {
    "duration": 4,
    "start_time": "2023-04-22T17:18:13.227Z"
   },
   {
    "duration": 4,
    "start_time": "2023-04-22T17:18:13.233Z"
   },
   {
    "duration": 8,
    "start_time": "2023-04-22T17:18:19.649Z"
   },
   {
    "duration": 10,
    "start_time": "2023-04-22T17:18:49.557Z"
   },
   {
    "duration": 5149163,
    "start_time": "2023-04-22T17:18:50.583Z"
   },
   {
    "duration": 0,
    "start_time": "2023-04-22T18:44:39.747Z"
   },
   {
    "duration": 0,
    "start_time": "2023-04-22T18:44:39.749Z"
   },
   {
    "duration": 0,
    "start_time": "2023-04-22T18:44:39.750Z"
   },
   {
    "duration": 0,
    "start_time": "2023-04-22T18:44:39.752Z"
   },
   {
    "duration": 0,
    "start_time": "2023-04-22T18:44:39.753Z"
   },
   {
    "duration": 3,
    "start_time": "2023-04-22T18:44:45.280Z"
   },
   {
    "duration": 8,
    "start_time": "2023-04-22T18:45:32.536Z"
   },
   {
    "duration": 5,
    "start_time": "2023-04-22T18:45:33.533Z"
   },
   {
    "duration": 10860,
    "start_time": "2023-04-22T18:45:34.581Z"
   },
   {
    "duration": 0,
    "start_time": "2023-04-22T18:45:45.443Z"
   },
   {
    "duration": 0,
    "start_time": "2023-04-22T18:45:45.444Z"
   },
   {
    "duration": 57607,
    "start_time": "2023-04-22T18:45:47.939Z"
   },
   {
    "duration": 68,
    "start_time": "2023-04-22T18:46:45.548Z"
   },
   {
    "duration": 3,
    "start_time": "2023-04-22T18:47:34.752Z"
   },
   {
    "duration": 7,
    "start_time": "2023-04-22T18:47:38.372Z"
   },
   {
    "duration": 4,
    "start_time": "2023-04-22T18:47:38.732Z"
   },
   {
    "duration": 27207,
    "start_time": "2023-04-22T18:47:39.528Z"
   },
   {
    "duration": 74,
    "start_time": "2023-04-22T18:48:06.738Z"
   },
   {
    "duration": 3,
    "start_time": "2023-04-22T18:48:36.508Z"
   },
   {
    "duration": 7,
    "start_time": "2023-04-22T18:48:40.537Z"
   },
   {
    "duration": 4,
    "start_time": "2023-04-22T18:48:41.198Z"
   },
   {
    "duration": 22512,
    "start_time": "2023-04-22T18:48:41.537Z"
   },
   {
    "duration": 30,
    "start_time": "2023-04-22T18:49:04.113Z"
   },
   {
    "duration": 4,
    "start_time": "2023-04-22T18:49:10.753Z"
   },
   {
    "duration": 2,
    "start_time": "2023-04-22T18:49:38.582Z"
   },
   {
    "duration": 9,
    "start_time": "2023-04-22T18:49:49.004Z"
   },
   {
    "duration": 4,
    "start_time": "2023-04-22T18:49:49.381Z"
   },
   {
    "duration": 10730,
    "start_time": "2023-04-22T18:49:49.888Z"
   },
   {
    "duration": 26,
    "start_time": "2023-04-22T18:50:00.624Z"
   },
   {
    "duration": 2,
    "start_time": "2023-04-22T18:50:28.348Z"
   },
   {
    "duration": 8,
    "start_time": "2023-04-22T18:50:34.104Z"
   },
   {
    "duration": 4,
    "start_time": "2023-04-22T18:50:35.070Z"
   },
   {
    "duration": 13586,
    "start_time": "2023-04-22T18:50:36.157Z"
   },
   {
    "duration": 10,
    "start_time": "2023-04-22T18:50:49.745Z"
   },
   {
    "duration": 2,
    "start_time": "2023-04-22T18:51:26.776Z"
   },
   {
    "duration": 3,
    "start_time": "2023-04-22T18:51:37.390Z"
   },
   {
    "duration": 14,
    "start_time": "2023-04-22T18:51:47.405Z"
   },
   {
    "duration": 5,
    "start_time": "2023-04-22T18:51:47.671Z"
   },
   {
    "duration": 5330,
    "start_time": "2023-04-22T18:51:47.891Z"
   },
   {
    "duration": 12,
    "start_time": "2023-04-22T18:51:53.223Z"
   },
   {
    "duration": 2,
    "start_time": "2023-04-22T18:52:19.667Z"
   },
   {
    "duration": 4546,
    "start_time": "2023-04-22T18:53:10.493Z"
   },
   {
    "duration": 2513,
    "start_time": "2023-04-22T18:53:15.043Z"
   },
   {
    "duration": 3,
    "start_time": "2023-04-22T18:53:17.558Z"
   },
   {
    "duration": 4906,
    "start_time": "2023-04-22T18:53:17.563Z"
   },
   {
    "duration": 77,
    "start_time": "2023-04-22T18:53:22.472Z"
   },
   {
    "duration": 20,
    "start_time": "2023-04-22T18:53:22.551Z"
   },
   {
    "duration": 22,
    "start_time": "2023-04-22T18:53:22.572Z"
   },
   {
    "duration": 23,
    "start_time": "2023-04-22T18:53:22.596Z"
   },
   {
    "duration": 30,
    "start_time": "2023-04-22T18:53:22.621Z"
   },
   {
    "duration": 11,
    "start_time": "2023-04-22T18:53:22.653Z"
   },
   {
    "duration": 16,
    "start_time": "2023-04-22T18:53:22.666Z"
   },
   {
    "duration": 11,
    "start_time": "2023-04-22T18:53:22.712Z"
   },
   {
    "duration": 28,
    "start_time": "2023-04-22T18:53:22.725Z"
   },
   {
    "duration": 18,
    "start_time": "2023-04-22T18:53:22.756Z"
   },
   {
    "duration": 237,
    "start_time": "2023-04-22T18:53:22.776Z"
   },
   {
    "duration": 4,
    "start_time": "2023-04-22T18:53:23.015Z"
   },
   {
    "duration": 392,
    "start_time": "2023-04-22T18:53:23.021Z"
   },
   {
    "duration": 7,
    "start_time": "2023-04-22T18:53:23.415Z"
   },
   {
    "duration": 19,
    "start_time": "2023-04-22T18:53:23.424Z"
   },
   {
    "duration": 11,
    "start_time": "2023-04-22T18:53:23.445Z"
   },
   {
    "duration": 12,
    "start_time": "2023-04-22T18:53:23.457Z"
   },
   {
    "duration": 6,
    "start_time": "2023-04-22T18:53:23.471Z"
   },
   {
    "duration": 7,
    "start_time": "2023-04-22T18:53:23.479Z"
   },
   {
    "duration": 32,
    "start_time": "2023-04-22T18:53:23.487Z"
   },
   {
    "duration": 12,
    "start_time": "2023-04-22T18:53:23.521Z"
   },
   {
    "duration": 24,
    "start_time": "2023-04-22T18:53:23.535Z"
   },
   {
    "duration": 26,
    "start_time": "2023-04-22T18:53:23.560Z"
   },
   {
    "duration": 14,
    "start_time": "2023-04-22T18:53:23.588Z"
   },
   {
    "duration": 22,
    "start_time": "2023-04-22T18:53:23.604Z"
   },
   {
    "duration": 7,
    "start_time": "2023-04-22T18:53:23.628Z"
   },
   {
    "duration": 13,
    "start_time": "2023-04-22T18:53:23.637Z"
   },
   {
    "duration": 14,
    "start_time": "2023-04-22T18:53:23.652Z"
   },
   {
    "duration": 13,
    "start_time": "2023-04-22T18:53:23.667Z"
   },
   {
    "duration": 6,
    "start_time": "2023-04-22T18:53:23.682Z"
   },
   {
    "duration": 24,
    "start_time": "2023-04-22T18:53:23.690Z"
   },
   {
    "duration": 8,
    "start_time": "2023-04-22T18:53:23.716Z"
   },
   {
    "duration": 9,
    "start_time": "2023-04-22T18:53:23.725Z"
   },
   {
    "duration": 7,
    "start_time": "2023-04-22T18:53:23.736Z"
   },
   {
    "duration": 7,
    "start_time": "2023-04-22T18:53:23.745Z"
   },
   {
    "duration": 7,
    "start_time": "2023-04-22T18:53:23.753Z"
   },
   {
    "duration": 7,
    "start_time": "2023-04-22T18:53:23.765Z"
   },
   {
    "duration": 44,
    "start_time": "2023-04-22T18:53:23.774Z"
   },
   {
    "duration": 9,
    "start_time": "2023-04-22T18:53:23.820Z"
   },
   {
    "duration": 7,
    "start_time": "2023-04-22T18:53:23.832Z"
   },
   {
    "duration": 40,
    "start_time": "2023-04-22T18:53:23.842Z"
   },
   {
    "duration": 45,
    "start_time": "2023-04-22T18:53:23.884Z"
   },
   {
    "duration": 21,
    "start_time": "2023-04-22T18:53:23.931Z"
   },
   {
    "duration": 6,
    "start_time": "2023-04-22T18:53:23.954Z"
   },
   {
    "duration": 2623,
    "start_time": "2023-04-22T18:53:23.961Z"
   },
   {
    "duration": 7,
    "start_time": "2023-04-22T18:53:26.585Z"
   },
   {
    "duration": 317,
    "start_time": "2023-04-22T18:53:26.594Z"
   },
   {
    "duration": 322,
    "start_time": "2023-04-22T18:53:26.913Z"
   },
   {
    "duration": 352,
    "start_time": "2023-04-22T18:53:27.237Z"
   },
   {
    "duration": 3,
    "start_time": "2023-04-22T18:53:27.591Z"
   },
   {
    "duration": 1789,
    "start_time": "2023-04-22T18:53:27.596Z"
   },
   {
    "duration": 2486,
    "start_time": "2023-04-22T18:53:29.387Z"
   },
   {
    "duration": 313,
    "start_time": "2023-04-22T18:53:31.875Z"
   },
   {
    "duration": 22,
    "start_time": "2023-04-22T18:53:32.190Z"
   },
   {
    "duration": 30,
    "start_time": "2023-04-22T18:53:32.214Z"
   },
   {
    "duration": 8,
    "start_time": "2023-04-22T18:53:32.246Z"
   },
   {
    "duration": 74,
    "start_time": "2023-04-22T18:53:32.256Z"
   },
   {
    "duration": 4,
    "start_time": "2023-04-22T18:53:32.332Z"
   },
   {
    "duration": 16,
    "start_time": "2023-04-22T18:53:32.338Z"
   },
   {
    "duration": 9,
    "start_time": "2023-04-22T18:53:32.356Z"
   },
   {
    "duration": 1180,
    "start_time": "2023-04-22T18:53:32.367Z"
   },
   {
    "duration": 402,
    "start_time": "2023-04-22T18:53:33.549Z"
   },
   {
    "duration": 5,
    "start_time": "2023-04-22T18:53:33.953Z"
   },
   {
    "duration": 9,
    "start_time": "2023-04-22T18:53:33.959Z"
   },
   {
    "duration": 1242,
    "start_time": "2023-04-22T18:53:33.970Z"
   },
   {
    "duration": 607,
    "start_time": "2023-04-22T18:53:35.214Z"
   },
   {
    "duration": 988,
    "start_time": "2023-04-22T18:53:35.912Z"
   },
   {
    "duration": 31,
    "start_time": "2023-04-22T18:53:36.902Z"
   },
   {
    "duration": 10,
    "start_time": "2023-04-22T18:53:36.935Z"
   },
   {
    "duration": 4,
    "start_time": "2023-04-22T18:53:36.947Z"
   },
   {
    "duration": 5,
    "start_time": "2023-04-22T18:53:36.952Z"
   },
   {
    "duration": 5,
    "start_time": "2023-04-22T18:53:36.958Z"
   },
   {
    "duration": 5,
    "start_time": "2023-04-22T18:53:36.965Z"
   },
   {
    "duration": 5,
    "start_time": "2023-04-22T18:53:36.971Z"
   },
   {
    "duration": 2538,
    "start_time": "2023-04-22T18:53:37.011Z"
   },
   {
    "duration": 3,
    "start_time": "2023-04-22T18:53:39.551Z"
   },
   {
    "duration": 5,
    "start_time": "2023-04-22T18:53:39.555Z"
   },
   {
    "duration": 447,
    "start_time": "2023-04-22T18:53:39.562Z"
   },
   {
    "duration": 4,
    "start_time": "2023-04-22T18:53:40.012Z"
   },
   {
    "duration": 33,
    "start_time": "2023-04-22T18:53:40.018Z"
   },
   {
    "duration": 24184,
    "start_time": "2023-04-22T18:53:40.052Z"
   },
   {
    "duration": 3,
    "start_time": "2023-04-22T18:54:04.237Z"
   },
   {
    "duration": 6,
    "start_time": "2023-04-22T18:54:04.241Z"
   },
   {
    "duration": 3984,
    "start_time": "2023-04-22T18:54:04.249Z"
   },
   {
    "duration": 3,
    "start_time": "2023-04-22T18:54:08.235Z"
   },
   {
    "duration": 5,
    "start_time": "2023-04-22T18:54:08.240Z"
   },
   {
    "duration": 22,
    "start_time": "2023-04-22T18:54:08.247Z"
   },
   {
    "duration": 42,
    "start_time": "2023-04-22T18:54:08.270Z"
   },
   {
    "duration": 4,
    "start_time": "2023-04-22T18:54:08.314Z"
   },
   {
    "duration": 11,
    "start_time": "2023-04-22T18:54:08.320Z"
   },
   {
    "duration": 7,
    "start_time": "2023-04-22T18:54:08.333Z"
   },
   {
    "duration": 6,
    "start_time": "2023-04-22T18:54:08.342Z"
   },
   {
    "duration": 18,
    "start_time": "2023-04-22T18:54:08.350Z"
   },
   {
    "duration": 412,
    "start_time": "2023-04-22T18:54:08.370Z"
   },
   {
    "duration": 142,
    "start_time": "2023-04-22T18:54:08.784Z"
   },
   {
    "duration": 1178,
    "start_time": "2023-04-22T18:54:08.928Z"
   },
   {
    "duration": 1008,
    "start_time": "2023-04-22T19:06:44.504Z"
   },
   {
    "duration": 7329,
    "start_time": "2023-04-23T21:24:25.179Z"
   },
   {
    "duration": 2987,
    "start_time": "2023-04-23T21:24:32.511Z"
   },
   {
    "duration": 3,
    "start_time": "2023-04-23T21:24:35.500Z"
   },
   {
    "duration": 8458,
    "start_time": "2023-04-23T21:24:35.506Z"
   },
   {
    "duration": 312,
    "start_time": "2023-04-23T21:24:43.965Z"
   },
   {
    "duration": 50,
    "start_time": "2023-04-23T21:24:44.278Z"
   },
   {
    "duration": 54,
    "start_time": "2023-04-23T21:24:44.330Z"
   },
   {
    "duration": 46,
    "start_time": "2023-04-23T21:24:44.386Z"
   },
   {
    "duration": 37,
    "start_time": "2023-04-23T21:24:44.434Z"
   },
   {
    "duration": 12,
    "start_time": "2023-04-23T21:24:44.474Z"
   },
   {
    "duration": 16,
    "start_time": "2023-04-23T21:24:44.488Z"
   },
   {
    "duration": 11,
    "start_time": "2023-04-23T21:24:44.507Z"
   },
   {
    "duration": 32,
    "start_time": "2023-04-23T21:24:44.520Z"
   },
   {
    "duration": 41,
    "start_time": "2023-04-23T21:24:44.554Z"
   },
   {
    "duration": 223,
    "start_time": "2023-04-23T21:24:44.597Z"
   },
   {
    "duration": 8,
    "start_time": "2023-04-23T21:24:44.822Z"
   },
   {
    "duration": 424,
    "start_time": "2023-04-23T21:24:44.832Z"
   },
   {
    "duration": 8,
    "start_time": "2023-04-23T21:24:45.258Z"
   },
   {
    "duration": 23,
    "start_time": "2023-04-23T21:24:45.268Z"
   },
   {
    "duration": 17,
    "start_time": "2023-04-23T21:24:45.292Z"
   },
   {
    "duration": 8,
    "start_time": "2023-04-23T21:24:45.311Z"
   },
   {
    "duration": 17,
    "start_time": "2023-04-23T21:24:45.320Z"
   },
   {
    "duration": 8,
    "start_time": "2023-04-23T21:24:45.339Z"
   },
   {
    "duration": 37,
    "start_time": "2023-04-23T21:24:45.349Z"
   },
   {
    "duration": 14,
    "start_time": "2023-04-23T21:24:45.388Z"
   },
   {
    "duration": 25,
    "start_time": "2023-04-23T21:24:45.404Z"
   },
   {
    "duration": 7,
    "start_time": "2023-04-23T21:24:45.431Z"
   },
   {
    "duration": 9,
    "start_time": "2023-04-23T21:24:45.442Z"
   },
   {
    "duration": 35,
    "start_time": "2023-04-23T21:24:45.453Z"
   },
   {
    "duration": 7,
    "start_time": "2023-04-23T21:24:45.489Z"
   },
   {
    "duration": 14,
    "start_time": "2023-04-23T21:24:45.498Z"
   },
   {
    "duration": 21,
    "start_time": "2023-04-23T21:24:45.514Z"
   },
   {
    "duration": 15,
    "start_time": "2023-04-23T21:24:45.537Z"
   },
   {
    "duration": 34,
    "start_time": "2023-04-23T21:24:45.554Z"
   },
   {
    "duration": 8,
    "start_time": "2023-04-23T21:24:45.590Z"
   },
   {
    "duration": 9,
    "start_time": "2023-04-23T21:24:45.599Z"
   },
   {
    "duration": 8,
    "start_time": "2023-04-23T21:24:45.610Z"
   },
   {
    "duration": 9,
    "start_time": "2023-04-23T21:24:45.620Z"
   },
   {
    "duration": 8,
    "start_time": "2023-04-23T21:24:45.631Z"
   },
   {
    "duration": 13,
    "start_time": "2023-04-23T21:24:45.641Z"
   },
   {
    "duration": 38,
    "start_time": "2023-04-23T21:24:45.656Z"
   },
   {
    "duration": 13,
    "start_time": "2023-04-23T21:24:45.696Z"
   },
   {
    "duration": 10,
    "start_time": "2023-04-23T21:24:45.711Z"
   },
   {
    "duration": 7,
    "start_time": "2023-04-23T21:24:45.722Z"
   },
   {
    "duration": 60,
    "start_time": "2023-04-23T21:24:45.731Z"
   },
   {
    "duration": 30,
    "start_time": "2023-04-23T21:24:45.794Z"
   },
   {
    "duration": 30,
    "start_time": "2023-04-23T21:24:45.826Z"
   },
   {
    "duration": 7,
    "start_time": "2023-04-23T21:24:45.858Z"
   },
   {
    "duration": 203,
    "start_time": "2023-04-23T21:24:45.867Z"
   },
   {
    "duration": 0,
    "start_time": "2023-04-23T21:24:46.072Z"
   },
   {
    "duration": 0,
    "start_time": "2023-04-23T21:24:46.074Z"
   },
   {
    "duration": 0,
    "start_time": "2023-04-23T21:24:46.075Z"
   },
   {
    "duration": 0,
    "start_time": "2023-04-23T21:24:46.076Z"
   },
   {
    "duration": 0,
    "start_time": "2023-04-23T21:24:46.087Z"
   },
   {
    "duration": 0,
    "start_time": "2023-04-23T21:24:46.089Z"
   },
   {
    "duration": 0,
    "start_time": "2023-04-23T21:24:46.090Z"
   },
   {
    "duration": 0,
    "start_time": "2023-04-23T21:24:46.091Z"
   },
   {
    "duration": 0,
    "start_time": "2023-04-23T21:24:46.092Z"
   },
   {
    "duration": 0,
    "start_time": "2023-04-23T21:24:46.094Z"
   },
   {
    "duration": 0,
    "start_time": "2023-04-23T21:24:46.095Z"
   },
   {
    "duration": 0,
    "start_time": "2023-04-23T21:24:46.096Z"
   },
   {
    "duration": 0,
    "start_time": "2023-04-23T21:24:46.097Z"
   },
   {
    "duration": 0,
    "start_time": "2023-04-23T21:24:46.098Z"
   },
   {
    "duration": 0,
    "start_time": "2023-04-23T21:24:46.099Z"
   },
   {
    "duration": 0,
    "start_time": "2023-04-23T21:24:46.100Z"
   },
   {
    "duration": 0,
    "start_time": "2023-04-23T21:24:46.101Z"
   },
   {
    "duration": 0,
    "start_time": "2023-04-23T21:24:46.102Z"
   },
   {
    "duration": 14,
    "start_time": "2023-04-23T21:24:52.472Z"
   },
   {
    "duration": 18,
    "start_time": "2023-04-23T21:24:56.319Z"
   },
   {
    "duration": 17,
    "start_time": "2023-04-23T21:26:36.427Z"
   },
   {
    "duration": 5,
    "start_time": "2023-04-23T21:26:59.210Z"
   },
   {
    "duration": 15,
    "start_time": "2023-04-23T21:27:07.761Z"
   },
   {
    "duration": 4929,
    "start_time": "2023-04-23T21:27:31.772Z"
   },
   {
    "duration": 6,
    "start_time": "2023-04-23T21:27:36.704Z"
   },
   {
    "duration": 32,
    "start_time": "2023-04-23T21:27:36.712Z"
   },
   {
    "duration": 19,
    "start_time": "2023-04-23T21:27:36.746Z"
   },
   {
    "duration": 365,
    "start_time": "2023-04-23T21:27:36.766Z"
   },
   {
    "duration": 51,
    "start_time": "2023-04-23T21:27:37.133Z"
   },
   {
    "duration": 54,
    "start_time": "2023-04-23T21:27:37.186Z"
   },
   {
    "duration": 48,
    "start_time": "2023-04-23T21:27:37.242Z"
   },
   {
    "duration": 37,
    "start_time": "2023-04-23T21:27:37.292Z"
   },
   {
    "duration": 11,
    "start_time": "2023-04-23T21:27:37.331Z"
   },
   {
    "duration": 50,
    "start_time": "2023-04-23T21:27:37.344Z"
   },
   {
    "duration": 20,
    "start_time": "2023-04-23T21:27:37.395Z"
   },
   {
    "duration": 54,
    "start_time": "2023-04-23T21:27:37.417Z"
   },
   {
    "duration": 17,
    "start_time": "2023-04-23T21:27:37.473Z"
   },
   {
    "duration": 192,
    "start_time": "2023-04-23T21:27:37.493Z"
   },
   {
    "duration": 5,
    "start_time": "2023-04-23T21:27:37.687Z"
   },
   {
    "duration": 195,
    "start_time": "2023-04-23T21:27:37.694Z"
   },
   {
    "duration": 8,
    "start_time": "2023-04-23T21:27:37.891Z"
   },
   {
    "duration": 35,
    "start_time": "2023-04-23T21:27:37.900Z"
   },
   {
    "duration": 31,
    "start_time": "2023-04-23T21:27:37.937Z"
   },
   {
    "duration": 18,
    "start_time": "2023-04-23T21:27:37.970Z"
   },
   {
    "duration": 24,
    "start_time": "2023-04-23T21:27:37.990Z"
   },
   {
    "duration": 21,
    "start_time": "2023-04-23T21:27:38.016Z"
   },
   {
    "duration": 20,
    "start_time": "2023-04-23T21:27:38.039Z"
   },
   {
    "duration": 34,
    "start_time": "2023-04-23T21:27:38.061Z"
   },
   {
    "duration": 24,
    "start_time": "2023-04-23T21:27:38.097Z"
   },
   {
    "duration": 8,
    "start_time": "2023-04-23T21:27:38.123Z"
   },
   {
    "duration": 24,
    "start_time": "2023-04-23T21:27:38.136Z"
   },
   {
    "duration": 30,
    "start_time": "2023-04-23T21:27:38.161Z"
   },
   {
    "duration": 36,
    "start_time": "2023-04-23T21:27:38.193Z"
   },
   {
    "duration": 36,
    "start_time": "2023-04-23T21:27:38.231Z"
   },
   {
    "duration": 38,
    "start_time": "2023-04-23T21:27:38.269Z"
   },
   {
    "duration": 20,
    "start_time": "2023-04-23T21:27:38.309Z"
   },
   {
    "duration": 18,
    "start_time": "2023-04-23T21:27:38.330Z"
   },
   {
    "duration": 23,
    "start_time": "2023-04-23T21:27:38.350Z"
   },
   {
    "duration": 34,
    "start_time": "2023-04-23T21:27:38.375Z"
   },
   {
    "duration": 39,
    "start_time": "2023-04-23T21:27:38.411Z"
   },
   {
    "duration": 32,
    "start_time": "2023-04-23T21:27:38.451Z"
   },
   {
    "duration": 33,
    "start_time": "2023-04-23T21:27:38.485Z"
   },
   {
    "duration": 36,
    "start_time": "2023-04-23T21:27:38.520Z"
   },
   {
    "duration": 34,
    "start_time": "2023-04-23T21:27:38.558Z"
   },
   {
    "duration": 41,
    "start_time": "2023-04-23T21:27:38.594Z"
   },
   {
    "duration": 25,
    "start_time": "2023-04-23T21:27:38.636Z"
   },
   {
    "duration": 30,
    "start_time": "2023-04-23T21:27:38.663Z"
   },
   {
    "duration": 50,
    "start_time": "2023-04-23T21:27:38.695Z"
   },
   {
    "duration": 28,
    "start_time": "2023-04-23T21:27:38.746Z"
   },
   {
    "duration": 44,
    "start_time": "2023-04-23T21:27:38.777Z"
   },
   {
    "duration": 24,
    "start_time": "2023-04-23T21:27:38.823Z"
   },
   {
    "duration": 46,
    "start_time": "2023-04-23T21:27:38.849Z"
   },
   {
    "duration": 0,
    "start_time": "2023-04-23T21:27:38.897Z"
   },
   {
    "duration": 0,
    "start_time": "2023-04-23T21:27:38.898Z"
   },
   {
    "duration": 0,
    "start_time": "2023-04-23T21:27:38.900Z"
   },
   {
    "duration": 0,
    "start_time": "2023-04-23T21:27:38.901Z"
   },
   {
    "duration": 0,
    "start_time": "2023-04-23T21:27:38.902Z"
   },
   {
    "duration": 0,
    "start_time": "2023-04-23T21:27:38.903Z"
   },
   {
    "duration": 0,
    "start_time": "2023-04-23T21:27:38.905Z"
   },
   {
    "duration": 0,
    "start_time": "2023-04-23T21:27:38.906Z"
   },
   {
    "duration": 0,
    "start_time": "2023-04-23T21:27:38.907Z"
   },
   {
    "duration": 0,
    "start_time": "2023-04-23T21:27:38.908Z"
   },
   {
    "duration": 0,
    "start_time": "2023-04-23T21:27:38.909Z"
   },
   {
    "duration": 0,
    "start_time": "2023-04-23T21:27:38.911Z"
   },
   {
    "duration": 0,
    "start_time": "2023-04-23T21:27:38.912Z"
   },
   {
    "duration": 0,
    "start_time": "2023-04-23T21:27:38.913Z"
   },
   {
    "duration": 0,
    "start_time": "2023-04-23T21:27:38.914Z"
   },
   {
    "duration": 0,
    "start_time": "2023-04-23T21:27:38.915Z"
   },
   {
    "duration": 0,
    "start_time": "2023-04-23T21:27:38.916Z"
   },
   {
    "duration": 0,
    "start_time": "2023-04-23T21:27:38.918Z"
   },
   {
    "duration": 15,
    "start_time": "2023-04-23T21:28:31.079Z"
   },
   {
    "duration": 17,
    "start_time": "2023-04-23T21:29:06.427Z"
   },
   {
    "duration": 2827,
    "start_time": "2023-04-23T21:29:14.349Z"
   },
   {
    "duration": 10,
    "start_time": "2023-04-23T21:29:18.727Z"
   },
   {
    "duration": 303,
    "start_time": "2023-04-23T21:29:19.823Z"
   },
   {
    "duration": 390,
    "start_time": "2023-04-23T21:29:20.259Z"
   },
   {
    "duration": 465,
    "start_time": "2023-04-23T21:29:21.225Z"
   },
   {
    "duration": 3,
    "start_time": "2023-04-23T21:29:21.692Z"
   },
   {
    "duration": 1470,
    "start_time": "2023-04-23T21:29:22.584Z"
   },
   {
    "duration": 2581,
    "start_time": "2023-04-23T21:29:24.056Z"
   },
   {
    "duration": 452,
    "start_time": "2023-04-23T21:29:26.639Z"
   },
   {
    "duration": 13,
    "start_time": "2023-04-23T21:29:27.711Z"
   },
   {
    "duration": 9,
    "start_time": "2023-04-23T21:29:27.955Z"
   },
   {
    "duration": 4,
    "start_time": "2023-04-23T21:29:28.982Z"
   },
   {
    "duration": 57,
    "start_time": "2023-04-23T21:29:29.633Z"
   },
   {
    "duration": 5,
    "start_time": "2023-04-23T21:29:31.484Z"
   },
   {
    "duration": 7,
    "start_time": "2023-04-23T21:29:32.371Z"
   },
   {
    "duration": 5,
    "start_time": "2023-04-23T21:29:32.579Z"
   },
   {
    "duration": 1144,
    "start_time": "2023-04-23T21:29:32.768Z"
   },
   {
    "duration": 455,
    "start_time": "2023-04-23T21:29:40.489Z"
   },
   {
    "duration": 51,
    "start_time": "2023-04-23T21:29:42.822Z"
   },
   {
    "duration": 424,
    "start_time": "2023-04-23T21:29:57.588Z"
   },
   {
    "duration": 8,
    "start_time": "2023-04-23T21:34:32.665Z"
   },
   {
    "duration": 4969,
    "start_time": "2023-04-23T21:38:11.086Z"
   },
   {
    "duration": 2800,
    "start_time": "2023-04-23T21:38:16.058Z"
   },
   {
    "duration": 3,
    "start_time": "2023-04-23T21:38:18.862Z"
   },
   {
    "duration": 8643,
    "start_time": "2023-04-23T21:38:18.867Z"
   },
   {
    "duration": 321,
    "start_time": "2023-04-23T21:38:27.513Z"
   },
   {
    "duration": 50,
    "start_time": "2023-04-23T21:38:27.835Z"
   },
   {
    "duration": 55,
    "start_time": "2023-04-23T21:38:27.886Z"
   },
   {
    "duration": 47,
    "start_time": "2023-04-23T21:38:27.942Z"
   },
   {
    "duration": 33,
    "start_time": "2023-04-23T21:38:27.991Z"
   },
   {
    "duration": 12,
    "start_time": "2023-04-23T21:38:28.026Z"
   },
   {
    "duration": 18,
    "start_time": "2023-04-23T21:38:28.039Z"
   },
   {
    "duration": 12,
    "start_time": "2023-04-23T21:38:28.087Z"
   },
   {
    "duration": 33,
    "start_time": "2023-04-23T21:38:28.101Z"
   },
   {
    "duration": 16,
    "start_time": "2023-04-23T21:38:28.136Z"
   },
   {
    "duration": 229,
    "start_time": "2023-04-23T21:38:28.154Z"
   },
   {
    "duration": 9,
    "start_time": "2023-04-23T21:38:28.385Z"
   },
   {
    "duration": 407,
    "start_time": "2023-04-23T21:38:28.396Z"
   },
   {
    "duration": 9,
    "start_time": "2023-04-23T21:38:28.805Z"
   },
   {
    "duration": 15,
    "start_time": "2023-04-23T21:38:28.816Z"
   },
   {
    "duration": 22,
    "start_time": "2023-04-23T21:38:28.832Z"
   },
   {
    "duration": 7,
    "start_time": "2023-04-23T21:38:28.856Z"
   },
   {
    "duration": 24,
    "start_time": "2023-04-23T21:38:28.865Z"
   },
   {
    "duration": 11,
    "start_time": "2023-04-23T21:38:28.891Z"
   },
   {
    "duration": 14,
    "start_time": "2023-04-23T21:38:28.904Z"
   },
   {
    "duration": 18,
    "start_time": "2023-04-23T21:38:28.920Z"
   },
   {
    "duration": 21,
    "start_time": "2023-04-23T21:38:28.940Z"
   },
   {
    "duration": 7,
    "start_time": "2023-04-23T21:38:28.963Z"
   },
   {
    "duration": 5,
    "start_time": "2023-04-23T21:38:28.991Z"
   },
   {
    "duration": 20,
    "start_time": "2023-04-23T21:38:28.998Z"
   },
   {
    "duration": 31,
    "start_time": "2023-04-23T21:38:29.021Z"
   },
   {
    "duration": 18,
    "start_time": "2023-04-23T21:38:29.054Z"
   },
   {
    "duration": 17,
    "start_time": "2023-04-23T21:38:29.074Z"
   },
   {
    "duration": 15,
    "start_time": "2023-04-23T21:38:29.094Z"
   },
   {
    "duration": 7,
    "start_time": "2023-04-23T21:38:29.111Z"
   },
   {
    "duration": 8,
    "start_time": "2023-04-23T21:38:29.120Z"
   },
   {
    "duration": 9,
    "start_time": "2023-04-23T21:38:29.130Z"
   },
   {
    "duration": 13,
    "start_time": "2023-04-23T21:38:29.140Z"
   },
   {
    "duration": 33,
    "start_time": "2023-04-23T21:38:29.155Z"
   },
   {
    "duration": 8,
    "start_time": "2023-04-23T21:38:29.190Z"
   },
   {
    "duration": 11,
    "start_time": "2023-04-23T21:38:29.200Z"
   },
   {
    "duration": 12,
    "start_time": "2023-04-23T21:38:29.213Z"
   },
   {
    "duration": 13,
    "start_time": "2023-04-23T21:38:29.227Z"
   },
   {
    "duration": 15,
    "start_time": "2023-04-23T21:38:29.242Z"
   },
   {
    "duration": 29,
    "start_time": "2023-04-23T21:38:29.259Z"
   },
   {
    "duration": 38,
    "start_time": "2023-04-23T21:38:29.290Z"
   },
   {
    "duration": 21,
    "start_time": "2023-04-23T21:38:29.329Z"
   },
   {
    "duration": 39,
    "start_time": "2023-04-23T21:38:29.352Z"
   },
   {
    "duration": 6,
    "start_time": "2023-04-23T21:38:29.394Z"
   },
   {
    "duration": 27,
    "start_time": "2023-04-23T21:38:29.402Z"
   },
   {
    "duration": 2881,
    "start_time": "2023-04-23T21:38:29.432Z"
   },
   {
    "duration": 8,
    "start_time": "2023-04-23T21:38:32.314Z"
   },
   {
    "duration": 318,
    "start_time": "2023-04-23T21:38:32.324Z"
   },
   {
    "duration": 328,
    "start_time": "2023-04-23T21:38:32.643Z"
   },
   {
    "duration": 323,
    "start_time": "2023-04-23T21:38:32.973Z"
   },
   {
    "duration": 4,
    "start_time": "2023-04-23T21:38:33.298Z"
   },
   {
    "duration": 1640,
    "start_time": "2023-04-23T21:38:33.303Z"
   },
   {
    "duration": 2540,
    "start_time": "2023-04-23T21:38:34.944Z"
   },
   {
    "duration": 286,
    "start_time": "2023-04-23T21:38:37.486Z"
   },
   {
    "duration": 25,
    "start_time": "2023-04-23T21:38:37.774Z"
   },
   {
    "duration": 13,
    "start_time": "2023-04-23T21:38:37.801Z"
   },
   {
    "duration": 4,
    "start_time": "2023-04-23T21:38:37.816Z"
   },
   {
    "duration": 66,
    "start_time": "2023-04-23T21:38:37.821Z"
   },
   {
    "duration": 5,
    "start_time": "2023-04-23T21:38:37.889Z"
   },
   {
    "duration": 15,
    "start_time": "2023-04-23T21:38:37.895Z"
   },
   {
    "duration": 5,
    "start_time": "2023-04-23T21:38:37.912Z"
   },
   {
    "duration": 1198,
    "start_time": "2023-04-23T21:38:37.918Z"
   },
   {
    "duration": 396,
    "start_time": "2023-04-23T21:38:39.118Z"
   },
   {
    "duration": 432,
    "start_time": "2023-04-23T21:38:39.516Z"
   },
   {
    "duration": 4,
    "start_time": "2023-04-23T21:38:39.950Z"
   },
   {
    "duration": 1161,
    "start_time": "2023-04-23T21:38:39.955Z"
   },
   {
    "duration": 382,
    "start_time": "2023-04-23T21:38:41.117Z"
   },
   {
    "duration": 995,
    "start_time": "2023-04-23T21:38:41.502Z"
   },
   {
    "duration": 23,
    "start_time": "2023-04-23T21:38:42.499Z"
   },
   {
    "duration": 9,
    "start_time": "2023-04-23T21:38:42.524Z"
   },
   {
    "duration": 5,
    "start_time": "2023-04-23T21:38:42.535Z"
   },
   {
    "duration": 5,
    "start_time": "2023-04-23T21:38:42.543Z"
   },
   {
    "duration": 20,
    "start_time": "2023-04-23T21:38:42.550Z"
   },
   {
    "duration": 19,
    "start_time": "2023-04-23T21:38:42.572Z"
   },
   {
    "duration": 8,
    "start_time": "2023-04-23T21:38:42.593Z"
   },
   {
    "duration": 2541,
    "start_time": "2023-04-23T21:38:42.602Z"
   },
   {
    "duration": 3,
    "start_time": "2023-04-23T21:38:45.145Z"
   },
   {
    "duration": 15,
    "start_time": "2023-04-23T21:38:45.154Z"
   },
   {
    "duration": 440,
    "start_time": "2023-04-23T21:38:45.171Z"
   },
   {
    "duration": 4,
    "start_time": "2023-04-23T21:38:45.613Z"
   },
   {
    "duration": 6,
    "start_time": "2023-04-23T21:38:45.619Z"
   },
   {
    "duration": 54384,
    "start_time": "2023-04-23T21:38:45.626Z"
   },
   {
    "duration": 3,
    "start_time": "2023-04-23T21:39:40.012Z"
   },
   {
    "duration": 13,
    "start_time": "2023-04-23T21:39:40.017Z"
   },
   {
    "duration": 33456,
    "start_time": "2023-04-23T21:39:40.032Z"
   },
   {
    "duration": 4,
    "start_time": "2023-04-23T21:40:13.491Z"
   },
   {
    "duration": 15,
    "start_time": "2023-04-23T21:40:13.497Z"
   },
   {
    "duration": 102,
    "start_time": "2023-04-23T21:40:13.515Z"
   },
   {
    "duration": 100,
    "start_time": "2023-04-23T21:40:13.619Z"
   },
   {
    "duration": 68,
    "start_time": "2023-04-23T21:40:13.721Z"
   },
   {
    "duration": 10,
    "start_time": "2023-04-23T21:40:13.792Z"
   },
   {
    "duration": 23,
    "start_time": "2023-04-23T21:40:13.804Z"
   },
   {
    "duration": 13,
    "start_time": "2023-04-23T21:40:13.829Z"
   },
   {
    "duration": 48,
    "start_time": "2023-04-23T21:40:13.845Z"
   },
   {
    "duration": 564,
    "start_time": "2023-04-23T21:40:13.896Z"
   },
   {
    "duration": 405,
    "start_time": "2023-04-23T21:40:14.463Z"
   },
   {
    "duration": 1069,
    "start_time": "2023-04-23T21:40:14.870Z"
   },
   {
    "duration": 5971,
    "start_time": "2023-07-21T08:32:56.447Z"
   },
   {
    "duration": 2724,
    "start_time": "2023-07-21T08:33:02.421Z"
   },
   {
    "duration": 2,
    "start_time": "2023-07-21T08:33:05.147Z"
   },
   {
    "duration": 7332,
    "start_time": "2023-07-21T08:33:05.152Z"
   },
   {
    "duration": 75,
    "start_time": "2023-07-21T08:33:12.486Z"
   },
   {
    "duration": 9,
    "start_time": "2023-07-21T08:33:34.503Z"
   },
   {
    "duration": 12,
    "start_time": "2023-07-21T08:33:47.652Z"
   },
   {
    "duration": 10,
    "start_time": "2023-07-21T08:33:50.985Z"
   },
   {
    "duration": 299,
    "start_time": "2023-07-21T08:34:05.642Z"
   },
   {
    "duration": 24,
    "start_time": "2023-07-21T08:34:08.014Z"
   },
   {
    "duration": 14,
    "start_time": "2023-07-21T08:35:15.758Z"
   },
   {
    "duration": 9,
    "start_time": "2023-07-21T08:35:17.753Z"
   },
   {
    "duration": 226,
    "start_time": "2023-07-21T12:39:26.763Z"
   },
   {
    "duration": 38,
    "start_time": "2023-07-21T12:39:30.271Z"
   },
   {
    "duration": 251,
    "start_time": "2023-07-21T12:40:21.211Z"
   },
   {
    "duration": 29,
    "start_time": "2023-07-21T12:40:32.870Z"
   },
   {
    "duration": 25,
    "start_time": "2023-07-21T12:40:34.988Z"
   },
   {
    "duration": 8,
    "start_time": "2023-07-21T12:41:58.809Z"
   },
   {
    "duration": 8,
    "start_time": "2023-07-21T12:42:01.636Z"
   },
   {
    "duration": 17,
    "start_time": "2023-07-21T12:45:00.783Z"
   },
   {
    "duration": 7,
    "start_time": "2023-07-21T12:45:04.614Z"
   },
   {
    "duration": 87,
    "start_time": "2023-07-21T12:46:12.992Z"
   },
   {
    "duration": 111,
    "start_time": "2023-07-21T12:46:55.557Z"
   },
   {
    "duration": 9,
    "start_time": "2023-07-21T12:47:20.196Z"
   },
   {
    "duration": 8,
    "start_time": "2023-07-21T12:47:41.780Z"
   },
   {
    "duration": 9,
    "start_time": "2023-07-21T12:47:55.870Z"
   },
   {
    "duration": 8,
    "start_time": "2023-07-21T12:48:20.661Z"
   },
   {
    "duration": 7404,
    "start_time": "2023-08-15T11:00:53.377Z"
   },
   {
    "duration": 4052,
    "start_time": "2023-08-15T11:01:00.783Z"
   },
   {
    "duration": 3,
    "start_time": "2023-08-15T11:01:04.837Z"
   },
   {
    "duration": 4462,
    "start_time": "2023-08-15T11:01:21.674Z"
   },
   {
    "duration": 2512,
    "start_time": "2023-08-15T11:01:26.138Z"
   },
   {
    "duration": 3,
    "start_time": "2023-08-15T11:01:28.652Z"
   },
   {
    "duration": 11020,
    "start_time": "2023-08-15T11:01:28.657Z"
   },
   {
    "duration": 233,
    "start_time": "2023-08-15T11:01:39.678Z"
   },
   {
    "duration": 12,
    "start_time": "2023-08-15T11:01:39.913Z"
   },
   {
    "duration": 56,
    "start_time": "2023-08-15T11:01:39.926Z"
   },
   {
    "duration": 121,
    "start_time": "2023-08-15T11:01:39.984Z"
   },
   {
    "duration": 43,
    "start_time": "2023-08-15T11:01:40.107Z"
   },
   {
    "duration": 58,
    "start_time": "2023-08-15T11:01:40.154Z"
   },
   {
    "duration": 44,
    "start_time": "2023-08-15T11:01:40.214Z"
   },
   {
    "duration": 62,
    "start_time": "2023-08-15T11:01:40.260Z"
   },
   {
    "duration": 43,
    "start_time": "2023-08-15T11:01:40.324Z"
   },
   {
    "duration": 51,
    "start_time": "2023-08-15T11:01:40.369Z"
   },
   {
    "duration": 44,
    "start_time": "2023-08-15T11:01:40.423Z"
   },
   {
    "duration": 15,
    "start_time": "2023-08-15T11:01:40.469Z"
   },
   {
    "duration": 57,
    "start_time": "2023-08-15T11:01:40.486Z"
   },
   {
    "duration": 45,
    "start_time": "2023-08-15T11:01:40.545Z"
   },
   {
    "duration": 152,
    "start_time": "2023-08-15T11:01:40.591Z"
   },
   {
    "duration": 45,
    "start_time": "2023-08-15T11:01:40.745Z"
   },
   {
    "duration": 169,
    "start_time": "2023-08-15T11:01:40.792Z"
   },
   {
    "duration": 5,
    "start_time": "2023-08-15T11:01:40.963Z"
   },
   {
    "duration": 378,
    "start_time": "2023-08-15T11:01:40.969Z"
   },
   {
    "duration": 11,
    "start_time": "2023-08-15T11:01:41.350Z"
   },
   {
    "duration": 56,
    "start_time": "2023-08-15T11:01:41.363Z"
   },
   {
    "duration": 23,
    "start_time": "2023-08-15T11:01:41.422Z"
   },
   {
    "duration": 10,
    "start_time": "2023-08-15T11:01:41.447Z"
   },
   {
    "duration": 37,
    "start_time": "2023-08-15T11:01:41.464Z"
   },
   {
    "duration": 25,
    "start_time": "2023-08-15T11:01:41.503Z"
   },
   {
    "duration": 18,
    "start_time": "2023-08-15T11:01:41.530Z"
   },
   {
    "duration": 45,
    "start_time": "2023-08-15T11:01:41.550Z"
   },
   {
    "duration": 25,
    "start_time": "2023-08-15T11:01:41.597Z"
   },
   {
    "duration": 18,
    "start_time": "2023-08-15T11:01:41.623Z"
   },
   {
    "duration": 27,
    "start_time": "2023-08-15T11:01:41.643Z"
   },
   {
    "duration": 42,
    "start_time": "2023-08-15T11:01:41.672Z"
   },
   {
    "duration": 15,
    "start_time": "2023-08-15T11:01:41.715Z"
   },
   {
    "duration": 35,
    "start_time": "2023-08-15T11:01:41.731Z"
   },
   {
    "duration": 44,
    "start_time": "2023-08-15T11:01:41.768Z"
   },
   {
    "duration": 35,
    "start_time": "2023-08-15T11:01:41.814Z"
   },
   {
    "duration": 39,
    "start_time": "2023-08-15T11:01:41.851Z"
   },
   {
    "duration": 39,
    "start_time": "2023-08-15T11:01:41.896Z"
   },
   {
    "duration": 38,
    "start_time": "2023-08-15T11:01:41.938Z"
   },
   {
    "duration": 42,
    "start_time": "2023-08-15T11:01:41.977Z"
   },
   {
    "duration": 35,
    "start_time": "2023-08-15T11:01:42.020Z"
   },
   {
    "duration": 45,
    "start_time": "2023-08-15T11:01:42.057Z"
   },
   {
    "duration": 34,
    "start_time": "2023-08-15T11:01:42.104Z"
   },
   {
    "duration": 16,
    "start_time": "2023-08-15T11:01:42.140Z"
   },
   {
    "duration": 15,
    "start_time": "2023-08-15T11:01:42.158Z"
   },
   {
    "duration": 37,
    "start_time": "2023-08-15T11:01:42.174Z"
   },
   {
    "duration": 27,
    "start_time": "2023-08-15T11:01:42.213Z"
   },
   {
    "duration": 40,
    "start_time": "2023-08-15T11:01:42.242Z"
   },
   {
    "duration": 21,
    "start_time": "2023-08-15T11:01:42.284Z"
   },
   {
    "duration": 23,
    "start_time": "2023-08-15T11:01:42.307Z"
   },
   {
    "duration": 18,
    "start_time": "2023-08-15T11:01:42.332Z"
   },
   {
    "duration": 10,
    "start_time": "2023-08-15T11:01:42.352Z"
   },
   {
    "duration": 4408,
    "start_time": "2023-08-15T11:01:42.363Z"
   },
   {
    "duration": 7,
    "start_time": "2023-08-15T11:01:46.773Z"
   },
   {
    "duration": 572,
    "start_time": "2023-08-15T11:01:46.782Z"
   },
   {
    "duration": 785,
    "start_time": "2023-08-15T11:01:47.356Z"
   },
   {
    "duration": 356,
    "start_time": "2023-08-15T11:01:48.144Z"
   },
   {
    "duration": 4,
    "start_time": "2023-08-15T11:01:48.502Z"
   },
   {
    "duration": 1522,
    "start_time": "2023-08-15T11:01:48.508Z"
   },
   {
    "duration": 2259,
    "start_time": "2023-08-15T11:01:50.033Z"
   },
   {
    "duration": 299,
    "start_time": "2023-08-15T11:01:52.293Z"
   },
   {
    "duration": 11,
    "start_time": "2023-08-15T11:01:52.594Z"
   },
   {
    "duration": 18,
    "start_time": "2023-08-15T11:01:52.607Z"
   },
   {
    "duration": 13,
    "start_time": "2023-08-15T11:01:52.627Z"
   },
   {
    "duration": 72,
    "start_time": "2023-08-15T11:01:52.642Z"
   },
   {
    "duration": 4,
    "start_time": "2023-08-15T11:01:52.716Z"
   },
   {
    "duration": 17,
    "start_time": "2023-08-15T11:01:52.721Z"
   },
   {
    "duration": 22,
    "start_time": "2023-08-15T11:01:52.740Z"
   },
   {
    "duration": 1055,
    "start_time": "2023-08-15T11:01:52.764Z"
   },
   {
    "duration": 4,
    "start_time": "2023-08-15T11:01:53.821Z"
   },
   {
    "duration": 1143,
    "start_time": "2023-08-15T11:01:53.827Z"
   },
   {
    "duration": 669,
    "start_time": "2023-08-15T11:01:54.972Z"
   },
   {
    "duration": 1496,
    "start_time": "2023-08-15T11:01:55.644Z"
   },
   {
    "duration": 25,
    "start_time": "2023-08-15T11:01:57.141Z"
   },
   {
    "duration": 76,
    "start_time": "2023-08-15T11:01:57.168Z"
   },
   {
    "duration": 120,
    "start_time": "2023-08-15T11:01:57.246Z"
   },
   {
    "duration": 218,
    "start_time": "2023-08-15T11:01:57.368Z"
   },
   {
    "duration": 56,
    "start_time": "2023-08-15T11:01:57.588Z"
   },
   {
    "duration": 40,
    "start_time": "2023-08-15T11:01:57.654Z"
   },
   {
    "duration": 35,
    "start_time": "2023-08-15T11:01:57.696Z"
   },
   {
    "duration": 196,
    "start_time": "2023-08-15T11:01:57.733Z"
   },
   {
    "duration": 0,
    "start_time": "2023-08-15T11:01:57.930Z"
   },
   {
    "duration": 0,
    "start_time": "2023-08-15T11:01:57.932Z"
   },
   {
    "duration": 0,
    "start_time": "2023-08-15T11:01:57.933Z"
   },
   {
    "duration": 0,
    "start_time": "2023-08-15T11:01:57.937Z"
   },
   {
    "duration": 0,
    "start_time": "2023-08-15T11:01:57.938Z"
   },
   {
    "duration": 0,
    "start_time": "2023-08-15T11:01:57.939Z"
   },
   {
    "duration": 0,
    "start_time": "2023-08-15T11:01:57.940Z"
   },
   {
    "duration": 0,
    "start_time": "2023-08-15T11:01:57.941Z"
   },
   {
    "duration": 0,
    "start_time": "2023-08-15T11:01:57.942Z"
   },
   {
    "duration": 0,
    "start_time": "2023-08-15T11:01:57.943Z"
   },
   {
    "duration": 0,
    "start_time": "2023-08-15T11:01:57.944Z"
   },
   {
    "duration": 0,
    "start_time": "2023-08-15T11:01:57.945Z"
   },
   {
    "duration": 0,
    "start_time": "2023-08-15T11:01:57.946Z"
   },
   {
    "duration": 0,
    "start_time": "2023-08-15T11:01:57.948Z"
   },
   {
    "duration": 0,
    "start_time": "2023-08-15T11:01:57.949Z"
   },
   {
    "duration": 0,
    "start_time": "2023-08-15T11:01:57.950Z"
   },
   {
    "duration": 0,
    "start_time": "2023-08-15T11:01:57.951Z"
   },
   {
    "duration": 0,
    "start_time": "2023-08-15T11:01:57.952Z"
   },
   {
    "duration": 0,
    "start_time": "2023-08-15T11:01:57.953Z"
   },
   {
    "duration": 0,
    "start_time": "2023-08-15T11:01:57.954Z"
   },
   {
    "duration": 0,
    "start_time": "2023-08-15T11:01:57.955Z"
   },
   {
    "duration": 0,
    "start_time": "2023-08-15T11:01:57.956Z"
   },
   {
    "duration": 0,
    "start_time": "2023-08-15T11:01:57.957Z"
   },
   {
    "duration": 74,
    "start_time": "2023-08-15T11:02:39.242Z"
   },
   {
    "duration": 3,
    "start_time": "2023-08-15T11:02:45.209Z"
   },
   {
    "duration": 4,
    "start_time": "2023-08-15T11:02:50.089Z"
   },
   {
    "duration": 4,
    "start_time": "2023-08-15T11:02:51.369Z"
   },
   {
    "duration": 207096,
    "start_time": "2023-08-15T11:06:23.275Z"
   },
   {
    "duration": 3,
    "start_time": "2023-08-15T11:09:50.373Z"
   },
   {
    "duration": 15,
    "start_time": "2023-08-15T11:09:50.378Z"
   },
   {
    "duration": 299,
    "start_time": "2023-08-15T11:09:50.395Z"
   },
   {
    "duration": 4,
    "start_time": "2023-08-15T11:09:50.695Z"
   },
   {
    "duration": 19,
    "start_time": "2023-08-15T11:09:50.700Z"
   },
   {
    "duration": 21137,
    "start_time": "2023-08-15T11:09:50.720Z"
   },
   {
    "duration": 3,
    "start_time": "2023-08-15T11:10:11.859Z"
   },
   {
    "duration": 72,
    "start_time": "2023-08-15T11:10:11.865Z"
   },
   {
    "duration": 5722,
    "start_time": "2023-08-15T11:10:11.939Z"
   },
   {
    "duration": 3,
    "start_time": "2023-08-15T11:10:17.738Z"
   },
   {
    "duration": 43,
    "start_time": "2023-08-15T11:10:17.742Z"
   },
   {
    "duration": 19,
    "start_time": "2023-08-15T11:10:17.787Z"
   },
   {
    "duration": 36,
    "start_time": "2023-08-15T11:10:17.807Z"
   },
   {
    "duration": 93,
    "start_time": "2023-08-15T11:10:17.845Z"
   },
   {
    "duration": 65,
    "start_time": "2023-08-15T11:10:17.939Z"
   },
   {
    "duration": 31,
    "start_time": "2023-08-15T11:10:18.006Z"
   },
   {
    "duration": 90,
    "start_time": "2023-08-15T11:10:18.038Z"
   },
   {
    "duration": 0,
    "start_time": "2023-08-15T11:10:18.130Z"
   },
   {
    "duration": 0,
    "start_time": "2023-08-15T11:10:18.131Z"
   },
   {
    "duration": 0,
    "start_time": "2023-08-15T11:10:18.131Z"
   },
   {
    "duration": 0,
    "start_time": "2023-08-15T11:10:18.133Z"
   },
   {
    "duration": 0,
    "start_time": "2023-08-15T11:10:18.134Z"
   },
   {
    "duration": 0,
    "start_time": "2023-08-15T11:10:18.135Z"
   },
   {
    "duration": 7,
    "start_time": "2023-08-15T11:14:46.277Z"
   },
   {
    "duration": 15,
    "start_time": "2023-08-15T11:14:46.286Z"
   },
   {
    "duration": 28,
    "start_time": "2023-08-15T11:14:46.303Z"
   },
   {
    "duration": 0,
    "start_time": "2023-08-15T11:14:46.334Z"
   },
   {
    "duration": 0,
    "start_time": "2023-08-15T11:14:46.335Z"
   },
   {
    "duration": 0,
    "start_time": "2023-08-15T11:14:46.337Z"
   },
   {
    "duration": 0,
    "start_time": "2023-08-15T11:14:46.338Z"
   },
   {
    "duration": 0,
    "start_time": "2023-08-15T11:14:46.339Z"
   },
   {
    "duration": 41,
    "start_time": "2023-08-15T11:15:03.012Z"
   },
   {
    "duration": 4,
    "start_time": "2023-08-15T11:15:36.750Z"
   },
   {
    "duration": 25585,
    "start_time": "2023-08-15T11:18:28.886Z"
   },
   {
    "duration": 4,
    "start_time": "2023-08-15T14:08:27.431Z"
   },
   {
    "duration": 7585,
    "start_time": "2023-08-15T14:08:37.575Z"
   },
   {
    "duration": 9,
    "start_time": "2023-08-15T14:09:39.729Z"
   },
   {
    "duration": 9561,
    "start_time": "2023-08-15T14:09:40.979Z"
   },
   {
    "duration": 10,
    "start_time": "2023-08-15T14:12:25.458Z"
   },
   {
    "duration": 6911,
    "start_time": "2023-08-15T14:12:26.842Z"
   },
   {
    "duration": 12,
    "start_time": "2023-08-15T14:13:04.347Z"
   },
   {
    "duration": 10,
    "start_time": "2023-08-15T14:13:06.449Z"
   },
   {
    "duration": 19960,
    "start_time": "2023-08-15T14:13:06.895Z"
   },
   {
    "duration": 10,
    "start_time": "2023-08-15T14:14:14.670Z"
   },
   {
    "duration": 19031,
    "start_time": "2023-08-15T14:14:15.030Z"
   },
   {
    "duration": 9,
    "start_time": "2023-08-15T14:17:55.891Z"
   },
   {
    "duration": 10562,
    "start_time": "2023-08-15T14:17:56.599Z"
   },
   {
    "duration": 10,
    "start_time": "2023-08-15T14:18:32.976Z"
   },
   {
    "duration": 2411,
    "start_time": "2023-08-15T14:18:33.551Z"
   },
   {
    "duration": 0,
    "start_time": "2023-08-15T14:18:35.963Z"
   },
   {
    "duration": 9,
    "start_time": "2023-08-15T14:19:23.759Z"
   },
   {
    "duration": 4837,
    "start_time": "2023-08-15T14:19:24.221Z"
   },
   {
    "duration": 9,
    "start_time": "2023-08-15T14:27:47.691Z"
   },
   {
    "duration": 14,
    "start_time": "2023-08-15T14:28:04.619Z"
   },
   {
    "duration": 14,
    "start_time": "2023-08-15T14:28:07.048Z"
   },
   {
    "duration": 4315,
    "start_time": "2023-08-15T14:28:07.240Z"
   },
   {
    "duration": 9,
    "start_time": "2023-08-15T14:29:03.294Z"
   },
   {
    "duration": 27,
    "start_time": "2023-08-15T14:29:03.964Z"
   },
   {
    "duration": 11,
    "start_time": "2023-08-15T14:29:13.846Z"
   },
   {
    "duration": 3751,
    "start_time": "2023-08-15T14:29:14.801Z"
   },
   {
    "duration": 7,
    "start_time": "2023-08-15T14:38:24.352Z"
   },
   {
    "duration": 5083,
    "start_time": "2023-08-15T14:38:24.869Z"
   },
   {
    "duration": 15,
    "start_time": "2023-08-15T14:39:41.040Z"
   },
   {
    "duration": 4213,
    "start_time": "2023-08-15T14:39:44.041Z"
   },
   {
    "duration": 87,
    "start_time": "2023-08-15T14:40:51.721Z"
   },
   {
    "duration": 4913,
    "start_time": "2023-08-15T14:40:52.252Z"
   },
   {
    "duration": 10,
    "start_time": "2023-08-15T14:41:06.725Z"
   },
   {
    "duration": 2908,
    "start_time": "2023-08-15T14:41:07.743Z"
   },
   {
    "duration": 9,
    "start_time": "2023-08-15T14:41:57.257Z"
   },
   {
    "duration": 102077,
    "start_time": "2023-08-15T14:41:58.088Z"
   },
   {
    "duration": 5047,
    "start_time": "2023-08-15T14:50:59.312Z"
   },
   {
    "duration": 10,
    "start_time": "2023-08-15T14:52:55.752Z"
   },
   {
    "duration": 16023,
    "start_time": "2023-08-15T14:52:56.435Z"
   },
   {
    "duration": 4,
    "start_time": "2023-08-15T14:53:30.658Z"
   },
   {
    "duration": 6,
    "start_time": "2023-08-15T14:53:31.188Z"
   },
   {
    "duration": 5,
    "start_time": "2023-08-15T14:53:40.682Z"
   },
   {
    "duration": 9,
    "start_time": "2023-08-15T14:53:41.205Z"
   },
   {
    "duration": 3,
    "start_time": "2023-08-15T14:53:41.894Z"
   },
   {
    "duration": 0,
    "start_time": "2023-08-15T14:58:16.064Z"
   },
   {
    "duration": 0,
    "start_time": "2023-08-15T14:58:16.066Z"
   },
   {
    "duration": 0,
    "start_time": "2023-08-15T14:58:16.067Z"
   },
   {
    "duration": 53998,
    "start_time": "2023-08-15T14:58:24.566Z"
   },
   {
    "duration": 10,
    "start_time": "2023-08-15T14:59:31.456Z"
   },
   {
    "duration": 194138,
    "start_time": "2023-08-15T14:59:31.924Z"
   },
   {
    "duration": 7161,
    "start_time": "2023-08-16T10:02:05.679Z"
   },
   {
    "duration": 3324,
    "start_time": "2023-08-16T10:02:12.843Z"
   },
   {
    "duration": 4,
    "start_time": "2023-08-16T10:02:16.170Z"
   },
   {
    "duration": 12462,
    "start_time": "2023-08-16T10:02:16.178Z"
   },
   {
    "duration": 250,
    "start_time": "2023-08-16T10:02:28.642Z"
   },
   {
    "duration": 13,
    "start_time": "2023-08-16T10:02:28.894Z"
   },
   {
    "duration": 59,
    "start_time": "2023-08-16T10:02:28.914Z"
   },
   {
    "duration": 142,
    "start_time": "2023-08-16T10:02:28.974Z"
   },
   {
    "duration": 49,
    "start_time": "2023-08-16T10:02:29.118Z"
   },
   {
    "duration": 67,
    "start_time": "2023-08-16T10:02:29.170Z"
   },
   {
    "duration": 44,
    "start_time": "2023-08-16T10:02:29.239Z"
   },
   {
    "duration": 67,
    "start_time": "2023-08-16T10:02:29.285Z"
   },
   {
    "duration": 41,
    "start_time": "2023-08-16T10:02:29.354Z"
   },
   {
    "duration": 56,
    "start_time": "2023-08-16T10:02:29.398Z"
   },
   {
    "duration": 45,
    "start_time": "2023-08-16T10:02:29.456Z"
   },
   {
    "duration": 33,
    "start_time": "2023-08-16T10:02:29.502Z"
   },
   {
    "duration": 29,
    "start_time": "2023-08-16T10:02:29.537Z"
   },
   {
    "duration": 31,
    "start_time": "2023-08-16T10:02:29.567Z"
   },
   {
    "duration": 74,
    "start_time": "2023-08-16T10:02:29.600Z"
   },
   {
    "duration": 23,
    "start_time": "2023-08-16T10:02:29.677Z"
   },
   {
    "duration": 234,
    "start_time": "2023-08-16T10:02:29.702Z"
   },
   {
    "duration": 5,
    "start_time": "2023-08-16T10:02:29.938Z"
   },
   {
    "duration": 438,
    "start_time": "2023-08-16T10:02:29.945Z"
   },
   {
    "duration": 9,
    "start_time": "2023-08-16T10:02:30.384Z"
   },
   {
    "duration": 65,
    "start_time": "2023-08-16T10:02:30.394Z"
   },
   {
    "duration": 69,
    "start_time": "2023-08-16T10:02:30.461Z"
   },
   {
    "duration": 62,
    "start_time": "2023-08-16T10:02:30.532Z"
   },
   {
    "duration": 134,
    "start_time": "2023-08-16T10:02:30.599Z"
   },
   {
    "duration": 112,
    "start_time": "2023-08-16T10:02:30.735Z"
   },
   {
    "duration": 47,
    "start_time": "2023-08-16T10:02:30.848Z"
   },
   {
    "duration": 83,
    "start_time": "2023-08-16T10:02:30.897Z"
   },
   {
    "duration": 41,
    "start_time": "2023-08-16T10:02:30.983Z"
   },
   {
    "duration": 32,
    "start_time": "2023-08-16T10:02:31.028Z"
   },
   {
    "duration": 28,
    "start_time": "2023-08-16T10:02:31.063Z"
   },
   {
    "duration": 48,
    "start_time": "2023-08-16T10:02:31.093Z"
   },
   {
    "duration": 106,
    "start_time": "2023-08-16T10:02:31.142Z"
   },
   {
    "duration": 94,
    "start_time": "2023-08-16T10:02:31.250Z"
   },
   {
    "duration": 80,
    "start_time": "2023-08-16T10:02:31.345Z"
   },
   {
    "duration": 133,
    "start_time": "2023-08-16T10:02:31.429Z"
   },
   {
    "duration": 37,
    "start_time": "2023-08-16T10:02:31.564Z"
   },
   {
    "duration": 87,
    "start_time": "2023-08-16T10:02:31.603Z"
   },
   {
    "duration": 69,
    "start_time": "2023-08-16T10:02:31.692Z"
   },
   {
    "duration": 86,
    "start_time": "2023-08-16T10:02:31.763Z"
   },
   {
    "duration": 49,
    "start_time": "2023-08-16T10:02:31.851Z"
   },
   {
    "duration": 74,
    "start_time": "2023-08-16T10:02:31.902Z"
   },
   {
    "duration": 81,
    "start_time": "2023-08-16T10:02:31.978Z"
   },
   {
    "duration": 34,
    "start_time": "2023-08-16T10:02:32.061Z"
   },
   {
    "duration": 45,
    "start_time": "2023-08-16T10:02:32.097Z"
   },
   {
    "duration": 41,
    "start_time": "2023-08-16T10:02:32.143Z"
   },
   {
    "duration": 13,
    "start_time": "2023-08-16T10:02:32.186Z"
   },
   {
    "duration": 73,
    "start_time": "2023-08-16T10:02:32.200Z"
   },
   {
    "duration": 20,
    "start_time": "2023-08-16T10:02:32.275Z"
   },
   {
    "duration": 58,
    "start_time": "2023-08-16T10:02:32.297Z"
   },
   {
    "duration": 43,
    "start_time": "2023-08-16T10:02:32.358Z"
   },
   {
    "duration": 37,
    "start_time": "2023-08-16T10:02:32.404Z"
   },
   {
    "duration": 2943,
    "start_time": "2023-08-16T10:02:32.443Z"
   },
   {
    "duration": 8,
    "start_time": "2023-08-16T10:02:35.387Z"
   },
   {
    "duration": 344,
    "start_time": "2023-08-16T10:02:35.397Z"
   },
   {
    "duration": 242436,
    "start_time": "2023-08-16T10:02:46.406Z"
   },
   {
    "duration": 4,
    "start_time": "2023-08-16T10:06:48.845Z"
   },
   {
    "duration": 130,
    "start_time": "2023-08-16T10:06:48.851Z"
   },
   {
    "duration": 579,
    "start_time": "2023-08-16T10:06:48.983Z"
   },
   {
    "duration": 4,
    "start_time": "2023-08-16T10:06:49.565Z"
   },
   {
    "duration": 36,
    "start_time": "2023-08-16T10:06:49.571Z"
   },
   {
    "duration": 4992,
    "start_time": "2023-08-16T10:37:13.666Z"
   },
   {
    "duration": 3003,
    "start_time": "2023-08-16T10:37:18.661Z"
   },
   {
    "duration": 3,
    "start_time": "2023-08-16T10:37:21.667Z"
   },
   {
    "duration": 12568,
    "start_time": "2023-08-16T10:37:21.672Z"
   },
   {
    "duration": 248,
    "start_time": "2023-08-16T10:37:34.243Z"
   },
   {
    "duration": 16,
    "start_time": "2023-08-16T10:37:34.493Z"
   },
   {
    "duration": 61,
    "start_time": "2023-08-16T10:37:34.511Z"
   },
   {
    "duration": 150,
    "start_time": "2023-08-16T10:37:34.575Z"
   },
   {
    "duration": 43,
    "start_time": "2023-08-16T10:37:34.727Z"
   },
   {
    "duration": 58,
    "start_time": "2023-08-16T10:37:34.771Z"
   },
   {
    "duration": 44,
    "start_time": "2023-08-16T10:37:34.831Z"
   },
   {
    "duration": 61,
    "start_time": "2023-08-16T10:37:34.877Z"
   },
   {
    "duration": 43,
    "start_time": "2023-08-16T10:37:34.940Z"
   },
   {
    "duration": 65,
    "start_time": "2023-08-16T10:37:34.988Z"
   },
   {
    "duration": 41,
    "start_time": "2023-08-16T10:37:35.055Z"
   },
   {
    "duration": 31,
    "start_time": "2023-08-16T10:37:35.098Z"
   },
   {
    "duration": 34,
    "start_time": "2023-08-16T10:37:35.131Z"
   },
   {
    "duration": 30,
    "start_time": "2023-08-16T10:37:35.168Z"
   },
   {
    "duration": 58,
    "start_time": "2023-08-16T10:37:35.200Z"
   },
   {
    "duration": 24,
    "start_time": "2023-08-16T10:37:35.260Z"
   },
   {
    "duration": 217,
    "start_time": "2023-08-16T10:37:35.287Z"
   },
   {
    "duration": 10,
    "start_time": "2023-08-16T10:37:35.508Z"
   },
   {
    "duration": 504,
    "start_time": "2023-08-16T10:37:35.525Z"
   },
   {
    "duration": 13,
    "start_time": "2023-08-16T10:37:36.038Z"
   },
   {
    "duration": 32,
    "start_time": "2023-08-16T10:37:36.053Z"
   },
   {
    "duration": 161,
    "start_time": "2023-08-16T10:37:36.088Z"
   },
   {
    "duration": 22,
    "start_time": "2023-08-16T10:37:36.251Z"
   },
   {
    "duration": 27,
    "start_time": "2023-08-16T10:37:36.276Z"
   },
   {
    "duration": 31,
    "start_time": "2023-08-16T10:37:36.305Z"
   },
   {
    "duration": 33,
    "start_time": "2023-08-16T10:37:36.338Z"
   },
   {
    "duration": 32,
    "start_time": "2023-08-16T10:37:36.373Z"
   },
   {
    "duration": 54,
    "start_time": "2023-08-16T10:37:36.407Z"
   },
   {
    "duration": 28,
    "start_time": "2023-08-16T10:37:36.462Z"
   },
   {
    "duration": 19,
    "start_time": "2023-08-16T10:37:36.493Z"
   },
   {
    "duration": 39,
    "start_time": "2023-08-16T10:37:36.514Z"
   },
   {
    "duration": 15,
    "start_time": "2023-08-16T10:37:36.554Z"
   },
   {
    "duration": 31,
    "start_time": "2023-08-16T10:37:36.571Z"
   },
   {
    "duration": 68,
    "start_time": "2023-08-16T10:37:36.604Z"
   },
   {
    "duration": 53,
    "start_time": "2023-08-16T10:37:36.674Z"
   },
   {
    "duration": 18,
    "start_time": "2023-08-16T10:37:36.729Z"
   },
   {
    "duration": 20,
    "start_time": "2023-08-16T10:37:36.752Z"
   },
   {
    "duration": 27,
    "start_time": "2023-08-16T10:37:36.774Z"
   },
   {
    "duration": 44,
    "start_time": "2023-08-16T10:37:36.803Z"
   },
   {
    "duration": 36,
    "start_time": "2023-08-16T10:37:36.849Z"
   },
   {
    "duration": 40,
    "start_time": "2023-08-16T10:37:36.887Z"
   },
   {
    "duration": 28,
    "start_time": "2023-08-16T10:37:36.929Z"
   },
   {
    "duration": 16,
    "start_time": "2023-08-16T10:37:36.959Z"
   },
   {
    "duration": 23,
    "start_time": "2023-08-16T10:37:36.978Z"
   },
   {
    "duration": 43,
    "start_time": "2023-08-16T10:37:37.004Z"
   },
   {
    "duration": 27,
    "start_time": "2023-08-16T10:37:37.049Z"
   },
   {
    "duration": 62,
    "start_time": "2023-08-16T10:37:37.079Z"
   },
   {
    "duration": 21,
    "start_time": "2023-08-16T10:37:37.143Z"
   },
   {
    "duration": 25,
    "start_time": "2023-08-16T10:37:37.166Z"
   },
   {
    "duration": 29,
    "start_time": "2023-08-16T10:37:37.193Z"
   },
   {
    "duration": 18,
    "start_time": "2023-08-16T10:37:37.224Z"
   },
   {
    "duration": 2885,
    "start_time": "2023-08-16T10:37:37.244Z"
   },
   {
    "duration": 9,
    "start_time": "2023-08-16T10:37:40.131Z"
   },
   {
    "duration": 346,
    "start_time": "2023-08-16T10:37:40.142Z"
   },
   {
    "duration": 354,
    "start_time": "2023-08-16T10:37:40.490Z"
   },
   {
    "duration": 337,
    "start_time": "2023-08-16T10:37:40.847Z"
   },
   {
    "duration": 3,
    "start_time": "2023-08-16T10:37:41.187Z"
   },
   {
    "duration": 1851,
    "start_time": "2023-08-16T10:37:41.192Z"
   },
   {
    "duration": 2680,
    "start_time": "2023-08-16T10:37:43.045Z"
   },
   {
    "duration": 339,
    "start_time": "2023-08-16T10:37:45.728Z"
   },
   {
    "duration": 15,
    "start_time": "2023-08-16T10:37:46.070Z"
   },
   {
    "duration": 52,
    "start_time": "2023-08-16T10:37:46.087Z"
   },
   {
    "duration": 43,
    "start_time": "2023-08-16T10:37:46.142Z"
   },
   {
    "duration": 202,
    "start_time": "2023-08-16T10:37:46.187Z"
   },
   {
    "duration": 117,
    "start_time": "2023-08-16T10:37:46.391Z"
   },
   {
    "duration": 110,
    "start_time": "2023-08-16T10:37:46.513Z"
   },
   {
    "duration": 161,
    "start_time": "2023-08-16T10:37:46.625Z"
   },
   {
    "duration": 1306,
    "start_time": "2023-08-16T10:37:46.788Z"
   },
   {
    "duration": 14,
    "start_time": "2023-08-16T10:37:48.097Z"
   },
   {
    "duration": 1367,
    "start_time": "2023-08-16T10:37:48.114Z"
   },
   {
    "duration": 529,
    "start_time": "2023-08-16T10:37:49.489Z"
   },
   {
    "duration": 1035,
    "start_time": "2023-08-16T10:37:50.023Z"
   },
   {
    "duration": 30,
    "start_time": "2023-08-16T10:37:51.061Z"
   },
   {
    "duration": 28,
    "start_time": "2023-08-16T10:37:51.115Z"
   },
   {
    "duration": 34,
    "start_time": "2023-08-16T10:37:51.145Z"
   },
   {
    "duration": 45,
    "start_time": "2023-08-16T10:37:51.181Z"
   },
   {
    "duration": 59,
    "start_time": "2023-08-16T10:37:51.228Z"
   },
   {
    "duration": 38,
    "start_time": "2023-08-16T10:37:51.290Z"
   },
   {
    "duration": 136,
    "start_time": "2023-08-16T10:37:51.330Z"
   },
   {
    "duration": 233956,
    "start_time": "2023-08-16T10:37:51.468Z"
   },
   {
    "duration": 3,
    "start_time": "2023-08-16T10:41:45.426Z"
   },
   {
    "duration": 18,
    "start_time": "2023-08-16T10:41:45.431Z"
   },
   {
    "duration": 446,
    "start_time": "2023-08-16T10:41:45.451Z"
   },
   {
    "duration": 4,
    "start_time": "2023-08-16T10:41:45.899Z"
   },
   {
    "duration": 16,
    "start_time": "2023-08-16T10:41:45.911Z"
   },
   {
    "duration": 6534,
    "start_time": "2023-08-17T07:04:16.505Z"
   },
   {
    "duration": 2805,
    "start_time": "2023-08-17T07:04:23.041Z"
   },
   {
    "duration": 3,
    "start_time": "2023-08-17T07:04:25.848Z"
   },
   {
    "duration": 9637,
    "start_time": "2023-08-17T07:04:25.853Z"
   },
   {
    "duration": 51,
    "start_time": "2023-08-17T07:04:35.492Z"
   },
   {
    "duration": 25,
    "start_time": "2023-08-17T07:04:35.545Z"
   },
   {
    "duration": 53,
    "start_time": "2023-08-17T07:04:35.572Z"
   },
   {
    "duration": 79,
    "start_time": "2023-08-17T07:04:35.627Z"
   },
   {
    "duration": 23,
    "start_time": "2023-08-17T07:04:35.708Z"
   },
   {
    "duration": 39,
    "start_time": "2023-08-17T07:04:35.734Z"
   },
   {
    "duration": 40,
    "start_time": "2023-08-17T07:04:35.775Z"
   },
   {
    "duration": 57,
    "start_time": "2023-08-17T07:04:35.817Z"
   },
   {
    "duration": 20,
    "start_time": "2023-08-17T07:04:35.877Z"
   },
   {
    "duration": 29,
    "start_time": "2023-08-17T07:04:35.899Z"
   },
   {
    "duration": 65,
    "start_time": "2023-08-17T07:04:35.929Z"
   },
   {
    "duration": 30,
    "start_time": "2023-08-17T07:04:35.996Z"
   },
   {
    "duration": 33,
    "start_time": "2023-08-17T07:04:36.027Z"
   },
   {
    "duration": 64,
    "start_time": "2023-08-17T07:04:36.062Z"
   },
   {
    "duration": 65,
    "start_time": "2023-08-17T07:04:36.128Z"
   },
   {
    "duration": 35,
    "start_time": "2023-08-17T07:04:36.195Z"
   },
   {
    "duration": 179,
    "start_time": "2023-08-17T07:04:36.232Z"
   },
   {
    "duration": 4,
    "start_time": "2023-08-17T07:04:36.413Z"
   },
   {
    "duration": 370,
    "start_time": "2023-08-17T07:04:36.419Z"
   },
   {
    "duration": 8,
    "start_time": "2023-08-17T07:04:36.791Z"
   },
   {
    "duration": 24,
    "start_time": "2023-08-17T07:04:36.800Z"
   },
   {
    "duration": 20,
    "start_time": "2023-08-17T07:04:36.825Z"
   },
   {
    "duration": 13,
    "start_time": "2023-08-17T07:04:36.847Z"
   },
   {
    "duration": 26,
    "start_time": "2023-08-17T07:04:36.864Z"
   },
   {
    "duration": 10,
    "start_time": "2023-08-17T07:04:36.892Z"
   },
   {
    "duration": 25,
    "start_time": "2023-08-17T07:04:36.904Z"
   },
   {
    "duration": 24,
    "start_time": "2023-08-17T07:04:36.930Z"
   },
   {
    "duration": 11,
    "start_time": "2023-08-17T07:04:36.956Z"
   },
   {
    "duration": 6,
    "start_time": "2023-08-17T07:04:36.968Z"
   },
   {
    "duration": 15,
    "start_time": "2023-08-17T07:04:36.976Z"
   },
   {
    "duration": 19,
    "start_time": "2023-08-17T07:04:36.993Z"
   },
   {
    "duration": 10,
    "start_time": "2023-08-17T07:04:37.013Z"
   },
   {
    "duration": 25,
    "start_time": "2023-08-17T07:04:37.025Z"
   },
   {
    "duration": 28,
    "start_time": "2023-08-17T07:04:37.051Z"
   },
   {
    "duration": 25,
    "start_time": "2023-08-17T07:04:37.081Z"
   },
   {
    "duration": 30,
    "start_time": "2023-08-17T07:04:37.108Z"
   },
   {
    "duration": 10,
    "start_time": "2023-08-17T07:04:37.140Z"
   },
   {
    "duration": 11,
    "start_time": "2023-08-17T07:04:37.152Z"
   },
   {
    "duration": 11,
    "start_time": "2023-08-17T07:04:37.164Z"
   },
   {
    "duration": 11,
    "start_time": "2023-08-17T07:04:37.176Z"
   },
   {
    "duration": 23,
    "start_time": "2023-08-17T07:04:37.189Z"
   },
   {
    "duration": 22,
    "start_time": "2023-08-17T07:04:37.214Z"
   },
   {
    "duration": 18,
    "start_time": "2023-08-17T07:04:37.238Z"
   },
   {
    "duration": 15,
    "start_time": "2023-08-17T07:04:37.259Z"
   },
   {
    "duration": 13,
    "start_time": "2023-08-17T07:04:37.276Z"
   },
   {
    "duration": 7,
    "start_time": "2023-08-17T07:04:37.291Z"
   },
   {
    "duration": 43,
    "start_time": "2023-08-17T07:04:37.300Z"
   },
   {
    "duration": 29,
    "start_time": "2023-08-17T07:04:37.345Z"
   },
   {
    "duration": 24,
    "start_time": "2023-08-17T07:04:37.376Z"
   },
   {
    "duration": 6,
    "start_time": "2023-08-17T07:04:37.402Z"
   },
   {
    "duration": 17,
    "start_time": "2023-08-17T07:04:37.410Z"
   },
   {
    "duration": 2611,
    "start_time": "2023-08-17T07:04:37.429Z"
   },
   {
    "duration": 7,
    "start_time": "2023-08-17T07:04:40.042Z"
   },
   {
    "duration": 294,
    "start_time": "2023-08-17T07:04:40.057Z"
   },
   {
    "duration": 307,
    "start_time": "2023-08-17T07:04:40.352Z"
   },
   {
    "duration": 303,
    "start_time": "2023-08-17T07:04:40.661Z"
   },
   {
    "duration": 3,
    "start_time": "2023-08-17T07:04:40.966Z"
   },
   {
    "duration": 1578,
    "start_time": "2023-08-17T07:04:40.971Z"
   },
   {
    "duration": 2400,
    "start_time": "2023-08-17T07:04:42.552Z"
   },
   {
    "duration": 280,
    "start_time": "2023-08-17T07:04:44.954Z"
   },
   {
    "duration": 21,
    "start_time": "2023-08-17T07:04:45.236Z"
   },
   {
    "duration": 56,
    "start_time": "2023-08-17T07:04:45.259Z"
   },
   {
    "duration": 30,
    "start_time": "2023-08-17T07:04:45.317Z"
   },
   {
    "duration": 70,
    "start_time": "2023-08-17T07:04:45.349Z"
   },
   {
    "duration": 4,
    "start_time": "2023-08-17T07:04:45.420Z"
   },
   {
    "duration": 27,
    "start_time": "2023-08-17T07:04:45.426Z"
   },
   {
    "duration": 64,
    "start_time": "2023-08-17T07:04:45.455Z"
   },
   {
    "duration": 1129,
    "start_time": "2023-08-17T07:04:45.521Z"
   },
   {
    "duration": 4,
    "start_time": "2023-08-17T07:04:46.657Z"
   },
   {
    "duration": 1074,
    "start_time": "2023-08-17T07:04:46.663Z"
   },
   {
    "duration": 617,
    "start_time": "2023-08-17T07:04:47.738Z"
   },
   {
    "duration": 910,
    "start_time": "2023-08-17T07:04:48.358Z"
   },
   {
    "duration": 23,
    "start_time": "2023-08-17T07:04:49.270Z"
   },
   {
    "duration": 10,
    "start_time": "2023-08-17T07:04:49.295Z"
   },
   {
    "duration": 4,
    "start_time": "2023-08-17T07:04:49.307Z"
   },
   {
    "duration": 6,
    "start_time": "2023-08-17T07:04:49.313Z"
   },
   {
    "duration": 36,
    "start_time": "2023-08-17T07:04:49.321Z"
   },
   {
    "duration": 3,
    "start_time": "2023-08-17T07:04:49.363Z"
   },
   {
    "duration": 11,
    "start_time": "2023-08-17T07:04:49.368Z"
   },
   {
    "duration": 205467,
    "start_time": "2023-08-17T07:04:49.380Z"
   },
   {
    "duration": 10,
    "start_time": "2023-08-17T07:08:14.848Z"
   },
   {
    "duration": 15,
    "start_time": "2023-08-17T07:08:14.859Z"
   },
   {
    "duration": 403,
    "start_time": "2023-08-17T07:08:14.875Z"
   },
   {
    "duration": 4,
    "start_time": "2023-08-17T07:08:15.280Z"
   },
   {
    "duration": 15,
    "start_time": "2023-08-17T07:08:15.286Z"
   },
   {
    "duration": 22839,
    "start_time": "2023-08-17T07:08:15.303Z"
   },
   {
    "duration": 0,
    "start_time": "2023-08-17T07:08:38.143Z"
   },
   {
    "duration": 0,
    "start_time": "2023-08-17T07:08:38.145Z"
   },
   {
    "duration": 0,
    "start_time": "2023-08-17T07:08:38.146Z"
   },
   {
    "duration": 0,
    "start_time": "2023-08-17T07:08:38.147Z"
   },
   {
    "duration": 0,
    "start_time": "2023-08-17T07:08:38.148Z"
   },
   {
    "duration": 0,
    "start_time": "2023-08-17T07:08:38.149Z"
   },
   {
    "duration": 0,
    "start_time": "2023-08-17T07:08:38.156Z"
   },
   {
    "duration": 0,
    "start_time": "2023-08-17T07:08:38.158Z"
   },
   {
    "duration": 0,
    "start_time": "2023-08-17T07:08:38.159Z"
   },
   {
    "duration": 0,
    "start_time": "2023-08-17T07:08:38.160Z"
   },
   {
    "duration": 0,
    "start_time": "2023-08-17T07:08:38.161Z"
   },
   {
    "duration": 0,
    "start_time": "2023-08-17T07:08:38.162Z"
   },
   {
    "duration": 0,
    "start_time": "2023-08-17T07:08:38.163Z"
   },
   {
    "duration": 0,
    "start_time": "2023-08-17T07:08:38.164Z"
   },
   {
    "duration": 0,
    "start_time": "2023-08-17T07:08:38.165Z"
   },
   {
    "duration": 0,
    "start_time": "2023-08-17T07:08:38.166Z"
   },
   {
    "duration": 0,
    "start_time": "2023-08-17T07:08:38.168Z"
   },
   {
    "duration": 4114,
    "start_time": "2023-08-17T07:09:22.745Z"
   },
   {
    "duration": 5,
    "start_time": "2023-08-17T07:09:26.862Z"
   },
   {
    "duration": 5,
    "start_time": "2023-08-17T07:09:26.869Z"
   },
   {
    "duration": 8,
    "start_time": "2023-08-17T07:09:26.875Z"
   },
   {
    "duration": 52,
    "start_time": "2023-08-17T07:09:26.885Z"
   },
   {
    "duration": 9,
    "start_time": "2023-08-17T07:09:26.939Z"
   },
   {
    "duration": 11,
    "start_time": "2023-08-17T07:09:26.950Z"
   },
   {
    "duration": 48,
    "start_time": "2023-08-17T07:09:26.963Z"
   },
   {
    "duration": 10,
    "start_time": "2023-08-17T07:09:27.012Z"
   },
   {
    "duration": 21,
    "start_time": "2023-08-17T07:09:27.024Z"
   },
   {
    "duration": 9,
    "start_time": "2023-08-17T07:09:27.057Z"
   },
   {
    "duration": 22,
    "start_time": "2023-08-17T07:09:27.068Z"
   },
   {
    "duration": 9,
    "start_time": "2023-08-17T07:09:27.092Z"
   },
   {
    "duration": 16,
    "start_time": "2023-08-17T07:09:27.104Z"
   },
   {
    "duration": 51,
    "start_time": "2023-08-17T07:09:27.122Z"
   },
   {
    "duration": 12,
    "start_time": "2023-08-17T07:09:27.174Z"
   },
   {
    "duration": 19,
    "start_time": "2023-08-17T07:09:27.187Z"
   },
   {
    "duration": 11,
    "start_time": "2023-08-17T07:09:27.207Z"
   },
   {
    "duration": 56,
    "start_time": "2023-08-17T07:09:27.219Z"
   },
   {
    "duration": 16,
    "start_time": "2023-08-17T07:09:27.277Z"
   },
   {
    "duration": 194,
    "start_time": "2023-08-17T07:09:27.294Z"
   },
   {
    "duration": 4,
    "start_time": "2023-08-17T07:09:27.490Z"
   },
   {
    "duration": 186,
    "start_time": "2023-08-17T07:09:27.495Z"
   },
   {
    "duration": 8,
    "start_time": "2023-08-17T07:09:27.683Z"
   },
   {
    "duration": 8,
    "start_time": "2023-08-17T07:09:27.693Z"
   },
   {
    "duration": 22,
    "start_time": "2023-08-17T07:09:27.703Z"
   },
   {
    "duration": 34,
    "start_time": "2023-08-17T07:09:27.727Z"
   },
   {
    "duration": 14,
    "start_time": "2023-08-17T07:09:27.763Z"
   },
   {
    "duration": 18,
    "start_time": "2023-08-17T07:09:27.778Z"
   },
   {
    "duration": 18,
    "start_time": "2023-08-17T07:09:27.797Z"
   },
   {
    "duration": 20,
    "start_time": "2023-08-17T07:09:27.817Z"
   },
   {
    "duration": 16,
    "start_time": "2023-08-17T07:09:27.839Z"
   },
   {
    "duration": 9,
    "start_time": "2023-08-17T07:09:27.857Z"
   },
   {
    "duration": 7,
    "start_time": "2023-08-17T07:09:27.868Z"
   },
   {
    "duration": 16,
    "start_time": "2023-08-17T07:09:27.876Z"
   },
   {
    "duration": 8,
    "start_time": "2023-08-17T07:09:27.893Z"
   },
   {
    "duration": 19,
    "start_time": "2023-08-17T07:09:27.902Z"
   },
   {
    "duration": 16,
    "start_time": "2023-08-17T07:09:27.922Z"
   },
   {
    "duration": 10,
    "start_time": "2023-08-17T07:09:27.956Z"
   },
   {
    "duration": 7,
    "start_time": "2023-08-17T07:09:27.968Z"
   },
   {
    "duration": 7,
    "start_time": "2023-08-17T07:09:27.981Z"
   },
   {
    "duration": 12,
    "start_time": "2023-08-17T07:09:27.989Z"
   },
   {
    "duration": 11,
    "start_time": "2023-08-17T07:09:28.003Z"
   },
   {
    "duration": 12,
    "start_time": "2023-08-17T07:09:28.016Z"
   },
   {
    "duration": 8,
    "start_time": "2023-08-17T07:09:28.056Z"
   },
   {
    "duration": 8,
    "start_time": "2023-08-17T07:09:28.066Z"
   },
   {
    "duration": 9,
    "start_time": "2023-08-17T07:09:28.076Z"
   },
   {
    "duration": 14,
    "start_time": "2023-08-17T07:09:28.086Z"
   },
   {
    "duration": 16,
    "start_time": "2023-08-17T07:09:28.102Z"
   },
   {
    "duration": 8,
    "start_time": "2023-08-17T07:09:28.120Z"
   },
   {
    "duration": 41,
    "start_time": "2023-08-17T07:09:28.156Z"
   },
   {
    "duration": 19,
    "start_time": "2023-08-17T07:09:28.199Z"
   },
   {
    "duration": 37,
    "start_time": "2023-08-17T07:09:28.220Z"
   },
   {
    "duration": 6,
    "start_time": "2023-08-17T07:09:28.259Z"
   },
   {
    "duration": 5,
    "start_time": "2023-08-17T07:09:28.267Z"
   },
   {
    "duration": 2708,
    "start_time": "2023-08-17T07:09:28.274Z"
   },
   {
    "duration": 10,
    "start_time": "2023-08-17T07:09:30.984Z"
   },
   {
    "duration": 348,
    "start_time": "2023-08-17T07:09:30.996Z"
   },
   {
    "duration": 484,
    "start_time": "2023-08-17T07:09:31.346Z"
   },
   {
    "duration": 320,
    "start_time": "2023-08-17T07:09:31.832Z"
   },
   {
    "duration": 4,
    "start_time": "2023-08-17T07:09:32.154Z"
   },
   {
    "duration": 1356,
    "start_time": "2023-08-17T07:09:32.160Z"
   },
   {
    "duration": 2545,
    "start_time": "2023-08-17T07:09:33.518Z"
   },
   {
    "duration": 273,
    "start_time": "2023-08-17T07:09:36.065Z"
   },
   {
    "duration": 24,
    "start_time": "2023-08-17T07:09:36.340Z"
   },
   {
    "duration": 16,
    "start_time": "2023-08-17T07:09:36.366Z"
   },
   {
    "duration": 3,
    "start_time": "2023-08-17T07:09:36.384Z"
   },
   {
    "duration": 59,
    "start_time": "2023-08-17T07:09:36.389Z"
   },
   {
    "duration": 8,
    "start_time": "2023-08-17T07:09:36.450Z"
   },
   {
    "duration": 11,
    "start_time": "2023-08-17T07:09:36.460Z"
   },
   {
    "duration": 11,
    "start_time": "2023-08-17T07:09:36.473Z"
   },
   {
    "duration": 1093,
    "start_time": "2023-08-17T07:09:36.486Z"
   },
   {
    "duration": 4,
    "start_time": "2023-08-17T07:09:37.581Z"
   },
   {
    "duration": 1072,
    "start_time": "2023-08-17T07:09:37.587Z"
   },
   {
    "duration": 501,
    "start_time": "2023-08-17T07:09:38.661Z"
   },
   {
    "duration": 973,
    "start_time": "2023-08-17T07:09:39.164Z"
   },
   {
    "duration": 33,
    "start_time": "2023-08-17T07:09:40.139Z"
   },
   {
    "duration": 9,
    "start_time": "2023-08-17T07:09:40.173Z"
   },
   {
    "duration": 13,
    "start_time": "2023-08-17T07:09:40.184Z"
   },
   {
    "duration": 11,
    "start_time": "2023-08-17T07:09:40.199Z"
   },
   {
    "duration": 7,
    "start_time": "2023-08-17T07:09:40.212Z"
   },
   {
    "duration": 16,
    "start_time": "2023-08-17T07:09:40.221Z"
   },
   {
    "duration": 5,
    "start_time": "2023-08-17T07:09:40.238Z"
   },
   {
    "duration": 205893,
    "start_time": "2023-08-17T07:09:40.244Z"
   },
   {
    "duration": 2,
    "start_time": "2023-08-17T07:13:06.139Z"
   },
   {
    "duration": 20,
    "start_time": "2023-08-17T07:13:06.143Z"
   },
   {
    "duration": 258,
    "start_time": "2023-08-17T07:13:06.165Z"
   },
   {
    "duration": 5,
    "start_time": "2023-08-17T07:13:06.425Z"
   },
   {
    "duration": 41,
    "start_time": "2023-08-17T07:13:06.431Z"
   },
   {
    "duration": 27006,
    "start_time": "2023-08-17T07:13:06.474Z"
   },
   {
    "duration": 3,
    "start_time": "2023-08-17T07:13:33.482Z"
   },
   {
    "duration": 19,
    "start_time": "2023-08-17T07:13:33.487Z"
   },
   {
    "duration": 5851,
    "start_time": "2023-08-17T07:13:33.508Z"
   },
   {
    "duration": 3,
    "start_time": "2023-08-17T07:13:39.361Z"
   },
   {
    "duration": 11,
    "start_time": "2023-08-17T07:13:39.366Z"
   },
   {
    "duration": 39,
    "start_time": "2023-08-17T07:13:39.379Z"
   },
   {
    "duration": 43,
    "start_time": "2023-08-17T07:13:39.420Z"
   },
   {
    "duration": 87,
    "start_time": "2023-08-17T07:13:39.464Z"
   },
   {
    "duration": 85,
    "start_time": "2023-08-17T07:13:39.553Z"
   },
   {
    "duration": 51,
    "start_time": "2023-08-17T07:13:39.640Z"
   },
   {
    "duration": 13,
    "start_time": "2023-08-17T07:13:39.694Z"
   },
   {
    "duration": 1633585,
    "start_time": "2023-08-17T07:13:39.709Z"
   },
   {
    "duration": 0,
    "start_time": "2023-08-17T07:40:53.296Z"
   },
   {
    "duration": 0,
    "start_time": "2023-08-17T07:40:53.297Z"
   },
   {
    "duration": 0,
    "start_time": "2023-08-17T07:40:53.298Z"
   },
   {
    "duration": 0,
    "start_time": "2023-08-17T07:40:53.300Z"
   },
   {
    "duration": 0,
    "start_time": "2023-08-17T07:40:53.301Z"
   },
   {
    "duration": 4488,
    "start_time": "2023-08-17T07:41:11.594Z"
   },
   {
    "duration": 2807,
    "start_time": "2023-08-17T07:41:16.085Z"
   },
   {
    "duration": 3,
    "start_time": "2023-08-17T07:41:18.894Z"
   },
   {
    "duration": 7983,
    "start_time": "2023-08-17T07:41:18.900Z"
   },
   {
    "duration": 37,
    "start_time": "2023-08-17T07:41:26.885Z"
   },
   {
    "duration": 11,
    "start_time": "2023-08-17T07:41:26.924Z"
   },
   {
    "duration": 10,
    "start_time": "2023-08-17T07:41:26.937Z"
   },
   {
    "duration": 70,
    "start_time": "2023-08-17T07:41:26.948Z"
   },
   {
    "duration": 8,
    "start_time": "2023-08-17T07:41:27.020Z"
   },
   {
    "duration": 20,
    "start_time": "2023-08-17T07:41:27.031Z"
   },
   {
    "duration": 13,
    "start_time": "2023-08-17T07:41:27.052Z"
   },
   {
    "duration": 33,
    "start_time": "2023-08-17T07:41:27.067Z"
   },
   {
    "duration": 9,
    "start_time": "2023-08-17T07:41:27.102Z"
   },
   {
    "duration": 16,
    "start_time": "2023-08-17T07:41:27.113Z"
   },
   {
    "duration": 56,
    "start_time": "2023-08-17T07:41:27.130Z"
   },
   {
    "duration": 11,
    "start_time": "2023-08-17T07:41:27.188Z"
   },
   {
    "duration": 21,
    "start_time": "2023-08-17T07:41:27.201Z"
   },
   {
    "duration": 28,
    "start_time": "2023-08-17T07:41:27.224Z"
   },
   {
    "duration": 48,
    "start_time": "2023-08-17T07:41:27.255Z"
   },
   {
    "duration": 18,
    "start_time": "2023-08-17T07:41:27.305Z"
   },
   {
    "duration": 218,
    "start_time": "2023-08-17T07:41:27.325Z"
   },
   {
    "duration": 19,
    "start_time": "2023-08-17T07:41:27.545Z"
   },
   {
    "duration": 405,
    "start_time": "2023-08-17T07:41:27.571Z"
   },
   {
    "duration": 11,
    "start_time": "2023-08-17T07:41:27.978Z"
   },
   {
    "duration": 13,
    "start_time": "2023-08-17T07:41:27.991Z"
   },
   {
    "duration": 23,
    "start_time": "2023-08-17T07:41:28.006Z"
   },
   {
    "duration": 7,
    "start_time": "2023-08-17T07:41:28.031Z"
   },
   {
    "duration": 28,
    "start_time": "2023-08-17T07:41:28.042Z"
   },
   {
    "duration": 11,
    "start_time": "2023-08-17T07:41:28.077Z"
   },
   {
    "duration": 13,
    "start_time": "2023-08-17T07:41:28.090Z"
   },
   {
    "duration": 14,
    "start_time": "2023-08-17T07:41:28.105Z"
   },
   {
    "duration": 10,
    "start_time": "2023-08-17T07:41:28.121Z"
   },
   {
    "duration": 33,
    "start_time": "2023-08-17T07:41:28.133Z"
   },
   {
    "duration": 12,
    "start_time": "2023-08-17T07:41:28.168Z"
   },
   {
    "duration": 7,
    "start_time": "2023-08-17T07:41:28.181Z"
   },
   {
    "duration": 9,
    "start_time": "2023-08-17T07:41:28.190Z"
   },
   {
    "duration": 11,
    "start_time": "2023-08-17T07:41:28.201Z"
   },
   {
    "duration": 44,
    "start_time": "2023-08-17T07:41:28.213Z"
   },
   {
    "duration": 19,
    "start_time": "2023-08-17T07:41:28.260Z"
   },
   {
    "duration": 7,
    "start_time": "2023-08-17T07:41:28.282Z"
   },
   {
    "duration": 7,
    "start_time": "2023-08-17T07:41:28.290Z"
   },
   {
    "duration": 19,
    "start_time": "2023-08-17T07:41:28.298Z"
   },
   {
    "duration": 6,
    "start_time": "2023-08-17T07:41:28.319Z"
   },
   {
    "duration": 38,
    "start_time": "2023-08-17T07:41:28.327Z"
   },
   {
    "duration": 11,
    "start_time": "2023-08-17T07:41:28.366Z"
   },
   {
    "duration": 7,
    "start_time": "2023-08-17T07:41:28.380Z"
   },
   {
    "duration": 13,
    "start_time": "2023-08-17T07:41:28.390Z"
   },
   {
    "duration": 13,
    "start_time": "2023-08-17T07:41:28.405Z"
   },
   {
    "duration": 10,
    "start_time": "2023-08-17T07:41:28.419Z"
   },
   {
    "duration": 12,
    "start_time": "2023-08-17T07:41:28.455Z"
   },
   {
    "duration": 48,
    "start_time": "2023-08-17T07:41:28.469Z"
   },
   {
    "duration": 21,
    "start_time": "2023-08-17T07:41:28.520Z"
   },
   {
    "duration": 36,
    "start_time": "2023-08-17T07:41:28.543Z"
   },
   {
    "duration": 8,
    "start_time": "2023-08-17T07:41:28.581Z"
   },
   {
    "duration": 7,
    "start_time": "2023-08-17T07:41:28.591Z"
   },
   {
    "duration": 2952,
    "start_time": "2023-08-17T07:41:28.600Z"
   },
   {
    "duration": 19,
    "start_time": "2023-08-17T07:41:31.556Z"
   },
   {
    "duration": 347,
    "start_time": "2023-08-17T07:41:31.577Z"
   },
   {
    "duration": 351,
    "start_time": "2023-08-17T07:41:31.926Z"
   },
   {
    "duration": 389,
    "start_time": "2023-08-17T07:41:32.279Z"
   },
   {
    "duration": 6,
    "start_time": "2023-08-17T07:41:32.669Z"
   },
   {
    "duration": 1755,
    "start_time": "2023-08-17T07:41:32.678Z"
   },
   {
    "duration": 2590,
    "start_time": "2023-08-17T07:41:34.436Z"
   },
   {
    "duration": 312,
    "start_time": "2023-08-17T07:41:37.027Z"
   },
   {
    "duration": 37,
    "start_time": "2023-08-17T07:41:37.341Z"
   },
   {
    "duration": 13,
    "start_time": "2023-08-17T07:41:37.380Z"
   },
   {
    "duration": 8,
    "start_time": "2023-08-17T07:41:37.395Z"
   },
   {
    "duration": 91,
    "start_time": "2023-08-17T07:41:37.405Z"
   },
   {
    "duration": 5,
    "start_time": "2023-08-17T07:41:37.498Z"
   },
   {
    "duration": 9,
    "start_time": "2023-08-17T07:41:37.505Z"
   },
   {
    "duration": 4,
    "start_time": "2023-08-17T07:41:37.517Z"
   },
   {
    "duration": 1455,
    "start_time": "2023-08-17T07:41:37.523Z"
   },
   {
    "duration": 6,
    "start_time": "2023-08-17T07:41:38.979Z"
   },
   {
    "duration": 1192,
    "start_time": "2023-08-17T07:41:38.987Z"
   },
   {
    "duration": 491,
    "start_time": "2023-08-17T07:41:40.180Z"
   },
   {
    "duration": 917,
    "start_time": "2023-08-17T07:41:40.675Z"
   },
   {
    "duration": 27,
    "start_time": "2023-08-17T07:41:41.593Z"
   },
   {
    "duration": 34,
    "start_time": "2023-08-17T07:41:41.622Z"
   },
   {
    "duration": 5,
    "start_time": "2023-08-17T07:41:41.660Z"
   },
   {
    "duration": 3,
    "start_time": "2023-08-17T07:41:41.666Z"
   },
   {
    "duration": 3,
    "start_time": "2023-08-17T07:41:41.671Z"
   },
   {
    "duration": 11,
    "start_time": "2023-08-17T07:41:41.681Z"
   },
   {
    "duration": 10,
    "start_time": "2023-08-17T07:41:41.693Z"
   },
   {
    "duration": 225241,
    "start_time": "2023-08-17T07:41:41.704Z"
   },
   {
    "duration": 13,
    "start_time": "2023-08-17T07:45:26.947Z"
   },
   {
    "duration": 10,
    "start_time": "2023-08-17T07:45:26.961Z"
   },
   {
    "duration": 273,
    "start_time": "2023-08-17T07:45:26.973Z"
   },
   {
    "duration": 13,
    "start_time": "2023-08-17T07:45:27.248Z"
   },
   {
    "duration": 15,
    "start_time": "2023-08-17T07:45:27.263Z"
   },
   {
    "duration": 185214,
    "start_time": "2023-08-17T07:45:27.281Z"
   },
   {
    "duration": 3,
    "start_time": "2023-08-17T07:48:32.499Z"
   },
   {
    "duration": 29,
    "start_time": "2023-08-17T07:48:32.504Z"
   },
   {
    "duration": 30960,
    "start_time": "2023-08-17T07:48:32.536Z"
   },
   {
    "duration": 4,
    "start_time": "2023-08-17T07:49:03.497Z"
   },
   {
    "duration": 55,
    "start_time": "2023-08-17T07:49:03.503Z"
   },
   {
    "duration": 11,
    "start_time": "2023-08-17T07:49:03.562Z"
   },
   {
    "duration": 33,
    "start_time": "2023-08-17T07:49:03.576Z"
   },
   {
    "duration": 118,
    "start_time": "2023-08-17T07:49:03.611Z"
   },
   {
    "duration": 97,
    "start_time": "2023-08-17T07:49:03.731Z"
   },
   {
    "duration": 7,
    "start_time": "2023-08-17T07:49:03.830Z"
   },
   {
    "duration": 22,
    "start_time": "2023-08-17T07:49:03.859Z"
   },
   {
    "duration": 4567546,
    "start_time": "2023-08-17T07:49:03.884Z"
   },
   {
    "duration": 0,
    "start_time": "2023-08-17T09:05:11.432Z"
   },
   {
    "duration": 0,
    "start_time": "2023-08-17T09:05:11.434Z"
   },
   {
    "duration": 0,
    "start_time": "2023-08-17T09:05:11.436Z"
   },
   {
    "duration": 0,
    "start_time": "2023-08-17T09:05:11.437Z"
   },
   {
    "duration": 0,
    "start_time": "2023-08-17T09:05:11.439Z"
   },
   {
    "duration": 14,
    "start_time": "2023-08-17T09:05:21.258Z"
   },
   {
    "duration": 30333684,
    "start_time": "2023-08-17T09:05:21.276Z"
   },
   {
    "duration": 3,
    "start_time": "2023-08-17T17:30:54.962Z"
   },
   {
    "duration": 27,
    "start_time": "2023-08-17T17:30:54.968Z"
   },
   {
    "duration": 305,
    "start_time": "2023-08-17T17:30:54.997Z"
   },
   {
    "duration": 116,
    "start_time": "2023-08-17T17:30:55.303Z"
   },
   {
    "duration": 927,
    "start_time": "2023-08-17T17:30:55.420Z"
   }
  ],
  "colab": {
   "collapsed_sections": [
    "RhIs4fTOivpG",
    "gaT51cXdkaBx",
    "38vxNDC0oNeQ",
    "vPWlMZMnoYDt",
    "SAo4L8prphk0",
    "b09qQax54w37",
    "qFrU6qHb3ZPb",
    "tPsgBHynte15",
    "RMxxAgcWtv1Q",
    "-DYxfk9QyRCg",
    "6YJdSZy3R5nI",
    "PxWRx3cxSFYZ",
    "IGXkZju2YUsK",
    "iSE3cqswtP-q"
   ],
   "provenance": []
  },
  "kernelspec": {
   "display_name": "Python 3 (ipykernel)",
   "language": "python",
   "name": "python3"
  },
  "language_info": {
   "codemirror_mode": {
    "name": "ipython",
    "version": 3
   },
   "file_extension": ".py",
   "mimetype": "text/x-python",
   "name": "python",
   "nbconvert_exporter": "python",
   "pygments_lexer": "ipython3",
   "version": "3.9.5"
  },
  "toc": {
   "base_numbering": 1,
   "nav_menu": {},
   "number_sections": true,
   "sideBar": true,
   "skip_h1_title": true,
   "title_cell": "Table of Contents",
   "title_sidebar": "Contents",
   "toc_cell": false,
   "toc_position": {
    "height": "calc(100% - 180px)",
    "left": "10px",
    "top": "150px",
    "width": "165px"
   },
   "toc_section_display": true,
   "toc_window_display": true
  }
 },
 "nbformat": 4,
 "nbformat_minor": 1
}
